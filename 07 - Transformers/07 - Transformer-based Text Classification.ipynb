{
  "cells": [
    {
      "cell_type": "markdown",
      "metadata": {
        "id": "Ka6H0qnGSpW9"
      },
      "source": [
        "# Transformer-based Text Classfication\n",
        "\n",
        "This notebook shows hot to make use of pre-trained Transformer models for building various types of text classifiers, some of which are multi-lingual. In particular, the notebook demonstrates the training of BERT-based text classifiers for:\n",
        "- categorising news group messages\n",
        "- detecting sentiment in Twitter messages\n",
        "- determining if a sentence paraphrases another.\n",
        "\n",
        "The notebook makes use of:\n",
        "- Transformer models from HuggingFace for training: https://github.com/huggingface/transformers\n",
        "- Lime for explanations: https://lime-ml.readthedocs.io/en/latest/index.html\n",
        "\n",
        "Much of the notebook is based on:\n",
        "- this Google Colab notebook: https://colab.research.google.com/drive/1YxcceZxsNlvK35pRURgbwvkgejXwFxUt\n",
        "- this notebook: https://github.com/amaiya/ktrain/blob/master/examples/text/MRPC-BERT.ipynb\n"
      ]
    },
    {
      "cell_type": "markdown",
      "metadata": {
        "id": "RLWptUEpvTfh"
      },
      "source": [
        "## Prepare environment\n",
        "\n",
        "**NOTE**: To run this notebook, you will **need a GPU** (Graphics Processing Unit) card\n",
        "- the notebook has been tested on Google Colab and you are advised to run it there\n",
        "- to use a GPU, you need to click on \"Runtime\" above, then \"Change runtime type\" and for \"Hardware accelerator\" choose the \"GPU\" option\n",
        "\n",
        "Now we should install and import all the dependencies, colab comes with all the libraries already pre-installed in the runtime, but datasets:"
      ]
    },
    {
      "cell_type": "code",
      "execution_count": 1,
      "metadata": {
        "id": "i-l_oq6HmglH"
      },
      "outputs": [
        {
          "name": "stdout",
          "output_type": "stream",
          "text": [
            "Note: you may need to restart the kernel to use updated packages.\n"
          ]
        }
      ],
      "source": [
        "%pip install -q torch transformers datasets matplotlib accelerate scikit-learn"
      ]
    },
    {
      "cell_type": "markdown",
      "metadata": {
        "id": "66Q7pBASVbXD"
      },
      "source": [
        "You may need to restart the environment after installing the dependancies at this point"
      ]
    },
    {
      "cell_type": "code",
      "execution_count": 2,
      "metadata": {
        "id": "60uo8Ma8lruI"
      },
      "outputs": [],
      "source": [
        "import torch\n",
        "import numpy as np"
      ]
    },
    {
      "cell_type": "code",
      "execution_count": 3,
      "metadata": {
        "id": "7w7V8Na_gPv2"
      },
      "outputs": [
        {
          "name": "stderr",
          "output_type": "stream",
          "text": [
            "/home/adrien/Documents/PoliMi/TP/Natural Language Processing/.venv/lib/python3.11/site-packages/tqdm/auto.py:21: TqdmWarning: IProgress not found. Please update jupyter and ipywidgets. See https://ipywidgets.readthedocs.io/en/stable/user_install.html\n",
            "  from .autonotebook import tqdm as notebook_tqdm\n",
            "2025-04-01 15:40:09.514160: E external/local_xla/xla/stream_executor/cuda/cuda_dnn.cc:9261] Unable to register cuDNN factory: Attempting to register factory for plugin cuDNN when one has already been registered\n",
            "2025-04-01 15:40:09.514231: E external/local_xla/xla/stream_executor/cuda/cuda_fft.cc:607] Unable to register cuFFT factory: Attempting to register factory for plugin cuFFT when one has already been registered\n",
            "2025-04-01 15:40:09.543150: E external/local_xla/xla/stream_executor/cuda/cuda_blas.cc:1515] Unable to register cuBLAS factory: Attempting to register factory for plugin cuBLAS when one has already been registered\n",
            "2025-04-01 15:40:09.605214: I tensorflow/core/platform/cpu_feature_guard.cc:182] This TensorFlow binary is optimized to use available CPU instructions in performance-critical operations.\n",
            "To enable the following instructions: AVX2 FMA, in other operations, rebuild TensorFlow with the appropriate compiler flags.\n",
            "2025-04-01 15:40:10.676766: W tensorflow/compiler/tf2tensorrt/utils/py_utils.cc:38] TF-TRT Warning: Could not find TensorRT\n"
          ]
        }
      ],
      "source": [
        "from transformers import AutoTokenizer, AutoModelForSequenceClassification\n",
        "from transformers import TrainingArguments, Trainer\n",
        "from datasets import Dataset, DatasetDict"
      ]
    },
    {
      "cell_type": "code",
      "execution_count": 4,
      "metadata": {
        "id": "knkhmHlqgIjx"
      },
      "outputs": [],
      "source": [
        "from sklearn.metrics import classification_report, confusion_matrix"
      ]
    },
    {
      "cell_type": "markdown",
      "metadata": {
        "id": "NxnegTgbXSum"
      },
      "source": [
        "Now let's check if our runtime is using a GPU"
      ]
    },
    {
      "cell_type": "code",
      "execution_count": 5,
      "metadata": {
        "colab": {
          "base_uri": "https://localhost:8080/"
        },
        "id": "buLDJl-hZFhr",
        "outputId": "8c015898-9068-401c-8d42-2e8cc9391a42"
      },
      "outputs": [
        {
          "name": "stdout",
          "output_type": "stream",
          "text": [
            "cpu\n"
          ]
        }
      ],
      "source": [
        "device = torch.device('cuda' if torch.cuda.is_available() else 'cpu')\n",
        "print(device)"
      ]
    },
    {
      "cell_type": "markdown",
      "metadata": {
        "id": "Xb1JvXwqXaeJ"
      },
      "source": [
        "`'cuda'`(Compute Unified Device Architecture) is an API developed by NVIDIA that allows software to utilize GPUs for general-purpose computing. So if torch is detecting a cuda device, it means it is detecting a GPU!"
      ]
    },
    {
      "cell_type": "markdown",
      "metadata": {
        "id": "Cdk5lPu3bxze"
      },
      "source": [
        "## Classification on the 20 Newsgroups dataset\n",
        "\n",
        "In the first example  \n",
        "\n",
        "Training on all of the documents in the dataset will take too long (a few hours), so we'll use just 4 today.\n",
        "- If you want to try on the full dataset, just remove the 'categories' attribute from the commands below.\n",
        "- Be warned though, that training time will be MUCH longer if you include all of the data, so first try subset of the categories."
      ]
    },
    {
      "cell_type": "code",
      "execution_count": 6,
      "metadata": {
        "id": "-rSbSqApYPBe"
      },
      "outputs": [],
      "source": [
        "from sklearn.datasets import fetch_20newsgroups\n",
        "categories = ['comp.graphics', 'rec.sport.baseball', 'sci.med', 'alt.atheism']\n",
        "train = fetch_20newsgroups(subset='train', shuffle=True, categories=categories)\n",
        "test = fetch_20newsgroups(subset='test', shuffle=True, categories=categories)"
      ]
    },
    {
      "cell_type": "markdown",
      "metadata": {
        "id": "xibNw613s4or"
      },
      "source": [
        "Print out some basic information about the dataset:"
      ]
    },
    {
      "cell_type": "code",
      "execution_count": 7,
      "metadata": {
        "colab": {
          "base_uri": "https://localhost:8080/"
        },
        "id": "kCyuWfrDtHn7",
        "outputId": "4d797c68-070c-463d-b453-a1e438cfd1ef"
      },
      "outputs": [
        {
          "name": "stdout",
          "output_type": "stream",
          "text": [
            "# train instances:  2255\n",
            "# test instances:   1501\n",
            "classes:  ['alt.atheism', 'comp.graphics', 'rec.sport.baseball', 'sci.med']\n"
          ]
        }
      ],
      "source": [
        "print('# train instances: ', len(train.data))\n",
        "print('# test instances:  ', len(test.data))\n",
        "print('classes: ', train.target_names)"
      ]
    },
    {
      "cell_type": "markdown",
      "metadata": {
        "id": "U8-uo_WnVbXE"
      },
      "source": [
        "Let's compute the occurrences of the classes"
      ]
    },
    {
      "cell_type": "code",
      "execution_count": 8,
      "metadata": {
        "colab": {
          "base_uri": "https://localhost:8080/"
        },
        "id": "461i8_nzVbXE",
        "outputId": "e445373a-d643-4295-9a5f-b25c74e2a4ff"
      },
      "outputs": [
        {
          "data": {
            "text/plain": [
              "Counter({2: 597, 3: 594, 1: 584, 0: 480})"
            ]
          },
          "execution_count": 8,
          "metadata": {},
          "output_type": "execute_result"
        }
      ],
      "source": [
        "from collections import Counter\n",
        "\n",
        "counts = Counter(train.target)\n",
        "counts"
      ]
    },
    {
      "cell_type": "markdown",
      "metadata": {
        "id": "3XOMhW8X1j-O"
      },
      "source": [
        "A class count shows that there is a relatively even distribution of messages across the categories:"
      ]
    },
    {
      "cell_type": "code",
      "execution_count": 9,
      "metadata": {
        "colab": {
          "base_uri": "https://localhost:8080/",
          "height": 430
        },
        "id": "9VJnzlUStdLl",
        "outputId": "adece81b-ed44-446e-88f0-44f441462457"
      },
      "outputs": [
        {
          "data": {
            "image/png": "[encoded data removed]",
            "text/plain": [
              "<Figure size 640x480 with 1 Axes>"
            ]
          },
          "metadata": {},
          "output_type": "display_data"
        }
      ],
      "source": [
        "import matplotlib.pyplot as plt\n",
        "\n",
        "plt.bar(counts.keys(), counts.values(), color=\"#3F5D7D\", width=0.8);"
      ]
    },
    {
      "cell_type": "markdown",
      "metadata": {
        "id": "uaGNEu7FVbXF"
      },
      "source": [
        "### Model training and evaluation"
      ]
    },
    {
      "cell_type": "markdown",
      "metadata": {
        "id": "pe5xxVPrb4IO"
      },
      "source": [
        "#### Creating a model and preprocessing data"
      ]
    },
    {
      "cell_type": "markdown",
      "metadata": {
        "id": "rctt-zMfkhME"
      },
      "source": [
        "For the moment we will use the standard pretrained Multilingual BERT model. Note that this **model is big**!\n",
        "- it contains 110 million parameters\n",
        "- it represents words (subword tokens to be precise) with embeddings of size 768 <-- compare this with the 50 dimensions we used with GloVe\n",
        "- it contains 12 self-attention layers (each with 12 heads) stacked on top each other"
      ]
    },
    {
      "cell_type": "code",
      "execution_count": 10,
      "metadata": {
        "id": "K-MljyocSpXG"
      },
      "outputs": [],
      "source": [
        "model_name = 'bert-base-multilingual-uncased'"
      ]
    },
    {
      "cell_type": "markdown",
      "metadata": {
        "id": "CaS6XnAqSpXG"
      },
      "source": [
        "There are many other pretrained models availalable here: https://huggingface.co/transformers/pretrained_models.html\n",
        "- Give them a try and see which ones are faster and/or more stable to train!\n",
        "\n",
        "Load the transformer setting the maximum text length to 500 and the classes to be the four newsgroup categories mentioned above."
      ]
    },
    {
      "cell_type": "code",
      "execution_count": 11,
      "metadata": {
        "colab": {
          "base_uri": "https://localhost:8080/",
          "height": 240,
          "referenced_widgets": [
            "56b94de7c3974b0cb14cdd607fbd647e",
            "9edb90bb7c97480cafaadbf464ef0359",
            "ddb191138f434697afae66dbedd18ecf",
            "0f70b6ecce39489990390b41752a032d",
            "141c97b5444d4edfb0c9d9278b433b62",
            "b0ee3c3a68da48aeb13f637421172dd6",
            "2ffff17c853c435e9e139192a60958df",
            "2cb7b89788d84a0b961b0d25036b8dcb",
            "be57ead55b114c0f86121fefb687e92a",
            "431b20991ad641828e33490d6828fa2c",
            "6b977790a84a49358da3a570fa9ef239",
            "2a06acfb4d6943269723d137e17d3c6e",
            "bfa119feef8048ccbef709b9e5e3161a",
            "b49aaaeb42c04717bcd1ba8647008aa0",
            "de06d097e7df4c2883874837d4e5cbf5",
            "a035012adc584d4a92d77b63ccf7ee38",
            "a893a0dba59747fb96c58b9c42d77536",
            "06e01c093ac34f80a87f65a272fdebdd",
            "61e84f48273d4eefb6bdabb1021f39c6",
            "62a7cc26980b44539fecf7ded065f20e",
            "658aadcb32564e22aaaa6c938e4b6798",
            "62000ae009224c13a83b521ece49ef39"
          ]
        },
        "id": "myYmdpaVi6XB",
        "outputId": "74b85c5e-e0f9-4b2c-9ea8-4efd9980f246"
      },
      "outputs": [
        {
          "name": "stderr",
          "output_type": "stream",
          "text": [
            "Some weights of BertForSequenceClassification were not initialized from the model checkpoint at bert-base-multilingual-uncased and are newly initialized: ['classifier.bias', 'classifier.weight']\n",
            "You should probably TRAIN this model on a down-stream task to be able to use it for predictions and inference.\n"
          ]
        }
      ],
      "source": [
        "bert = AutoModelForSequenceClassification.from_pretrained(model_name, num_labels=len(categories))"
      ]
    },
    {
      "cell_type": "markdown",
      "metadata": {
        "id": "R0Kn0RMEg1ZN"
      },
      "source": [
        "Move model to GPU"
      ]
    },
    {
      "cell_type": "code",
      "execution_count": 12,
      "metadata": {
        "id": "M1rV7KHBwZA9"
      },
      "outputs": [],
      "source": [
        "bert = bert.to(device)"
      ]
    },
    {
      "cell_type": "markdown",
      "metadata": {
        "id": "iuk_C-3zaDeX"
      },
      "source": [
        "Now that we've downloaeded the base Multiligual BERT model, let's have a look at the architecture."
      ]
    },
    {
      "cell_type": "code",
      "execution_count": 13,
      "metadata": {
        "colab": {
          "base_uri": "https://localhost:8080/"
        },
        "id": "WnHq1_iZYdSG",
        "outputId": "3d188e8d-3352-4d25-fa20-69d97a097a55",
        "tags": []
      },
      "outputs": [
        {
          "name": "stdout",
          "output_type": "stream",
          "text": [
            "BertForSequenceClassification(\n",
            "  (bert): BertModel(\n",
            "    (embeddings): BertEmbeddings(\n",
            "      (word_embeddings): Embedding(105879, 768, padding_idx=0)\n",
            "      (position_embeddings): Embedding(512, 768)\n",
            "      (token_type_embeddings): Embedding(2, 768)\n",
            "      (LayerNorm): LayerNorm((768,), eps=1e-12, elementwise_affine=True)\n",
            "      (dropout): Dropout(p=0.1, inplace=False)\n",
            "    )\n",
            "    (encoder): BertEncoder(\n",
            "      (layer): ModuleList(\n",
            "        (0-11): 12 x BertLayer(\n",
            "          (attention): BertAttention(\n",
            "            (self): BertSdpaSelfAttention(\n",
            "              (query): Linear(in_features=768, out_features=768, bias=True)\n",
            "              (key): Linear(in_features=768, out_features=768, bias=True)\n",
            "              (value): Linear(in_features=768, out_features=768, bias=True)\n",
            "              (dropout): Dropout(p=0.1, inplace=False)\n",
            "            )\n",
            "            (output): BertSelfOutput(\n",
            "              (dense): Linear(in_features=768, out_features=768, bias=True)\n",
            "              (LayerNorm): LayerNorm((768,), eps=1e-12, elementwise_affine=True)\n",
            "              (dropout): Dropout(p=0.1, inplace=False)\n",
            "            )\n",
            "          )\n",
            "          (intermediate): BertIntermediate(\n",
            "            (dense): Linear(in_features=768, out_features=3072, bias=True)\n",
            "            (intermediate_act_fn): GELUActivation()\n",
            "          )\n",
            "          (output): BertOutput(\n",
            "            (dense): Linear(in_features=3072, out_features=768, bias=True)\n",
            "            (LayerNorm): LayerNorm((768,), eps=1e-12, elementwise_affine=True)\n",
            "            (dropout): Dropout(p=0.1, inplace=False)\n",
            "          )\n",
            "        )\n",
            "      )\n",
            "    )\n",
            "    (pooler): BertPooler(\n",
            "      (dense): Linear(in_features=768, out_features=768, bias=True)\n",
            "      (activation): Tanh()\n",
            "    )\n",
            "  )\n",
            "  (dropout): Dropout(p=0.1, inplace=False)\n",
            "  (classifier): Linear(in_features=768, out_features=4, bias=True)\n",
            ")\n"
          ]
        }
      ],
      "source": [
        "print(bert)"
      ]
    },
    {
      "cell_type": "markdown",
      "metadata": {
        "id": "rwIeFrFNjgf9"
      },
      "source": [
        "Check which of the parameters are trainable:"
      ]
    },
    {
      "cell_type": "code",
      "execution_count": 14,
      "metadata": {
        "colab": {
          "base_uri": "https://localhost:8080/"
        },
        "id": "vGGOvNFchCNB",
        "outputId": "ab994292-5933-4140-e4c2-8f34df60dca2",
        "tags": []
      },
      "outputs": [
        {
          "name": "stdout",
          "output_type": "stream",
          "text": [
            "torch.Size([105879, 768]) True\n",
            "torch.Size([512, 768]) True\n",
            "torch.Size([2, 768]) True\n",
            "torch.Size([768]) True\n",
            "torch.Size([768]) True\n",
            "torch.Size([768, 768]) True\n",
            "torch.Size([768]) True\n",
            "torch.Size([768, 768]) True\n",
            "torch.Size([768]) True\n",
            "torch.Size([768, 768]) True\n",
            "torch.Size([768]) True\n",
            "torch.Size([768, 768]) True\n",
            "torch.Size([768]) True\n",
            "torch.Size([768]) True\n",
            "torch.Size([768]) True\n",
            "torch.Size([3072, 768]) True\n",
            "torch.Size([3072]) True\n",
            "torch.Size([768, 3072]) True\n",
            "torch.Size([768]) True\n",
            "torch.Size([768]) True\n",
            "torch.Size([768]) True\n",
            "torch.Size([768, 768]) True\n",
            "torch.Size([768]) True\n",
            "torch.Size([768, 768]) True\n",
            "torch.Size([768]) True\n",
            "torch.Size([768, 768]) True\n",
            "torch.Size([768]) True\n",
            "torch.Size([768, 768]) True\n",
            "torch.Size([768]) True\n",
            "torch.Size([768]) True\n",
            "torch.Size([768]) True\n",
            "torch.Size([3072, 768]) True\n",
            "torch.Size([3072]) True\n",
            "torch.Size([768, 3072]) True\n",
            "torch.Size([768]) True\n",
            "torch.Size([768]) True\n",
            "torch.Size([768]) True\n",
            "torch.Size([768, 768]) True\n",
            "torch.Size([768]) True\n",
            "torch.Size([768, 768]) True\n",
            "torch.Size([768]) True\n",
            "torch.Size([768, 768]) True\n",
            "torch.Size([768]) True\n",
            "torch.Size([768, 768]) True\n",
            "torch.Size([768]) True\n",
            "torch.Size([768]) True\n",
            "torch.Size([768]) True\n",
            "torch.Size([3072, 768]) True\n",
            "torch.Size([3072]) True\n",
            "torch.Size([768, 3072]) True\n",
            "torch.Size([768]) True\n",
            "torch.Size([768]) True\n",
            "torch.Size([768]) True\n",
            "torch.Size([768, 768]) True\n",
            "torch.Size([768]) True\n",
            "torch.Size([768, 768]) True\n",
            "torch.Size([768]) True\n",
            "torch.Size([768, 768]) True\n",
            "torch.Size([768]) True\n",
            "torch.Size([768, 768]) True\n",
            "torch.Size([768]) True\n",
            "torch.Size([768]) True\n",
            "torch.Size([768]) True\n",
            "torch.Size([3072, 768]) True\n",
            "torch.Size([3072]) True\n",
            "torch.Size([768, 3072]) True\n",
            "torch.Size([768]) True\n",
            "torch.Size([768]) True\n",
            "torch.Size([768]) True\n",
            "torch.Size([768, 768]) True\n",
            "torch.Size([768]) True\n",
            "torch.Size([768, 768]) True\n",
            "torch.Size([768]) True\n",
            "torch.Size([768, 768]) True\n",
            "torch.Size([768]) True\n",
            "torch.Size([768, 768]) True\n",
            "torch.Size([768]) True\n",
            "torch.Size([768]) True\n",
            "torch.Size([768]) True\n",
            "torch.Size([3072, 768]) True\n",
            "torch.Size([3072]) True\n",
            "torch.Size([768, 3072]) True\n",
            "torch.Size([768]) True\n",
            "torch.Size([768]) True\n",
            "torch.Size([768]) True\n",
            "torch.Size([768, 768]) True\n",
            "torch.Size([768]) True\n",
            "torch.Size([768, 768]) True\n",
            "torch.Size([768]) True\n",
            "torch.Size([768, 768]) True\n",
            "torch.Size([768]) True\n",
            "torch.Size([768, 768]) True\n",
            "torch.Size([768]) True\n",
            "torch.Size([768]) True\n",
            "torch.Size([768]) True\n",
            "torch.Size([3072, 768]) True\n",
            "torch.Size([3072]) True\n",
            "torch.Size([768, 3072]) True\n",
            "torch.Size([768]) True\n",
            "torch.Size([768]) True\n",
            "torch.Size([768]) True\n",
            "torch.Size([768, 768]) True\n",
            "torch.Size([768]) True\n",
            "torch.Size([768, 768]) True\n",
            "torch.Size([768]) True\n",
            "torch.Size([768, 768]) True\n",
            "torch.Size([768]) True\n",
            "torch.Size([768, 768]) True\n",
            "torch.Size([768]) True\n",
            "torch.Size([768]) True\n",
            "torch.Size([768]) True\n",
            "torch.Size([3072, 768]) True\n",
            "torch.Size([3072]) True\n",
            "torch.Size([768, 3072]) True\n",
            "torch.Size([768]) True\n",
            "torch.Size([768]) True\n",
            "torch.Size([768]) True\n",
            "torch.Size([768, 768]) True\n",
            "torch.Size([768]) True\n",
            "torch.Size([768, 768]) True\n",
            "torch.Size([768]) True\n",
            "torch.Size([768, 768]) True\n",
            "torch.Size([768]) True\n",
            "torch.Size([768, 768]) True\n",
            "torch.Size([768]) True\n",
            "torch.Size([768]) True\n",
            "torch.Size([768]) True\n",
            "torch.Size([3072, 768]) True\n",
            "torch.Size([3072]) True\n",
            "torch.Size([768, 3072]) True\n",
            "torch.Size([768]) True\n",
            "torch.Size([768]) True\n",
            "torch.Size([768]) True\n",
            "torch.Size([768, 768]) True\n",
            "torch.Size([768]) True\n",
            "torch.Size([768, 768]) True\n",
            "torch.Size([768]) True\n",
            "torch.Size([768, 768]) True\n",
            "torch.Size([768]) True\n",
            "torch.Size([768, 768]) True\n",
            "torch.Size([768]) True\n",
            "torch.Size([768]) True\n",
            "torch.Size([768]) True\n",
            "torch.Size([3072, 768]) True\n",
            "torch.Size([3072]) True\n",
            "torch.Size([768, 3072]) True\n",
            "torch.Size([768]) True\n",
            "torch.Size([768]) True\n",
            "torch.Size([768]) True\n",
            "torch.Size([768, 768]) True\n",
            "torch.Size([768]) True\n",
            "torch.Size([768, 768]) True\n",
            "torch.Size([768]) True\n",
            "torch.Size([768, 768]) True\n",
            "torch.Size([768]) True\n",
            "torch.Size([768, 768]) True\n",
            "torch.Size([768]) True\n",
            "torch.Size([768]) True\n",
            "torch.Size([768]) True\n",
            "torch.Size([3072, 768]) True\n",
            "torch.Size([3072]) True\n",
            "torch.Size([768, 3072]) True\n",
            "torch.Size([768]) True\n",
            "torch.Size([768]) True\n",
            "torch.Size([768]) True\n",
            "torch.Size([768, 768]) True\n",
            "torch.Size([768]) True\n",
            "torch.Size([768, 768]) True\n",
            "torch.Size([768]) True\n",
            "torch.Size([768, 768]) True\n",
            "torch.Size([768]) True\n",
            "torch.Size([768, 768]) True\n",
            "torch.Size([768]) True\n",
            "torch.Size([768]) True\n",
            "torch.Size([768]) True\n",
            "torch.Size([3072, 768]) True\n",
            "torch.Size([3072]) True\n",
            "torch.Size([768, 3072]) True\n",
            "torch.Size([768]) True\n",
            "torch.Size([768]) True\n",
            "torch.Size([768]) True\n",
            "torch.Size([768, 768]) True\n",
            "torch.Size([768]) True\n",
            "torch.Size([768, 768]) True\n",
            "torch.Size([768]) True\n",
            "torch.Size([768, 768]) True\n",
            "torch.Size([768]) True\n",
            "torch.Size([768, 768]) True\n",
            "torch.Size([768]) True\n",
            "torch.Size([768]) True\n",
            "torch.Size([768]) True\n",
            "torch.Size([3072, 768]) True\n",
            "torch.Size([3072]) True\n",
            "torch.Size([768, 3072]) True\n",
            "torch.Size([768]) True\n",
            "torch.Size([768]) True\n",
            "torch.Size([768]) True\n",
            "torch.Size([768, 768]) True\n",
            "torch.Size([768]) True\n",
            "torch.Size([4, 768]) True\n",
            "torch.Size([4]) True\n"
          ]
        }
      ],
      "source": [
        "for param in bert.parameters():\n",
        "    print(param.size(), param.requires_grad)"
      ]
    },
    {
      "cell_type": "markdown",
      "metadata": {
        "id": "0QGePPmboBHT"
      },
      "source": [
        "Load the tokenizer"
      ]
    },
    {
      "cell_type": "code",
      "execution_count": 15,
      "metadata": {
        "colab": {
          "base_uri": "https://localhost:8080/",
          "height": 113,
          "referenced_widgets": [
            "463e9c907195430eb2f479d7d50ceccf",
            "2ec8621588494782a9518ddcf02e7c3f",
            "9da9ea51965d40e88573a1cb468deef6",
            "f0690cd2d1354d449a7126c8d503d7c1",
            "edcaf7a87b5948659bedf83e42575010",
            "7f17039d877b4bac83af16f674dee083",
            "ed41d3a9444949d4b1ec7ab3c25de468",
            "ee111b956d2240dea5f23c1f47aaadf3",
            "1e404daa436b43f08a38293c44675d8f",
            "89c28cd61e134703bf744633f324d7d9",
            "cc51526532c84e629df978c615733065",
            "9a14546c602744e88203de4fb34133b0",
            "04c37ba38b3b4b9ba3ecc13c50d10a52",
            "18ae23b4dec7423db19b2b0c069e2585",
            "2627c86280444dea98d1a00668e26d2f",
            "9779ee29aaef41d58b354fc5f06fb4eb",
            "c1e1a9f6dc4d408ca31d95f788e9c272",
            "40da2f74cd294ef39038f1d05f3f2fc7",
            "a3c147ac64174da698fd149279b66400",
            "e65a49628ffe4cab9ac9927d123918dc",
            "dbfec208f0b2489ab69c9f43adffb642",
            "cbf3a55b38a5481c81b782e7ab36ccd8",
            "8397d5a6f1a2402aa542e00421323556",
            "657771665d05418c80b3bf82fcec9133",
            "aff807ff0216455a8362d09a3c9d5016",
            "fcee83cde5a94a748ff616af5c5d39b2",
            "af81ce90d466493e93edc9170cc5136c",
            "cdcb04f217a849e8897835285bcc07f3",
            "14b3085458a543f1a72644b01900e0ff",
            "dac04b8524f54556b4379427c1c1f441",
            "cb9fe9e1bf7d4a1c9d920e4b794b5f72",
            "5fc8775264e24451b76d0e9123f95489",
            "9ebfc41088424c9597bcd10ff8e8901a"
          ]
        },
        "id": "LUbB1gjAoDnE",
        "outputId": "4f11980e-ad68-4a09-b2ca-58a1b7c9ca85"
      },
      "outputs": [],
      "source": [
        "tokenizer = AutoTokenizer.from_pretrained(model_name)"
      ]
    },
    {
      "cell_type": "markdown",
      "metadata": {
        "id": "Yp4ju07NsN24"
      },
      "source": [
        "Now we can preprocess the training (and test) data using the transformer's data set API"
      ]
    },
    {
      "cell_type": "markdown",
      "metadata": {
        "id": "BBfcR-j-hjWI"
      },
      "source": [
        "First create a list of dictionaries with all the samples in the train and test data sets"
      ]
    },
    {
      "cell_type": "code",
      "execution_count": 16,
      "metadata": {
        "id": "4Pw8W1OIrK6R"
      },
      "outputs": [],
      "source": [
        "train_data = [{'text': txt, 'label': lbl} for txt, lbl in zip(train.data, train.target)]\n",
        "test_data = [{'text': txt, 'label': lbl} for txt, lbl in zip(test.data, test.target)]"
      ]
    },
    {
      "cell_type": "markdown",
      "metadata": {
        "id": "32C0MMkLhr2g"
      },
      "source": [
        "Convert the data sets into the Huggingface data set API format"
      ]
    },
    {
      "cell_type": "code",
      "execution_count": 17,
      "metadata": {
        "id": "wvpGAb7us2ij"
      },
      "outputs": [],
      "source": [
        "train_data = Dataset.from_list(train_data)\n",
        "test_data = Dataset.from_list(test_data)"
      ]
    },
    {
      "cell_type": "markdown",
      "metadata": {
        "id": "lTYfG4twhyBL"
      },
      "source": [
        "Create a container with all the splits of the data set\n",
        "\n",
        "**Note**: We are using the same data for validation and testing, this is not a good practice, it's just for the tutorial, in general you should have separate data for validation and test."
      ]
    },
    {
      "cell_type": "code",
      "execution_count": 18,
      "metadata": {
        "id": "MSxUkZy6tcew"
      },
      "outputs": [],
      "source": [
        "data = DatasetDict()\n",
        "data['train'] = train_data\n",
        "data['validation'] = test_data\n",
        "data['test'] = test_data"
      ]
    },
    {
      "cell_type": "markdown",
      "metadata": {
        "id": "iM1xuM2th2SL"
      },
      "source": [
        "Finally use the tokenizer to convert the input strings into sequences of tokens (more on this later)"
      ]
    },
    {
      "cell_type": "code",
      "execution_count": 19,
      "metadata": {
        "colab": {
          "base_uri": "https://localhost:8080/",
          "height": 113,
          "referenced_widgets": [
            "b491f82203c744bb836331aa7df1694f",
            "d800f3f332234a40aea19822a8ae635e",
            "06fe5cb9a5a9470d958e6fa424308ae3",
            "35593dd704c44ba3a13b6e53ba455ebf",
            "7a36b45fb27845f1951c9ddc77fd4c89",
            "d55d0d51a94846eb8bfdb5051f66380c",
            "3eb5ed2fcaaf4d789e29338b809e8c89",
            "9749b7f508d9486ab81223584d23704a",
            "dd941a7da526429e9528f8755c66f39e",
            "7a4153cde18d4724b55f390c913386fa",
            "043a677d550c4f3581c3487ab7f8c405",
            "51cc9b9174b94cbaa3dbfcee529c0d6a",
            "d25ae56be4144ba2addfde36a0ce4cdf",
            "3c9c335715d4489d90f895d2932a983e",
            "8b59815dead942f08b9cd5a52ad9c69c",
            "8e4f55dfbb344400a3ee1abdbd13e70f",
            "e94a1285c6594dbeacd9d6eb1881e0ee",
            "84856b4958164a3c8153bfe8ebdb9d96",
            "4045d6a93baf40fabfc9348573a82c0e",
            "7b95fd110ec34ab9bcc1ba47c1b95ad6",
            "f95b7c756d7e4706a269c54e83b98321",
            "d5523c8aefa44aa9bd30f257c769b3b0",
            "32a88b3baf704db6855fb41a78698152",
            "1457ca16d92344f58359bc37caa0e77e",
            "ece80ada6e684750baa4d0c137ed4747",
            "42ab559065964bab83245cceb95b0dc6",
            "137f455a19754085a09632766620572d",
            "a76fe104d7b34d748f758e6d3f50deff",
            "7bdc22484b5d4ff38fc8a62fa489956a",
            "b4a5e5cdb34f4927afbe55111a35485c",
            "ce537680208c4ee2998c00ab8e6addc7",
            "c9d9dc39536741828be004cf7d75bbe7",
            "f9ecd9d43a60438ea59770ae15f2d3e9"
          ]
        },
        "id": "xPOAbmdwsMaG",
        "outputId": "b7e72027-33fa-40d9-be70-bca9bf9e6ffa"
      },
      "outputs": [
        {
          "name": "stderr",
          "output_type": "stream",
          "text": [
            "Map: 100%|██████████| 2255/2255 [00:00<00:00, 3755.17 examples/s]\n",
            "Map: 100%|██████████| 1501/1501 [00:00<00:00, 3482.52 examples/s]\n",
            "Map: 100%|██████████| 1501/1501 [00:00<00:00, 1972.31 examples/s]\n"
          ]
        }
      ],
      "source": [
        "def tokenize_function(examples):\n",
        "    return tokenizer(examples[\"text\"], padding=True, truncation=True)\n",
        "\n",
        "tokenized_data = data.map(tokenize_function, batched=True)"
      ]
    },
    {
      "cell_type": "markdown",
      "metadata": {
        "id": "6jDlmkQAfFNI"
      },
      "source": [
        "Let's have a quick look at what the tokenised data looks like:\n",
        "- First print out the text of the first document:"
      ]
    },
    {
      "cell_type": "code",
      "execution_count": 20,
      "metadata": {
        "colab": {
          "base_uri": "https://localhost:8080/"
        },
        "id": "NZVwnMckfgba",
        "outputId": "0cd40978-226f-4a03-e410-938e80e6a030"
      },
      "outputs": [
        {
          "name": "stdout",
          "output_type": "stream",
          "text": [
            "From: cab@col.hp.com (Chris Best)\n",
            "Subject: Re: Is MSG sensitivity superstition?\n",
            "Organization: your service\n",
            "Lines: 20\n",
            "NNTP-Posting-Host: hpctdkz.col.hp.com\n",
            "\n",
            "\n",
            "Jason Chen writes:\n",
            "> Now here is a new one: vomiting. My guess is that MSG becomes the number one\n",
            "> suspect of any problem. In this case. it might be just food poisoning. But\n",
            "> if you heard things about MSG, you may think it must be it.\n",
            "\n",
            "----------\n",
            "\n",
            "Yeah, it might, if you only read the part you quoted.  You somehow left \n",
            "out the part about \"we all ate the same thing.\"  Changes things a bit, eh?\n",
            "\n",
            "You complain that people blame MSG automatically, since it's an unknown and\n",
            "therefore must be the cause.  It is equally (if not more) unreasonable to\n",
            "defend it, automatically assuming that it CAN'T be the culprit.\n",
            "\n",
            "Pepper makes me sneeze.  If it doesn't affect you the same way, fine.\n",
            "Just don't tell me I'm wrong for saying so.\n",
            "\n",
            "These people aren't condemning Chinese food, Mr. Chen - just one of its \n",
            "(optional) ingredients.  Try not to take it so personally.\n",
            "\n"
          ]
        }
      ],
      "source": [
        "print(train.data[0])"
      ]
    },
    {
      "cell_type": "markdown",
      "metadata": {
        "id": "BJc8ABEBSpXH"
      },
      "source": [
        "Now print out the result of preprocessing the first document:"
      ]
    },
    {
      "cell_type": "markdown",
      "metadata": {
        "id": "D0NH7iNW-mct"
      },
      "source": [
        "Each sample in tokenized_data is a dictionary with these keys"
      ]
    },
    {
      "cell_type": "code",
      "execution_count": 21,
      "metadata": {
        "colab": {
          "base_uri": "https://localhost:8080/"
        },
        "id": "Y1vSOEDikIHo",
        "outputId": "07290aec-2ccc-4355-b556-8a942ed79862"
      },
      "outputs": [
        {
          "data": {
            "text/plain": [
              "dict_keys(['text', 'label', 'input_ids', 'token_type_ids', 'attention_mask'])"
            ]
          },
          "execution_count": 21,
          "metadata": {},
          "output_type": "execute_result"
        }
      ],
      "source": [
        "tokenized_data['train'][0].keys()"
      ]
    },
    {
      "cell_type": "markdown",
      "metadata": {
        "id": "b0kMFd68-ui9"
      },
      "source": [
        "Let's inspect the input_ids and labels"
      ]
    },
    {
      "cell_type": "code",
      "execution_count": 22,
      "metadata": {
        "colab": {
          "base_uri": "https://localhost:8080/"
        },
        "id": "xO_FOkTdSpXH",
        "outputId": "f0b64152-ce96-43e7-eb4b-7c554d34c60e"
      },
      "outputs": [
        {
          "name": "stdout",
          "output_type": "stream",
          "text": [
            "[101, 10195, 131, 70438, 137, 12308, 119, 20931, 119, 10241, 113, 13446, 11146, 114, 19513, 131, 11449, 131, 10127, 16777, 10251, 20242, 14119, 52902, 12278, 12054, 11101, 136, 14935, 131, 12787, 11416, 17294, 131, 10200, 37580, 84723, 118, 42191, 10422, 118, 17624, 131, 20931, 15106, 10163, 10167, 10311, 119, 12308, 119, 20931, 119, 10241, 17110, 20728, 47332, 131, 135, 11628, 14048, 10127, 143, 10246, 10399, 131, 11106, 69431, 119, 11153, 41567, 22523, 10127, 10203, 16777, 10251, 23259, 10103, 11395, 10399, 135, 75695, 10108, 11318, 15640, 119, 10104, 10372, 12700, 119, 10197, 20025, 10346, 12125, 15225, 55340, 10285, 119, 10502, 135, 11526, 10855, 27134, 17994, 10935, 16777, 10251, 117, 10855, 10431, 21506, 10197, 14650, 10346, 10197, 119, 118, 118, 118, 118, 118, 118, 118, 118, 118, 118, 82600, 117, 10197, 20025, 117, 11526, 10855, 10902, 18593, 10103, 10649, 10855, 62259, 119, 10855, 10970, 38644, 12174, 10871, 10103, 10649, 10935, 107, 11312, 10367, 12811, 10103, 11714, 21973, 119, 107, 17992, 17994, 143, 16464, 117, 58375, 136, 10855, 85065, 44409, 10203, 11227, 88633, 16777, 10251, 62428, 117, 11500, 10197, 112, 161, 10144, 22669, 10110, 20598, 14650, 10346, 10103, 15126, 119, 10197, 10127, 77697, 113, 11526, 10497, 10772, 114, 10119, 13480, 11796, 13356, 10114, 43461, 10197, 117, 62428, 13967, 19955, 10422, 10203, 10197, 10743, 112, 162, 10346, 10103, 10707, 57485, 16100, 119, 50559, 19552, 10525, 47410, 12168, 10732, 119, 11526, 10197, 39707, 112, 162, 56365, 10855, 10103, 11714, 12140, 117, 12922, 119, 12125, 11530, 112, 162, 21166, 10525, 151, 112, 155, 33413, 10139, 22811, 10297, 119, 11269, 11227, 29938, 112, 162, 18276, 53243, 10422, 13387, 15225, 117, 12854, 119, 20728, 118, 12125, 10399, 10108, 10491, 113, 77906, 114, 88703, 119, 26333, 10497, 10114, 11622, 10197, 10297, 73602, 119, 102, 0, 0, 0, 0, 0, 0, 0, 0, 0, 0, 0, 0, 0, 0, 0, 0, 0, 0, 0, 0, 0, 0, 0, 0, 0, 0, 0, 0, 0, 0, 0, 0, 0, 0, 0, 0, 0, 0, 0, 0, 0, 0, 0, 0, 0, 0, 0, 0, 0, 0, 0, 0, 0, 0, 0, 0, 0, 0, 0, 0, 0, 0, 0, 0, 0, 0, 0, 0, 0, 0, 0, 0, 0, 0, 0, 0, 0, 0, 0, 0, 0, 0, 0, 0, 0, 0, 0, 0, 0, 0, 0, 0, 0, 0, 0, 0, 0, 0, 0, 0, 0, 0, 0, 0, 0, 0, 0, 0, 0, 0, 0, 0, 0, 0, 0, 0, 0, 0, 0, 0, 0, 0, 0, 0, 0, 0, 0, 0, 0, 0, 0, 0, 0, 0, 0, 0, 0, 0, 0, 0, 0, 0, 0, 0, 0, 0, 0, 0, 0, 0, 0, 0, 0, 0, 0, 0, 0, 0, 0, 0, 0, 0, 0, 0, 0, 0, 0, 0, 0, 0, 0, 0, 0, 0, 0, 0, 0, 0, 0, 0, 0, 0, 0, 0, 0, 0, 0, 0, 0, 0, 0, 0, 0, 0, 0, 0, 0, 0, 0, 0, 0, 0, 0, 0, 0, 0, 0, 0, 0, 0, 0, 0, 0, 0, 0, 0, 0, 0, 0, 0, 0, 0, 0, 0, 0, 0, 0]\n"
          ]
        }
      ],
      "source": [
        "print(tokenized_data['train'][0]['input_ids'])"
      ]
    },
    {
      "cell_type": "code",
      "execution_count": 23,
      "metadata": {
        "colab": {
          "base_uri": "https://localhost:8080/"
        },
        "id": "1RFVfwwOG3Vz",
        "outputId": "a4d32389-f701-4393-d842-65966e68ed45"
      },
      "outputs": [
        {
          "name": "stdout",
          "output_type": "stream",
          "text": [
            "3\n"
          ]
        }
      ],
      "source": [
        "print(tokenized_data['train'][0]['label'])"
      ]
    },
    {
      "cell_type": "markdown",
      "metadata": {
        "id": "VolZFjl9f61n"
      },
      "source": [
        "Each integer above is the index of a token from the vocabulary of the BERT model.\n",
        "- How big is the vocabulary?"
      ]
    },
    {
      "cell_type": "code",
      "execution_count": 24,
      "metadata": {
        "colab": {
          "base_uri": "https://localhost:8080/"
        },
        "id": "7zYUTkJUgatH",
        "outputId": "ea4e7230-0e58-4270-c04d-8f7830c0060c"
      },
      "outputs": [
        {
          "name": "stdout",
          "output_type": "stream",
          "text": [
            "vocabulary size:  105879\n"
          ]
        }
      ],
      "source": [
        "print(\"vocabulary size: \", len(tokenizer.vocab))"
      ]
    },
    {
      "cell_type": "markdown",
      "metadata": {
        "id": "NXZgNOrmgoTJ"
      },
      "source": [
        "This vocabulary is relatively small compared to many word embeddings discussed in the lecture, which often reach over 1 million distinct words.\n",
        "- The vocab size is kept relatively small through the use of sub-word tokens that are found using a byte-pair encoding scheme.\n",
        "- We can take a single string and run it through the tokenizer to see the tokens produced as follows:"
      ]
    },
    {
      "cell_type": "code",
      "execution_count": 25,
      "metadata": {
        "colab": {
          "base_uri": "https://localhost:8080/"
        },
        "id": "LP3gdwRe1AVL",
        "outputId": "7d171d3d-59c1-4ce8-fc88-47a0f0dd9b67"
      },
      "outputs": [
        {
          "name": "stdout",
          "output_type": "stream",
          "text": [
            "input text: I always wondered what those Transformer models were doing to my text. Here is a OutOfVocabWord.\n",
            "tokenized:   ['[CLS]', 'i', 'always', 'wonder', '##ed', 'what', 'those', 'transforme', '##r', 'models', 'were', 'doing', 'to', 'my', 'text', '.', 'here', 'is', 'a', 'out', '##of', '##vo', '##ca', '##b', '##word', '.', '[SEP]']\n"
          ]
        }
      ],
      "source": [
        "example_text = \"I always wondered what those Transformer models were doing to my text. Here is a OutOfVocabWord.\"\n",
        "encoded_text = tokenizer(example_text).input_ids\n",
        "vocab_terms = list(tokenizer.vocab.keys())\n",
        "vocab_index = list(tokenizer.vocab.values())\n",
        "print(\"input text: \"+example_text)\n",
        "print(\"tokenized:  \", [vocab_terms[vocab_index.index(i)] for i in encoded_text])"
      ]
    },
    {
      "cell_type": "markdown",
      "metadata": {
        "id": "cQRSfSWWhFnF"
      },
      "source": [
        "Note that:\n",
        "- a '[CLS]' token has been added to the start of the tokenized text and a '[SEP]' token to the end.\n",
        "- BERT works as a masked autoencoder, meaning that it is trained to produce the same terms as output that are presented in input, including those that were masked out.\n",
        "- the '[CLS]' token is simply a special mask for the unknown class label that needs to be produced at the output.\n",
        "- the Byte-Pair Encoding has removed the suffixes from certain words (e.g. 'wondered' lost the 'ed'), but not all of them ('models' kept the 's')."
      ]
    },
    {
      "cell_type": "markdown",
      "metadata": {
        "id": "G4sGPJgOcBTd"
      },
      "source": [
        "#### Training the model\n",
        "\n",
        "Now we're ready to start training the model."
      ]
    },
    {
      "cell_type": "markdown",
      "metadata": {
        "id": "gO6NOLH2qIOP"
      },
      "source": [
        "Prepare training arguments (including a name for the trainer)"
      ]
    },
    {
      "cell_type": "code",
      "execution_count": 26,
      "metadata": {
        "id": "34ex9VhK7G7a"
      },
      "outputs": [],
      "source": [
        "import os\n",
        "os.environ[\"WANDB_DISABLED\"] = \"true\""
      ]
    },
    {
      "cell_type": "code",
      "execution_count": 27,
      "metadata": {
        "colab": {
          "base_uri": "https://localhost:8080/"
        },
        "id": "HyLEhf2kvlxc",
        "outputId": "9ffb9c2c-6eab-4e2d-8bee-38094d9ad08c"
      },
      "outputs": [
        {
          "name": "stderr",
          "output_type": "stream",
          "text": [
            "Using the `WANDB_DISABLED` environment variable is deprecated and will be removed in v5. Use the --report_to flag to control the integrations used for logging result (for instance --report_to none).\n"
          ]
        }
      ],
      "source": [
        "training_args = TrainingArguments(\n",
        "    \"cool_trainer_name\",\n",
        "    per_device_train_batch_size=16,\n",
        "    report_to=None,  # Disabling wandb callbacks\n",
        ")"
      ]
    },
    {
      "cell_type": "markdown",
      "metadata": {
        "id": "MUPaP_OPjmFd"
      },
      "source": [
        "Disable weights in model encoder"
      ]
    },
    {
      "cell_type": "code",
      "execution_count": 28,
      "metadata": {
        "id": "Um37Z8bLwwHg"
      },
      "outputs": [],
      "source": [
        "for param in bert.bert.parameters():\n",
        "    param.requires_grad = True"
      ]
    },
    {
      "cell_type": "markdown",
      "metadata": {
        "id": "Ewvcli7wkAWb"
      },
      "source": [
        "Build the traininer using the Huggingface trainer API"
      ]
    },
    {
      "cell_type": "code",
      "execution_count": 29,
      "metadata": {
        "id": "doJDqHl6opqa"
      },
      "outputs": [],
      "source": [
        "trainer = Trainer(\n",
        "    model=bert,\n",
        "    args=training_args,\n",
        "    train_dataset=tokenized_data['train'],\n",
        "    eval_dataset=tokenized_data['validation']\n",
        ")"
      ]
    },
    {
      "cell_type": "markdown",
      "metadata": {
        "id": "Pji9wH6rkLfl"
      },
      "source": [
        "Finally, run the training process (we train for three epochs)\n",
        "\n"
      ]
    },
    {
      "cell_type": "code",
      "execution_count": null,
      "metadata": {
        "colab": {
          "base_uri": "https://localhost:8080/",
          "height": 111
        },
        "id": "VVm_LxBEopvX",
        "outputId": "20fb5793-f436-4d08-cf07-83cb4b51744a"
      },
      "outputs": [],
      "source": [
        "trainer.train()"
      ]
    },
    {
      "cell_type": "markdown",
      "metadata": {
        "id": "ho6eSo9IcI3_"
      },
      "source": [
        "#### Evaluating the model\n",
        "\n",
        "Now that the model has finished training, let's evaluate in on the test data."
      ]
    },
    {
      "cell_type": "markdown",
      "metadata": {
        "id": "oX8NZVwVktii"
      },
      "source": [
        "First we can run the evaluation process included with the trainer"
      ]
    },
    {
      "cell_type": "code",
      "execution_count": null,
      "metadata": {
        "colab": {
          "base_uri": "https://localhost:8080/",
          "height": 124
        },
        "id": "zB1pCPU10Jwd",
        "outputId": "09e80759-c1a4-4009-9629-82a7dc0e44db"
      },
      "outputs": [],
      "source": [
        "trainer.evaluate()"
      ]
    },
    {
      "cell_type": "markdown",
      "metadata": {
        "id": "A8AV-Qi9k7Te"
      },
      "source": [
        "Then we can get the predictions on the test set..."
      ]
    },
    {
      "cell_type": "code",
      "execution_count": null,
      "metadata": {
        "colab": {
          "base_uri": "https://localhost:8080/",
          "height": 173
        },
        "id": "TPoK1yoq1IRf",
        "outputId": "bf20cedd-4939-45a5-e0ea-2645398c796d"
      },
      "outputs": [],
      "source": [
        "preds = trainer.predict(tokenized_data['test'])\n",
        "preds"
      ]
    },
    {
      "cell_type": "markdown",
      "metadata": {
        "id": "ojpVT2tEmh0S"
      },
      "source": [
        "Convert predicted logits to classes using the $\\mathrm{argmax}$ operator"
      ]
    },
    {
      "cell_type": "code",
      "execution_count": null,
      "metadata": {
        "colab": {
          "base_uri": "https://localhost:8080/"
        },
        "id": "8tjOw1YYmSHI",
        "outputId": "bef3b8c5-4183-4233-a4e4-5cba4def69cd"
      },
      "outputs": [],
      "source": [
        "y_pred = torch.argmax(torch.tensor(preds.predictions), dim=1).numpy()\n",
        "y_pred"
      ]
    },
    {
      "cell_type": "markdown",
      "metadata": {
        "id": "HBNOiC6iuQYg"
      },
      "source": [
        "Get target label names"
      ]
    },
    {
      "cell_type": "code",
      "execution_count": null,
      "metadata": {
        "id": "2CmMFBNouPA-"
      },
      "outputs": [],
      "source": [
        "label_names = test.target_names"
      ]
    },
    {
      "cell_type": "markdown",
      "metadata": {
        "id": "gTyjAzeak_uV"
      },
      "source": [
        "... and use them to preprare a classification report using Scikit-Learn API"
      ]
    },
    {
      "cell_type": "code",
      "execution_count": null,
      "metadata": {
        "colab": {
          "base_uri": "https://localhost:8080/"
        },
        "id": "UvcxCvLOcOje",
        "outputId": "2984fa8f-11a7-465d-c1e2-3e7a1634633f"
      },
      "outputs": [],
      "source": [
        "print(classification_report(test.target, y_pred, target_names=label_names))"
      ]
    },
    {
      "cell_type": "markdown",
      "metadata": {
        "id": "jHRb1I-JlIMF"
      },
      "source": [
        "... or compute a confusion matrix using the Scikit-Learn API"
      ]
    },
    {
      "cell_type": "code",
      "execution_count": null,
      "metadata": {
        "colab": {
          "base_uri": "https://localhost:8080/"
        },
        "id": "73YiamzdlI6t",
        "outputId": "636a28e1-4af8-4dd3-a6da-62e74f37a80f"
      },
      "outputs": [],
      "source": [
        "print(confusion_matrix(test.target, y_pred))"
      ]
    },
    {
      "cell_type": "markdown",
      "metadata": {
        "id": "yhG3fPtPcVKe"
      },
      "source": [
        "We can have a look at the test examples on which the model made the worst predictions:"
      ]
    },
    {
      "cell_type": "markdown",
      "metadata": {
        "id": "IzX6OeNZqYIu"
      },
      "source": [
        "Compute loss"
      ]
    },
    {
      "cell_type": "code",
      "execution_count": null,
      "metadata": {
        "colab": {
          "base_uri": "https://localhost:8080/"
        },
        "id": "mCABLebacTWM",
        "outputId": "b0724b8b-a29a-4c4e-fa01-fd3485f5d2aa"
      },
      "outputs": [],
      "source": [
        "loss = torch.nn.functional.cross_entropy(torch.tensor(preds.predictions), torch.tensor(preds.label_ids), reduction='none')\n",
        "loss"
      ]
    },
    {
      "cell_type": "markdown",
      "metadata": {
        "id": "9j_ACNkMqcKL"
      },
      "source": [
        "Identify the index of the element with the highest loss"
      ]
    },
    {
      "cell_type": "code",
      "execution_count": null,
      "metadata": {
        "colab": {
          "base_uri": "https://localhost:8080/"
        },
        "id": "r4-Ts24aqWQW",
        "outputId": "799553c0-0283-4958-dddb-078ed41b8fc4"
      },
      "outputs": [],
      "source": [
        "index_of_instance = torch.argmax(loss).item()\n",
        "index_of_instance"
      ]
    },
    {
      "cell_type": "markdown",
      "metadata": {
        "id": "ymQd8xY3qugI"
      },
      "source": [
        "Loss of the corresponding sample"
      ]
    },
    {
      "cell_type": "code",
      "execution_count": null,
      "metadata": {
        "colab": {
          "base_uri": "https://localhost:8080/"
        },
        "id": "WJoHPh7VqWbN",
        "outputId": "ccf0e8cb-80a2-4d24-d06e-0fe0f3d55a8f"
      },
      "outputs": [],
      "source": [
        "loss[index_of_instance].item()"
      ]
    },
    {
      "cell_type": "markdown",
      "metadata": {
        "id": "Bjuo7nRcq7Bm"
      },
      "source": [
        "Predicted class and target class"
      ]
    },
    {
      "cell_type": "code",
      "execution_count": null,
      "metadata": {
        "colab": {
          "base_uri": "https://localhost:8080/"
        },
        "id": "AXWwP5IDq-JP",
        "outputId": "3234065d-3593-413b-d217-e043df687dde"
      },
      "outputs": [],
      "source": [
        "print(f'Target class:    {label_names[test.target[index_of_instance]]}')\n",
        "print(f'Predicted class: {label_names[y_pred[index_of_instance]]}')"
      ]
    },
    {
      "cell_type": "markdown",
      "metadata": {
        "id": "nJG_H42_b3ra"
      },
      "source": [
        "Print out the post with the top loss (by changing INDEX_OF_INSTANCE below) to try to find out why it is confusing the classfier."
      ]
    },
    {
      "cell_type": "code",
      "execution_count": null,
      "metadata": {
        "colab": {
          "base_uri": "https://localhost:8080/"
        },
        "id": "pHYRBdBycfne",
        "outputId": "03114846-37f9-43bb-e8c7-06bfef30fa58"
      },
      "outputs": [],
      "source": [
        "print(test.data[index_of_instance])"
      ]
    },
    {
      "cell_type": "markdown",
      "metadata": {
        "id": "CcZQ6HbqdMcF"
      },
      "source": [
        "### Making predictions on new data\n",
        "\n",
        "We can run the trained classification model on new examples."
      ]
    },
    {
      "cell_type": "markdown",
      "metadata": {
        "id": "OTptGrh5VbXM"
      },
      "source": [
        "#### Utility functions"
      ]
    },
    {
      "cell_type": "markdown",
      "metadata": {
        "id": "cpnQiMKyrbvd"
      },
      "source": [
        "Define a simple function to make a prediction"
      ]
    },
    {
      "cell_type": "code",
      "execution_count": null,
      "metadata": {
        "id": "2Sqrv83frb5Z"
      },
      "outputs": [],
      "source": [
        "@torch.no_grad()\n",
        "def predict(text):\n",
        "    input_encodings = tokenizer(text, return_tensors='pt').to(device)\n",
        "    outputs = bert(**input_encodings)\n",
        "\n",
        "    lbl = label_names[torch.argmax(outputs.logits).item()]\n",
        "\n",
        "    return lbl"
      ]
    },
    {
      "cell_type": "markdown",
      "metadata": {
        "id": "mxQIB1-0rcCv"
      },
      "source": [
        "Define  simple function to predict the classes probabilities"
      ]
    },
    {
      "cell_type": "code",
      "execution_count": null,
      "metadata": {
        "id": "NUYdUWthrcMz"
      },
      "outputs": [],
      "source": [
        "@torch.no_grad()\n",
        "def predict_proba(text):\n",
        "    input_encodings = tokenizer(text, return_tensors='pt').to(device)\n",
        "    outputs = bert(**input_encodings)\n",
        "\n",
        "    proba = torch.softmax(outputs.logits, dim=1).cpu().squeeze().numpy()\n",
        "\n",
        "\n",
        "    return dict(zip(label_names, proba))"
      ]
    },
    {
      "cell_type": "markdown",
      "metadata": {
        "id": "OyjLvuMus_fw"
      },
      "source": [
        "We can now try the trained model on new samples"
      ]
    },
    {
      "cell_type": "code",
      "execution_count": null,
      "metadata": {
        "colab": {
          "base_uri": "https://localhost:8080/",
          "height": 34
        },
        "id": "hp8tw3Y0cnJa",
        "outputId": "cf3b70e0-c486-4dad-8c97-37e1abb9d176"
      },
      "outputs": [],
      "source": [
        "sample_text = 'Both of the home runs hit by Fernando Tatís in the third inning for the St. Louis Cardinals on April 23, 1999, were grand slams.'\n",
        "predict(sample_text)"
      ]
    },
    {
      "cell_type": "markdown",
      "metadata": {
        "id": "YYqzU7nJhROw"
      },
      "source": [
        "We can see the probabilities assigned by the model to each of the classes as follows:"
      ]
    },
    {
      "cell_type": "code",
      "execution_count": null,
      "metadata": {
        "colab": {
          "base_uri": "https://localhost:8080/"
        },
        "id": "YHT1jVTGi0yJ",
        "outputId": "50c9c7a0-97d5-4b33-b651-69315881f37f"
      },
      "outputs": [],
      "source": [
        "predict_proba(sample_text).values()"
      ]
    },
    {
      "cell_type": "markdown",
      "metadata": {
        "id": "H2p7Xojzi8uB"
      },
      "source": [
        "Where the classes are:"
      ]
    },
    {
      "cell_type": "code",
      "execution_count": null,
      "metadata": {
        "colab": {
          "base_uri": "https://localhost:8080/"
        },
        "id": "Zg93RQvMjAFd",
        "outputId": "5f508545-8fe0-40ff-e515-103a603e3aa7"
      },
      "outputs": [],
      "source": [
        "predict_proba(sample_text).keys()"
      ]
    },
    {
      "cell_type": "markdown",
      "metadata": {
        "id": "1H3TOwIgSpXL"
      },
      "source": [
        "OK, so the model appears to work well on English text."
      ]
    },
    {
      "cell_type": "markdown",
      "metadata": {
        "id": "xRmWpMvoiPha"
      },
      "source": [
        "#### Multi-lingual examples\n",
        "\n",
        "Let's try on a phrase in another language (Italian).\n",
        "- Note that the news group data we used to train the model is in English only, so the model has never seen any examples of news group messages in Italian."
      ]
    },
    {
      "cell_type": "code",
      "execution_count": null,
      "metadata": {
        "colab": {
          "base_uri": "https://localhost:8080/",
          "height": 34
        },
        "id": "LZOeu9cDdguM",
        "outputId": "cb9bc753-e942-4baa-c4a6-7b6d59b061e5"
      },
      "outputs": [],
      "source": [
        "italian_text = 'I tasti su e giù sul mio portatile non funzionano più, quindi non posso più usarlo per giocare ;-('\n",
        "predict(italian_text)"
      ]
    },
    {
      "cell_type": "code",
      "execution_count": null,
      "metadata": {
        "colab": {
          "base_uri": "https://localhost:8080/"
        },
        "id": "xiCLME7Dnoye",
        "outputId": "cc488403-1dc0-40ce-87f8-ca20497ec175"
      },
      "outputs": [],
      "source": [
        "predict_proba(italian_text)"
      ]
    },
    {
      "cell_type": "markdown",
      "metadata": {
        "id": "gWcw5VGIinK5"
      },
      "source": [
        "Did it get the prediction right?\n",
        "- Note that while the characer set for Italian and English is almost the same, there weren't any words (except perhaps for \"non\") in the above message that would have occurred in the training data.\n",
        "\n",
        "Let's try a message in a different character set:\n",
        "- Translate the text into Chinese using Google Translate: https://translate.google.com/\n",
        "- Then copy the text below and rerun the prediction.\n",
        "- Does it still work?\n",
        "\n"
      ]
    },
    {
      "cell_type": "code",
      "execution_count": null,
      "metadata": {
        "colab": {
          "base_uri": "https://localhost:8080/",
          "height": 34
        },
        "id": "JuMmx8f5dr45",
        "outputId": "d0530741-30fc-4f41-c1ac-d79ee7bd2454"
      },
      "outputs": [],
      "source": [
        "chinese_text = '笔记本电脑上的向上和向下键不再起作用，因此我无法再使用它来播放;-(' #'INSERT CHINESE TEXT HERE'\n",
        "predict(chinese_text)"
      ]
    },
    {
      "cell_type": "code",
      "execution_count": null,
      "metadata": {
        "colab": {
          "base_uri": "https://localhost:8080/",
          "height": 34
        },
        "id": "2OiNy8look-l",
        "outputId": "21c3d9b6-ad59-43de-b014-6fecc20982ae"
      },
      "outputs": [],
      "source": [
        "russian_text = \"Клавиши «вверх» и «вниз» на моем ноутбуке больше не работают, поэтому я больше не могу использовать их для игры ;-(\"\n",
        "predict(russian_text)"
      ]
    },
    {
      "cell_type": "markdown",
      "metadata": {
        "id": "g1r31KjnjU2m"
      },
      "source": [
        "### Explaining the predictions\n",
        "\n",
        "Let's try another piece of text, this time in English, but talking about a politician who wasn't a politician (but rather a celebrity) at the time in which the 20 News Groups dataset was created:"
      ]
    },
    {
      "cell_type": "code",
      "execution_count": null,
      "metadata": {
        "colab": {
          "base_uri": "https://localhost:8080/",
          "height": 34
        },
        "id": "oXJ9qVdIjmlI",
        "outputId": "fb23769a-5407-41b5-e85e-4c6643772789"
      },
      "outputs": [],
      "source": [
        "sample_text = 'Donald Trump is the greatest living ex-president in the history of living ex-presidents. He\\'s also a bad golfer.'\n",
        "predict(sample_text)"
      ]
    },
    {
      "cell_type": "markdown",
      "metadata": {
        "id": "9tHos7V6d8RQ"
      },
      "source": [
        "Let's invoke the `explain` method to see which words contribute most to the classification.\n",
        "\n",
        "We will need to install the **eli5** library."
      ]
    },
    {
      "cell_type": "code",
      "execution_count": null,
      "metadata": {
        "colab": {
          "base_uri": "https://localhost:8080/"
        },
        "id": "VIuKr0wk-FcX",
        "outputId": "0c2fc959-994f-44c3-d4e5-caf0cdcd480a"
      },
      "outputs": [],
      "source": [
        "!pip uninstall -yq flask\n",
        "!pip install eli5"
      ]
    },
    {
      "cell_type": "markdown",
      "metadata": {
        "id": "2Rw_-j2wVbXN"
      },
      "source": [
        "We need an additional apssage to make ELI5 work in this environment"
      ]
    },
    {
      "cell_type": "code",
      "execution_count": null,
      "metadata": {
        "id": "CuG3pSRRVbXN"
      },
      "outputs": [],
      "source": [
        "import scipy\n",
        "import numpy as np\n",
        "def monkeypath_itemfreq(sampler_indices):\n",
        "   return zip(*np.unique(sampler_indices, return_counts=True))\n",
        "\n",
        "scipy.stats.itemfreq=monkeypath_itemfreq"
      ]
    },
    {
      "cell_type": "code",
      "execution_count": null,
      "metadata": {
        "id": "XjruXVE47G9d"
      },
      "outputs": [],
      "source": [
        "import eli5\n",
        "from eli5.lime import TextExplainer"
      ]
    },
    {
      "cell_type": "markdown",
      "metadata": {
        "id": "NV3GfJCLl2sq"
      },
      "source": [
        "Define function to output the probability distribution as a matrix `(n_samples, n_classes)`"
      ]
    },
    {
      "cell_type": "code",
      "execution_count": null,
      "metadata": {
        "id": "wfYGGX-mlYnS"
      },
      "outputs": [],
      "source": [
        "@torch.no_grad()\n",
        "def predict_proba_values(text):\n",
        "    input_encodings = tokenizer(text, return_tensors='pt', padding=True).to(device)\n",
        "    outputs = bert(**input_encodings)\n",
        "\n",
        "    proba = torch.softmax(outputs.logits, dim=1).cpu().squeeze().numpy()\n",
        "\n",
        "    return proba"
      ]
    },
    {
      "cell_type": "markdown",
      "metadata": {
        "id": "xWR5fodljOV5"
      },
      "source": [
        "Run the explainer (based on LIME) to see which words in the sentence are most important for the prediction:"
      ]
    },
    {
      "cell_type": "code",
      "execution_count": null,
      "metadata": {
        "id": "kQxI9hUK59oc"
      },
      "outputs": [],
      "source": [
        "# See https://amaiya.github.io/ktrain/text/predictor.html\n",
        "# See https://eli5.readthedocs.io/en/latest/autodocs/lime.html\n",
        "def explain(text, truncate_len=512, all_targets=False, n_samples=2500):\n",
        "    prediction = [predict(text)] if not all_targets else None\n",
        "    text = \" \".join(text.split()[:truncate_len])\n",
        "    te = TextExplainer(random_state=42, n_samples=n_samples)\n",
        "    _ = te.fit(text, predict_proba_values)\n",
        "    return te.show_prediction(\n",
        "        target_names=label_names, targets=prediction\n",
        "    )"
      ]
    },
    {
      "cell_type": "code",
      "execution_count": null,
      "metadata": {
        "colab": {
          "base_uri": "https://localhost:8080/",
          "height": 169
        },
        "id": "3HgZDLYUeVaM",
        "outputId": "65094298-fa50-4711-ad00-180217e10715"
      },
      "outputs": [],
      "source": [
        "explain(sample_text)"
      ]
    },
    {
      "cell_type": "markdown",
      "metadata": {
        "id": "mcph2bSLe5cW"
      },
      "source": [
        "The words in the darkest shade of green contribute most to the classification.\n",
        "- Do they agree with what you would have expected for this example?"
      ]
    },
    {
      "cell_type": "markdown",
      "metadata": {
        "id": "wceyWpdC-C1H"
      },
      "source": [
        "### Inspecting the Model\n",
        "\n",
        "Let's have a look at the architecture of the model that we have used:"
      ]
    },
    {
      "cell_type": "code",
      "execution_count": null,
      "metadata": {
        "colab": {
          "base_uri": "https://localhost:8080/"
        },
        "id": "ISHuI-fpSpXT",
        "outputId": "05807940-c3f7-43cf-e4e8-99448a7a4b03"
      },
      "outputs": [],
      "source": [
        "print(bert)"
      ]
    },
    {
      "cell_type": "markdown",
      "metadata": {
        "id": "03oHrJjZvVxT"
      },
      "source": [
        "Compute the total number of parameters"
      ]
    },
    {
      "cell_type": "code",
      "execution_count": null,
      "metadata": {
        "colab": {
          "base_uri": "https://localhost:8080/"
        },
        "id": "CgL3V56lvWGD",
        "outputId": "09c835f9-503d-43e3-ae53-29205017b533"
      },
      "outputs": [],
      "source": [
        "n_params = sum(param.numel() for param in bert.parameters())\n",
        "n_params"
      ]
    },
    {
      "cell_type": "markdown",
      "metadata": {
        "id": "erGkWyP_WJWg"
      },
      "source": [
        "The model contains over 100 million parameters consists of:\n",
        "- BERT (which contains alost all the parameters),\n",
        "- a drop-out layer (that is inserted to prevent overfitting), and\n",
        "- a dense (feedforward) layer to map the BERT embedding of size 768 to the 2 output neurons (representing the positive and negative classes).\n",
        "\n",
        "Let's print out information on the configuration of BERT."
      ]
    },
    {
      "cell_type": "code",
      "execution_count": null,
      "metadata": {
        "colab": {
          "base_uri": "https://localhost:8080/"
        },
        "id": "hiz0p_Zo7eB8",
        "outputId": "a0a7cd0e-b925-4c13-b87c-17899e291176"
      },
      "outputs": [],
      "source": [
        "bert.bert.config"
      ]
    },
    {
      "cell_type": "markdown",
      "metadata": {
        "id": "-s-YjRXLmXo6"
      },
      "source": [
        "### Saving and loading a fine-tuned model\n",
        "\n",
        "We can save predictor for later use"
      ]
    },
    {
      "cell_type": "code",
      "execution_count": null,
      "metadata": {
        "id": "Z1nzxI_Jec-5"
      },
      "outputs": [],
      "source": [
        "bert.save_pretrained('/tmp/my_predictor')"
      ]
    },
    {
      "cell_type": "markdown",
      "metadata": {
        "id": "FL_ImfZ2Bf1M"
      },
      "source": [
        "Reload the predictor and use it to predict the class of a new piece of text:"
      ]
    },
    {
      "cell_type": "code",
      "execution_count": null,
      "metadata": {
        "colab": {
          "base_uri": "https://localhost:8080/",
          "height": 34
        },
        "id": "DDEU2s03fHsw",
        "outputId": "22540715-f76f-4b97-a42b-396a5d0566ee"
      },
      "outputs": [],
      "source": [
        "bert = AutoModelForSequenceClassification.from_pretrained('/tmp/my_predictor').to(device)\n",
        "predict('My computer monitor is really blurry.')"
      ]
    },
    {
      "cell_type": "markdown",
      "metadata": {
        "id": "pP1w3-evVbXO"
      },
      "source": [
        "## Classifying the sentiment of Twitter messages\n",
        "\n",
        "We'll now train a different model to detect sentiment on Twitter data as we did for the previous tutorials:"
      ]
    },
    {
      "cell_type": "code",
      "execution_count": null,
      "metadata": {
        "colab": {
          "base_uri": "https://localhost:8080/"
        },
        "id": "ruBhYoj-VbXO",
        "outputId": "5452a00e-b898-419d-f817-1b5466c42245"
      },
      "outputs": [],
      "source": [
        "!pip3 install nltk"
      ]
    },
    {
      "cell_type": "code",
      "execution_count": null,
      "metadata": {
        "colab": {
          "base_uri": "https://localhost:8080/"
        },
        "id": "ymw202nyVbXO",
        "outputId": "58264fe2-66c0-4022-a1ed-560bee3a8ce1"
      },
      "outputs": [],
      "source": [
        "import nltk\n",
        "nltk.download('twitter_samples')\n",
        "\n",
        "from nltk.corpus import twitter_samples\n",
        "positive_tweets = twitter_samples.strings('positive_tweets.json')\n",
        "negative_tweets = twitter_samples.strings('negative_tweets.json')\n",
        "\n",
        "import re\n",
        "emoticon_regex = '(\\:\\w+\\:|\\<[\\/\\\\]?3|[\\(\\)\\\\\\D|\\*\\$][\\-\\^]?[\\:\\;\\=]|[\\:\\;\\=B8][\\-\\^]?[3DOPp\\@\\$\\*\\\\\\)\\(\\/\\|])(?=\\s|[\\!\\.\\?]|$)'\n",
        "positive_tweets_noemoticons = [re.sub(emoticon_regex,'',tweet) for tweet in positive_tweets]\n",
        "negative_tweets_noemoticons = [re.sub(emoticon_regex,'',tweet) for tweet in negative_tweets]\n",
        "\n",
        "tweets_x = positive_tweets_noemoticons + negative_tweets_noemoticons\n",
        "tweets_y = ['positive']*len(positive_tweets) + ['negative']*len(negative_tweets)"
      ]
    },
    {
      "cell_type": "markdown",
      "metadata": {
        "id": "r9aeDEYiVbXO"
      },
      "source": [
        "Use scikit-learn to split the data into training, validation and test sets:\n"
      ]
    },
    {
      "cell_type": "code",
      "execution_count": null,
      "metadata": {
        "id": "bbK6cSjnVbXO"
      },
      "outputs": [],
      "source": [
        "from sklearn.model_selection import train_test_split\n",
        "temp_x, test_x, temp_y, test_y = train_test_split(tweets_x, tweets_y, test_size=0.2)\n",
        "train_x, valid_x, train_y, valid_y = train_test_split(temp_x, temp_y, test_size=0.2)"
      ]
    },
    {
      "cell_type": "markdown",
      "metadata": {
        "id": "H5Dfpg0rVbXP"
      },
      "source": [
        "Now **repeat** all the steps from before for the twitter data:\n",
        "\n",
        "1.   Load the model (this time we'll try DistilBERT, which is a smaller transformer model)"
      ]
    },
    {
      "cell_type": "code",
      "execution_count": null,
      "metadata": {
        "colab": {
          "base_uri": "https://localhost:8080/",
          "height": 232,
          "referenced_widgets": [
            "35792827cc8a4780807e073b36e55dda",
            "a17869190eac4d25b140ae19be0bc1db",
            "8d24ef38418645d89eb7311cf17ff381",
            "c42b3152311841b9b36fa245faba6e28",
            "23890bce62fc47e08bb0a9cf8c1975ea",
            "dc003e5519324d76b1f4e41e28431467",
            "8a143a7aec934311bf863e0896c64550",
            "78c180cfba094935a72fcb5da34529bd",
            "1ad01e12978e4693ad550818a44255cb",
            "9b11cc447fe94eb293d3353c935d8125",
            "422276b68516458fae5d0e0872b4a579",
            "fabf27647e6640f3b6706b0ca4f5e089",
            "b540339a33d4470faf476439230658c1",
            "77b697b8cc7c405bbfb85562a18e9bd6",
            "487ac77dc90d455abedd261b6b92e07e",
            "901e27f14b124dc7af4dd2b6f4b5b4a6",
            "37fb3f3ebb6144eda00e99c9acfed570",
            "553b595c95374d9d9d1cd87a4e5ad219",
            "cf82468ae9fc4caa8590293387cf0753",
            "d5eb0110f78d4a88968b8be580d367d7",
            "7fa088ffef51488d81c322500a6e9e47",
            "4a63c91042174fb092aea413ff401eae",
            "c25dc7f471c1430e8233928e379d665a",
            "b642e59152cc43e8a81618a519cfa71b",
            "c18028b4a9b247469f3d7bec88d867b7",
            "0d103f3c04c447f4baa4862feefccf2b",
            "7c0dbc2075e44574bbf2e7b50770d3f5",
            "19681816783d43ff9e1086b8a6e13c08",
            "57458ec692ca4575bd0077c3fd7fd2c1",
            "fa78c2f098c94b65958d45643d45cd06",
            "e306b6949eff4b5d8a28cdd5b99185ea",
            "df3315f3a40a459b8da08ccc62088c14",
            "ac43483f070349b2864cc121a260a764",
            "a5b6d8229fa24ca88d6b268115dc58db",
            "f1c27f436dc5458e8f9fc61d8e3c43aa",
            "bb54f67a8c2e49cf844fc6d284be1204",
            "ca12e190141b4565970a30157b44c95d",
            "97d172581b044f6ea4226e3696c9c8a2",
            "39ace5f07f91469d840e8edecfe2e5d3",
            "336d85f2a9fd457d8dce747c976e872e",
            "c7c30d9d3410473b91dd69eeaf5d3956",
            "b88efb53f1814908940afc2f91f011de",
            "4ee2afb90e3b41df9d8322a4c0ba3da8",
            "3c03dd18676a48708315d9d88c37fe75",
            "d12ceb13cecd4db694400048ac649ba9",
            "b68f5f76fdd74b64aa96de5527e78ab1",
            "1fb33286fd814b67a2932c28f447ed20",
            "7209a277341e4028afcfaa9430fc7ac3",
            "1e5d30f411fd47f6b65b38ec6dcc0ba9",
            "c4d8eb2f193e428eb5ca62a6b480be16",
            "aef9f67590ce42e18c69e4e2ae3098c1",
            "fed9612232e74420b4e816ee172241c8",
            "e4ced55af59242aca563266ee2bd6920",
            "e0cddf4396884530b5970ae2658ad10e",
            "18e82b1d8fb24c88a4fce581cd85bdff"
          ]
        },
        "id": "FTcx744GVbXP",
        "outputId": "d909b3b6-66ab-496e-a77f-a4f446c94de5"
      },
      "outputs": [],
      "source": [
        "model_name = 'distilbert-base-uncased'\n",
        "bert = bert = AutoModelForSequenceClassification.from_pretrained(model_name, num_labels=2)\n",
        "bert = bert.to(device)\n",
        "tokenizer = AutoTokenizer.from_pretrained(model_name)"
      ]
    },
    {
      "cell_type": "markdown",
      "metadata": {
        "id": "QBlXuZ5lVbXP"
      },
      "source": [
        "2. Process the training/test data"
      ]
    },
    {
      "cell_type": "code",
      "execution_count": null,
      "metadata": {
        "id": "krifJ2oXVbXP"
      },
      "outputs": [],
      "source": [
        "train_data = [{'text': txt, 'label': 0 if lbl == 'negative' else 1} for txt, lbl in zip(train_x, train_y)]\n",
        "validation_data = [{'text': txt, 'label': 0 if lbl == 'negative' else 1} for txt, lbl in zip(valid_x, valid_y)]\n",
        "test_data = [{'text': txt, 'label': 0 if lbl == 'negative' else 1} for txt, lbl in zip(test_x, test_y)]"
      ]
    },
    {
      "cell_type": "code",
      "execution_count": null,
      "metadata": {
        "id": "LxXvpvOjVbXP"
      },
      "outputs": [],
      "source": [
        "train_data = Dataset.from_list(train_data)\n",
        "validation_data = Dataset.from_list(validation_data)\n",
        "test_data = Dataset.from_list(test_data)"
      ]
    },
    {
      "cell_type": "markdown",
      "metadata": {
        "id": "TKqZSBtSVbXP"
      },
      "source": [
        "3. Create a data loaders"
      ]
    },
    {
      "cell_type": "code",
      "execution_count": null,
      "metadata": {
        "colab": {
          "base_uri": "https://localhost:8080/",
          "height": 113,
          "referenced_widgets": [
            "57d60a38363e4a1e9ae058515f3218b4",
            "3d26185b05624bb0a276a19c03517f5f",
            "ccebc02127594d70839c42e68e2ed4c1",
            "7d13f5dcb2c041b5ba00cc53f4e437da",
            "a1257e2e02b5416e953ed57655feb155",
            "fa183ae9f66246169dd34265db7740d0",
            "5a0175ab6176471a8db8112e52f34456",
            "650e6d9f38c842f8996fa9974518810a",
            "7491e2731dbd42e4a8bbbefe766bcad1",
            "382fd0c33d7a464e8420851626549cda",
            "dd7cb96078b84f9da51bd94b8265b95d",
            "dca3f926ae004d34b5106e0de7a7e6bf",
            "3f6a867f750a4d1e8f273f8be753ef39",
            "243c057413764bbfba5ae2b333d6c5d2",
            "0f8f6a6d3879445096c6a630c4a2c35f",
            "4f125ef14dc34c5abe5ba53a9aa5ac02",
            "a2a796840e624effa16bf2f2980ddf80",
            "fdd67676be074d2abb51edd242120400",
            "b2d5824636bd4b2395d2beac78d8743e",
            "ad9f93e9d55842f1851fede41cc4782e",
            "85cc50f6f965456a8ccfb5ef4362f404",
            "bfb171dc8c204b13b0d4e5ce2ff643e7",
            "6b8e3589fea24e0f95bb4a7ec2a40521",
            "7c1c1549b8d147b4bf816f650e95346b",
            "c8cc57d51fc74d07bbac44c2cd4a84a9",
            "1b36c410055b46cdb6a523b37fed1ba2",
            "b216186c6c5b4fb79036d43ccecdebed",
            "d31de216f90747968e99b9f6f7196a73",
            "084e222d81174b9597b855cb058c3a78",
            "c9b05fe75587423fa5543b7bb172b3c2",
            "2e005dfb8db44232b29ce3b874df8332",
            "744415bd6da642aba863fa475146b136",
            "3b87eed69dbe469ba68d0816be652475"
          ]
        },
        "id": "tCfVXm1QVbXP",
        "outputId": "757e3824-fedf-4816-ea67-36869e4d3651"
      },
      "outputs": [],
      "source": [
        "data = DatasetDict()\n",
        "data['train'] = train_data\n",
        "data['validation'] = validation_data\n",
        "data['test'] = test_data\n",
        "\n",
        "def tokenize_function(examples):\n",
        "    return tokenizer(examples[\"text\"], padding=True, truncation=True)\n",
        "\n",
        "tokenized_data = data.map(tokenize_function, batched=True, batch_size=6400)"
      ]
    },
    {
      "cell_type": "markdown",
      "metadata": {
        "id": "y6ulXAYiVbXP"
      },
      "source": [
        "4.   Train the model (We'll run for one epoch to make it faster, but it would be better to run for 4 or more)"
      ]
    },
    {
      "cell_type": "code",
      "execution_count": null,
      "metadata": {
        "colab": {
          "base_uri": "https://localhost:8080/"
        },
        "id": "Jd2ZIj_lVbXP",
        "outputId": "a47fa63e-091b-41bd-a9e8-d0acc895d044"
      },
      "outputs": [],
      "source": [
        "training_args = TrainingArguments(\n",
        "    \"cool_trainer_name_1\",\n",
        "    per_device_train_batch_size=16,\n",
        "    report_to=None,  # Disabling wandb callbacks\n",
        "\n",
        ")"
      ]
    },
    {
      "cell_type": "markdown",
      "metadata": {
        "id": "H5hxRHv7VbXP"
      },
      "source": [
        "Possibly disable wights"
      ]
    },
    {
      "cell_type": "code",
      "execution_count": null,
      "metadata": {
        "id": "ekOTnlfxVbXP"
      },
      "outputs": [],
      "source": [
        " #for param in bert.base_model.parameters():\n",
        " #    param.requires_grad = False"
      ]
    },
    {
      "cell_type": "code",
      "execution_count": null,
      "metadata": {
        "id": "GS7GyqQLVbXP"
      },
      "outputs": [],
      "source": [
        "trainer = Trainer(\n",
        "    model=bert,\n",
        "    args=training_args,\n",
        "    train_dataset=tokenized_data['train'],\n",
        "    eval_dataset=tokenized_data['validation']\n",
        ")"
      ]
    },
    {
      "cell_type": "code",
      "execution_count": null,
      "metadata": {
        "colab": {
          "base_uri": "https://localhost:8080/",
          "height": 173
        },
        "id": "k-zanL4LVbXP",
        "outputId": "54157035-81c9-40be-98bf-5124984fe696"
      },
      "outputs": [],
      "source": [
        "trainer.train()"
      ]
    },
    {
      "cell_type": "markdown",
      "metadata": {
        "id": "lc0Bz79YVbXP"
      },
      "source": [
        "5.   Evaluate the model"
      ]
    },
    {
      "cell_type": "code",
      "execution_count": null,
      "metadata": {
        "colab": {
          "base_uri": "https://localhost:8080/",
          "height": 124
        },
        "id": "j5iS7aIvVbXP",
        "outputId": "da9be813-1525-4e32-e2f7-ff6294e87121"
      },
      "outputs": [],
      "source": [
        "trainer.evaluate()"
      ]
    },
    {
      "cell_type": "code",
      "execution_count": null,
      "metadata": {
        "colab": {
          "base_uri": "https://localhost:8080/",
          "height": 156
        },
        "id": "OH7ZuIWGVbXP",
        "outputId": "148b948c-9f18-4c29-87d6-e621e00cb4a3"
      },
      "outputs": [],
      "source": [
        "preds = trainer.predict(tokenized_data['test'])\n",
        "preds"
      ]
    },
    {
      "cell_type": "markdown",
      "metadata": {
        "id": "mu-CguAIVbXP"
      },
      "source": [
        "Convert predicted logits to classes using the $\\mathrm{argmax}$ operator"
      ]
    },
    {
      "cell_type": "code",
      "execution_count": null,
      "metadata": {
        "colab": {
          "base_uri": "https://localhost:8080/"
        },
        "id": "fATwk9nTVbXP",
        "outputId": "1cdde29c-e8bf-4603-9389-8002d3f0ea6b"
      },
      "outputs": [],
      "source": [
        "y_pred = torch.argmax(torch.tensor(preds.predictions), dim=1).numpy()\n",
        "y_pred"
      ]
    },
    {
      "cell_type": "markdown",
      "metadata": {
        "id": "HVe7HumJVbXP"
      },
      "source": [
        "Get target label names"
      ]
    },
    {
      "cell_type": "code",
      "execution_count": null,
      "metadata": {
        "id": "OfU41IKZVbXP"
      },
      "outputs": [],
      "source": [
        "label_names = ['negative', 'positive']"
      ]
    },
    {
      "cell_type": "markdown",
      "metadata": {
        "id": "juPrc5R3VbXP"
      },
      "source": [
        "... and use them to preprare a classification report using Scikit-Learn API"
      ]
    },
    {
      "cell_type": "code",
      "execution_count": null,
      "metadata": {
        "colab": {
          "base_uri": "https://localhost:8080/"
        },
        "id": "r0MNJc-KVbXP",
        "outputId": "39ad0762-e98a-46f9-809c-48228e8a4b7d",
        "scrolled": true
      },
      "outputs": [],
      "source": [
        "print(classification_report([0 if lbl == 'negative' else 1 for lbl in test_y], y_pred, target_names=label_names))"
      ]
    },
    {
      "cell_type": "markdown",
      "metadata": {
        "id": "u0Qo8H5aVbXQ"
      },
      "source": [
        "6.   Make some predictions with it"
      ]
    },
    {
      "cell_type": "code",
      "execution_count": null,
      "metadata": {
        "id": "1DmcvuxFVbXQ"
      },
      "outputs": [],
      "source": [
        "@torch.no_grad()\n",
        "def predict(text):\n",
        "    input_encodings = tokenizer(text, return_tensors='pt').to(device)\n",
        "    outputs = bert(**input_encodings)\n",
        "\n",
        "    lbl = label_names[torch.argmax(outputs.logits).item()]\n",
        "\n",
        "    return lbl"
      ]
    },
    {
      "cell_type": "code",
      "execution_count": null,
      "metadata": {
        "colab": {
          "base_uri": "https://localhost:8080/",
          "height": 34
        },
        "id": "f52LxLm3VbXQ",
        "outputId": "5221fb6c-b41e-4e53-e65d-bc4f18828997"
      },
      "outputs": [],
      "source": [
        "# predict('Had a lot of fun today!')\n",
        "predict('Today was really hard to give the lecture with the broken code')"
      ]
    },
    {
      "cell_type": "markdown",
      "metadata": {
        "id": "Ebf9pfqeVbXQ"
      },
      "source": [
        "Did it work?\n",
        "\n",
        "Let's print out some information about the architecture of this model:"
      ]
    },
    {
      "cell_type": "code",
      "execution_count": null,
      "metadata": {
        "colab": {
          "base_uri": "https://localhost:8080/"
        },
        "id": "5Fo6pt-1VbXQ",
        "outputId": "7cb38153-81e6-4001-9009-25c274ce4e52"
      },
      "outputs": [],
      "source": [
        "print(bert)"
      ]
    },
    {
      "cell_type": "markdown",
      "metadata": {
        "id": "kebL7mz9VbXQ"
      },
      "source": [
        "We see that the distilbert model has fewer parameters than the BERT model we used previously. It's interesting to see the pre-classifier layer in this model that maps the output embeddings from the transformer into a second embedding space (of the same size) that is then used as features for the final classification layer.\n"
      ]
    },
    {
      "cell_type": "markdown",
      "metadata": {
        "id": "wqhlQm_UVbXQ"
      },
      "source": [
        "## Pairwise classification task\n",
        "\n",
        "We now use the Microsoft Research Paraphrase Corpus (MRPC) to build a classifier for detecting paraphrased sentences.\n",
        "- This is an example of a paired sentence classfication task, where the prediction model takes in a **pair of texts as input** and produces a **binary label as output**.\n",
        "\n",
        "We'll first use pandas (Python's data analysis library) to download and parse the tab-separated data:"
      ]
    },
    {
      "cell_type": "code",
      "execution_count": null,
      "metadata": {
        "id": "RyVVy9ggVbXQ"
      },
      "outputs": [],
      "source": [
        "import pandas as pd\n",
        "import csv\n",
        "train_file = 'https://dl.fbaipublicfiles.com/senteval/senteval_data/msr_paraphrase_train.txt'\n",
        "test_file = 'https://dl.fbaipublicfiles.com/senteval/senteval_data/msr_paraphrase_test.txt'\n",
        "train_df = pd.read_csv(train_file, delimiter='\\t', quoting=csv.QUOTE_NONE)\n",
        "test_df = pd.read_csv(test_file, delimiter='\\t', quoting=csv.QUOTE_NONE)"
      ]
    },
    {
      "cell_type": "code",
      "execution_count": null,
      "metadata": {
        "colab": {
          "base_uri": "https://localhost:8080/",
          "height": 424
        },
        "id": "snOggBSUVbXQ",
        "outputId": "9803f8cf-5c1d-4b2f-d13d-5bdd357085a0"
      },
      "outputs": [],
      "source": [
        "train_df"
      ]
    },
    {
      "cell_type": "markdown",
      "metadata": {
        "id": "SuLW6jfuVbXQ"
      },
      "source": [
        "We need to format the training data in the format needed for ktrain\n",
        "- so select the two columns containing strings\n",
        "- and get their values (as an 2d array)\n",
        "- then convert the array to a list of tuples (str,str) as required by ktrain:"
      ]
    },
    {
      "cell_type": "code",
      "execution_count": null,
      "metadata": {
        "id": "Ea5nR1axVbXQ"
      },
      "outputs": [],
      "source": [
        "x_train = train_df[['#1 String', '#2 String']].values\n",
        "x_train = list(map(tuple, x_train))"
      ]
    },
    {
      "cell_type": "markdown",
      "metadata": {
        "id": "Q_MzEywQVbXQ"
      },
      "source": [
        "Repeat for the test data:"
      ]
    },
    {
      "cell_type": "code",
      "execution_count": null,
      "metadata": {
        "id": "7MkJRe1uVbXQ"
      },
      "outputs": [],
      "source": [
        "x_test = test_df[['#1 String', '#2 String']].values\n",
        "x_test = list(map(tuple, x_test))"
      ]
    },
    {
      "cell_type": "markdown",
      "metadata": {
        "id": "WVrsMNKmVbXQ"
      },
      "source": [
        "And of course, we need also the labels for the training / test examples:"
      ]
    },
    {
      "cell_type": "code",
      "execution_count": null,
      "metadata": {
        "id": "esLqoZ3nVbXQ"
      },
      "outputs": [],
      "source": [
        "y_train = train_df['Quality'].values\n",
        "y_test = test_df['Quality'].values"
      ]
    },
    {
      "cell_type": "markdown",
      "metadata": {
        "id": "A9IZTy9AVbXQ"
      },
      "source": [
        "Print out sizes of dataset:\n"
      ]
    },
    {
      "cell_type": "code",
      "execution_count": null,
      "metadata": {
        "colab": {
          "base_uri": "https://localhost:8080/"
        },
        "id": "9pDQqmDUVbXQ",
        "outputId": "c41c96f2-4c9a-4eb6-f5a2-3f58cd288250"
      },
      "outputs": [],
      "source": [
        "print(\"# train instances: \",len(x_train))\n",
        "print(\"# test instances:  \",len(x_train))"
      ]
    },
    {
      "cell_type": "markdown",
      "metadata": {
        "id": "ZN4_28bZVbXQ"
      },
      "source": [
        "Have a look at a random sentence pair:"
      ]
    },
    {
      "cell_type": "code",
      "execution_count": null,
      "metadata": {
        "colab": {
          "base_uri": "https://localhost:8080/"
        },
        "id": "e_j_PfBQVbXQ",
        "outputId": "423ca9a2-6498-4f48-cea9-10cb6e8ecf02"
      },
      "outputs": [],
      "source": [
        "import random\n",
        "i = random.randint(0,len(x_train)-1)\n",
        "print(\"Index:      \"+str(i))\n",
        "print(\"Sentance 1: \"+x_train[i][0])\n",
        "print(\"Sentence 2: \"+x_train[i][1])\n",
        "print(\"Label:      \"+str(y_train[i]))"
      ]
    },
    {
      "cell_type": "markdown",
      "metadata": {
        "id": "c8rUXbabVbXQ"
      },
      "source": [
        "1. Load model"
      ]
    },
    {
      "cell_type": "code",
      "execution_count": null,
      "metadata": {
        "colab": {
          "base_uri": "https://localhost:8080/"
        },
        "id": "HWH-vY0tVbXR",
        "outputId": "a31aa5e3-bd14-45b3-9871-f6984c54cf71"
      },
      "outputs": [],
      "source": [
        "model_name = 'distilbert-base-uncased'  # 'bert-large-uncased'\n",
        "bert = bert = AutoModelForSequenceClassification.from_pretrained(model_name, num_labels=2)\n",
        "bert = bert.to(device)\n",
        "tokenizer = AutoTokenizer.from_pretrained(model_name)"
      ]
    },
    {
      "cell_type": "markdown",
      "metadata": {
        "id": "I4XggNN4VbXR"
      },
      "source": [
        "2. Prepare data"
      ]
    },
    {
      "cell_type": "code",
      "execution_count": null,
      "metadata": {
        "id": "nf9HGky7VbXR"
      },
      "outputs": [],
      "source": [
        "train_data = [{'sent1': txt[0], 'sent2': txt[1], 'label': lbl} for txt, lbl in zip(x_train, y_train)]\n",
        "test_data = [{'sent1': txt[0], 'sent2': txt[1], 'label': lbl} for txt, lbl in zip(x_test, y_test)]"
      ]
    },
    {
      "cell_type": "code",
      "execution_count": null,
      "metadata": {
        "id": "K-jV8CDzVbXR"
      },
      "outputs": [],
      "source": [
        "train_data = Dataset.from_list(train_data)\n",
        "test_data = Dataset.from_list(test_data)"
      ]
    },
    {
      "cell_type": "markdown",
      "metadata": {
        "id": "EErMkKgzVbXR"
      },
      "source": [
        "Here we need to change a bit the tokenisation step, because we need to tokenise the two sentences together separated byt the special '\\[SEP\\]' token"
      ]
    },
    {
      "cell_type": "code",
      "execution_count": null,
      "metadata": {
        "colab": {
          "base_uri": "https://localhost:8080/",
          "height": 113,
          "referenced_widgets": [
            "10085856939646a88f6b4383fe0316e8",
            "0a2cf1dd10fe41e1be6073a08bb4268d",
            "cb62b1be92ec497090eaa22feee355a9",
            "69bf95b5836b4b85ae56268b14c526d0",
            "33435aecaad14141a8a4aca2f319e449",
            "90da2fe7155148cd9044bb57ffe266da",
            "afea4122d17e4653b7ccbc31a35650a6",
            "eed01f3896fc4ecfadc4b57ebcc74d60",
            "1c3c94af61d9430591155ccf4c9fd37b",
            "da0bf094e10f49fe874c1184ca872163",
            "00861dadfc3e408fb3fd88bf00fbbcef",
            "62ec4ca280c64a60bd2b1ae15640ff84",
            "808dc2b5d8f74a83bc1ea093c3f97647",
            "7e9da25d833a47f18517996724211993",
            "9aab7c9b01f34708a433d04432417e63",
            "35d34b23624c4799a1af8461c73f595d",
            "84ca4bda764e4f83a160a430bf415ad1",
            "1a143190644449bd91fbf21914f0cf25",
            "8c5bdd6c41654a72856dc0cc98a142fa",
            "a9c650b7a6d84572b1356c61ed53f86f",
            "d4116a8e1e654895ab9b0ff4e69cddc9",
            "754532c40fee42aeb6592806209d2770",
            "5e288653e4b24819bf7eceff530cc2a1",
            "fa513303d6b243c09f31f46415f6975a",
            "caf96a9ed62e4e3593f09882bd14b1d0",
            "8102b84811bd4721a0dfca382ef1a1a4",
            "a44dcb49054b493da133cefce5202083",
            "f1955a80fb3c4daf8c688e26a4b86aae",
            "49f97c3dce774ec5ab55ad1e60c461db",
            "2a9ab3c0b38149438fbb3da75458f5ae",
            "7b4cb007344d4b0a95194f45de90111b",
            "a00ae97292034bed855382f99fdf0ed1",
            "44a0f05327ea4e4a90154ee64f2f227f"
          ]
        },
        "id": "jom4D5jqVbXR",
        "outputId": "4ba20513-703e-45be-867e-c559cea0cf13"
      },
      "outputs": [],
      "source": [
        "data = DatasetDict()\n",
        "data['train'] = train_data\n",
        "data['validation'] = test_data\n",
        "data['test'] = test_data\n",
        "\n",
        "def tokenize_function(examples):\n",
        "    return tokenizer(examples[\"sent1\"], examples[\"sent2\"], padding=True, truncation=True)\n",
        "\n",
        "tokenized_data = data.map(tokenize_function, batched=True, batch_size=4096)"
      ]
    },
    {
      "cell_type": "markdown",
      "metadata": {
        "id": "9B9Idvp8VbXR"
      },
      "source": [
        "How do the samples look like?\n",
        "Let's consider the sentence pair we extacted randomly before"
      ]
    },
    {
      "cell_type": "code",
      "execution_count": null,
      "metadata": {
        "colab": {
          "base_uri": "https://localhost:8080/"
        },
        "id": "mFeEiGWSVbXR",
        "outputId": "f53993a0-3592-48cf-859f-0489198e10ed"
      },
      "outputs": [],
      "source": [
        "sentence1 = tokenized_data['train'][i][\"sent1\"]\n",
        "sentence1 = tokenized_data['train'][i][\"sent2\"]\n",
        "encoded_text = tokenized_data['train'][i][\"input_ids\"]\n",
        "vocab_terms = list(tokenizer.vocab.keys())\n",
        "vocab_index = list(tokenizer.vocab.values())\n",
        "print(\"Sentance 1: \"+sentence1)\n",
        "print(\"Sentence 2: \"+sentence1)\n",
        "print(\"tokenized:  \", [vocab_terms[vocab_index.index(i)] for i in encoded_text])"
      ]
    },
    {
      "cell_type": "markdown",
      "metadata": {
        "id": "0teDCfMkVbXR"
      },
      "source": [
        "2. Build and train a model:"
      ]
    },
    {
      "cell_type": "code",
      "execution_count": null,
      "metadata": {
        "colab": {
          "base_uri": "https://localhost:8080/"
        },
        "id": "gFiToe9CVbXR",
        "outputId": "7c2e126b-4c85-46fd-a21d-982ff2cbc0c0"
      },
      "outputs": [],
      "source": [
        "training_args = TrainingArguments(\n",
        "    \"cool_trainer_name\",\n",
        "    per_device_train_batch_size=16,\n",
        "    report_to=None,  # Disabling wandb callbacks\n",
        ")"
      ]
    },
    {
      "cell_type": "markdown",
      "metadata": {
        "id": "1OImxsQhVbXR"
      },
      "source": [
        "Possibly disable wights"
      ]
    },
    {
      "cell_type": "code",
      "execution_count": null,
      "metadata": {
        "id": "W2xdKQtEVbXR"
      },
      "outputs": [],
      "source": [
        "#for param in bert.base_model.parameters():\n",
        "#    param.requires_grad = False"
      ]
    },
    {
      "cell_type": "code",
      "execution_count": null,
      "metadata": {
        "id": "DEqmFmUUVbXR"
      },
      "outputs": [],
      "source": [
        "trainer = Trainer(\n",
        "    model=bert,\n",
        "    args=training_args,\n",
        "    train_dataset=tokenized_data['train'],\n",
        "    eval_dataset=tokenized_data['validation']\n",
        ")"
      ]
    },
    {
      "cell_type": "code",
      "execution_count": null,
      "metadata": {
        "colab": {
          "base_uri": "https://localhost:8080/",
          "height": 142
        },
        "id": "mBXcoVeWVbXR",
        "outputId": "34c35815-c518-4e6f-efcf-f14b3ea46818"
      },
      "outputs": [],
      "source": [
        "trainer.train()"
      ]
    },
    {
      "cell_type": "markdown",
      "metadata": {
        "id": "I2k8gxgfVbXR"
      },
      "source": [
        "3. Evaluate model"
      ]
    },
    {
      "cell_type": "code",
      "execution_count": null,
      "metadata": {
        "colab": {
          "base_uri": "https://localhost:8080/",
          "height": 124
        },
        "id": "CaV5ptI4VbXR",
        "outputId": "c42b10fe-1e2b-49cf-ec85-db3412a1858a"
      },
      "outputs": [],
      "source": [
        "trainer.evaluate()"
      ]
    },
    {
      "cell_type": "code",
      "execution_count": null,
      "metadata": {
        "colab": {
          "base_uri": "https://localhost:8080/",
          "height": 156
        },
        "id": "EkGTsiqrVbXR",
        "outputId": "5a31a8e9-d8bf-41b5-9e71-e7a748103d20"
      },
      "outputs": [],
      "source": [
        "preds = trainer.predict(tokenized_data['test'])\n",
        "preds"
      ]
    },
    {
      "cell_type": "markdown",
      "metadata": {
        "id": "fuMBp6pGVbXR"
      },
      "source": [
        "Convert predicted logits to classes using the $\\mathrm{argmax}$ operator"
      ]
    },
    {
      "cell_type": "code",
      "execution_count": null,
      "metadata": {
        "colab": {
          "base_uri": "https://localhost:8080/"
        },
        "id": "W10jjENzVbXR",
        "outputId": "405c081f-da74-48f2-d2e7-f384893e5e10"
      },
      "outputs": [],
      "source": [
        "y_pred = torch.argmax(torch.tensor(preds.predictions), dim=1).numpy()\n",
        "y_pred"
      ]
    },
    {
      "cell_type": "markdown",
      "metadata": {
        "id": "HW93VBJNVbXR"
      },
      "source": [
        "Get target label names"
      ]
    },
    {
      "cell_type": "code",
      "execution_count": null,
      "metadata": {
        "id": "Fxgi7q1oVbXR"
      },
      "outputs": [],
      "source": [
        "label_names = ['not-paraphrase', 'paraphrase']"
      ]
    },
    {
      "cell_type": "markdown",
      "metadata": {
        "id": "tZkHowqFVbXR"
      },
      "source": [
        "... and use them to preprare a classification report using Scikit-Learn API"
      ]
    },
    {
      "cell_type": "code",
      "execution_count": null,
      "metadata": {
        "colab": {
          "base_uri": "https://localhost:8080/"
        },
        "id": "Nfvj2pqVVbXR",
        "outputId": "6be5ddf4-3188-44de-ba1d-707bffaac53c",
        "scrolled": true
      },
      "outputs": [],
      "source": [
        "print(classification_report(y_test, y_pred, target_names=label_names))"
      ]
    },
    {
      "cell_type": "markdown",
      "metadata": {
        "id": "Eb3EUfy2VbXS"
      },
      "source": [
        "4. Test the model on a pair of sentences:"
      ]
    },
    {
      "cell_type": "code",
      "execution_count": null,
      "metadata": {
        "id": "Cs2LoyhdVbXS"
      },
      "outputs": [],
      "source": [
        "@torch.no_grad()\n",
        "def predict(sent1, sent2):\n",
        "    input_encodings = tokenizer(sent1, sent2, return_tensors='pt').to(device)\n",
        "    outputs = bert(**input_encodings)\n",
        "\n",
        "    lbl = label_names[torch.argmax(outputs.logits).item()]\n",
        "\n",
        "    return lbl"
      ]
    },
    {
      "cell_type": "code",
      "execution_count": null,
      "metadata": {
        "colab": {
          "base_uri": "https://localhost:8080/",
          "height": 34
        },
        "id": "uuN5ldY9VbXS",
        "outputId": "9b0aa6dc-baa7-48b0-8ad5-433990ffafd0"
      },
      "outputs": [],
      "source": [
        "predict(\"I 'm eating pizza today\", \"She's eating pizza today\")\n",
        "#predict(\"I think I will eat some pizza today\", \"My flight was delayed\")"
      ]
    },
    {
      "cell_type": "markdown",
      "metadata": {
        "id": "NbeAIKD-VbXS"
      },
      "source": [
        "Did it work?\n",
        "- Try it out on some of your own sentences!"
      ]
    },
    {
      "cell_type": "code",
      "execution_count": null,
      "metadata": {
        "id": "0Wpq7wvlVbXS"
      },
      "outputs": [],
      "source": []
    }
  ],
  "metadata": {
    "accelerator": "GPU",
    "colab": {
      "provenance": []
    },
    "gpuClass": "standard",
    "kernelspec": {
      "display_name": ".venv",
      "language": "python",
      "name": "python3"
    },
    "language_info": {
      "codemirror_mode": {
        "name": "ipython",
        "version": 3
      },
      "file_extension": ".py",
      "mimetype": "text/x-python",
      "name": "python",
      "nbconvert_exporter": "python",
      "pygments_lexer": "ipython3",
      "version": "3.13.2"
    },
    "widgets": {
      "application/vnd.jupyter.widget-state+json": {
        "00861dadfc3e408fb3fd88bf00fbbcef": {
          "model_module": "@jupyter-widgets/controls",
          "model_module_version": "1.5.0",
          "model_name": "DescriptionStyleModel",
          "state": {
            "_model_module": "@jupyter-widgets/controls",
            "_model_module_version": "1.5.0",
            "_model_name": "DescriptionStyleModel",
            "_view_count": null,
            "_view_module": "@jupyter-widgets/base",
            "_view_module_version": "1.2.0",
            "_view_name": "StyleView",
            "description_width": ""
          }
        },
        "043a677d550c4f3581c3487ab7f8c405": {
          "model_module": "@jupyter-widgets/controls",
          "model_module_version": "1.5.0",
          "model_name": "DescriptionStyleModel",
          "state": {
            "_model_module": "@jupyter-widgets/controls",
            "_model_module_version": "1.5.0",
            "_model_name": "DescriptionStyleModel",
            "_view_count": null,
            "_view_module": "@jupyter-widgets/base",
            "_view_module_version": "1.2.0",
            "_view_name": "StyleView",
            "description_width": ""
          }
        },
        "04c37ba38b3b4b9ba3ecc13c50d10a52": {
          "model_module": "@jupyter-widgets/controls",
          "model_module_version": "1.5.0",
          "model_name": "HTMLModel",
          "state": {
            "_dom_classes": [],
            "_model_module": "@jupyter-widgets/controls",
            "_model_module_version": "1.5.0",
            "_model_name": "HTMLModel",
            "_view_count": null,
            "_view_module": "@jupyter-widgets/controls",
            "_view_module_version": "1.5.0",
            "_view_name": "HTMLView",
            "description": "",
            "description_tooltip": null,
            "layout": "IPY_MODEL_c1e1a9f6dc4d408ca31d95f788e9c272",
            "placeholder": "​",
            "style": "IPY_MODEL_40da2f74cd294ef39038f1d05f3f2fc7",
            "value": "vocab.txt: 100%"
          }
        },
        "06e01c093ac34f80a87f65a272fdebdd": {
          "model_module": "@jupyter-widgets/controls",
          "model_module_version": "1.5.0",
          "model_name": "DescriptionStyleModel",
          "state": {
            "_model_module": "@jupyter-widgets/controls",
            "_model_module_version": "1.5.0",
            "_model_name": "DescriptionStyleModel",
            "_view_count": null,
            "_view_module": "@jupyter-widgets/base",
            "_view_module_version": "1.2.0",
            "_view_name": "StyleView",
            "description_width": ""
          }
        },
        "06fe5cb9a5a9470d958e6fa424308ae3": {
          "model_module": "@jupyter-widgets/controls",
          "model_module_version": "1.5.0",
          "model_name": "FloatProgressModel",
          "state": {
            "_dom_classes": [],
            "_model_module": "@jupyter-widgets/controls",
            "_model_module_version": "1.5.0",
            "_model_name": "FloatProgressModel",
            "_view_count": null,
            "_view_module": "@jupyter-widgets/controls",
            "_view_module_version": "1.5.0",
            "_view_name": "ProgressView",
            "bar_style": "success",
            "description": "",
            "description_tooltip": null,
            "layout": "IPY_MODEL_9749b7f508d9486ab81223584d23704a",
            "max": 2255,
            "min": 0,
            "orientation": "horizontal",
            "style": "IPY_MODEL_dd941a7da526429e9528f8755c66f39e",
            "value": 2255
          }
        },
        "084e222d81174b9597b855cb058c3a78": {
          "model_module": "@jupyter-widgets/controls",
          "model_module_version": "1.5.0",
          "model_name": "DescriptionStyleModel",
          "state": {
            "_model_module": "@jupyter-widgets/controls",
            "_model_module_version": "1.5.0",
            "_model_name": "DescriptionStyleModel",
            "_view_count": null,
            "_view_module": "@jupyter-widgets/base",
            "_view_module_version": "1.2.0",
            "_view_name": "StyleView",
            "description_width": ""
          }
        },
        "0a2cf1dd10fe41e1be6073a08bb4268d": {
          "model_module": "@jupyter-widgets/controls",
          "model_module_version": "1.5.0",
          "model_name": "HTMLModel",
          "state": {
            "_dom_classes": [],
            "_model_module": "@jupyter-widgets/controls",
            "_model_module_version": "1.5.0",
            "_model_name": "HTMLModel",
            "_view_count": null,
            "_view_module": "@jupyter-widgets/controls",
            "_view_module_version": "1.5.0",
            "_view_name": "HTMLView",
            "description": "",
            "description_tooltip": null,
            "layout": "IPY_MODEL_90da2fe7155148cd9044bb57ffe266da",
            "placeholder": "​",
            "style": "IPY_MODEL_afea4122d17e4653b7ccbc31a35650a6",
            "value": "Map: 100%"
          }
        },
        "0d103f3c04c447f4baa4862feefccf2b": {
          "model_module": "@jupyter-widgets/controls",
          "model_module_version": "1.5.0",
          "model_name": "HTMLModel",
          "state": {
            "_dom_classes": [],
            "_model_module": "@jupyter-widgets/controls",
            "_model_module_version": "1.5.0",
            "_model_name": "HTMLModel",
            "_view_count": null,
            "_view_module": "@jupyter-widgets/controls",
            "_view_module_version": "1.5.0",
            "_view_name": "HTMLView",
            "description": "",
            "description_tooltip": null,
            "layout": "IPY_MODEL_df3315f3a40a459b8da08ccc62088c14",
            "placeholder": "​",
            "style": "IPY_MODEL_ac43483f070349b2864cc121a260a764",
            "value": " 48.0/48.0 [00:00&lt;00:00, 5.04kB/s]"
          }
        },
        "0f70b6ecce39489990390b41752a032d": {
          "model_module": "@jupyter-widgets/controls",
          "model_module_version": "1.5.0",
          "model_name": "HTMLModel",
          "state": {
            "_dom_classes": [],
            "_model_module": "@jupyter-widgets/controls",
            "_model_module_version": "1.5.0",
            "_model_name": "HTMLModel",
            "_view_count": null,
            "_view_module": "@jupyter-widgets/controls",
            "_view_module_version": "1.5.0",
            "_view_name": "HTMLView",
            "description": "",
            "description_tooltip": null,
            "layout": "IPY_MODEL_431b20991ad641828e33490d6828fa2c",
            "placeholder": "​",
            "style": "IPY_MODEL_6b977790a84a49358da3a570fa9ef239",
            "value": " 625/625 [00:00&lt;00:00, 35.9kB/s]"
          }
        },
        "0f8f6a6d3879445096c6a630c4a2c35f": {
          "model_module": "@jupyter-widgets/controls",
          "model_module_version": "1.5.0",
          "model_name": "HTMLModel",
          "state": {
            "_dom_classes": [],
            "_model_module": "@jupyter-widgets/controls",
            "_model_module_version": "1.5.0",
            "_model_name": "HTMLModel",
            "_view_count": null,
            "_view_module": "@jupyter-widgets/controls",
            "_view_module_version": "1.5.0",
            "_view_name": "HTMLView",
            "description": "",
            "description_tooltip": null,
            "layout": "IPY_MODEL_85cc50f6f965456a8ccfb5ef4362f404",
            "placeholder": "​",
            "style": "IPY_MODEL_bfb171dc8c204b13b0d4e5ce2ff643e7",
            "value": " 1600/1600 [00:00&lt;00:00, 4896.91 examples/s]"
          }
        },
        "10085856939646a88f6b4383fe0316e8": {
          "model_module": "@jupyter-widgets/controls",
          "model_module_version": "1.5.0",
          "model_name": "HBoxModel",
          "state": {
            "_dom_classes": [],
            "_model_module": "@jupyter-widgets/controls",
            "_model_module_version": "1.5.0",
            "_model_name": "HBoxModel",
            "_view_count": null,
            "_view_module": "@jupyter-widgets/controls",
            "_view_module_version": "1.5.0",
            "_view_name": "HBoxView",
            "box_style": "",
            "children": [
              "IPY_MODEL_0a2cf1dd10fe41e1be6073a08bb4268d",
              "IPY_MODEL_cb62b1be92ec497090eaa22feee355a9",
              "IPY_MODEL_69bf95b5836b4b85ae56268b14c526d0"
            ],
            "layout": "IPY_MODEL_33435aecaad14141a8a4aca2f319e449"
          }
        },
        "137f455a19754085a09632766620572d": {
          "model_module": "@jupyter-widgets/base",
          "model_module_version": "1.2.0",
          "model_name": "LayoutModel",
          "state": {
            "_model_module": "@jupyter-widgets/base",
            "_model_module_version": "1.2.0",
            "_model_name": "LayoutModel",
            "_view_count": null,
            "_view_module": "@jupyter-widgets/base",
            "_view_module_version": "1.2.0",
            "_view_name": "LayoutView",
            "align_content": null,
            "align_items": null,
            "align_self": null,
            "border": null,
            "bottom": null,
            "display": null,
            "flex": null,
            "flex_flow": null,
            "grid_area": null,
            "grid_auto_columns": null,
            "grid_auto_flow": null,
            "grid_auto_rows": null,
            "grid_column": null,
            "grid_gap": null,
            "grid_row": null,
            "grid_template_areas": null,
            "grid_template_columns": null,
            "grid_template_rows": null,
            "height": null,
            "justify_content": null,
            "justify_items": null,
            "left": null,
            "margin": null,
            "max_height": null,
            "max_width": null,
            "min_height": null,
            "min_width": null,
            "object_fit": null,
            "object_position": null,
            "order": null,
            "overflow": null,
            "overflow_x": null,
            "overflow_y": null,
            "padding": null,
            "right": null,
            "top": null,
            "visibility": null,
            "width": null
          }
        },
        "141c97b5444d4edfb0c9d9278b433b62": {
          "model_module": "@jupyter-widgets/base",
          "model_module_version": "1.2.0",
          "model_name": "LayoutModel",
          "state": {
            "_model_module": "@jupyter-widgets/base",
            "_model_module_version": "1.2.0",
            "_model_name": "LayoutModel",
            "_view_count": null,
            "_view_module": "@jupyter-widgets/base",
            "_view_module_version": "1.2.0",
            "_view_name": "LayoutView",
            "align_content": null,
            "align_items": null,
            "align_self": null,
            "border": null,
            "bottom": null,
            "display": null,
            "flex": null,
            "flex_flow": null,
            "grid_area": null,
            "grid_auto_columns": null,
            "grid_auto_flow": null,
            "grid_auto_rows": null,
            "grid_column": null,
            "grid_gap": null,
            "grid_row": null,
            "grid_template_areas": null,
            "grid_template_columns": null,
            "grid_template_rows": null,
            "height": null,
            "justify_content": null,
            "justify_items": null,
            "left": null,
            "margin": null,
            "max_height": null,
            "max_width": null,
            "min_height": null,
            "min_width": null,
            "object_fit": null,
            "object_position": null,
            "order": null,
            "overflow": null,
            "overflow_x": null,
            "overflow_y": null,
            "padding": null,
            "right": null,
            "top": null,
            "visibility": null,
            "width": null
          }
        },
        "1457ca16d92344f58359bc37caa0e77e": {
          "model_module": "@jupyter-widgets/controls",
          "model_module_version": "1.5.0",
          "model_name": "HTMLModel",
          "state": {
            "_dom_classes": [],
            "_model_module": "@jupyter-widgets/controls",
            "_model_module_version": "1.5.0",
            "_model_name": "HTMLModel",
            "_view_count": null,
            "_view_module": "@jupyter-widgets/controls",
            "_view_module_version": "1.5.0",
            "_view_name": "HTMLView",
            "description": "",
            "description_tooltip": null,
            "layout": "IPY_MODEL_a76fe104d7b34d748f758e6d3f50deff",
            "placeholder": "​",
            "style": "IPY_MODEL_7bdc22484b5d4ff38fc8a62fa489956a",
            "value": "Map: 100%"
          }
        },
        "14b3085458a543f1a72644b01900e0ff": {
          "model_module": "@jupyter-widgets/controls",
          "model_module_version": "1.5.0",
          "model_name": "DescriptionStyleModel",
          "state": {
            "_model_module": "@jupyter-widgets/controls",
            "_model_module_version": "1.5.0",
            "_model_name": "DescriptionStyleModel",
            "_view_count": null,
            "_view_module": "@jupyter-widgets/base",
            "_view_module_version": "1.2.0",
            "_view_name": "StyleView",
            "description_width": ""
          }
        },
        "18ae23b4dec7423db19b2b0c069e2585": {
          "model_module": "@jupyter-widgets/controls",
          "model_module_version": "1.5.0",
          "model_name": "FloatProgressModel",
          "state": {
            "_dom_classes": [],
            "_model_module": "@jupyter-widgets/controls",
            "_model_module_version": "1.5.0",
            "_model_name": "FloatProgressModel",
            "_view_count": null,
            "_view_module": "@jupyter-widgets/controls",
            "_view_module_version": "1.5.0",
            "_view_name": "ProgressView",
            "bar_style": "success",
            "description": "",
            "description_tooltip": null,
            "layout": "IPY_MODEL_a3c147ac64174da698fd149279b66400",
            "max": 871891,
            "min": 0,
            "orientation": "horizontal",
            "style": "IPY_MODEL_e65a49628ffe4cab9ac9927d123918dc",
            "value": 871891
          }
        },
        "18e82b1d8fb24c88a4fce581cd85bdff": {
          "model_module": "@jupyter-widgets/controls",
          "model_module_version": "1.5.0",
          "model_name": "DescriptionStyleModel",
          "state": {
            "_model_module": "@jupyter-widgets/controls",
            "_model_module_version": "1.5.0",
            "_model_name": "DescriptionStyleModel",
            "_view_count": null,
            "_view_module": "@jupyter-widgets/base",
            "_view_module_version": "1.2.0",
            "_view_name": "StyleView",
            "description_width": ""
          }
        },
        "19681816783d43ff9e1086b8a6e13c08": {
          "model_module": "@jupyter-widgets/base",
          "model_module_version": "1.2.0",
          "model_name": "LayoutModel",
          "state": {
            "_model_module": "@jupyter-widgets/base",
            "_model_module_version": "1.2.0",
            "_model_name": "LayoutModel",
            "_view_count": null,
            "_view_module": "@jupyter-widgets/base",
            "_view_module_version": "1.2.0",
            "_view_name": "LayoutView",
            "align_content": null,
            "align_items": null,
            "align_self": null,
            "border": null,
            "bottom": null,
            "display": null,
            "flex": null,
            "flex_flow": null,
            "grid_area": null,
            "grid_auto_columns": null,
            "grid_auto_flow": null,
            "grid_auto_rows": null,
            "grid_column": null,
            "grid_gap": null,
            "grid_row": null,
            "grid_template_areas": null,
            "grid_template_columns": null,
            "grid_template_rows": null,
            "height": null,
            "justify_content": null,
            "justify_items": null,
            "left": null,
            "margin": null,
            "max_height": null,
            "max_width": null,
            "min_height": null,
            "min_width": null,
            "object_fit": null,
            "object_position": null,
            "order": null,
            "overflow": null,
            "overflow_x": null,
            "overflow_y": null,
            "padding": null,
            "right": null,
            "top": null,
            "visibility": null,
            "width": null
          }
        },
        "1a143190644449bd91fbf21914f0cf25": {
          "model_module": "@jupyter-widgets/controls",
          "model_module_version": "1.5.0",
          "model_name": "DescriptionStyleModel",
          "state": {
            "_model_module": "@jupyter-widgets/controls",
            "_model_module_version": "1.5.0",
            "_model_name": "DescriptionStyleModel",
            "_view_count": null,
            "_view_module": "@jupyter-widgets/base",
            "_view_module_version": "1.2.0",
            "_view_name": "StyleView",
            "description_width": ""
          }
        },
        "1ad01e12978e4693ad550818a44255cb": {
          "model_module": "@jupyter-widgets/controls",
          "model_module_version": "1.5.0",
          "model_name": "ProgressStyleModel",
          "state": {
            "_model_module": "@jupyter-widgets/controls",
            "_model_module_version": "1.5.0",
            "_model_name": "ProgressStyleModel",
            "_view_count": null,
            "_view_module": "@jupyter-widgets/base",
            "_view_module_version": "1.2.0",
            "_view_name": "StyleView",
            "bar_color": null,
            "description_width": ""
          }
        },
        "1b36c410055b46cdb6a523b37fed1ba2": {
          "model_module": "@jupyter-widgets/controls",
          "model_module_version": "1.5.0",
          "model_name": "HTMLModel",
          "state": {
            "_dom_classes": [],
            "_model_module": "@jupyter-widgets/controls",
            "_model_module_version": "1.5.0",
            "_model_name": "HTMLModel",
            "_view_count": null,
            "_view_module": "@jupyter-widgets/controls",
            "_view_module_version": "1.5.0",
            "_view_name": "HTMLView",
            "description": "",
            "description_tooltip": null,
            "layout": "IPY_MODEL_744415bd6da642aba863fa475146b136",
            "placeholder": "​",
            "style": "IPY_MODEL_3b87eed69dbe469ba68d0816be652475",
            "value": " 2000/2000 [00:00&lt;00:00, 3631.26 examples/s]"
          }
        },
        "1c3c94af61d9430591155ccf4c9fd37b": {
          "model_module": "@jupyter-widgets/controls",
          "model_module_version": "1.5.0",
          "model_name": "ProgressStyleModel",
          "state": {
            "_model_module": "@jupyter-widgets/controls",
            "_model_module_version": "1.5.0",
            "_model_name": "ProgressStyleModel",
            "_view_count": null,
            "_view_module": "@jupyter-widgets/base",
            "_view_module_version": "1.2.0",
            "_view_name": "StyleView",
            "bar_color": null,
            "description_width": ""
          }
        },
        "1e404daa436b43f08a38293c44675d8f": {
          "model_module": "@jupyter-widgets/controls",
          "model_module_version": "1.5.0",
          "model_name": "ProgressStyleModel",
          "state": {
            "_model_module": "@jupyter-widgets/controls",
            "_model_module_version": "1.5.0",
            "_model_name": "ProgressStyleModel",
            "_view_count": null,
            "_view_module": "@jupyter-widgets/base",
            "_view_module_version": "1.2.0",
            "_view_name": "StyleView",
            "bar_color": null,
            "description_width": ""
          }
        },
        "1e5d30f411fd47f6b65b38ec6dcc0ba9": {
          "model_module": "@jupyter-widgets/base",
          "model_module_version": "1.2.0",
          "model_name": "LayoutModel",
          "state": {
            "_model_module": "@jupyter-widgets/base",
            "_model_module_version": "1.2.0",
            "_model_name": "LayoutModel",
            "_view_count": null,
            "_view_module": "@jupyter-widgets/base",
            "_view_module_version": "1.2.0",
            "_view_name": "LayoutView",
            "align_content": null,
            "align_items": null,
            "align_self": null,
            "border": null,
            "bottom": null,
            "display": null,
            "flex": null,
            "flex_flow": null,
            "grid_area": null,
            "grid_auto_columns": null,
            "grid_auto_flow": null,
            "grid_auto_rows": null,
            "grid_column": null,
            "grid_gap": null,
            "grid_row": null,
            "grid_template_areas": null,
            "grid_template_columns": null,
            "grid_template_rows": null,
            "height": null,
            "justify_content": null,
            "justify_items": null,
            "left": null,
            "margin": null,
            "max_height": null,
            "max_width": null,
            "min_height": null,
            "min_width": null,
            "object_fit": null,
            "object_position": null,
            "order": null,
            "overflow": null,
            "overflow_x": null,
            "overflow_y": null,
            "padding": null,
            "right": null,
            "top": null,
            "visibility": null,
            "width": null
          }
        },
        "1fb33286fd814b67a2932c28f447ed20": {
          "model_module": "@jupyter-widgets/controls",
          "model_module_version": "1.5.0",
          "model_name": "FloatProgressModel",
          "state": {
            "_dom_classes": [],
            "_model_module": "@jupyter-widgets/controls",
            "_model_module_version": "1.5.0",
            "_model_name": "FloatProgressModel",
            "_view_count": null,
            "_view_module": "@jupyter-widgets/controls",
            "_view_module_version": "1.5.0",
            "_view_name": "ProgressView",
            "bar_style": "success",
            "description": "",
            "description_tooltip": null,
            "layout": "IPY_MODEL_fed9612232e74420b4e816ee172241c8",
            "max": 466062,
            "min": 0,
            "orientation": "horizontal",
            "style": "IPY_MODEL_e4ced55af59242aca563266ee2bd6920",
            "value": 466062
          }
        },
        "23890bce62fc47e08bb0a9cf8c1975ea": {
          "model_module": "@jupyter-widgets/base",
          "model_module_version": "1.2.0",
          "model_name": "LayoutModel",
          "state": {
            "_model_module": "@jupyter-widgets/base",
            "_model_module_version": "1.2.0",
            "_model_name": "LayoutModel",
            "_view_count": null,
            "_view_module": "@jupyter-widgets/base",
            "_view_module_version": "1.2.0",
            "_view_name": "LayoutView",
            "align_content": null,
            "align_items": null,
            "align_self": null,
            "border": null,
            "bottom": null,
            "display": null,
            "flex": null,
            "flex_flow": null,
            "grid_area": null,
            "grid_auto_columns": null,
            "grid_auto_flow": null,
            "grid_auto_rows": null,
            "grid_column": null,
            "grid_gap": null,
            "grid_row": null,
            "grid_template_areas": null,
            "grid_template_columns": null,
            "grid_template_rows": null,
            "height": null,
            "justify_content": null,
            "justify_items": null,
            "left": null,
            "margin": null,
            "max_height": null,
            "max_width": null,
            "min_height": null,
            "min_width": null,
            "object_fit": null,
            "object_position": null,
            "order": null,
            "overflow": null,
            "overflow_x": null,
            "overflow_y": null,
            "padding": null,
            "right": null,
            "top": null,
            "visibility": null,
            "width": null
          }
        },
        "243c057413764bbfba5ae2b333d6c5d2": {
          "model_module": "@jupyter-widgets/controls",
          "model_module_version": "1.5.0",
          "model_name": "FloatProgressModel",
          "state": {
            "_dom_classes": [],
            "_model_module": "@jupyter-widgets/controls",
            "_model_module_version": "1.5.0",
            "_model_name": "FloatProgressModel",
            "_view_count": null,
            "_view_module": "@jupyter-widgets/controls",
            "_view_module_version": "1.5.0",
            "_view_name": "ProgressView",
            "bar_style": "success",
            "description": "",
            "description_tooltip": null,
            "layout": "IPY_MODEL_b2d5824636bd4b2395d2beac78d8743e",
            "max": 1600,
            "min": 0,
            "orientation": "horizontal",
            "style": "IPY_MODEL_ad9f93e9d55842f1851fede41cc4782e",
            "value": 1600
          }
        },
        "2627c86280444dea98d1a00668e26d2f": {
          "model_module": "@jupyter-widgets/controls",
          "model_module_version": "1.5.0",
          "model_name": "HTMLModel",
          "state": {
            "_dom_classes": [],
            "_model_module": "@jupyter-widgets/controls",
            "_model_module_version": "1.5.0",
            "_model_name": "HTMLModel",
            "_view_count": null,
            "_view_module": "@jupyter-widgets/controls",
            "_view_module_version": "1.5.0",
            "_view_name": "HTMLView",
            "description": "",
            "description_tooltip": null,
            "layout": "IPY_MODEL_dbfec208f0b2489ab69c9f43adffb642",
            "placeholder": "​",
            "style": "IPY_MODEL_cbf3a55b38a5481c81b782e7ab36ccd8",
            "value": " 872k/872k [00:00&lt;00:00, 4.49MB/s]"
          }
        },
        "2a06acfb4d6943269723d137e17d3c6e": {
          "model_module": "@jupyter-widgets/controls",
          "model_module_version": "1.5.0",
          "model_name": "HBoxModel",
          "state": {
            "_dom_classes": [],
            "_model_module": "@jupyter-widgets/controls",
            "_model_module_version": "1.5.0",
            "_model_name": "HBoxModel",
            "_view_count": null,
            "_view_module": "@jupyter-widgets/controls",
            "_view_module_version": "1.5.0",
            "_view_name": "HBoxView",
            "box_style": "",
            "children": [
              "IPY_MODEL_bfa119feef8048ccbef709b9e5e3161a",
              "IPY_MODEL_b49aaaeb42c04717bcd1ba8647008aa0",
              "IPY_MODEL_de06d097e7df4c2883874837d4e5cbf5"
            ],
            "layout": "IPY_MODEL_a035012adc584d4a92d77b63ccf7ee38"
          }
        },
        "2a9ab3c0b38149438fbb3da75458f5ae": {
          "model_module": "@jupyter-widgets/base",
          "model_module_version": "1.2.0",
          "model_name": "LayoutModel",
          "state": {
            "_model_module": "@jupyter-widgets/base",
            "_model_module_version": "1.2.0",
            "_model_name": "LayoutModel",
            "_view_count": null,
            "_view_module": "@jupyter-widgets/base",
            "_view_module_version": "1.2.0",
            "_view_name": "LayoutView",
            "align_content": null,
            "align_items": null,
            "align_self": null,
            "border": null,
            "bottom": null,
            "display": null,
            "flex": null,
            "flex_flow": null,
            "grid_area": null,
            "grid_auto_columns": null,
            "grid_auto_flow": null,
            "grid_auto_rows": null,
            "grid_column": null,
            "grid_gap": null,
            "grid_row": null,
            "grid_template_areas": null,
            "grid_template_columns": null,
            "grid_template_rows": null,
            "height": null,
            "justify_content": null,
            "justify_items": null,
            "left": null,
            "margin": null,
            "max_height": null,
            "max_width": null,
            "min_height": null,
            "min_width": null,
            "object_fit": null,
            "object_position": null,
            "order": null,
            "overflow": null,
            "overflow_x": null,
            "overflow_y": null,
            "padding": null,
            "right": null,
            "top": null,
            "visibility": null,
            "width": null
          }
        },
        "2cb7b89788d84a0b961b0d25036b8dcb": {
          "model_module": "@jupyter-widgets/base",
          "model_module_version": "1.2.0",
          "model_name": "LayoutModel",
          "state": {
            "_model_module": "@jupyter-widgets/base",
            "_model_module_version": "1.2.0",
            "_model_name": "LayoutModel",
            "_view_count": null,
            "_view_module": "@jupyter-widgets/base",
            "_view_module_version": "1.2.0",
            "_view_name": "LayoutView",
            "align_content": null,
            "align_items": null,
            "align_self": null,
            "border": null,
            "bottom": null,
            "display": null,
            "flex": null,
            "flex_flow": null,
            "grid_area": null,
            "grid_auto_columns": null,
            "grid_auto_flow": null,
            "grid_auto_rows": null,
            "grid_column": null,
            "grid_gap": null,
            "grid_row": null,
            "grid_template_areas": null,
            "grid_template_columns": null,
            "grid_template_rows": null,
            "height": null,
            "justify_content": null,
            "justify_items": null,
            "left": null,
            "margin": null,
            "max_height": null,
            "max_width": null,
            "min_height": null,
            "min_width": null,
            "object_fit": null,
            "object_position": null,
            "order": null,
            "overflow": null,
            "overflow_x": null,
            "overflow_y": null,
            "padding": null,
            "right": null,
            "top": null,
            "visibility": null,
            "width": null
          }
        },
        "2e005dfb8db44232b29ce3b874df8332": {
          "model_module": "@jupyter-widgets/controls",
          "model_module_version": "1.5.0",
          "model_name": "ProgressStyleModel",
          "state": {
            "_model_module": "@jupyter-widgets/controls",
            "_model_module_version": "1.5.0",
            "_model_name": "ProgressStyleModel",
            "_view_count": null,
            "_view_module": "@jupyter-widgets/base",
            "_view_module_version": "1.2.0",
            "_view_name": "StyleView",
            "bar_color": null,
            "description_width": ""
          }
        },
        "2ec8621588494782a9518ddcf02e7c3f": {
          "model_module": "@jupyter-widgets/controls",
          "model_module_version": "1.5.0",
          "model_name": "HTMLModel",
          "state": {
            "_dom_classes": [],
            "_model_module": "@jupyter-widgets/controls",
            "_model_module_version": "1.5.0",
            "_model_name": "HTMLModel",
            "_view_count": null,
            "_view_module": "@jupyter-widgets/controls",
            "_view_module_version": "1.5.0",
            "_view_name": "HTMLView",
            "description": "",
            "description_tooltip": null,
            "layout": "IPY_MODEL_7f17039d877b4bac83af16f674dee083",
            "placeholder": "​",
            "style": "IPY_MODEL_ed41d3a9444949d4b1ec7ab3c25de468",
            "value": "tokenizer_config.json: 100%"
          }
        },
        "2ffff17c853c435e9e139192a60958df": {
          "model_module": "@jupyter-widgets/controls",
          "model_module_version": "1.5.0",
          "model_name": "DescriptionStyleModel",
          "state": {
            "_model_module": "@jupyter-widgets/controls",
            "_model_module_version": "1.5.0",
            "_model_name": "DescriptionStyleModel",
            "_view_count": null,
            "_view_module": "@jupyter-widgets/base",
            "_view_module_version": "1.2.0",
            "_view_name": "StyleView",
            "description_width": ""
          }
        },
        "32a88b3baf704db6855fb41a78698152": {
          "model_module": "@jupyter-widgets/controls",
          "model_module_version": "1.5.0",
          "model_name": "HBoxModel",
          "state": {
            "_dom_classes": [],
            "_model_module": "@jupyter-widgets/controls",
            "_model_module_version": "1.5.0",
            "_model_name": "HBoxModel",
            "_view_count": null,
            "_view_module": "@jupyter-widgets/controls",
            "_view_module_version": "1.5.0",
            "_view_name": "HBoxView",
            "box_style": "",
            "children": [
              "IPY_MODEL_1457ca16d92344f58359bc37caa0e77e",
              "IPY_MODEL_ece80ada6e684750baa4d0c137ed4747",
              "IPY_MODEL_42ab559065964bab83245cceb95b0dc6"
            ],
            "layout": "IPY_MODEL_137f455a19754085a09632766620572d"
          }
        },
        "33435aecaad14141a8a4aca2f319e449": {
          "model_module": "@jupyter-widgets/base",
          "model_module_version": "1.2.0",
          "model_name": "LayoutModel",
          "state": {
            "_model_module": "@jupyter-widgets/base",
            "_model_module_version": "1.2.0",
            "_model_name": "LayoutModel",
            "_view_count": null,
            "_view_module": "@jupyter-widgets/base",
            "_view_module_version": "1.2.0",
            "_view_name": "LayoutView",
            "align_content": null,
            "align_items": null,
            "align_self": null,
            "border": null,
            "bottom": null,
            "display": null,
            "flex": null,
            "flex_flow": null,
            "grid_area": null,
            "grid_auto_columns": null,
            "grid_auto_flow": null,
            "grid_auto_rows": null,
            "grid_column": null,
            "grid_gap": null,
            "grid_row": null,
            "grid_template_areas": null,
            "grid_template_columns": null,
            "grid_template_rows": null,
            "height": null,
            "justify_content": null,
            "justify_items": null,
            "left": null,
            "margin": null,
            "max_height": null,
            "max_width": null,
            "min_height": null,
            "min_width": null,
            "object_fit": null,
            "object_position": null,
            "order": null,
            "overflow": null,
            "overflow_x": null,
            "overflow_y": null,
            "padding": null,
            "right": null,
            "top": null,
            "visibility": null,
            "width": null
          }
        },
        "336d85f2a9fd457d8dce747c976e872e": {
          "model_module": "@jupyter-widgets/controls",
          "model_module_version": "1.5.0",
          "model_name": "DescriptionStyleModel",
          "state": {
            "_model_module": "@jupyter-widgets/controls",
            "_model_module_version": "1.5.0",
            "_model_name": "DescriptionStyleModel",
            "_view_count": null,
            "_view_module": "@jupyter-widgets/base",
            "_view_module_version": "1.2.0",
            "_view_name": "StyleView",
            "description_width": ""
          }
        },
        "35593dd704c44ba3a13b6e53ba455ebf": {
          "model_module": "@jupyter-widgets/controls",
          "model_module_version": "1.5.0",
          "model_name": "HTMLModel",
          "state": {
            "_dom_classes": [],
            "_model_module": "@jupyter-widgets/controls",
            "_model_module_version": "1.5.0",
            "_model_name": "HTMLModel",
            "_view_count": null,
            "_view_module": "@jupyter-widgets/controls",
            "_view_module_version": "1.5.0",
            "_view_name": "HTMLView",
            "description": "",
            "description_tooltip": null,
            "layout": "IPY_MODEL_7a4153cde18d4724b55f390c913386fa",
            "placeholder": "​",
            "style": "IPY_MODEL_043a677d550c4f3581c3487ab7f8c405",
            "value": " 2255/2255 [00:02&lt;00:00, 782.71 examples/s]"
          }
        },
        "35792827cc8a4780807e073b36e55dda": {
          "model_module": "@jupyter-widgets/controls",
          "model_module_version": "1.5.0",
          "model_name": "HBoxModel",
          "state": {
            "_dom_classes": [],
            "_model_module": "@jupyter-widgets/controls",
            "_model_module_version": "1.5.0",
            "_model_name": "HBoxModel",
            "_view_count": null,
            "_view_module": "@jupyter-widgets/controls",
            "_view_module_version": "1.5.0",
            "_view_name": "HBoxView",
            "box_style": "",
            "children": [
              "IPY_MODEL_a17869190eac4d25b140ae19be0bc1db",
              "IPY_MODEL_8d24ef38418645d89eb7311cf17ff381",
              "IPY_MODEL_c42b3152311841b9b36fa245faba6e28"
            ],
            "layout": "IPY_MODEL_23890bce62fc47e08bb0a9cf8c1975ea"
          }
        },
        "35d34b23624c4799a1af8461c73f595d": {
          "model_module": "@jupyter-widgets/base",
          "model_module_version": "1.2.0",
          "model_name": "LayoutModel",
          "state": {
            "_model_module": "@jupyter-widgets/base",
            "_model_module_version": "1.2.0",
            "_model_name": "LayoutModel",
            "_view_count": null,
            "_view_module": "@jupyter-widgets/base",
            "_view_module_version": "1.2.0",
            "_view_name": "LayoutView",
            "align_content": null,
            "align_items": null,
            "align_self": null,
            "border": null,
            "bottom": null,
            "display": null,
            "flex": null,
            "flex_flow": null,
            "grid_area": null,
            "grid_auto_columns": null,
            "grid_auto_flow": null,
            "grid_auto_rows": null,
            "grid_column": null,
            "grid_gap": null,
            "grid_row": null,
            "grid_template_areas": null,
            "grid_template_columns": null,
            "grid_template_rows": null,
            "height": null,
            "justify_content": null,
            "justify_items": null,
            "left": null,
            "margin": null,
            "max_height": null,
            "max_width": null,
            "min_height": null,
            "min_width": null,
            "object_fit": null,
            "object_position": null,
            "order": null,
            "overflow": null,
            "overflow_x": null,
            "overflow_y": null,
            "padding": null,
            "right": null,
            "top": null,
            "visibility": null,
            "width": null
          }
        },
        "37fb3f3ebb6144eda00e99c9acfed570": {
          "model_module": "@jupyter-widgets/base",
          "model_module_version": "1.2.0",
          "model_name": "LayoutModel",
          "state": {
            "_model_module": "@jupyter-widgets/base",
            "_model_module_version": "1.2.0",
            "_model_name": "LayoutModel",
            "_view_count": null,
            "_view_module": "@jupyter-widgets/base",
            "_view_module_version": "1.2.0",
            "_view_name": "LayoutView",
            "align_content": null,
            "align_items": null,
            "align_self": null,
            "border": null,
            "bottom": null,
            "display": null,
            "flex": null,
            "flex_flow": null,
            "grid_area": null,
            "grid_auto_columns": null,
            "grid_auto_flow": null,
            "grid_auto_rows": null,
            "grid_column": null,
            "grid_gap": null,
            "grid_row": null,
            "grid_template_areas": null,
            "grid_template_columns": null,
            "grid_template_rows": null,
            "height": null,
            "justify_content": null,
            "justify_items": null,
            "left": null,
            "margin": null,
            "max_height": null,
            "max_width": null,
            "min_height": null,
            "min_width": null,
            "object_fit": null,
            "object_position": null,
            "order": null,
            "overflow": null,
            "overflow_x": null,
            "overflow_y": null,
            "padding": null,
            "right": null,
            "top": null,
            "visibility": null,
            "width": null
          }
        },
        "382fd0c33d7a464e8420851626549cda": {
          "model_module": "@jupyter-widgets/base",
          "model_module_version": "1.2.0",
          "model_name": "LayoutModel",
          "state": {
            "_model_module": "@jupyter-widgets/base",
            "_model_module_version": "1.2.0",
            "_model_name": "LayoutModel",
            "_view_count": null,
            "_view_module": "@jupyter-widgets/base",
            "_view_module_version": "1.2.0",
            "_view_name": "LayoutView",
            "align_content": null,
            "align_items": null,
            "align_self": null,
            "border": null,
            "bottom": null,
            "display": null,
            "flex": null,
            "flex_flow": null,
            "grid_area": null,
            "grid_auto_columns": null,
            "grid_auto_flow": null,
            "grid_auto_rows": null,
            "grid_column": null,
            "grid_gap": null,
            "grid_row": null,
            "grid_template_areas": null,
            "grid_template_columns": null,
            "grid_template_rows": null,
            "height": null,
            "justify_content": null,
            "justify_items": null,
            "left": null,
            "margin": null,
            "max_height": null,
            "max_width": null,
            "min_height": null,
            "min_width": null,
            "object_fit": null,
            "object_position": null,
            "order": null,
            "overflow": null,
            "overflow_x": null,
            "overflow_y": null,
            "padding": null,
            "right": null,
            "top": null,
            "visibility": null,
            "width": null
          }
        },
        "39ace5f07f91469d840e8edecfe2e5d3": {
          "model_module": "@jupyter-widgets/base",
          "model_module_version": "1.2.0",
          "model_name": "LayoutModel",
          "state": {
            "_model_module": "@jupyter-widgets/base",
            "_model_module_version": "1.2.0",
            "_model_name": "LayoutModel",
            "_view_count": null,
            "_view_module": "@jupyter-widgets/base",
            "_view_module_version": "1.2.0",
            "_view_name": "LayoutView",
            "align_content": null,
            "align_items": null,
            "align_self": null,
            "border": null,
            "bottom": null,
            "display": null,
            "flex": null,
            "flex_flow": null,
            "grid_area": null,
            "grid_auto_columns": null,
            "grid_auto_flow": null,
            "grid_auto_rows": null,
            "grid_column": null,
            "grid_gap": null,
            "grid_row": null,
            "grid_template_areas": null,
            "grid_template_columns": null,
            "grid_template_rows": null,
            "height": null,
            "justify_content": null,
            "justify_items": null,
            "left": null,
            "margin": null,
            "max_height": null,
            "max_width": null,
            "min_height": null,
            "min_width": null,
            "object_fit": null,
            "object_position": null,
            "order": null,
            "overflow": null,
            "overflow_x": null,
            "overflow_y": null,
            "padding": null,
            "right": null,
            "top": null,
            "visibility": null,
            "width": null
          }
        },
        "3b87eed69dbe469ba68d0816be652475": {
          "model_module": "@jupyter-widgets/controls",
          "model_module_version": "1.5.0",
          "model_name": "DescriptionStyleModel",
          "state": {
            "_model_module": "@jupyter-widgets/controls",
            "_model_module_version": "1.5.0",
            "_model_name": "DescriptionStyleModel",
            "_view_count": null,
            "_view_module": "@jupyter-widgets/base",
            "_view_module_version": "1.2.0",
            "_view_name": "StyleView",
            "description_width": ""
          }
        },
        "3c03dd18676a48708315d9d88c37fe75": {
          "model_module": "@jupyter-widgets/controls",
          "model_module_version": "1.5.0",
          "model_name": "DescriptionStyleModel",
          "state": {
            "_model_module": "@jupyter-widgets/controls",
            "_model_module_version": "1.5.0",
            "_model_name": "DescriptionStyleModel",
            "_view_count": null,
            "_view_module": "@jupyter-widgets/base",
            "_view_module_version": "1.2.0",
            "_view_name": "StyleView",
            "description_width": ""
          }
        },
        "3c9c335715d4489d90f895d2932a983e": {
          "model_module": "@jupyter-widgets/controls",
          "model_module_version": "1.5.0",
          "model_name": "FloatProgressModel",
          "state": {
            "_dom_classes": [],
            "_model_module": "@jupyter-widgets/controls",
            "_model_module_version": "1.5.0",
            "_model_name": "FloatProgressModel",
            "_view_count": null,
            "_view_module": "@jupyter-widgets/controls",
            "_view_module_version": "1.5.0",
            "_view_name": "ProgressView",
            "bar_style": "success",
            "description": "",
            "description_tooltip": null,
            "layout": "IPY_MODEL_4045d6a93baf40fabfc9348573a82c0e",
            "max": 1501,
            "min": 0,
            "orientation": "horizontal",
            "style": "IPY_MODEL_7b95fd110ec34ab9bcc1ba47c1b95ad6",
            "value": 1501
          }
        },
        "3d26185b05624bb0a276a19c03517f5f": {
          "model_module": "@jupyter-widgets/controls",
          "model_module_version": "1.5.0",
          "model_name": "HTMLModel",
          "state": {
            "_dom_classes": [],
            "_model_module": "@jupyter-widgets/controls",
            "_model_module_version": "1.5.0",
            "_model_name": "HTMLModel",
            "_view_count": null,
            "_view_module": "@jupyter-widgets/controls",
            "_view_module_version": "1.5.0",
            "_view_name": "HTMLView",
            "description": "",
            "description_tooltip": null,
            "layout": "IPY_MODEL_fa183ae9f66246169dd34265db7740d0",
            "placeholder": "​",
            "style": "IPY_MODEL_5a0175ab6176471a8db8112e52f34456",
            "value": "Map: 100%"
          }
        },
        "3eb5ed2fcaaf4d789e29338b809e8c89": {
          "model_module": "@jupyter-widgets/controls",
          "model_module_version": "1.5.0",
          "model_name": "DescriptionStyleModel",
          "state": {
            "_model_module": "@jupyter-widgets/controls",
            "_model_module_version": "1.5.0",
            "_model_name": "DescriptionStyleModel",
            "_view_count": null,
            "_view_module": "@jupyter-widgets/base",
            "_view_module_version": "1.2.0",
            "_view_name": "StyleView",
            "description_width": ""
          }
        },
        "3f6a867f750a4d1e8f273f8be753ef39": {
          "model_module": "@jupyter-widgets/controls",
          "model_module_version": "1.5.0",
          "model_name": "HTMLModel",
          "state": {
            "_dom_classes": [],
            "_model_module": "@jupyter-widgets/controls",
            "_model_module_version": "1.5.0",
            "_model_name": "HTMLModel",
            "_view_count": null,
            "_view_module": "@jupyter-widgets/controls",
            "_view_module_version": "1.5.0",
            "_view_name": "HTMLView",
            "description": "",
            "description_tooltip": null,
            "layout": "IPY_MODEL_a2a796840e624effa16bf2f2980ddf80",
            "placeholder": "​",
            "style": "IPY_MODEL_fdd67676be074d2abb51edd242120400",
            "value": "Map: 100%"
          }
        },
        "4045d6a93baf40fabfc9348573a82c0e": {
          "model_module": "@jupyter-widgets/base",
          "model_module_version": "1.2.0",
          "model_name": "LayoutModel",
          "state": {
            "_model_module": "@jupyter-widgets/base",
            "_model_module_version": "1.2.0",
            "_model_name": "LayoutModel",
            "_view_count": null,
            "_view_module": "@jupyter-widgets/base",
            "_view_module_version": "1.2.0",
            "_view_name": "LayoutView",
            "align_content": null,
            "align_items": null,
            "align_self": null,
            "border": null,
            "bottom": null,
            "display": null,
            "flex": null,
            "flex_flow": null,
            "grid_area": null,
            "grid_auto_columns": null,
            "grid_auto_flow": null,
            "grid_auto_rows": null,
            "grid_column": null,
            "grid_gap": null,
            "grid_row": null,
            "grid_template_areas": null,
            "grid_template_columns": null,
            "grid_template_rows": null,
            "height": null,
            "justify_content": null,
            "justify_items": null,
            "left": null,
            "margin": null,
            "max_height": null,
            "max_width": null,
            "min_height": null,
            "min_width": null,
            "object_fit": null,
            "object_position": null,
            "order": null,
            "overflow": null,
            "overflow_x": null,
            "overflow_y": null,
            "padding": null,
            "right": null,
            "top": null,
            "visibility": null,
            "width": null
          }
        },
        "40da2f74cd294ef39038f1d05f3f2fc7": {
          "model_module": "@jupyter-widgets/controls",
          "model_module_version": "1.5.0",
          "model_name": "DescriptionStyleModel",
          "state": {
            "_model_module": "@jupyter-widgets/controls",
            "_model_module_version": "1.5.0",
            "_model_name": "DescriptionStyleModel",
            "_view_count": null,
            "_view_module": "@jupyter-widgets/base",
            "_view_module_version": "1.2.0",
            "_view_name": "StyleView",
            "description_width": ""
          }
        },
        "422276b68516458fae5d0e0872b4a579": {
          "model_module": "@jupyter-widgets/controls",
          "model_module_version": "1.5.0",
          "model_name": "DescriptionStyleModel",
          "state": {
            "_model_module": "@jupyter-widgets/controls",
            "_model_module_version": "1.5.0",
            "_model_name": "DescriptionStyleModel",
            "_view_count": null,
            "_view_module": "@jupyter-widgets/base",
            "_view_module_version": "1.2.0",
            "_view_name": "StyleView",
            "description_width": ""
          }
        },
        "42ab559065964bab83245cceb95b0dc6": {
          "model_module": "@jupyter-widgets/controls",
          "model_module_version": "1.5.0",
          "model_name": "HTMLModel",
          "state": {
            "_dom_classes": [],
            "_model_module": "@jupyter-widgets/controls",
            "_model_module_version": "1.5.0",
            "_model_name": "HTMLModel",
            "_view_count": null,
            "_view_module": "@jupyter-widgets/controls",
            "_view_module_version": "1.5.0",
            "_view_name": "HTMLView",
            "description": "",
            "description_tooltip": null,
            "layout": "IPY_MODEL_c9d9dc39536741828be004cf7d75bbe7",
            "placeholder": "​",
            "style": "IPY_MODEL_f9ecd9d43a60438ea59770ae15f2d3e9",
            "value": " 1501/1501 [00:02&lt;00:00, 738.74 examples/s]"
          }
        },
        "431b20991ad641828e33490d6828fa2c": {
          "model_module": "@jupyter-widgets/base",
          "model_module_version": "1.2.0",
          "model_name": "LayoutModel",
          "state": {
            "_model_module": "@jupyter-widgets/base",
            "_model_module_version": "1.2.0",
            "_model_name": "LayoutModel",
            "_view_count": null,
            "_view_module": "@jupyter-widgets/base",
            "_view_module_version": "1.2.0",
            "_view_name": "LayoutView",
            "align_content": null,
            "align_items": null,
            "align_self": null,
            "border": null,
            "bottom": null,
            "display": null,
            "flex": null,
            "flex_flow": null,
            "grid_area": null,
            "grid_auto_columns": null,
            "grid_auto_flow": null,
            "grid_auto_rows": null,
            "grid_column": null,
            "grid_gap": null,
            "grid_row": null,
            "grid_template_areas": null,
            "grid_template_columns": null,
            "grid_template_rows": null,
            "height": null,
            "justify_content": null,
            "justify_items": null,
            "left": null,
            "margin": null,
            "max_height": null,
            "max_width": null,
            "min_height": null,
            "min_width": null,
            "object_fit": null,
            "object_position": null,
            "order": null,
            "overflow": null,
            "overflow_x": null,
            "overflow_y": null,
            "padding": null,
            "right": null,
            "top": null,
            "visibility": null,
            "width": null
          }
        },
        "44a0f05327ea4e4a90154ee64f2f227f": {
          "model_module": "@jupyter-widgets/controls",
          "model_module_version": "1.5.0",
          "model_name": "DescriptionStyleModel",
          "state": {
            "_model_module": "@jupyter-widgets/controls",
            "_model_module_version": "1.5.0",
            "_model_name": "DescriptionStyleModel",
            "_view_count": null,
            "_view_module": "@jupyter-widgets/base",
            "_view_module_version": "1.2.0",
            "_view_name": "StyleView",
            "description_width": ""
          }
        },
        "463e9c907195430eb2f479d7d50ceccf": {
          "model_module": "@jupyter-widgets/controls",
          "model_module_version": "1.5.0",
          "model_name": "HBoxModel",
          "state": {
            "_dom_classes": [],
            "_model_module": "@jupyter-widgets/controls",
            "_model_module_version": "1.5.0",
            "_model_name": "HBoxModel",
            "_view_count": null,
            "_view_module": "@jupyter-widgets/controls",
            "_view_module_version": "1.5.0",
            "_view_name": "HBoxView",
            "box_style": "",
            "children": [
              "IPY_MODEL_2ec8621588494782a9518ddcf02e7c3f",
              "IPY_MODEL_9da9ea51965d40e88573a1cb468deef6",
              "IPY_MODEL_f0690cd2d1354d449a7126c8d503d7c1"
            ],
            "layout": "IPY_MODEL_edcaf7a87b5948659bedf83e42575010"
          }
        },
        "487ac77dc90d455abedd261b6b92e07e": {
          "model_module": "@jupyter-widgets/controls",
          "model_module_version": "1.5.0",
          "model_name": "HTMLModel",
          "state": {
            "_dom_classes": [],
            "_model_module": "@jupyter-widgets/controls",
            "_model_module_version": "1.5.0",
            "_model_name": "HTMLModel",
            "_view_count": null,
            "_view_module": "@jupyter-widgets/controls",
            "_view_module_version": "1.5.0",
            "_view_name": "HTMLView",
            "description": "",
            "description_tooltip": null,
            "layout": "IPY_MODEL_7fa088ffef51488d81c322500a6e9e47",
            "placeholder": "​",
            "style": "IPY_MODEL_4a63c91042174fb092aea413ff401eae",
            "value": " 268M/268M [00:01&lt;00:00, 222MB/s]"
          }
        },
        "49f97c3dce774ec5ab55ad1e60c461db": {
          "model_module": "@jupyter-widgets/controls",
          "model_module_version": "1.5.0",
          "model_name": "DescriptionStyleModel",
          "state": {
            "_model_module": "@jupyter-widgets/controls",
            "_model_module_version": "1.5.0",
            "_model_name": "DescriptionStyleModel",
            "_view_count": null,
            "_view_module": "@jupyter-widgets/base",
            "_view_module_version": "1.2.0",
            "_view_name": "StyleView",
            "description_width": ""
          }
        },
        "4a63c91042174fb092aea413ff401eae": {
          "model_module": "@jupyter-widgets/controls",
          "model_module_version": "1.5.0",
          "model_name": "DescriptionStyleModel",
          "state": {
            "_model_module": "@jupyter-widgets/controls",
            "_model_module_version": "1.5.0",
            "_model_name": "DescriptionStyleModel",
            "_view_count": null,
            "_view_module": "@jupyter-widgets/base",
            "_view_module_version": "1.2.0",
            "_view_name": "StyleView",
            "description_width": ""
          }
        },
        "4ee2afb90e3b41df9d8322a4c0ba3da8": {
          "model_module": "@jupyter-widgets/base",
          "model_module_version": "1.2.0",
          "model_name": "LayoutModel",
          "state": {
            "_model_module": "@jupyter-widgets/base",
            "_model_module_version": "1.2.0",
            "_model_name": "LayoutModel",
            "_view_count": null,
            "_view_module": "@jupyter-widgets/base",
            "_view_module_version": "1.2.0",
            "_view_name": "LayoutView",
            "align_content": null,
            "align_items": null,
            "align_self": null,
            "border": null,
            "bottom": null,
            "display": null,
            "flex": null,
            "flex_flow": null,
            "grid_area": null,
            "grid_auto_columns": null,
            "grid_auto_flow": null,
            "grid_auto_rows": null,
            "grid_column": null,
            "grid_gap": null,
            "grid_row": null,
            "grid_template_areas": null,
            "grid_template_columns": null,
            "grid_template_rows": null,
            "height": null,
            "justify_content": null,
            "justify_items": null,
            "left": null,
            "margin": null,
            "max_height": null,
            "max_width": null,
            "min_height": null,
            "min_width": null,
            "object_fit": null,
            "object_position": null,
            "order": null,
            "overflow": null,
            "overflow_x": null,
            "overflow_y": null,
            "padding": null,
            "right": null,
            "top": null,
            "visibility": null,
            "width": null
          }
        },
        "4f125ef14dc34c5abe5ba53a9aa5ac02": {
          "model_module": "@jupyter-widgets/base",
          "model_module_version": "1.2.0",
          "model_name": "LayoutModel",
          "state": {
            "_model_module": "@jupyter-widgets/base",
            "_model_module_version": "1.2.0",
            "_model_name": "LayoutModel",
            "_view_count": null,
            "_view_module": "@jupyter-widgets/base",
            "_view_module_version": "1.2.0",
            "_view_name": "LayoutView",
            "align_content": null,
            "align_items": null,
            "align_self": null,
            "border": null,
            "bottom": null,
            "display": null,
            "flex": null,
            "flex_flow": null,
            "grid_area": null,
            "grid_auto_columns": null,
            "grid_auto_flow": null,
            "grid_auto_rows": null,
            "grid_column": null,
            "grid_gap": null,
            "grid_row": null,
            "grid_template_areas": null,
            "grid_template_columns": null,
            "grid_template_rows": null,
            "height": null,
            "justify_content": null,
            "justify_items": null,
            "left": null,
            "margin": null,
            "max_height": null,
            "max_width": null,
            "min_height": null,
            "min_width": null,
            "object_fit": null,
            "object_position": null,
            "order": null,
            "overflow": null,
            "overflow_x": null,
            "overflow_y": null,
            "padding": null,
            "right": null,
            "top": null,
            "visibility": null,
            "width": null
          }
        },
        "51cc9b9174b94cbaa3dbfcee529c0d6a": {
          "model_module": "@jupyter-widgets/controls",
          "model_module_version": "1.5.0",
          "model_name": "HBoxModel",
          "state": {
            "_dom_classes": [],
            "_model_module": "@jupyter-widgets/controls",
            "_model_module_version": "1.5.0",
            "_model_name": "HBoxModel",
            "_view_count": null,
            "_view_module": "@jupyter-widgets/controls",
            "_view_module_version": "1.5.0",
            "_view_name": "HBoxView",
            "box_style": "",
            "children": [
              "IPY_MODEL_d25ae56be4144ba2addfde36a0ce4cdf",
              "IPY_MODEL_3c9c335715d4489d90f895d2932a983e",
              "IPY_MODEL_8b59815dead942f08b9cd5a52ad9c69c"
            ],
            "layout": "IPY_MODEL_8e4f55dfbb344400a3ee1abdbd13e70f"
          }
        },
        "553b595c95374d9d9d1cd87a4e5ad219": {
          "model_module": "@jupyter-widgets/controls",
          "model_module_version": "1.5.0",
          "model_name": "DescriptionStyleModel",
          "state": {
            "_model_module": "@jupyter-widgets/controls",
            "_model_module_version": "1.5.0",
            "_model_name": "DescriptionStyleModel",
            "_view_count": null,
            "_view_module": "@jupyter-widgets/base",
            "_view_module_version": "1.2.0",
            "_view_name": "StyleView",
            "description_width": ""
          }
        },
        "56b94de7c3974b0cb14cdd607fbd647e": {
          "model_module": "@jupyter-widgets/controls",
          "model_module_version": "1.5.0",
          "model_name": "HBoxModel",
          "state": {
            "_dom_classes": [],
            "_model_module": "@jupyter-widgets/controls",
            "_model_module_version": "1.5.0",
            "_model_name": "HBoxModel",
            "_view_count": null,
            "_view_module": "@jupyter-widgets/controls",
            "_view_module_version": "1.5.0",
            "_view_name": "HBoxView",
            "box_style": "",
            "children": [
              "IPY_MODEL_9edb90bb7c97480cafaadbf464ef0359",
              "IPY_MODEL_ddb191138f434697afae66dbedd18ecf",
              "IPY_MODEL_0f70b6ecce39489990390b41752a032d"
            ],
            "layout": "IPY_MODEL_141c97b5444d4edfb0c9d9278b433b62"
          }
        },
        "57458ec692ca4575bd0077c3fd7fd2c1": {
          "model_module": "@jupyter-widgets/controls",
          "model_module_version": "1.5.0",
          "model_name": "DescriptionStyleModel",
          "state": {
            "_model_module": "@jupyter-widgets/controls",
            "_model_module_version": "1.5.0",
            "_model_name": "DescriptionStyleModel",
            "_view_count": null,
            "_view_module": "@jupyter-widgets/base",
            "_view_module_version": "1.2.0",
            "_view_name": "StyleView",
            "description_width": ""
          }
        },
        "57d60a38363e4a1e9ae058515f3218b4": {
          "model_module": "@jupyter-widgets/controls",
          "model_module_version": "1.5.0",
          "model_name": "HBoxModel",
          "state": {
            "_dom_classes": [],
            "_model_module": "@jupyter-widgets/controls",
            "_model_module_version": "1.5.0",
            "_model_name": "HBoxModel",
            "_view_count": null,
            "_view_module": "@jupyter-widgets/controls",
            "_view_module_version": "1.5.0",
            "_view_name": "HBoxView",
            "box_style": "",
            "children": [
              "IPY_MODEL_3d26185b05624bb0a276a19c03517f5f",
              "IPY_MODEL_ccebc02127594d70839c42e68e2ed4c1",
              "IPY_MODEL_7d13f5dcb2c041b5ba00cc53f4e437da"
            ],
            "layout": "IPY_MODEL_a1257e2e02b5416e953ed57655feb155"
          }
        },
        "5a0175ab6176471a8db8112e52f34456": {
          "model_module": "@jupyter-widgets/controls",
          "model_module_version": "1.5.0",
          "model_name": "DescriptionStyleModel",
          "state": {
            "_model_module": "@jupyter-widgets/controls",
            "_model_module_version": "1.5.0",
            "_model_name": "DescriptionStyleModel",
            "_view_count": null,
            "_view_module": "@jupyter-widgets/base",
            "_view_module_version": "1.2.0",
            "_view_name": "StyleView",
            "description_width": ""
          }
        },
        "5e288653e4b24819bf7eceff530cc2a1": {
          "model_module": "@jupyter-widgets/controls",
          "model_module_version": "1.5.0",
          "model_name": "HBoxModel",
          "state": {
            "_dom_classes": [],
            "_model_module": "@jupyter-widgets/controls",
            "_model_module_version": "1.5.0",
            "_model_name": "HBoxModel",
            "_view_count": null,
            "_view_module": "@jupyter-widgets/controls",
            "_view_module_version": "1.5.0",
            "_view_name": "HBoxView",
            "box_style": "",
            "children": [
              "IPY_MODEL_fa513303d6b243c09f31f46415f6975a",
              "IPY_MODEL_caf96a9ed62e4e3593f09882bd14b1d0",
              "IPY_MODEL_8102b84811bd4721a0dfca382ef1a1a4"
            ],
            "layout": "IPY_MODEL_a44dcb49054b493da133cefce5202083"
          }
        },
        "5fc8775264e24451b76d0e9123f95489": {
          "model_module": "@jupyter-widgets/base",
          "model_module_version": "1.2.0",
          "model_name": "LayoutModel",
          "state": {
            "_model_module": "@jupyter-widgets/base",
            "_model_module_version": "1.2.0",
            "_model_name": "LayoutModel",
            "_view_count": null,
            "_view_module": "@jupyter-widgets/base",
            "_view_module_version": "1.2.0",
            "_view_name": "LayoutView",
            "align_content": null,
            "align_items": null,
            "align_self": null,
            "border": null,
            "bottom": null,
            "display": null,
            "flex": null,
            "flex_flow": null,
            "grid_area": null,
            "grid_auto_columns": null,
            "grid_auto_flow": null,
            "grid_auto_rows": null,
            "grid_column": null,
            "grid_gap": null,
            "grid_row": null,
            "grid_template_areas": null,
            "grid_template_columns": null,
            "grid_template_rows": null,
            "height": null,
            "justify_content": null,
            "justify_items": null,
            "left": null,
            "margin": null,
            "max_height": null,
            "max_width": null,
            "min_height": null,
            "min_width": null,
            "object_fit": null,
            "object_position": null,
            "order": null,
            "overflow": null,
            "overflow_x": null,
            "overflow_y": null,
            "padding": null,
            "right": null,
            "top": null,
            "visibility": null,
            "width": null
          }
        },
        "61e84f48273d4eefb6bdabb1021f39c6": {
          "model_module": "@jupyter-widgets/base",
          "model_module_version": "1.2.0",
          "model_name": "LayoutModel",
          "state": {
            "_model_module": "@jupyter-widgets/base",
            "_model_module_version": "1.2.0",
            "_model_name": "LayoutModel",
            "_view_count": null,
            "_view_module": "@jupyter-widgets/base",
            "_view_module_version": "1.2.0",
            "_view_name": "LayoutView",
            "align_content": null,
            "align_items": null,
            "align_self": null,
            "border": null,
            "bottom": null,
            "display": null,
            "flex": null,
            "flex_flow": null,
            "grid_area": null,
            "grid_auto_columns": null,
            "grid_auto_flow": null,
            "grid_auto_rows": null,
            "grid_column": null,
            "grid_gap": null,
            "grid_row": null,
            "grid_template_areas": null,
            "grid_template_columns": null,
            "grid_template_rows": null,
            "height": null,
            "justify_content": null,
            "justify_items": null,
            "left": null,
            "margin": null,
            "max_height": null,
            "max_width": null,
            "min_height": null,
            "min_width": null,
            "object_fit": null,
            "object_position": null,
            "order": null,
            "overflow": null,
            "overflow_x": null,
            "overflow_y": null,
            "padding": null,
            "right": null,
            "top": null,
            "visibility": null,
            "width": null
          }
        },
        "62000ae009224c13a83b521ece49ef39": {
          "model_module": "@jupyter-widgets/controls",
          "model_module_version": "1.5.0",
          "model_name": "DescriptionStyleModel",
          "state": {
            "_model_module": "@jupyter-widgets/controls",
            "_model_module_version": "1.5.0",
            "_model_name": "DescriptionStyleModel",
            "_view_count": null,
            "_view_module": "@jupyter-widgets/base",
            "_view_module_version": "1.2.0",
            "_view_name": "StyleView",
            "description_width": ""
          }
        },
        "62a7cc26980b44539fecf7ded065f20e": {
          "model_module": "@jupyter-widgets/controls",
          "model_module_version": "1.5.0",
          "model_name": "ProgressStyleModel",
          "state": {
            "_model_module": "@jupyter-widgets/controls",
            "_model_module_version": "1.5.0",
            "_model_name": "ProgressStyleModel",
            "_view_count": null,
            "_view_module": "@jupyter-widgets/base",
            "_view_module_version": "1.2.0",
            "_view_name": "StyleView",
            "bar_color": null,
            "description_width": ""
          }
        },
        "62ec4ca280c64a60bd2b1ae15640ff84": {
          "model_module": "@jupyter-widgets/controls",
          "model_module_version": "1.5.0",
          "model_name": "HBoxModel",
          "state": {
            "_dom_classes": [],
            "_model_module": "@jupyter-widgets/controls",
            "_model_module_version": "1.5.0",
            "_model_name": "HBoxModel",
            "_view_count": null,
            "_view_module": "@jupyter-widgets/controls",
            "_view_module_version": "1.5.0",
            "_view_name": "HBoxView",
            "box_style": "",
            "children": [
              "IPY_MODEL_808dc2b5d8f74a83bc1ea093c3f97647",
              "IPY_MODEL_7e9da25d833a47f18517996724211993",
              "IPY_MODEL_9aab7c9b01f34708a433d04432417e63"
            ],
            "layout": "IPY_MODEL_35d34b23624c4799a1af8461c73f595d"
          }
        },
        "650e6d9f38c842f8996fa9974518810a": {
          "model_module": "@jupyter-widgets/base",
          "model_module_version": "1.2.0",
          "model_name": "LayoutModel",
          "state": {
            "_model_module": "@jupyter-widgets/base",
            "_model_module_version": "1.2.0",
            "_model_name": "LayoutModel",
            "_view_count": null,
            "_view_module": "@jupyter-widgets/base",
            "_view_module_version": "1.2.0",
            "_view_name": "LayoutView",
            "align_content": null,
            "align_items": null,
            "align_self": null,
            "border": null,
            "bottom": null,
            "display": null,
            "flex": null,
            "flex_flow": null,
            "grid_area": null,
            "grid_auto_columns": null,
            "grid_auto_flow": null,
            "grid_auto_rows": null,
            "grid_column": null,
            "grid_gap": null,
            "grid_row": null,
            "grid_template_areas": null,
            "grid_template_columns": null,
            "grid_template_rows": null,
            "height": null,
            "justify_content": null,
            "justify_items": null,
            "left": null,
            "margin": null,
            "max_height": null,
            "max_width": null,
            "min_height": null,
            "min_width": null,
            "object_fit": null,
            "object_position": null,
            "order": null,
            "overflow": null,
            "overflow_x": null,
            "overflow_y": null,
            "padding": null,
            "right": null,
            "top": null,
            "visibility": null,
            "width": null
          }
        },
        "657771665d05418c80b3bf82fcec9133": {
          "model_module": "@jupyter-widgets/controls",
          "model_module_version": "1.5.0",
          "model_name": "HTMLModel",
          "state": {
            "_dom_classes": [],
            "_model_module": "@jupyter-widgets/controls",
            "_model_module_version": "1.5.0",
            "_model_name": "HTMLModel",
            "_view_count": null,
            "_view_module": "@jupyter-widgets/controls",
            "_view_module_version": "1.5.0",
            "_view_name": "HTMLView",
            "description": "",
            "description_tooltip": null,
            "layout": "IPY_MODEL_cdcb04f217a849e8897835285bcc07f3",
            "placeholder": "​",
            "style": "IPY_MODEL_14b3085458a543f1a72644b01900e0ff",
            "value": "tokenizer.json: 100%"
          }
        },
        "658aadcb32564e22aaaa6c938e4b6798": {
          "model_module": "@jupyter-widgets/base",
          "model_module_version": "1.2.0",
          "model_name": "LayoutModel",
          "state": {
            "_model_module": "@jupyter-widgets/base",
            "_model_module_version": "1.2.0",
            "_model_name": "LayoutModel",
            "_view_count": null,
            "_view_module": "@jupyter-widgets/base",
            "_view_module_version": "1.2.0",
            "_view_name": "LayoutView",
            "align_content": null,
            "align_items": null,
            "align_self": null,
            "border": null,
            "bottom": null,
            "display": null,
            "flex": null,
            "flex_flow": null,
            "grid_area": null,
            "grid_auto_columns": null,
            "grid_auto_flow": null,
            "grid_auto_rows": null,
            "grid_column": null,
            "grid_gap": null,
            "grid_row": null,
            "grid_template_areas": null,
            "grid_template_columns": null,
            "grid_template_rows": null,
            "height": null,
            "justify_content": null,
            "justify_items": null,
            "left": null,
            "margin": null,
            "max_height": null,
            "max_width": null,
            "min_height": null,
            "min_width": null,
            "object_fit": null,
            "object_position": null,
            "order": null,
            "overflow": null,
            "overflow_x": null,
            "overflow_y": null,
            "padding": null,
            "right": null,
            "top": null,
            "visibility": null,
            "width": null
          }
        },
        "69bf95b5836b4b85ae56268b14c526d0": {
          "model_module": "@jupyter-widgets/controls",
          "model_module_version": "1.5.0",
          "model_name": "HTMLModel",
          "state": {
            "_dom_classes": [],
            "_model_module": "@jupyter-widgets/controls",
            "_model_module_version": "1.5.0",
            "_model_name": "HTMLModel",
            "_view_count": null,
            "_view_module": "@jupyter-widgets/controls",
            "_view_module_version": "1.5.0",
            "_view_name": "HTMLView",
            "description": "",
            "description_tooltip": null,
            "layout": "IPY_MODEL_da0bf094e10f49fe874c1184ca872163",
            "placeholder": "​",
            "style": "IPY_MODEL_00861dadfc3e408fb3fd88bf00fbbcef",
            "value": " 4076/4076 [00:00&lt;00:00, 4786.11 examples/s]"
          }
        },
        "6b8e3589fea24e0f95bb4a7ec2a40521": {
          "model_module": "@jupyter-widgets/controls",
          "model_module_version": "1.5.0",
          "model_name": "HBoxModel",
          "state": {
            "_dom_classes": [],
            "_model_module": "@jupyter-widgets/controls",
            "_model_module_version": "1.5.0",
            "_model_name": "HBoxModel",
            "_view_count": null,
            "_view_module": "@jupyter-widgets/controls",
            "_view_module_version": "1.5.0",
            "_view_name": "HBoxView",
            "box_style": "",
            "children": [
              "IPY_MODEL_7c1c1549b8d147b4bf816f650e95346b",
              "IPY_MODEL_c8cc57d51fc74d07bbac44c2cd4a84a9",
              "IPY_MODEL_1b36c410055b46cdb6a523b37fed1ba2"
            ],
            "layout": "IPY_MODEL_b216186c6c5b4fb79036d43ccecdebed"
          }
        },
        "6b977790a84a49358da3a570fa9ef239": {
          "model_module": "@jupyter-widgets/controls",
          "model_module_version": "1.5.0",
          "model_name": "DescriptionStyleModel",
          "state": {
            "_model_module": "@jupyter-widgets/controls",
            "_model_module_version": "1.5.0",
            "_model_name": "DescriptionStyleModel",
            "_view_count": null,
            "_view_module": "@jupyter-widgets/base",
            "_view_module_version": "1.2.0",
            "_view_name": "StyleView",
            "description_width": ""
          }
        },
        "7209a277341e4028afcfaa9430fc7ac3": {
          "model_module": "@jupyter-widgets/controls",
          "model_module_version": "1.5.0",
          "model_name": "HTMLModel",
          "state": {
            "_dom_classes": [],
            "_model_module": "@jupyter-widgets/controls",
            "_model_module_version": "1.5.0",
            "_model_name": "HTMLModel",
            "_view_count": null,
            "_view_module": "@jupyter-widgets/controls",
            "_view_module_version": "1.5.0",
            "_view_name": "HTMLView",
            "description": "",
            "description_tooltip": null,
            "layout": "IPY_MODEL_e0cddf4396884530b5970ae2658ad10e",
            "placeholder": "​",
            "style": "IPY_MODEL_18e82b1d8fb24c88a4fce581cd85bdff",
            "value": " 466k/466k [00:00&lt;00:00, 16.9MB/s]"
          }
        },
        "744415bd6da642aba863fa475146b136": {
          "model_module": "@jupyter-widgets/base",
          "model_module_version": "1.2.0",
          "model_name": "LayoutModel",
          "state": {
            "_model_module": "@jupyter-widgets/base",
            "_model_module_version": "1.2.0",
            "_model_name": "LayoutModel",
            "_view_count": null,
            "_view_module": "@jupyter-widgets/base",
            "_view_module_version": "1.2.0",
            "_view_name": "LayoutView",
            "align_content": null,
            "align_items": null,
            "align_self": null,
            "border": null,
            "bottom": null,
            "display": null,
            "flex": null,
            "flex_flow": null,
            "grid_area": null,
            "grid_auto_columns": null,
            "grid_auto_flow": null,
            "grid_auto_rows": null,
            "grid_column": null,
            "grid_gap": null,
            "grid_row": null,
            "grid_template_areas": null,
            "grid_template_columns": null,
            "grid_template_rows": null,
            "height": null,
            "justify_content": null,
            "justify_items": null,
            "left": null,
            "margin": null,
            "max_height": null,
            "max_width": null,
            "min_height": null,
            "min_width": null,
            "object_fit": null,
            "object_position": null,
            "order": null,
            "overflow": null,
            "overflow_x": null,
            "overflow_y": null,
            "padding": null,
            "right": null,
            "top": null,
            "visibility": null,
            "width": null
          }
        },
        "7491e2731dbd42e4a8bbbefe766bcad1": {
          "model_module": "@jupyter-widgets/controls",
          "model_module_version": "1.5.0",
          "model_name": "ProgressStyleModel",
          "state": {
            "_model_module": "@jupyter-widgets/controls",
            "_model_module_version": "1.5.0",
            "_model_name": "ProgressStyleModel",
            "_view_count": null,
            "_view_module": "@jupyter-widgets/base",
            "_view_module_version": "1.2.0",
            "_view_name": "StyleView",
            "bar_color": null,
            "description_width": ""
          }
        },
        "754532c40fee42aeb6592806209d2770": {
          "model_module": "@jupyter-widgets/controls",
          "model_module_version": "1.5.0",
          "model_name": "DescriptionStyleModel",
          "state": {
            "_model_module": "@jupyter-widgets/controls",
            "_model_module_version": "1.5.0",
            "_model_name": "DescriptionStyleModel",
            "_view_count": null,
            "_view_module": "@jupyter-widgets/base",
            "_view_module_version": "1.2.0",
            "_view_name": "StyleView",
            "description_width": ""
          }
        },
        "77b697b8cc7c405bbfb85562a18e9bd6": {
          "model_module": "@jupyter-widgets/controls",
          "model_module_version": "1.5.0",
          "model_name": "FloatProgressModel",
          "state": {
            "_dom_classes": [],
            "_model_module": "@jupyter-widgets/controls",
            "_model_module_version": "1.5.0",
            "_model_name": "FloatProgressModel",
            "_view_count": null,
            "_view_module": "@jupyter-widgets/controls",
            "_view_module_version": "1.5.0",
            "_view_name": "ProgressView",
            "bar_style": "success",
            "description": "",
            "description_tooltip": null,
            "layout": "IPY_MODEL_cf82468ae9fc4caa8590293387cf0753",
            "max": 267954768,
            "min": 0,
            "orientation": "horizontal",
            "style": "IPY_MODEL_d5eb0110f78d4a88968b8be580d367d7",
            "value": 267954768
          }
        },
        "78c180cfba094935a72fcb5da34529bd": {
          "model_module": "@jupyter-widgets/base",
          "model_module_version": "1.2.0",
          "model_name": "LayoutModel",
          "state": {
            "_model_module": "@jupyter-widgets/base",
            "_model_module_version": "1.2.0",
            "_model_name": "LayoutModel",
            "_view_count": null,
            "_view_module": "@jupyter-widgets/base",
            "_view_module_version": "1.2.0",
            "_view_name": "LayoutView",
            "align_content": null,
            "align_items": null,
            "align_self": null,
            "border": null,
            "bottom": null,
            "display": null,
            "flex": null,
            "flex_flow": null,
            "grid_area": null,
            "grid_auto_columns": null,
            "grid_auto_flow": null,
            "grid_auto_rows": null,
            "grid_column": null,
            "grid_gap": null,
            "grid_row": null,
            "grid_template_areas": null,
            "grid_template_columns": null,
            "grid_template_rows": null,
            "height": null,
            "justify_content": null,
            "justify_items": null,
            "left": null,
            "margin": null,
            "max_height": null,
            "max_width": null,
            "min_height": null,
            "min_width": null,
            "object_fit": null,
            "object_position": null,
            "order": null,
            "overflow": null,
            "overflow_x": null,
            "overflow_y": null,
            "padding": null,
            "right": null,
            "top": null,
            "visibility": null,
            "width": null
          }
        },
        "7a36b45fb27845f1951c9ddc77fd4c89": {
          "model_module": "@jupyter-widgets/base",
          "model_module_version": "1.2.0",
          "model_name": "LayoutModel",
          "state": {
            "_model_module": "@jupyter-widgets/base",
            "_model_module_version": "1.2.0",
            "_model_name": "LayoutModel",
            "_view_count": null,
            "_view_module": "@jupyter-widgets/base",
            "_view_module_version": "1.2.0",
            "_view_name": "LayoutView",
            "align_content": null,
            "align_items": null,
            "align_self": null,
            "border": null,
            "bottom": null,
            "display": null,
            "flex": null,
            "flex_flow": null,
            "grid_area": null,
            "grid_auto_columns": null,
            "grid_auto_flow": null,
            "grid_auto_rows": null,
            "grid_column": null,
            "grid_gap": null,
            "grid_row": null,
            "grid_template_areas": null,
            "grid_template_columns": null,
            "grid_template_rows": null,
            "height": null,
            "justify_content": null,
            "justify_items": null,
            "left": null,
            "margin": null,
            "max_height": null,
            "max_width": null,
            "min_height": null,
            "min_width": null,
            "object_fit": null,
            "object_position": null,
            "order": null,
            "overflow": null,
            "overflow_x": null,
            "overflow_y": null,
            "padding": null,
            "right": null,
            "top": null,
            "visibility": null,
            "width": null
          }
        },
        "7a4153cde18d4724b55f390c913386fa": {
          "model_module": "@jupyter-widgets/base",
          "model_module_version": "1.2.0",
          "model_name": "LayoutModel",
          "state": {
            "_model_module": "@jupyter-widgets/base",
            "_model_module_version": "1.2.0",
            "_model_name": "LayoutModel",
            "_view_count": null,
            "_view_module": "@jupyter-widgets/base",
            "_view_module_version": "1.2.0",
            "_view_name": "LayoutView",
            "align_content": null,
            "align_items": null,
            "align_self": null,
            "border": null,
            "bottom": null,
            "display": null,
            "flex": null,
            "flex_flow": null,
            "grid_area": null,
            "grid_auto_columns": null,
            "grid_auto_flow": null,
            "grid_auto_rows": null,
            "grid_column": null,
            "grid_gap": null,
            "grid_row": null,
            "grid_template_areas": null,
            "grid_template_columns": null,
            "grid_template_rows": null,
            "height": null,
            "justify_content": null,
            "justify_items": null,
            "left": null,
            "margin": null,
            "max_height": null,
            "max_width": null,
            "min_height": null,
            "min_width": null,
            "object_fit": null,
            "object_position": null,
            "order": null,
            "overflow": null,
            "overflow_x": null,
            "overflow_y": null,
            "padding": null,
            "right": null,
            "top": null,
            "visibility": null,
            "width": null
          }
        },
        "7b4cb007344d4b0a95194f45de90111b": {
          "model_module": "@jupyter-widgets/controls",
          "model_module_version": "1.5.0",
          "model_name": "ProgressStyleModel",
          "state": {
            "_model_module": "@jupyter-widgets/controls",
            "_model_module_version": "1.5.0",
            "_model_name": "ProgressStyleModel",
            "_view_count": null,
            "_view_module": "@jupyter-widgets/base",
            "_view_module_version": "1.2.0",
            "_view_name": "StyleView",
            "bar_color": null,
            "description_width": ""
          }
        },
        "7b95fd110ec34ab9bcc1ba47c1b95ad6": {
          "model_module": "@jupyter-widgets/controls",
          "model_module_version": "1.5.0",
          "model_name": "ProgressStyleModel",
          "state": {
            "_model_module": "@jupyter-widgets/controls",
            "_model_module_version": "1.5.0",
            "_model_name": "ProgressStyleModel",
            "_view_count": null,
            "_view_module": "@jupyter-widgets/base",
            "_view_module_version": "1.2.0",
            "_view_name": "StyleView",
            "bar_color": null,
            "description_width": ""
          }
        },
        "7bdc22484b5d4ff38fc8a62fa489956a": {
          "model_module": "@jupyter-widgets/controls",
          "model_module_version": "1.5.0",
          "model_name": "DescriptionStyleModel",
          "state": {
            "_model_module": "@jupyter-widgets/controls",
            "_model_module_version": "1.5.0",
            "_model_name": "DescriptionStyleModel",
            "_view_count": null,
            "_view_module": "@jupyter-widgets/base",
            "_view_module_version": "1.2.0",
            "_view_name": "StyleView",
            "description_width": ""
          }
        },
        "7c0dbc2075e44574bbf2e7b50770d3f5": {
          "model_module": "@jupyter-widgets/base",
          "model_module_version": "1.2.0",
          "model_name": "LayoutModel",
          "state": {
            "_model_module": "@jupyter-widgets/base",
            "_model_module_version": "1.2.0",
            "_model_name": "LayoutModel",
            "_view_count": null,
            "_view_module": "@jupyter-widgets/base",
            "_view_module_version": "1.2.0",
            "_view_name": "LayoutView",
            "align_content": null,
            "align_items": null,
            "align_self": null,
            "border": null,
            "bottom": null,
            "display": null,
            "flex": null,
            "flex_flow": null,
            "grid_area": null,
            "grid_auto_columns": null,
            "grid_auto_flow": null,
            "grid_auto_rows": null,
            "grid_column": null,
            "grid_gap": null,
            "grid_row": null,
            "grid_template_areas": null,
            "grid_template_columns": null,
            "grid_template_rows": null,
            "height": null,
            "justify_content": null,
            "justify_items": null,
            "left": null,
            "margin": null,
            "max_height": null,
            "max_width": null,
            "min_height": null,
            "min_width": null,
            "object_fit": null,
            "object_position": null,
            "order": null,
            "overflow": null,
            "overflow_x": null,
            "overflow_y": null,
            "padding": null,
            "right": null,
            "top": null,
            "visibility": null,
            "width": null
          }
        },
        "7c1c1549b8d147b4bf816f650e95346b": {
          "model_module": "@jupyter-widgets/controls",
          "model_module_version": "1.5.0",
          "model_name": "HTMLModel",
          "state": {
            "_dom_classes": [],
            "_model_module": "@jupyter-widgets/controls",
            "_model_module_version": "1.5.0",
            "_model_name": "HTMLModel",
            "_view_count": null,
            "_view_module": "@jupyter-widgets/controls",
            "_view_module_version": "1.5.0",
            "_view_name": "HTMLView",
            "description": "",
            "description_tooltip": null,
            "layout": "IPY_MODEL_d31de216f90747968e99b9f6f7196a73",
            "placeholder": "​",
            "style": "IPY_MODEL_084e222d81174b9597b855cb058c3a78",
            "value": "Map: 100%"
          }
        },
        "7d13f5dcb2c041b5ba00cc53f4e437da": {
          "model_module": "@jupyter-widgets/controls",
          "model_module_version": "1.5.0",
          "model_name": "HTMLModel",
          "state": {
            "_dom_classes": [],
            "_model_module": "@jupyter-widgets/controls",
            "_model_module_version": "1.5.0",
            "_model_name": "HTMLModel",
            "_view_count": null,
            "_view_module": "@jupyter-widgets/controls",
            "_view_module_version": "1.5.0",
            "_view_name": "HTMLView",
            "description": "",
            "description_tooltip": null,
            "layout": "IPY_MODEL_382fd0c33d7a464e8420851626549cda",
            "placeholder": "​",
            "style": "IPY_MODEL_dd7cb96078b84f9da51bd94b8265b95d",
            "value": " 6400/6400 [00:02&lt;00:00, 2692.31 examples/s]"
          }
        },
        "7e9da25d833a47f18517996724211993": {
          "model_module": "@jupyter-widgets/controls",
          "model_module_version": "1.5.0",
          "model_name": "FloatProgressModel",
          "state": {
            "_dom_classes": [],
            "_model_module": "@jupyter-widgets/controls",
            "_model_module_version": "1.5.0",
            "_model_name": "FloatProgressModel",
            "_view_count": null,
            "_view_module": "@jupyter-widgets/controls",
            "_view_module_version": "1.5.0",
            "_view_name": "ProgressView",
            "bar_style": "success",
            "description": "",
            "description_tooltip": null,
            "layout": "IPY_MODEL_8c5bdd6c41654a72856dc0cc98a142fa",
            "max": 1725,
            "min": 0,
            "orientation": "horizontal",
            "style": "IPY_MODEL_a9c650b7a6d84572b1356c61ed53f86f",
            "value": 1725
          }
        },
        "7f17039d877b4bac83af16f674dee083": {
          "model_module": "@jupyter-widgets/base",
          "model_module_version": "1.2.0",
          "model_name": "LayoutModel",
          "state": {
            "_model_module": "@jupyter-widgets/base",
            "_model_module_version": "1.2.0",
            "_model_name": "LayoutModel",
            "_view_count": null,
            "_view_module": "@jupyter-widgets/base",
            "_view_module_version": "1.2.0",
            "_view_name": "LayoutView",
            "align_content": null,
            "align_items": null,
            "align_self": null,
            "border": null,
            "bottom": null,
            "display": null,
            "flex": null,
            "flex_flow": null,
            "grid_area": null,
            "grid_auto_columns": null,
            "grid_auto_flow": null,
            "grid_auto_rows": null,
            "grid_column": null,
            "grid_gap": null,
            "grid_row": null,
            "grid_template_areas": null,
            "grid_template_columns": null,
            "grid_template_rows": null,
            "height": null,
            "justify_content": null,
            "justify_items": null,
            "left": null,
            "margin": null,
            "max_height": null,
            "max_width": null,
            "min_height": null,
            "min_width": null,
            "object_fit": null,
            "object_position": null,
            "order": null,
            "overflow": null,
            "overflow_x": null,
            "overflow_y": null,
            "padding": null,
            "right": null,
            "top": null,
            "visibility": null,
            "width": null
          }
        },
        "7fa088ffef51488d81c322500a6e9e47": {
          "model_module": "@jupyter-widgets/base",
          "model_module_version": "1.2.0",
          "model_name": "LayoutModel",
          "state": {
            "_model_module": "@jupyter-widgets/base",
            "_model_module_version": "1.2.0",
            "_model_name": "LayoutModel",
            "_view_count": null,
            "_view_module": "@jupyter-widgets/base",
            "_view_module_version": "1.2.0",
            "_view_name": "LayoutView",
            "align_content": null,
            "align_items": null,
            "align_self": null,
            "border": null,
            "bottom": null,
            "display": null,
            "flex": null,
            "flex_flow": null,
            "grid_area": null,
            "grid_auto_columns": null,
            "grid_auto_flow": null,
            "grid_auto_rows": null,
            "grid_column": null,
            "grid_gap": null,
            "grid_row": null,
            "grid_template_areas": null,
            "grid_template_columns": null,
            "grid_template_rows": null,
            "height": null,
            "justify_content": null,
            "justify_items": null,
            "left": null,
            "margin": null,
            "max_height": null,
            "max_width": null,
            "min_height": null,
            "min_width": null,
            "object_fit": null,
            "object_position": null,
            "order": null,
            "overflow": null,
            "overflow_x": null,
            "overflow_y": null,
            "padding": null,
            "right": null,
            "top": null,
            "visibility": null,
            "width": null
          }
        },
        "808dc2b5d8f74a83bc1ea093c3f97647": {
          "model_module": "@jupyter-widgets/controls",
          "model_module_version": "1.5.0",
          "model_name": "HTMLModel",
          "state": {
            "_dom_classes": [],
            "_model_module": "@jupyter-widgets/controls",
            "_model_module_version": "1.5.0",
            "_model_name": "HTMLModel",
            "_view_count": null,
            "_view_module": "@jupyter-widgets/controls",
            "_view_module_version": "1.5.0",
            "_view_name": "HTMLView",
            "description": "",
            "description_tooltip": null,
            "layout": "IPY_MODEL_84ca4bda764e4f83a160a430bf415ad1",
            "placeholder": "​",
            "style": "IPY_MODEL_1a143190644449bd91fbf21914f0cf25",
            "value": "Map: 100%"
          }
        },
        "8102b84811bd4721a0dfca382ef1a1a4": {
          "model_module": "@jupyter-widgets/controls",
          "model_module_version": "1.5.0",
          "model_name": "HTMLModel",
          "state": {
            "_dom_classes": [],
            "_model_module": "@jupyter-widgets/controls",
            "_model_module_version": "1.5.0",
            "_model_name": "HTMLModel",
            "_view_count": null,
            "_view_module": "@jupyter-widgets/controls",
            "_view_module_version": "1.5.0",
            "_view_name": "HTMLView",
            "description": "",
            "description_tooltip": null,
            "layout": "IPY_MODEL_a00ae97292034bed855382f99fdf0ed1",
            "placeholder": "​",
            "style": "IPY_MODEL_44a0f05327ea4e4a90154ee64f2f227f",
            "value": " 1725/1725 [00:00&lt;00:00, 4522.32 examples/s]"
          }
        },
        "8397d5a6f1a2402aa542e00421323556": {
          "model_module": "@jupyter-widgets/controls",
          "model_module_version": "1.5.0",
          "model_name": "HBoxModel",
          "state": {
            "_dom_classes": [],
            "_model_module": "@jupyter-widgets/controls",
            "_model_module_version": "1.5.0",
            "_model_name": "HBoxModel",
            "_view_count": null,
            "_view_module": "@jupyter-widgets/controls",
            "_view_module_version": "1.5.0",
            "_view_name": "HBoxView",
            "box_style": "",
            "children": [
              "IPY_MODEL_657771665d05418c80b3bf82fcec9133",
              "IPY_MODEL_aff807ff0216455a8362d09a3c9d5016",
              "IPY_MODEL_fcee83cde5a94a748ff616af5c5d39b2"
            ],
            "layout": "IPY_MODEL_af81ce90d466493e93edc9170cc5136c"
          }
        },
        "84856b4958164a3c8153bfe8ebdb9d96": {
          "model_module": "@jupyter-widgets/controls",
          "model_module_version": "1.5.0",
          "model_name": "DescriptionStyleModel",
          "state": {
            "_model_module": "@jupyter-widgets/controls",
            "_model_module_version": "1.5.0",
            "_model_name": "DescriptionStyleModel",
            "_view_count": null,
            "_view_module": "@jupyter-widgets/base",
            "_view_module_version": "1.2.0",
            "_view_name": "StyleView",
            "description_width": ""
          }
        },
        "84ca4bda764e4f83a160a430bf415ad1": {
          "model_module": "@jupyter-widgets/base",
          "model_module_version": "1.2.0",
          "model_name": "LayoutModel",
          "state": {
            "_model_module": "@jupyter-widgets/base",
            "_model_module_version": "1.2.0",
            "_model_name": "LayoutModel",
            "_view_count": null,
            "_view_module": "@jupyter-widgets/base",
            "_view_module_version": "1.2.0",
            "_view_name": "LayoutView",
            "align_content": null,
            "align_items": null,
            "align_self": null,
            "border": null,
            "bottom": null,
            "display": null,
            "flex": null,
            "flex_flow": null,
            "grid_area": null,
            "grid_auto_columns": null,
            "grid_auto_flow": null,
            "grid_auto_rows": null,
            "grid_column": null,
            "grid_gap": null,
            "grid_row": null,
            "grid_template_areas": null,
            "grid_template_columns": null,
            "grid_template_rows": null,
            "height": null,
            "justify_content": null,
            "justify_items": null,
            "left": null,
            "margin": null,
            "max_height": null,
            "max_width": null,
            "min_height": null,
            "min_width": null,
            "object_fit": null,
            "object_position": null,
            "order": null,
            "overflow": null,
            "overflow_x": null,
            "overflow_y": null,
            "padding": null,
            "right": null,
            "top": null,
            "visibility": null,
            "width": null
          }
        },
        "85cc50f6f965456a8ccfb5ef4362f404": {
          "model_module": "@jupyter-widgets/base",
          "model_module_version": "1.2.0",
          "model_name": "LayoutModel",
          "state": {
            "_model_module": "@jupyter-widgets/base",
            "_model_module_version": "1.2.0",
            "_model_name": "LayoutModel",
            "_view_count": null,
            "_view_module": "@jupyter-widgets/base",
            "_view_module_version": "1.2.0",
            "_view_name": "LayoutView",
            "align_content": null,
            "align_items": null,
            "align_self": null,
            "border": null,
            "bottom": null,
            "display": null,
            "flex": null,
            "flex_flow": null,
            "grid_area": null,
            "grid_auto_columns": null,
            "grid_auto_flow": null,
            "grid_auto_rows": null,
            "grid_column": null,
            "grid_gap": null,
            "grid_row": null,
            "grid_template_areas": null,
            "grid_template_columns": null,
            "grid_template_rows": null,
            "height": null,
            "justify_content": null,
            "justify_items": null,
            "left": null,
            "margin": null,
            "max_height": null,
            "max_width": null,
            "min_height": null,
            "min_width": null,
            "object_fit": null,
            "object_position": null,
            "order": null,
            "overflow": null,
            "overflow_x": null,
            "overflow_y": null,
            "padding": null,
            "right": null,
            "top": null,
            "visibility": null,
            "width": null
          }
        },
        "89c28cd61e134703bf744633f324d7d9": {
          "model_module": "@jupyter-widgets/base",
          "model_module_version": "1.2.0",
          "model_name": "LayoutModel",
          "state": {
            "_model_module": "@jupyter-widgets/base",
            "_model_module_version": "1.2.0",
            "_model_name": "LayoutModel",
            "_view_count": null,
            "_view_module": "@jupyter-widgets/base",
            "_view_module_version": "1.2.0",
            "_view_name": "LayoutView",
            "align_content": null,
            "align_items": null,
            "align_self": null,
            "border": null,
            "bottom": null,
            "display": null,
            "flex": null,
            "flex_flow": null,
            "grid_area": null,
            "grid_auto_columns": null,
            "grid_auto_flow": null,
            "grid_auto_rows": null,
            "grid_column": null,
            "grid_gap": null,
            "grid_row": null,
            "grid_template_areas": null,
            "grid_template_columns": null,
            "grid_template_rows": null,
            "height": null,
            "justify_content": null,
            "justify_items": null,
            "left": null,
            "margin": null,
            "max_height": null,
            "max_width": null,
            "min_height": null,
            "min_width": null,
            "object_fit": null,
            "object_position": null,
            "order": null,
            "overflow": null,
            "overflow_x": null,
            "overflow_y": null,
            "padding": null,
            "right": null,
            "top": null,
            "visibility": null,
            "width": null
          }
        },
        "8a143a7aec934311bf863e0896c64550": {
          "model_module": "@jupyter-widgets/controls",
          "model_module_version": "1.5.0",
          "model_name": "DescriptionStyleModel",
          "state": {
            "_model_module": "@jupyter-widgets/controls",
            "_model_module_version": "1.5.0",
            "_model_name": "DescriptionStyleModel",
            "_view_count": null,
            "_view_module": "@jupyter-widgets/base",
            "_view_module_version": "1.2.0",
            "_view_name": "StyleView",
            "description_width": ""
          }
        },
        "8b59815dead942f08b9cd5a52ad9c69c": {
          "model_module": "@jupyter-widgets/controls",
          "model_module_version": "1.5.0",
          "model_name": "HTMLModel",
          "state": {
            "_dom_classes": [],
            "_model_module": "@jupyter-widgets/controls",
            "_model_module_version": "1.5.0",
            "_model_name": "HTMLModel",
            "_view_count": null,
            "_view_module": "@jupyter-widgets/controls",
            "_view_module_version": "1.5.0",
            "_view_name": "HTMLView",
            "description": "",
            "description_tooltip": null,
            "layout": "IPY_MODEL_f95b7c756d7e4706a269c54e83b98321",
            "placeholder": "​",
            "style": "IPY_MODEL_d5523c8aefa44aa9bd30f257c769b3b0",
            "value": " 1501/1501 [00:03&lt;00:00, 493.10 examples/s]"
          }
        },
        "8c5bdd6c41654a72856dc0cc98a142fa": {
          "model_module": "@jupyter-widgets/base",
          "model_module_version": "1.2.0",
          "model_name": "LayoutModel",
          "state": {
            "_model_module": "@jupyter-widgets/base",
            "_model_module_version": "1.2.0",
            "_model_name": "LayoutModel",
            "_view_count": null,
            "_view_module": "@jupyter-widgets/base",
            "_view_module_version": "1.2.0",
            "_view_name": "LayoutView",
            "align_content": null,
            "align_items": null,
            "align_self": null,
            "border": null,
            "bottom": null,
            "display": null,
            "flex": null,
            "flex_flow": null,
            "grid_area": null,
            "grid_auto_columns": null,
            "grid_auto_flow": null,
            "grid_auto_rows": null,
            "grid_column": null,
            "grid_gap": null,
            "grid_row": null,
            "grid_template_areas": null,
            "grid_template_columns": null,
            "grid_template_rows": null,
            "height": null,
            "justify_content": null,
            "justify_items": null,
            "left": null,
            "margin": null,
            "max_height": null,
            "max_width": null,
            "min_height": null,
            "min_width": null,
            "object_fit": null,
            "object_position": null,
            "order": null,
            "overflow": null,
            "overflow_x": null,
            "overflow_y": null,
            "padding": null,
            "right": null,
            "top": null,
            "visibility": null,
            "width": null
          }
        },
        "8d24ef38418645d89eb7311cf17ff381": {
          "model_module": "@jupyter-widgets/controls",
          "model_module_version": "1.5.0",
          "model_name": "FloatProgressModel",
          "state": {
            "_dom_classes": [],
            "_model_module": "@jupyter-widgets/controls",
            "_model_module_version": "1.5.0",
            "_model_name": "FloatProgressModel",
            "_view_count": null,
            "_view_module": "@jupyter-widgets/controls",
            "_view_module_version": "1.5.0",
            "_view_name": "ProgressView",
            "bar_style": "success",
            "description": "",
            "description_tooltip": null,
            "layout": "IPY_MODEL_78c180cfba094935a72fcb5da34529bd",
            "max": 483,
            "min": 0,
            "orientation": "horizontal",
            "style": "IPY_MODEL_1ad01e12978e4693ad550818a44255cb",
            "value": 483
          }
        },
        "8e4f55dfbb344400a3ee1abdbd13e70f": {
          "model_module": "@jupyter-widgets/base",
          "model_module_version": "1.2.0",
          "model_name": "LayoutModel",
          "state": {
            "_model_module": "@jupyter-widgets/base",
            "_model_module_version": "1.2.0",
            "_model_name": "LayoutModel",
            "_view_count": null,
            "_view_module": "@jupyter-widgets/base",
            "_view_module_version": "1.2.0",
            "_view_name": "LayoutView",
            "align_content": null,
            "align_items": null,
            "align_self": null,
            "border": null,
            "bottom": null,
            "display": null,
            "flex": null,
            "flex_flow": null,
            "grid_area": null,
            "grid_auto_columns": null,
            "grid_auto_flow": null,
            "grid_auto_rows": null,
            "grid_column": null,
            "grid_gap": null,
            "grid_row": null,
            "grid_template_areas": null,
            "grid_template_columns": null,
            "grid_template_rows": null,
            "height": null,
            "justify_content": null,
            "justify_items": null,
            "left": null,
            "margin": null,
            "max_height": null,
            "max_width": null,
            "min_height": null,
            "min_width": null,
            "object_fit": null,
            "object_position": null,
            "order": null,
            "overflow": null,
            "overflow_x": null,
            "overflow_y": null,
            "padding": null,
            "right": null,
            "top": null,
            "visibility": null,
            "width": null
          }
        },
        "901e27f14b124dc7af4dd2b6f4b5b4a6": {
          "model_module": "@jupyter-widgets/base",
          "model_module_version": "1.2.0",
          "model_name": "LayoutModel",
          "state": {
            "_model_module": "@jupyter-widgets/base",
            "_model_module_version": "1.2.0",
            "_model_name": "LayoutModel",
            "_view_count": null,
            "_view_module": "@jupyter-widgets/base",
            "_view_module_version": "1.2.0",
            "_view_name": "LayoutView",
            "align_content": null,
            "align_items": null,
            "align_self": null,
            "border": null,
            "bottom": null,
            "display": null,
            "flex": null,
            "flex_flow": null,
            "grid_area": null,
            "grid_auto_columns": null,
            "grid_auto_flow": null,
            "grid_auto_rows": null,
            "grid_column": null,
            "grid_gap": null,
            "grid_row": null,
            "grid_template_areas": null,
            "grid_template_columns": null,
            "grid_template_rows": null,
            "height": null,
            "justify_content": null,
            "justify_items": null,
            "left": null,
            "margin": null,
            "max_height": null,
            "max_width": null,
            "min_height": null,
            "min_width": null,
            "object_fit": null,
            "object_position": null,
            "order": null,
            "overflow": null,
            "overflow_x": null,
            "overflow_y": null,
            "padding": null,
            "right": null,
            "top": null,
            "visibility": null,
            "width": null
          }
        },
        "90da2fe7155148cd9044bb57ffe266da": {
          "model_module": "@jupyter-widgets/base",
          "model_module_version": "1.2.0",
          "model_name": "LayoutModel",
          "state": {
            "_model_module": "@jupyter-widgets/base",
            "_model_module_version": "1.2.0",
            "_model_name": "LayoutModel",
            "_view_count": null,
            "_view_module": "@jupyter-widgets/base",
            "_view_module_version": "1.2.0",
            "_view_name": "LayoutView",
            "align_content": null,
            "align_items": null,
            "align_self": null,
            "border": null,
            "bottom": null,
            "display": null,
            "flex": null,
            "flex_flow": null,
            "grid_area": null,
            "grid_auto_columns": null,
            "grid_auto_flow": null,
            "grid_auto_rows": null,
            "grid_column": null,
            "grid_gap": null,
            "grid_row": null,
            "grid_template_areas": null,
            "grid_template_columns": null,
            "grid_template_rows": null,
            "height": null,
            "justify_content": null,
            "justify_items": null,
            "left": null,
            "margin": null,
            "max_height": null,
            "max_width": null,
            "min_height": null,
            "min_width": null,
            "object_fit": null,
            "object_position": null,
            "order": null,
            "overflow": null,
            "overflow_x": null,
            "overflow_y": null,
            "padding": null,
            "right": null,
            "top": null,
            "visibility": null,
            "width": null
          }
        },
        "9749b7f508d9486ab81223584d23704a": {
          "model_module": "@jupyter-widgets/base",
          "model_module_version": "1.2.0",
          "model_name": "LayoutModel",
          "state": {
            "_model_module": "@jupyter-widgets/base",
            "_model_module_version": "1.2.0",
            "_model_name": "LayoutModel",
            "_view_count": null,
            "_view_module": "@jupyter-widgets/base",
            "_view_module_version": "1.2.0",
            "_view_name": "LayoutView",
            "align_content": null,
            "align_items": null,
            "align_self": null,
            "border": null,
            "bottom": null,
            "display": null,
            "flex": null,
            "flex_flow": null,
            "grid_area": null,
            "grid_auto_columns": null,
            "grid_auto_flow": null,
            "grid_auto_rows": null,
            "grid_column": null,
            "grid_gap": null,
            "grid_row": null,
            "grid_template_areas": null,
            "grid_template_columns": null,
            "grid_template_rows": null,
            "height": null,
            "justify_content": null,
            "justify_items": null,
            "left": null,
            "margin": null,
            "max_height": null,
            "max_width": null,
            "min_height": null,
            "min_width": null,
            "object_fit": null,
            "object_position": null,
            "order": null,
            "overflow": null,
            "overflow_x": null,
            "overflow_y": null,
            "padding": null,
            "right": null,
            "top": null,
            "visibility": null,
            "width": null
          }
        },
        "9779ee29aaef41d58b354fc5f06fb4eb": {
          "model_module": "@jupyter-widgets/base",
          "model_module_version": "1.2.0",
          "model_name": "LayoutModel",
          "state": {
            "_model_module": "@jupyter-widgets/base",
            "_model_module_version": "1.2.0",
            "_model_name": "LayoutModel",
            "_view_count": null,
            "_view_module": "@jupyter-widgets/base",
            "_view_module_version": "1.2.0",
            "_view_name": "LayoutView",
            "align_content": null,
            "align_items": null,
            "align_self": null,
            "border": null,
            "bottom": null,
            "display": null,
            "flex": null,
            "flex_flow": null,
            "grid_area": null,
            "grid_auto_columns": null,
            "grid_auto_flow": null,
            "grid_auto_rows": null,
            "grid_column": null,
            "grid_gap": null,
            "grid_row": null,
            "grid_template_areas": null,
            "grid_template_columns": null,
            "grid_template_rows": null,
            "height": null,
            "justify_content": null,
            "justify_items": null,
            "left": null,
            "margin": null,
            "max_height": null,
            "max_width": null,
            "min_height": null,
            "min_width": null,
            "object_fit": null,
            "object_position": null,
            "order": null,
            "overflow": null,
            "overflow_x": null,
            "overflow_y": null,
            "padding": null,
            "right": null,
            "top": null,
            "visibility": null,
            "width": null
          }
        },
        "97d172581b044f6ea4226e3696c9c8a2": {
          "model_module": "@jupyter-widgets/base",
          "model_module_version": "1.2.0",
          "model_name": "LayoutModel",
          "state": {
            "_model_module": "@jupyter-widgets/base",
            "_model_module_version": "1.2.0",
            "_model_name": "LayoutModel",
            "_view_count": null,
            "_view_module": "@jupyter-widgets/base",
            "_view_module_version": "1.2.0",
            "_view_name": "LayoutView",
            "align_content": null,
            "align_items": null,
            "align_self": null,
            "border": null,
            "bottom": null,
            "display": null,
            "flex": null,
            "flex_flow": null,
            "grid_area": null,
            "grid_auto_columns": null,
            "grid_auto_flow": null,
            "grid_auto_rows": null,
            "grid_column": null,
            "grid_gap": null,
            "grid_row": null,
            "grid_template_areas": null,
            "grid_template_columns": null,
            "grid_template_rows": null,
            "height": null,
            "justify_content": null,
            "justify_items": null,
            "left": null,
            "margin": null,
            "max_height": null,
            "max_width": null,
            "min_height": null,
            "min_width": null,
            "object_fit": null,
            "object_position": null,
            "order": null,
            "overflow": null,
            "overflow_x": null,
            "overflow_y": null,
            "padding": null,
            "right": null,
            "top": null,
            "visibility": null,
            "width": null
          }
        },
        "9a14546c602744e88203de4fb34133b0": {
          "model_module": "@jupyter-widgets/controls",
          "model_module_version": "1.5.0",
          "model_name": "HBoxModel",
          "state": {
            "_dom_classes": [],
            "_model_module": "@jupyter-widgets/controls",
            "_model_module_version": "1.5.0",
            "_model_name": "HBoxModel",
            "_view_count": null,
            "_view_module": "@jupyter-widgets/controls",
            "_view_module_version": "1.5.0",
            "_view_name": "HBoxView",
            "box_style": "",
            "children": [
              "IPY_MODEL_04c37ba38b3b4b9ba3ecc13c50d10a52",
              "IPY_MODEL_18ae23b4dec7423db19b2b0c069e2585",
              "IPY_MODEL_2627c86280444dea98d1a00668e26d2f"
            ],
            "layout": "IPY_MODEL_9779ee29aaef41d58b354fc5f06fb4eb"
          }
        },
        "9aab7c9b01f34708a433d04432417e63": {
          "model_module": "@jupyter-widgets/controls",
          "model_module_version": "1.5.0",
          "model_name": "HTMLModel",
          "state": {
            "_dom_classes": [],
            "_model_module": "@jupyter-widgets/controls",
            "_model_module_version": "1.5.0",
            "_model_name": "HTMLModel",
            "_view_count": null,
            "_view_module": "@jupyter-widgets/controls",
            "_view_module_version": "1.5.0",
            "_view_name": "HTMLView",
            "description": "",
            "description_tooltip": null,
            "layout": "IPY_MODEL_d4116a8e1e654895ab9b0ff4e69cddc9",
            "placeholder": "​",
            "style": "IPY_MODEL_754532c40fee42aeb6592806209d2770",
            "value": " 1725/1725 [00:00&lt;00:00, 4761.87 examples/s]"
          }
        },
        "9b11cc447fe94eb293d3353c935d8125": {
          "model_module": "@jupyter-widgets/base",
          "model_module_version": "1.2.0",
          "model_name": "LayoutModel",
          "state": {
            "_model_module": "@jupyter-widgets/base",
            "_model_module_version": "1.2.0",
            "_model_name": "LayoutModel",
            "_view_count": null,
            "_view_module": "@jupyter-widgets/base",
            "_view_module_version": "1.2.0",
            "_view_name": "LayoutView",
            "align_content": null,
            "align_items": null,
            "align_self": null,
            "border": null,
            "bottom": null,
            "display": null,
            "flex": null,
            "flex_flow": null,
            "grid_area": null,
            "grid_auto_columns": null,
            "grid_auto_flow": null,
            "grid_auto_rows": null,
            "grid_column": null,
            "grid_gap": null,
            "grid_row": null,
            "grid_template_areas": null,
            "grid_template_columns": null,
            "grid_template_rows": null,
            "height": null,
            "justify_content": null,
            "justify_items": null,
            "left": null,
            "margin": null,
            "max_height": null,
            "max_width": null,
            "min_height": null,
            "min_width": null,
            "object_fit": null,
            "object_position": null,
            "order": null,
            "overflow": null,
            "overflow_x": null,
            "overflow_y": null,
            "padding": null,
            "right": null,
            "top": null,
            "visibility": null,
            "width": null
          }
        },
        "9da9ea51965d40e88573a1cb468deef6": {
          "model_module": "@jupyter-widgets/controls",
          "model_module_version": "1.5.0",
          "model_name": "FloatProgressModel",
          "state": {
            "_dom_classes": [],
            "_model_module": "@jupyter-widgets/controls",
            "_model_module_version": "1.5.0",
            "_model_name": "FloatProgressModel",
            "_view_count": null,
            "_view_module": "@jupyter-widgets/controls",
            "_view_module_version": "1.5.0",
            "_view_name": "ProgressView",
            "bar_style": "success",
            "description": "",
            "description_tooltip": null,
            "layout": "IPY_MODEL_ee111b956d2240dea5f23c1f47aaadf3",
            "max": 48,
            "min": 0,
            "orientation": "horizontal",
            "style": "IPY_MODEL_1e404daa436b43f08a38293c44675d8f",
            "value": 48
          }
        },
        "9ebfc41088424c9597bcd10ff8e8901a": {
          "model_module": "@jupyter-widgets/controls",
          "model_module_version": "1.5.0",
          "model_name": "DescriptionStyleModel",
          "state": {
            "_model_module": "@jupyter-widgets/controls",
            "_model_module_version": "1.5.0",
            "_model_name": "DescriptionStyleModel",
            "_view_count": null,
            "_view_module": "@jupyter-widgets/base",
            "_view_module_version": "1.2.0",
            "_view_name": "StyleView",
            "description_width": ""
          }
        },
        "9edb90bb7c97480cafaadbf464ef0359": {
          "model_module": "@jupyter-widgets/controls",
          "model_module_version": "1.5.0",
          "model_name": "HTMLModel",
          "state": {
            "_dom_classes": [],
            "_model_module": "@jupyter-widgets/controls",
            "_model_module_version": "1.5.0",
            "_model_name": "HTMLModel",
            "_view_count": null,
            "_view_module": "@jupyter-widgets/controls",
            "_view_module_version": "1.5.0",
            "_view_name": "HTMLView",
            "description": "",
            "description_tooltip": null,
            "layout": "IPY_MODEL_b0ee3c3a68da48aeb13f637421172dd6",
            "placeholder": "​",
            "style": "IPY_MODEL_2ffff17c853c435e9e139192a60958df",
            "value": "config.json: 100%"
          }
        },
        "a00ae97292034bed855382f99fdf0ed1": {
          "model_module": "@jupyter-widgets/base",
          "model_module_version": "1.2.0",
          "model_name": "LayoutModel",
          "state": {
            "_model_module": "@jupyter-widgets/base",
            "_model_module_version": "1.2.0",
            "_model_name": "LayoutModel",
            "_view_count": null,
            "_view_module": "@jupyter-widgets/base",
            "_view_module_version": "1.2.0",
            "_view_name": "LayoutView",
            "align_content": null,
            "align_items": null,
            "align_self": null,
            "border": null,
            "bottom": null,
            "display": null,
            "flex": null,
            "flex_flow": null,
            "grid_area": null,
            "grid_auto_columns": null,
            "grid_auto_flow": null,
            "grid_auto_rows": null,
            "grid_column": null,
            "grid_gap": null,
            "grid_row": null,
            "grid_template_areas": null,
            "grid_template_columns": null,
            "grid_template_rows": null,
            "height": null,
            "justify_content": null,
            "justify_items": null,
            "left": null,
            "margin": null,
            "max_height": null,
            "max_width": null,
            "min_height": null,
            "min_width": null,
            "object_fit": null,
            "object_position": null,
            "order": null,
            "overflow": null,
            "overflow_x": null,
            "overflow_y": null,
            "padding": null,
            "right": null,
            "top": null,
            "visibility": null,
            "width": null
          }
        },
        "a035012adc584d4a92d77b63ccf7ee38": {
          "model_module": "@jupyter-widgets/base",
          "model_module_version": "1.2.0",
          "model_name": "LayoutModel",
          "state": {
            "_model_module": "@jupyter-widgets/base",
            "_model_module_version": "1.2.0",
            "_model_name": "LayoutModel",
            "_view_count": null,
            "_view_module": "@jupyter-widgets/base",
            "_view_module_version": "1.2.0",
            "_view_name": "LayoutView",
            "align_content": null,
            "align_items": null,
            "align_self": null,
            "border": null,
            "bottom": null,
            "display": null,
            "flex": null,
            "flex_flow": null,
            "grid_area": null,
            "grid_auto_columns": null,
            "grid_auto_flow": null,
            "grid_auto_rows": null,
            "grid_column": null,
            "grid_gap": null,
            "grid_row": null,
            "grid_template_areas": null,
            "grid_template_columns": null,
            "grid_template_rows": null,
            "height": null,
            "justify_content": null,
            "justify_items": null,
            "left": null,
            "margin": null,
            "max_height": null,
            "max_width": null,
            "min_height": null,
            "min_width": null,
            "object_fit": null,
            "object_position": null,
            "order": null,
            "overflow": null,
            "overflow_x": null,
            "overflow_y": null,
            "padding": null,
            "right": null,
            "top": null,
            "visibility": null,
            "width": null
          }
        },
        "a1257e2e02b5416e953ed57655feb155": {
          "model_module": "@jupyter-widgets/base",
          "model_module_version": "1.2.0",
          "model_name": "LayoutModel",
          "state": {
            "_model_module": "@jupyter-widgets/base",
            "_model_module_version": "1.2.0",
            "_model_name": "LayoutModel",
            "_view_count": null,
            "_view_module": "@jupyter-widgets/base",
            "_view_module_version": "1.2.0",
            "_view_name": "LayoutView",
            "align_content": null,
            "align_items": null,
            "align_self": null,
            "border": null,
            "bottom": null,
            "display": null,
            "flex": null,
            "flex_flow": null,
            "grid_area": null,
            "grid_auto_columns": null,
            "grid_auto_flow": null,
            "grid_auto_rows": null,
            "grid_column": null,
            "grid_gap": null,
            "grid_row": null,
            "grid_template_areas": null,
            "grid_template_columns": null,
            "grid_template_rows": null,
            "height": null,
            "justify_content": null,
            "justify_items": null,
            "left": null,
            "margin": null,
            "max_height": null,
            "max_width": null,
            "min_height": null,
            "min_width": null,
            "object_fit": null,
            "object_position": null,
            "order": null,
            "overflow": null,
            "overflow_x": null,
            "overflow_y": null,
            "padding": null,
            "right": null,
            "top": null,
            "visibility": null,
            "width": null
          }
        },
        "a17869190eac4d25b140ae19be0bc1db": {
          "model_module": "@jupyter-widgets/controls",
          "model_module_version": "1.5.0",
          "model_name": "HTMLModel",
          "state": {
            "_dom_classes": [],
            "_model_module": "@jupyter-widgets/controls",
            "_model_module_version": "1.5.0",
            "_model_name": "HTMLModel",
            "_view_count": null,
            "_view_module": "@jupyter-widgets/controls",
            "_view_module_version": "1.5.0",
            "_view_name": "HTMLView",
            "description": "",
            "description_tooltip": null,
            "layout": "IPY_MODEL_dc003e5519324d76b1f4e41e28431467",
            "placeholder": "​",
            "style": "IPY_MODEL_8a143a7aec934311bf863e0896c64550",
            "value": "config.json: 100%"
          }
        },
        "a2a796840e624effa16bf2f2980ddf80": {
          "model_module": "@jupyter-widgets/base",
          "model_module_version": "1.2.0",
          "model_name": "LayoutModel",
          "state": {
            "_model_module": "@jupyter-widgets/base",
            "_model_module_version": "1.2.0",
            "_model_name": "LayoutModel",
            "_view_count": null,
            "_view_module": "@jupyter-widgets/base",
            "_view_module_version": "1.2.0",
            "_view_name": "LayoutView",
            "align_content": null,
            "align_items": null,
            "align_self": null,
            "border": null,
            "bottom": null,
            "display": null,
            "flex": null,
            "flex_flow": null,
            "grid_area": null,
            "grid_auto_columns": null,
            "grid_auto_flow": null,
            "grid_auto_rows": null,
            "grid_column": null,
            "grid_gap": null,
            "grid_row": null,
            "grid_template_areas": null,
            "grid_template_columns": null,
            "grid_template_rows": null,
            "height": null,
            "justify_content": null,
            "justify_items": null,
            "left": null,
            "margin": null,
            "max_height": null,
            "max_width": null,
            "min_height": null,
            "min_width": null,
            "object_fit": null,
            "object_position": null,
            "order": null,
            "overflow": null,
            "overflow_x": null,
            "overflow_y": null,
            "padding": null,
            "right": null,
            "top": null,
            "visibility": null,
            "width": null
          }
        },
        "a3c147ac64174da698fd149279b66400": {
          "model_module": "@jupyter-widgets/base",
          "model_module_version": "1.2.0",
          "model_name": "LayoutModel",
          "state": {
            "_model_module": "@jupyter-widgets/base",
            "_model_module_version": "1.2.0",
            "_model_name": "LayoutModel",
            "_view_count": null,
            "_view_module": "@jupyter-widgets/base",
            "_view_module_version": "1.2.0",
            "_view_name": "LayoutView",
            "align_content": null,
            "align_items": null,
            "align_self": null,
            "border": null,
            "bottom": null,
            "display": null,
            "flex": null,
            "flex_flow": null,
            "grid_area": null,
            "grid_auto_columns": null,
            "grid_auto_flow": null,
            "grid_auto_rows": null,
            "grid_column": null,
            "grid_gap": null,
            "grid_row": null,
            "grid_template_areas": null,
            "grid_template_columns": null,
            "grid_template_rows": null,
            "height": null,
            "justify_content": null,
            "justify_items": null,
            "left": null,
            "margin": null,
            "max_height": null,
            "max_width": null,
            "min_height": null,
            "min_width": null,
            "object_fit": null,
            "object_position": null,
            "order": null,
            "overflow": null,
            "overflow_x": null,
            "overflow_y": null,
            "padding": null,
            "right": null,
            "top": null,
            "visibility": null,
            "width": null
          }
        },
        "a44dcb49054b493da133cefce5202083": {
          "model_module": "@jupyter-widgets/base",
          "model_module_version": "1.2.0",
          "model_name": "LayoutModel",
          "state": {
            "_model_module": "@jupyter-widgets/base",
            "_model_module_version": "1.2.0",
            "_model_name": "LayoutModel",
            "_view_count": null,
            "_view_module": "@jupyter-widgets/base",
            "_view_module_version": "1.2.0",
            "_view_name": "LayoutView",
            "align_content": null,
            "align_items": null,
            "align_self": null,
            "border": null,
            "bottom": null,
            "display": null,
            "flex": null,
            "flex_flow": null,
            "grid_area": null,
            "grid_auto_columns": null,
            "grid_auto_flow": null,
            "grid_auto_rows": null,
            "grid_column": null,
            "grid_gap": null,
            "grid_row": null,
            "grid_template_areas": null,
            "grid_template_columns": null,
            "grid_template_rows": null,
            "height": null,
            "justify_content": null,
            "justify_items": null,
            "left": null,
            "margin": null,
            "max_height": null,
            "max_width": null,
            "min_height": null,
            "min_width": null,
            "object_fit": null,
            "object_position": null,
            "order": null,
            "overflow": null,
            "overflow_x": null,
            "overflow_y": null,
            "padding": null,
            "right": null,
            "top": null,
            "visibility": null,
            "width": null
          }
        },
        "a5b6d8229fa24ca88d6b268115dc58db": {
          "model_module": "@jupyter-widgets/controls",
          "model_module_version": "1.5.0",
          "model_name": "HBoxModel",
          "state": {
            "_dom_classes": [],
            "_model_module": "@jupyter-widgets/controls",
            "_model_module_version": "1.5.0",
            "_model_name": "HBoxModel",
            "_view_count": null,
            "_view_module": "@jupyter-widgets/controls",
            "_view_module_version": "1.5.0",
            "_view_name": "HBoxView",
            "box_style": "",
            "children": [
              "IPY_MODEL_f1c27f436dc5458e8f9fc61d8e3c43aa",
              "IPY_MODEL_bb54f67a8c2e49cf844fc6d284be1204",
              "IPY_MODEL_ca12e190141b4565970a30157b44c95d"
            ],
            "layout": "IPY_MODEL_97d172581b044f6ea4226e3696c9c8a2"
          }
        },
        "a76fe104d7b34d748f758e6d3f50deff": {
          "model_module": "@jupyter-widgets/base",
          "model_module_version": "1.2.0",
          "model_name": "LayoutModel",
          "state": {
            "_model_module": "@jupyter-widgets/base",
            "_model_module_version": "1.2.0",
            "_model_name": "LayoutModel",
            "_view_count": null,
            "_view_module": "@jupyter-widgets/base",
            "_view_module_version": "1.2.0",
            "_view_name": "LayoutView",
            "align_content": null,
            "align_items": null,
            "align_self": null,
            "border": null,
            "bottom": null,
            "display": null,
            "flex": null,
            "flex_flow": null,
            "grid_area": null,
            "grid_auto_columns": null,
            "grid_auto_flow": null,
            "grid_auto_rows": null,
            "grid_column": null,
            "grid_gap": null,
            "grid_row": null,
            "grid_template_areas": null,
            "grid_template_columns": null,
            "grid_template_rows": null,
            "height": null,
            "justify_content": null,
            "justify_items": null,
            "left": null,
            "margin": null,
            "max_height": null,
            "max_width": null,
            "min_height": null,
            "min_width": null,
            "object_fit": null,
            "object_position": null,
            "order": null,
            "overflow": null,
            "overflow_x": null,
            "overflow_y": null,
            "padding": null,
            "right": null,
            "top": null,
            "visibility": null,
            "width": null
          }
        },
        "a893a0dba59747fb96c58b9c42d77536": {
          "model_module": "@jupyter-widgets/base",
          "model_module_version": "1.2.0",
          "model_name": "LayoutModel",
          "state": {
            "_model_module": "@jupyter-widgets/base",
            "_model_module_version": "1.2.0",
            "_model_name": "LayoutModel",
            "_view_count": null,
            "_view_module": "@jupyter-widgets/base",
            "_view_module_version": "1.2.0",
            "_view_name": "LayoutView",
            "align_content": null,
            "align_items": null,
            "align_self": null,
            "border": null,
            "bottom": null,
            "display": null,
            "flex": null,
            "flex_flow": null,
            "grid_area": null,
            "grid_auto_columns": null,
            "grid_auto_flow": null,
            "grid_auto_rows": null,
            "grid_column": null,
            "grid_gap": null,
            "grid_row": null,
            "grid_template_areas": null,
            "grid_template_columns": null,
            "grid_template_rows": null,
            "height": null,
            "justify_content": null,
            "justify_items": null,
            "left": null,
            "margin": null,
            "max_height": null,
            "max_width": null,
            "min_height": null,
            "min_width": null,
            "object_fit": null,
            "object_position": null,
            "order": null,
            "overflow": null,
            "overflow_x": null,
            "overflow_y": null,
            "padding": null,
            "right": null,
            "top": null,
            "visibility": null,
            "width": null
          }
        },
        "a9c650b7a6d84572b1356c61ed53f86f": {
          "model_module": "@jupyter-widgets/controls",
          "model_module_version": "1.5.0",
          "model_name": "ProgressStyleModel",
          "state": {
            "_model_module": "@jupyter-widgets/controls",
            "_model_module_version": "1.5.0",
            "_model_name": "ProgressStyleModel",
            "_view_count": null,
            "_view_module": "@jupyter-widgets/base",
            "_view_module_version": "1.2.0",
            "_view_name": "StyleView",
            "bar_color": null,
            "description_width": ""
          }
        },
        "ac43483f070349b2864cc121a260a764": {
          "model_module": "@jupyter-widgets/controls",
          "model_module_version": "1.5.0",
          "model_name": "DescriptionStyleModel",
          "state": {
            "_model_module": "@jupyter-widgets/controls",
            "_model_module_version": "1.5.0",
            "_model_name": "DescriptionStyleModel",
            "_view_count": null,
            "_view_module": "@jupyter-widgets/base",
            "_view_module_version": "1.2.0",
            "_view_name": "StyleView",
            "description_width": ""
          }
        },
        "ad9f93e9d55842f1851fede41cc4782e": {
          "model_module": "@jupyter-widgets/controls",
          "model_module_version": "1.5.0",
          "model_name": "ProgressStyleModel",
          "state": {
            "_model_module": "@jupyter-widgets/controls",
            "_model_module_version": "1.5.0",
            "_model_name": "ProgressStyleModel",
            "_view_count": null,
            "_view_module": "@jupyter-widgets/base",
            "_view_module_version": "1.2.0",
            "_view_name": "StyleView",
            "bar_color": null,
            "description_width": ""
          }
        },
        "aef9f67590ce42e18c69e4e2ae3098c1": {
          "model_module": "@jupyter-widgets/controls",
          "model_module_version": "1.5.0",
          "model_name": "DescriptionStyleModel",
          "state": {
            "_model_module": "@jupyter-widgets/controls",
            "_model_module_version": "1.5.0",
            "_model_name": "DescriptionStyleModel",
            "_view_count": null,
            "_view_module": "@jupyter-widgets/base",
            "_view_module_version": "1.2.0",
            "_view_name": "StyleView",
            "description_width": ""
          }
        },
        "af81ce90d466493e93edc9170cc5136c": {
          "model_module": "@jupyter-widgets/base",
          "model_module_version": "1.2.0",
          "model_name": "LayoutModel",
          "state": {
            "_model_module": "@jupyter-widgets/base",
            "_model_module_version": "1.2.0",
            "_model_name": "LayoutModel",
            "_view_count": null,
            "_view_module": "@jupyter-widgets/base",
            "_view_module_version": "1.2.0",
            "_view_name": "LayoutView",
            "align_content": null,
            "align_items": null,
            "align_self": null,
            "border": null,
            "bottom": null,
            "display": null,
            "flex": null,
            "flex_flow": null,
            "grid_area": null,
            "grid_auto_columns": null,
            "grid_auto_flow": null,
            "grid_auto_rows": null,
            "grid_column": null,
            "grid_gap": null,
            "grid_row": null,
            "grid_template_areas": null,
            "grid_template_columns": null,
            "grid_template_rows": null,
            "height": null,
            "justify_content": null,
            "justify_items": null,
            "left": null,
            "margin": null,
            "max_height": null,
            "max_width": null,
            "min_height": null,
            "min_width": null,
            "object_fit": null,
            "object_position": null,
            "order": null,
            "overflow": null,
            "overflow_x": null,
            "overflow_y": null,
            "padding": null,
            "right": null,
            "top": null,
            "visibility": null,
            "width": null
          }
        },
        "afea4122d17e4653b7ccbc31a35650a6": {
          "model_module": "@jupyter-widgets/controls",
          "model_module_version": "1.5.0",
          "model_name": "DescriptionStyleModel",
          "state": {
            "_model_module": "@jupyter-widgets/controls",
            "_model_module_version": "1.5.0",
            "_model_name": "DescriptionStyleModel",
            "_view_count": null,
            "_view_module": "@jupyter-widgets/base",
            "_view_module_version": "1.2.0",
            "_view_name": "StyleView",
            "description_width": ""
          }
        },
        "aff807ff0216455a8362d09a3c9d5016": {
          "model_module": "@jupyter-widgets/controls",
          "model_module_version": "1.5.0",
          "model_name": "FloatProgressModel",
          "state": {
            "_dom_classes": [],
            "_model_module": "@jupyter-widgets/controls",
            "_model_module_version": "1.5.0",
            "_model_name": "FloatProgressModel",
            "_view_count": null,
            "_view_module": "@jupyter-widgets/controls",
            "_view_module_version": "1.5.0",
            "_view_name": "ProgressView",
            "bar_style": "success",
            "description": "",
            "description_tooltip": null,
            "layout": "IPY_MODEL_dac04b8524f54556b4379427c1c1f441",
            "max": 1715180,
            "min": 0,
            "orientation": "horizontal",
            "style": "IPY_MODEL_cb9fe9e1bf7d4a1c9d920e4b794b5f72",
            "value": 1715180
          }
        },
        "b0ee3c3a68da48aeb13f637421172dd6": {
          "model_module": "@jupyter-widgets/base",
          "model_module_version": "1.2.0",
          "model_name": "LayoutModel",
          "state": {
            "_model_module": "@jupyter-widgets/base",
            "_model_module_version": "1.2.0",
            "_model_name": "LayoutModel",
            "_view_count": null,
            "_view_module": "@jupyter-widgets/base",
            "_view_module_version": "1.2.0",
            "_view_name": "LayoutView",
            "align_content": null,
            "align_items": null,
            "align_self": null,
            "border": null,
            "bottom": null,
            "display": null,
            "flex": null,
            "flex_flow": null,
            "grid_area": null,
            "grid_auto_columns": null,
            "grid_auto_flow": null,
            "grid_auto_rows": null,
            "grid_column": null,
            "grid_gap": null,
            "grid_row": null,
            "grid_template_areas": null,
            "grid_template_columns": null,
            "grid_template_rows": null,
            "height": null,
            "justify_content": null,
            "justify_items": null,
            "left": null,
            "margin": null,
            "max_height": null,
            "max_width": null,
            "min_height": null,
            "min_width": null,
            "object_fit": null,
            "object_position": null,
            "order": null,
            "overflow": null,
            "overflow_x": null,
            "overflow_y": null,
            "padding": null,
            "right": null,
            "top": null,
            "visibility": null,
            "width": null
          }
        },
        "b216186c6c5b4fb79036d43ccecdebed": {
          "model_module": "@jupyter-widgets/base",
          "model_module_version": "1.2.0",
          "model_name": "LayoutModel",
          "state": {
            "_model_module": "@jupyter-widgets/base",
            "_model_module_version": "1.2.0",
            "_model_name": "LayoutModel",
            "_view_count": null,
            "_view_module": "@jupyter-widgets/base",
            "_view_module_version": "1.2.0",
            "_view_name": "LayoutView",
            "align_content": null,
            "align_items": null,
            "align_self": null,
            "border": null,
            "bottom": null,
            "display": null,
            "flex": null,
            "flex_flow": null,
            "grid_area": null,
            "grid_auto_columns": null,
            "grid_auto_flow": null,
            "grid_auto_rows": null,
            "grid_column": null,
            "grid_gap": null,
            "grid_row": null,
            "grid_template_areas": null,
            "grid_template_columns": null,
            "grid_template_rows": null,
            "height": null,
            "justify_content": null,
            "justify_items": null,
            "left": null,
            "margin": null,
            "max_height": null,
            "max_width": null,
            "min_height": null,
            "min_width": null,
            "object_fit": null,
            "object_position": null,
            "order": null,
            "overflow": null,
            "overflow_x": null,
            "overflow_y": null,
            "padding": null,
            "right": null,
            "top": null,
            "visibility": null,
            "width": null
          }
        },
        "b2d5824636bd4b2395d2beac78d8743e": {
          "model_module": "@jupyter-widgets/base",
          "model_module_version": "1.2.0",
          "model_name": "LayoutModel",
          "state": {
            "_model_module": "@jupyter-widgets/base",
            "_model_module_version": "1.2.0",
            "_model_name": "LayoutModel",
            "_view_count": null,
            "_view_module": "@jupyter-widgets/base",
            "_view_module_version": "1.2.0",
            "_view_name": "LayoutView",
            "align_content": null,
            "align_items": null,
            "align_self": null,
            "border": null,
            "bottom": null,
            "display": null,
            "flex": null,
            "flex_flow": null,
            "grid_area": null,
            "grid_auto_columns": null,
            "grid_auto_flow": null,
            "grid_auto_rows": null,
            "grid_column": null,
            "grid_gap": null,
            "grid_row": null,
            "grid_template_areas": null,
            "grid_template_columns": null,
            "grid_template_rows": null,
            "height": null,
            "justify_content": null,
            "justify_items": null,
            "left": null,
            "margin": null,
            "max_height": null,
            "max_width": null,
            "min_height": null,
            "min_width": null,
            "object_fit": null,
            "object_position": null,
            "order": null,
            "overflow": null,
            "overflow_x": null,
            "overflow_y": null,
            "padding": null,
            "right": null,
            "top": null,
            "visibility": null,
            "width": null
          }
        },
        "b491f82203c744bb836331aa7df1694f": {
          "model_module": "@jupyter-widgets/controls",
          "model_module_version": "1.5.0",
          "model_name": "HBoxModel",
          "state": {
            "_dom_classes": [],
            "_model_module": "@jupyter-widgets/controls",
            "_model_module_version": "1.5.0",
            "_model_name": "HBoxModel",
            "_view_count": null,
            "_view_module": "@jupyter-widgets/controls",
            "_view_module_version": "1.5.0",
            "_view_name": "HBoxView",
            "box_style": "",
            "children": [
              "IPY_MODEL_d800f3f332234a40aea19822a8ae635e",
              "IPY_MODEL_06fe5cb9a5a9470d958e6fa424308ae3",
              "IPY_MODEL_35593dd704c44ba3a13b6e53ba455ebf"
            ],
            "layout": "IPY_MODEL_7a36b45fb27845f1951c9ddc77fd4c89"
          }
        },
        "b49aaaeb42c04717bcd1ba8647008aa0": {
          "model_module": "@jupyter-widgets/controls",
          "model_module_version": "1.5.0",
          "model_name": "FloatProgressModel",
          "state": {
            "_dom_classes": [],
            "_model_module": "@jupyter-widgets/controls",
            "_model_module_version": "1.5.0",
            "_model_name": "FloatProgressModel",
            "_view_count": null,
            "_view_module": "@jupyter-widgets/controls",
            "_view_module_version": "1.5.0",
            "_view_name": "ProgressView",
            "bar_style": "success",
            "description": "",
            "description_tooltip": null,
            "layout": "IPY_MODEL_61e84f48273d4eefb6bdabb1021f39c6",
            "max": 672247920,
            "min": 0,
            "orientation": "horizontal",
            "style": "IPY_MODEL_62a7cc26980b44539fecf7ded065f20e",
            "value": 672247920
          }
        },
        "b4a5e5cdb34f4927afbe55111a35485c": {
          "model_module": "@jupyter-widgets/base",
          "model_module_version": "1.2.0",
          "model_name": "LayoutModel",
          "state": {
            "_model_module": "@jupyter-widgets/base",
            "_model_module_version": "1.2.0",
            "_model_name": "LayoutModel",
            "_view_count": null,
            "_view_module": "@jupyter-widgets/base",
            "_view_module_version": "1.2.0",
            "_view_name": "LayoutView",
            "align_content": null,
            "align_items": null,
            "align_self": null,
            "border": null,
            "bottom": null,
            "display": null,
            "flex": null,
            "flex_flow": null,
            "grid_area": null,
            "grid_auto_columns": null,
            "grid_auto_flow": null,
            "grid_auto_rows": null,
            "grid_column": null,
            "grid_gap": null,
            "grid_row": null,
            "grid_template_areas": null,
            "grid_template_columns": null,
            "grid_template_rows": null,
            "height": null,
            "justify_content": null,
            "justify_items": null,
            "left": null,
            "margin": null,
            "max_height": null,
            "max_width": null,
            "min_height": null,
            "min_width": null,
            "object_fit": null,
            "object_position": null,
            "order": null,
            "overflow": null,
            "overflow_x": null,
            "overflow_y": null,
            "padding": null,
            "right": null,
            "top": null,
            "visibility": null,
            "width": null
          }
        },
        "b540339a33d4470faf476439230658c1": {
          "model_module": "@jupyter-widgets/controls",
          "model_module_version": "1.5.0",
          "model_name": "HTMLModel",
          "state": {
            "_dom_classes": [],
            "_model_module": "@jupyter-widgets/controls",
            "_model_module_version": "1.5.0",
            "_model_name": "HTMLModel",
            "_view_count": null,
            "_view_module": "@jupyter-widgets/controls",
            "_view_module_version": "1.5.0",
            "_view_name": "HTMLView",
            "description": "",
            "description_tooltip": null,
            "layout": "IPY_MODEL_37fb3f3ebb6144eda00e99c9acfed570",
            "placeholder": "​",
            "style": "IPY_MODEL_553b595c95374d9d9d1cd87a4e5ad219",
            "value": "model.safetensors: 100%"
          }
        },
        "b642e59152cc43e8a81618a519cfa71b": {
          "model_module": "@jupyter-widgets/controls",
          "model_module_version": "1.5.0",
          "model_name": "HTMLModel",
          "state": {
            "_dom_classes": [],
            "_model_module": "@jupyter-widgets/controls",
            "_model_module_version": "1.5.0",
            "_model_name": "HTMLModel",
            "_view_count": null,
            "_view_module": "@jupyter-widgets/controls",
            "_view_module_version": "1.5.0",
            "_view_name": "HTMLView",
            "description": "",
            "description_tooltip": null,
            "layout": "IPY_MODEL_19681816783d43ff9e1086b8a6e13c08",
            "placeholder": "​",
            "style": "IPY_MODEL_57458ec692ca4575bd0077c3fd7fd2c1",
            "value": "tokenizer_config.json: 100%"
          }
        },
        "b68f5f76fdd74b64aa96de5527e78ab1": {
          "model_module": "@jupyter-widgets/controls",
          "model_module_version": "1.5.0",
          "model_name": "HTMLModel",
          "state": {
            "_dom_classes": [],
            "_model_module": "@jupyter-widgets/controls",
            "_model_module_version": "1.5.0",
            "_model_name": "HTMLModel",
            "_view_count": null,
            "_view_module": "@jupyter-widgets/controls",
            "_view_module_version": "1.5.0",
            "_view_name": "HTMLView",
            "description": "",
            "description_tooltip": null,
            "layout": "IPY_MODEL_c4d8eb2f193e428eb5ca62a6b480be16",
            "placeholder": "​",
            "style": "IPY_MODEL_aef9f67590ce42e18c69e4e2ae3098c1",
            "value": "tokenizer.json: 100%"
          }
        },
        "b88efb53f1814908940afc2f91f011de": {
          "model_module": "@jupyter-widgets/controls",
          "model_module_version": "1.5.0",
          "model_name": "ProgressStyleModel",
          "state": {
            "_model_module": "@jupyter-widgets/controls",
            "_model_module_version": "1.5.0",
            "_model_name": "ProgressStyleModel",
            "_view_count": null,
            "_view_module": "@jupyter-widgets/base",
            "_view_module_version": "1.2.0",
            "_view_name": "StyleView",
            "bar_color": null,
            "description_width": ""
          }
        },
        "bb54f67a8c2e49cf844fc6d284be1204": {
          "model_module": "@jupyter-widgets/controls",
          "model_module_version": "1.5.0",
          "model_name": "FloatProgressModel",
          "state": {
            "_dom_classes": [],
            "_model_module": "@jupyter-widgets/controls",
            "_model_module_version": "1.5.0",
            "_model_name": "FloatProgressModel",
            "_view_count": null,
            "_view_module": "@jupyter-widgets/controls",
            "_view_module_version": "1.5.0",
            "_view_name": "ProgressView",
            "bar_style": "success",
            "description": "",
            "description_tooltip": null,
            "layout": "IPY_MODEL_c7c30d9d3410473b91dd69eeaf5d3956",
            "max": 231508,
            "min": 0,
            "orientation": "horizontal",
            "style": "IPY_MODEL_b88efb53f1814908940afc2f91f011de",
            "value": 231508
          }
        },
        "be57ead55b114c0f86121fefb687e92a": {
          "model_module": "@jupyter-widgets/controls",
          "model_module_version": "1.5.0",
          "model_name": "ProgressStyleModel",
          "state": {
            "_model_module": "@jupyter-widgets/controls",
            "_model_module_version": "1.5.0",
            "_model_name": "ProgressStyleModel",
            "_view_count": null,
            "_view_module": "@jupyter-widgets/base",
            "_view_module_version": "1.2.0",
            "_view_name": "StyleView",
            "bar_color": null,
            "description_width": ""
          }
        },
        "bfa119feef8048ccbef709b9e5e3161a": {
          "model_module": "@jupyter-widgets/controls",
          "model_module_version": "1.5.0",
          "model_name": "HTMLModel",
          "state": {
            "_dom_classes": [],
            "_model_module": "@jupyter-widgets/controls",
            "_model_module_version": "1.5.0",
            "_model_name": "HTMLModel",
            "_view_count": null,
            "_view_module": "@jupyter-widgets/controls",
            "_view_module_version": "1.5.0",
            "_view_name": "HTMLView",
            "description": "",
            "description_tooltip": null,
            "layout": "IPY_MODEL_a893a0dba59747fb96c58b9c42d77536",
            "placeholder": "​",
            "style": "IPY_MODEL_06e01c093ac34f80a87f65a272fdebdd",
            "value": "model.safetensors: 100%"
          }
        },
        "bfb171dc8c204b13b0d4e5ce2ff643e7": {
          "model_module": "@jupyter-widgets/controls",
          "model_module_version": "1.5.0",
          "model_name": "DescriptionStyleModel",
          "state": {
            "_model_module": "@jupyter-widgets/controls",
            "_model_module_version": "1.5.0",
            "_model_name": "DescriptionStyleModel",
            "_view_count": null,
            "_view_module": "@jupyter-widgets/base",
            "_view_module_version": "1.2.0",
            "_view_name": "StyleView",
            "description_width": ""
          }
        },
        "c18028b4a9b247469f3d7bec88d867b7": {
          "model_module": "@jupyter-widgets/controls",
          "model_module_version": "1.5.0",
          "model_name": "FloatProgressModel",
          "state": {
            "_dom_classes": [],
            "_model_module": "@jupyter-widgets/controls",
            "_model_module_version": "1.5.0",
            "_model_name": "FloatProgressModel",
            "_view_count": null,
            "_view_module": "@jupyter-widgets/controls",
            "_view_module_version": "1.5.0",
            "_view_name": "ProgressView",
            "bar_style": "success",
            "description": "",
            "description_tooltip": null,
            "layout": "IPY_MODEL_fa78c2f098c94b65958d45643d45cd06",
            "max": 48,
            "min": 0,
            "orientation": "horizontal",
            "style": "IPY_MODEL_e306b6949eff4b5d8a28cdd5b99185ea",
            "value": 48
          }
        },
        "c1e1a9f6dc4d408ca31d95f788e9c272": {
          "model_module": "@jupyter-widgets/base",
          "model_module_version": "1.2.0",
          "model_name": "LayoutModel",
          "state": {
            "_model_module": "@jupyter-widgets/base",
            "_model_module_version": "1.2.0",
            "_model_name": "LayoutModel",
            "_view_count": null,
            "_view_module": "@jupyter-widgets/base",
            "_view_module_version": "1.2.0",
            "_view_name": "LayoutView",
            "align_content": null,
            "align_items": null,
            "align_self": null,
            "border": null,
            "bottom": null,
            "display": null,
            "flex": null,
            "flex_flow": null,
            "grid_area": null,
            "grid_auto_columns": null,
            "grid_auto_flow": null,
            "grid_auto_rows": null,
            "grid_column": null,
            "grid_gap": null,
            "grid_row": null,
            "grid_template_areas": null,
            "grid_template_columns": null,
            "grid_template_rows": null,
            "height": null,
            "justify_content": null,
            "justify_items": null,
            "left": null,
            "margin": null,
            "max_height": null,
            "max_width": null,
            "min_height": null,
            "min_width": null,
            "object_fit": null,
            "object_position": null,
            "order": null,
            "overflow": null,
            "overflow_x": null,
            "overflow_y": null,
            "padding": null,
            "right": null,
            "top": null,
            "visibility": null,
            "width": null
          }
        },
        "c25dc7f471c1430e8233928e379d665a": {
          "model_module": "@jupyter-widgets/controls",
          "model_module_version": "1.5.0",
          "model_name": "HBoxModel",
          "state": {
            "_dom_classes": [],
            "_model_module": "@jupyter-widgets/controls",
            "_model_module_version": "1.5.0",
            "_model_name": "HBoxModel",
            "_view_count": null,
            "_view_module": "@jupyter-widgets/controls",
            "_view_module_version": "1.5.0",
            "_view_name": "HBoxView",
            "box_style": "",
            "children": [
              "IPY_MODEL_b642e59152cc43e8a81618a519cfa71b",
              "IPY_MODEL_c18028b4a9b247469f3d7bec88d867b7",
              "IPY_MODEL_0d103f3c04c447f4baa4862feefccf2b"
            ],
            "layout": "IPY_MODEL_7c0dbc2075e44574bbf2e7b50770d3f5"
          }
        },
        "c42b3152311841b9b36fa245faba6e28": {
          "model_module": "@jupyter-widgets/controls",
          "model_module_version": "1.5.0",
          "model_name": "HTMLModel",
          "state": {
            "_dom_classes": [],
            "_model_module": "@jupyter-widgets/controls",
            "_model_module_version": "1.5.0",
            "_model_name": "HTMLModel",
            "_view_count": null,
            "_view_module": "@jupyter-widgets/controls",
            "_view_module_version": "1.5.0",
            "_view_name": "HTMLView",
            "description": "",
            "description_tooltip": null,
            "layout": "IPY_MODEL_9b11cc447fe94eb293d3353c935d8125",
            "placeholder": "​",
            "style": "IPY_MODEL_422276b68516458fae5d0e0872b4a579",
            "value": " 483/483 [00:00&lt;00:00, 46.3kB/s]"
          }
        },
        "c4d8eb2f193e428eb5ca62a6b480be16": {
          "model_module": "@jupyter-widgets/base",
          "model_module_version": "1.2.0",
          "model_name": "LayoutModel",
          "state": {
            "_model_module": "@jupyter-widgets/base",
            "_model_module_version": "1.2.0",
            "_model_name": "LayoutModel",
            "_view_count": null,
            "_view_module": "@jupyter-widgets/base",
            "_view_module_version": "1.2.0",
            "_view_name": "LayoutView",
            "align_content": null,
            "align_items": null,
            "align_self": null,
            "border": null,
            "bottom": null,
            "display": null,
            "flex": null,
            "flex_flow": null,
            "grid_area": null,
            "grid_auto_columns": null,
            "grid_auto_flow": null,
            "grid_auto_rows": null,
            "grid_column": null,
            "grid_gap": null,
            "grid_row": null,
            "grid_template_areas": null,
            "grid_template_columns": null,
            "grid_template_rows": null,
            "height": null,
            "justify_content": null,
            "justify_items": null,
            "left": null,
            "margin": null,
            "max_height": null,
            "max_width": null,
            "min_height": null,
            "min_width": null,
            "object_fit": null,
            "object_position": null,
            "order": null,
            "overflow": null,
            "overflow_x": null,
            "overflow_y": null,
            "padding": null,
            "right": null,
            "top": null,
            "visibility": null,
            "width": null
          }
        },
        "c7c30d9d3410473b91dd69eeaf5d3956": {
          "model_module": "@jupyter-widgets/base",
          "model_module_version": "1.2.0",
          "model_name": "LayoutModel",
          "state": {
            "_model_module": "@jupyter-widgets/base",
            "_model_module_version": "1.2.0",
            "_model_name": "LayoutModel",
            "_view_count": null,
            "_view_module": "@jupyter-widgets/base",
            "_view_module_version": "1.2.0",
            "_view_name": "LayoutView",
            "align_content": null,
            "align_items": null,
            "align_self": null,
            "border": null,
            "bottom": null,
            "display": null,
            "flex": null,
            "flex_flow": null,
            "grid_area": null,
            "grid_auto_columns": null,
            "grid_auto_flow": null,
            "grid_auto_rows": null,
            "grid_column": null,
            "grid_gap": null,
            "grid_row": null,
            "grid_template_areas": null,
            "grid_template_columns": null,
            "grid_template_rows": null,
            "height": null,
            "justify_content": null,
            "justify_items": null,
            "left": null,
            "margin": null,
            "max_height": null,
            "max_width": null,
            "min_height": null,
            "min_width": null,
            "object_fit": null,
            "object_position": null,
            "order": null,
            "overflow": null,
            "overflow_x": null,
            "overflow_y": null,
            "padding": null,
            "right": null,
            "top": null,
            "visibility": null,
            "width": null
          }
        },
        "c8cc57d51fc74d07bbac44c2cd4a84a9": {
          "model_module": "@jupyter-widgets/controls",
          "model_module_version": "1.5.0",
          "model_name": "FloatProgressModel",
          "state": {
            "_dom_classes": [],
            "_model_module": "@jupyter-widgets/controls",
            "_model_module_version": "1.5.0",
            "_model_name": "FloatProgressModel",
            "_view_count": null,
            "_view_module": "@jupyter-widgets/controls",
            "_view_module_version": "1.5.0",
            "_view_name": "ProgressView",
            "bar_style": "success",
            "description": "",
            "description_tooltip": null,
            "layout": "IPY_MODEL_c9b05fe75587423fa5543b7bb172b3c2",
            "max": 2000,
            "min": 0,
            "orientation": "horizontal",
            "style": "IPY_MODEL_2e005dfb8db44232b29ce3b874df8332",
            "value": 2000
          }
        },
        "c9b05fe75587423fa5543b7bb172b3c2": {
          "model_module": "@jupyter-widgets/base",
          "model_module_version": "1.2.0",
          "model_name": "LayoutModel",
          "state": {
            "_model_module": "@jupyter-widgets/base",
            "_model_module_version": "1.2.0",
            "_model_name": "LayoutModel",
            "_view_count": null,
            "_view_module": "@jupyter-widgets/base",
            "_view_module_version": "1.2.0",
            "_view_name": "LayoutView",
            "align_content": null,
            "align_items": null,
            "align_self": null,
            "border": null,
            "bottom": null,
            "display": null,
            "flex": null,
            "flex_flow": null,
            "grid_area": null,
            "grid_auto_columns": null,
            "grid_auto_flow": null,
            "grid_auto_rows": null,
            "grid_column": null,
            "grid_gap": null,
            "grid_row": null,
            "grid_template_areas": null,
            "grid_template_columns": null,
            "grid_template_rows": null,
            "height": null,
            "justify_content": null,
            "justify_items": null,
            "left": null,
            "margin": null,
            "max_height": null,
            "max_width": null,
            "min_height": null,
            "min_width": null,
            "object_fit": null,
            "object_position": null,
            "order": null,
            "overflow": null,
            "overflow_x": null,
            "overflow_y": null,
            "padding": null,
            "right": null,
            "top": null,
            "visibility": null,
            "width": null
          }
        },
        "c9d9dc39536741828be004cf7d75bbe7": {
          "model_module": "@jupyter-widgets/base",
          "model_module_version": "1.2.0",
          "model_name": "LayoutModel",
          "state": {
            "_model_module": "@jupyter-widgets/base",
            "_model_module_version": "1.2.0",
            "_model_name": "LayoutModel",
            "_view_count": null,
            "_view_module": "@jupyter-widgets/base",
            "_view_module_version": "1.2.0",
            "_view_name": "LayoutView",
            "align_content": null,
            "align_items": null,
            "align_self": null,
            "border": null,
            "bottom": null,
            "display": null,
            "flex": null,
            "flex_flow": null,
            "grid_area": null,
            "grid_auto_columns": null,
            "grid_auto_flow": null,
            "grid_auto_rows": null,
            "grid_column": null,
            "grid_gap": null,
            "grid_row": null,
            "grid_template_areas": null,
            "grid_template_columns": null,
            "grid_template_rows": null,
            "height": null,
            "justify_content": null,
            "justify_items": null,
            "left": null,
            "margin": null,
            "max_height": null,
            "max_width": null,
            "min_height": null,
            "min_width": null,
            "object_fit": null,
            "object_position": null,
            "order": null,
            "overflow": null,
            "overflow_x": null,
            "overflow_y": null,
            "padding": null,
            "right": null,
            "top": null,
            "visibility": null,
            "width": null
          }
        },
        "ca12e190141b4565970a30157b44c95d": {
          "model_module": "@jupyter-widgets/controls",
          "model_module_version": "1.5.0",
          "model_name": "HTMLModel",
          "state": {
            "_dom_classes": [],
            "_model_module": "@jupyter-widgets/controls",
            "_model_module_version": "1.5.0",
            "_model_name": "HTMLModel",
            "_view_count": null,
            "_view_module": "@jupyter-widgets/controls",
            "_view_module_version": "1.5.0",
            "_view_name": "HTMLView",
            "description": "",
            "description_tooltip": null,
            "layout": "IPY_MODEL_4ee2afb90e3b41df9d8322a4c0ba3da8",
            "placeholder": "​",
            "style": "IPY_MODEL_3c03dd18676a48708315d9d88c37fe75",
            "value": " 232k/232k [00:00&lt;00:00, 6.90MB/s]"
          }
        },
        "caf96a9ed62e4e3593f09882bd14b1d0": {
          "model_module": "@jupyter-widgets/controls",
          "model_module_version": "1.5.0",
          "model_name": "FloatProgressModel",
          "state": {
            "_dom_classes": [],
            "_model_module": "@jupyter-widgets/controls",
            "_model_module_version": "1.5.0",
            "_model_name": "FloatProgressModel",
            "_view_count": null,
            "_view_module": "@jupyter-widgets/controls",
            "_view_module_version": "1.5.0",
            "_view_name": "ProgressView",
            "bar_style": "success",
            "description": "",
            "description_tooltip": null,
            "layout": "IPY_MODEL_2a9ab3c0b38149438fbb3da75458f5ae",
            "max": 1725,
            "min": 0,
            "orientation": "horizontal",
            "style": "IPY_MODEL_7b4cb007344d4b0a95194f45de90111b",
            "value": 1725
          }
        },
        "cb62b1be92ec497090eaa22feee355a9": {
          "model_module": "@jupyter-widgets/controls",
          "model_module_version": "1.5.0",
          "model_name": "FloatProgressModel",
          "state": {
            "_dom_classes": [],
            "_model_module": "@jupyter-widgets/controls",
            "_model_module_version": "1.5.0",
            "_model_name": "FloatProgressModel",
            "_view_count": null,
            "_view_module": "@jupyter-widgets/controls",
            "_view_module_version": "1.5.0",
            "_view_name": "ProgressView",
            "bar_style": "success",
            "description": "",
            "description_tooltip": null,
            "layout": "IPY_MODEL_eed01f3896fc4ecfadc4b57ebcc74d60",
            "max": 4076,
            "min": 0,
            "orientation": "horizontal",
            "style": "IPY_MODEL_1c3c94af61d9430591155ccf4c9fd37b",
            "value": 4076
          }
        },
        "cb9fe9e1bf7d4a1c9d920e4b794b5f72": {
          "model_module": "@jupyter-widgets/controls",
          "model_module_version": "1.5.0",
          "model_name": "ProgressStyleModel",
          "state": {
            "_model_module": "@jupyter-widgets/controls",
            "_model_module_version": "1.5.0",
            "_model_name": "ProgressStyleModel",
            "_view_count": null,
            "_view_module": "@jupyter-widgets/base",
            "_view_module_version": "1.2.0",
            "_view_name": "StyleView",
            "bar_color": null,
            "description_width": ""
          }
        },
        "cbf3a55b38a5481c81b782e7ab36ccd8": {
          "model_module": "@jupyter-widgets/controls",
          "model_module_version": "1.5.0",
          "model_name": "DescriptionStyleModel",
          "state": {
            "_model_module": "@jupyter-widgets/controls",
            "_model_module_version": "1.5.0",
            "_model_name": "DescriptionStyleModel",
            "_view_count": null,
            "_view_module": "@jupyter-widgets/base",
            "_view_module_version": "1.2.0",
            "_view_name": "StyleView",
            "description_width": ""
          }
        },
        "cc51526532c84e629df978c615733065": {
          "model_module": "@jupyter-widgets/controls",
          "model_module_version": "1.5.0",
          "model_name": "DescriptionStyleModel",
          "state": {
            "_model_module": "@jupyter-widgets/controls",
            "_model_module_version": "1.5.0",
            "_model_name": "DescriptionStyleModel",
            "_view_count": null,
            "_view_module": "@jupyter-widgets/base",
            "_view_module_version": "1.2.0",
            "_view_name": "StyleView",
            "description_width": ""
          }
        },
        "ccebc02127594d70839c42e68e2ed4c1": {
          "model_module": "@jupyter-widgets/controls",
          "model_module_version": "1.5.0",
          "model_name": "FloatProgressModel",
          "state": {
            "_dom_classes": [],
            "_model_module": "@jupyter-widgets/controls",
            "_model_module_version": "1.5.0",
            "_model_name": "FloatProgressModel",
            "_view_count": null,
            "_view_module": "@jupyter-widgets/controls",
            "_view_module_version": "1.5.0",
            "_view_name": "ProgressView",
            "bar_style": "success",
            "description": "",
            "description_tooltip": null,
            "layout": "IPY_MODEL_650e6d9f38c842f8996fa9974518810a",
            "max": 6400,
            "min": 0,
            "orientation": "horizontal",
            "style": "IPY_MODEL_7491e2731dbd42e4a8bbbefe766bcad1",
            "value": 6400
          }
        },
        "cdcb04f217a849e8897835285bcc07f3": {
          "model_module": "@jupyter-widgets/base",
          "model_module_version": "1.2.0",
          "model_name": "LayoutModel",
          "state": {
            "_model_module": "@jupyter-widgets/base",
            "_model_module_version": "1.2.0",
            "_model_name": "LayoutModel",
            "_view_count": null,
            "_view_module": "@jupyter-widgets/base",
            "_view_module_version": "1.2.0",
            "_view_name": "LayoutView",
            "align_content": null,
            "align_items": null,
            "align_self": null,
            "border": null,
            "bottom": null,
            "display": null,
            "flex": null,
            "flex_flow": null,
            "grid_area": null,
            "grid_auto_columns": null,
            "grid_auto_flow": null,
            "grid_auto_rows": null,
            "grid_column": null,
            "grid_gap": null,
            "grid_row": null,
            "grid_template_areas": null,
            "grid_template_columns": null,
            "grid_template_rows": null,
            "height": null,
            "justify_content": null,
            "justify_items": null,
            "left": null,
            "margin": null,
            "max_height": null,
            "max_width": null,
            "min_height": null,
            "min_width": null,
            "object_fit": null,
            "object_position": null,
            "order": null,
            "overflow": null,
            "overflow_x": null,
            "overflow_y": null,
            "padding": null,
            "right": null,
            "top": null,
            "visibility": null,
            "width": null
          }
        },
        "ce537680208c4ee2998c00ab8e6addc7": {
          "model_module": "@jupyter-widgets/controls",
          "model_module_version": "1.5.0",
          "model_name": "ProgressStyleModel",
          "state": {
            "_model_module": "@jupyter-widgets/controls",
            "_model_module_version": "1.5.0",
            "_model_name": "ProgressStyleModel",
            "_view_count": null,
            "_view_module": "@jupyter-widgets/base",
            "_view_module_version": "1.2.0",
            "_view_name": "StyleView",
            "bar_color": null,
            "description_width": ""
          }
        },
        "cf82468ae9fc4caa8590293387cf0753": {
          "model_module": "@jupyter-widgets/base",
          "model_module_version": "1.2.0",
          "model_name": "LayoutModel",
          "state": {
            "_model_module": "@jupyter-widgets/base",
            "_model_module_version": "1.2.0",
            "_model_name": "LayoutModel",
            "_view_count": null,
            "_view_module": "@jupyter-widgets/base",
            "_view_module_version": "1.2.0",
            "_view_name": "LayoutView",
            "align_content": null,
            "align_items": null,
            "align_self": null,
            "border": null,
            "bottom": null,
            "display": null,
            "flex": null,
            "flex_flow": null,
            "grid_area": null,
            "grid_auto_columns": null,
            "grid_auto_flow": null,
            "grid_auto_rows": null,
            "grid_column": null,
            "grid_gap": null,
            "grid_row": null,
            "grid_template_areas": null,
            "grid_template_columns": null,
            "grid_template_rows": null,
            "height": null,
            "justify_content": null,
            "justify_items": null,
            "left": null,
            "margin": null,
            "max_height": null,
            "max_width": null,
            "min_height": null,
            "min_width": null,
            "object_fit": null,
            "object_position": null,
            "order": null,
            "overflow": null,
            "overflow_x": null,
            "overflow_y": null,
            "padding": null,
            "right": null,
            "top": null,
            "visibility": null,
            "width": null
          }
        },
        "d12ceb13cecd4db694400048ac649ba9": {
          "model_module": "@jupyter-widgets/controls",
          "model_module_version": "1.5.0",
          "model_name": "HBoxModel",
          "state": {
            "_dom_classes": [],
            "_model_module": "@jupyter-widgets/controls",
            "_model_module_version": "1.5.0",
            "_model_name": "HBoxModel",
            "_view_count": null,
            "_view_module": "@jupyter-widgets/controls",
            "_view_module_version": "1.5.0",
            "_view_name": "HBoxView",
            "box_style": "",
            "children": [
              "IPY_MODEL_b68f5f76fdd74b64aa96de5527e78ab1",
              "IPY_MODEL_1fb33286fd814b67a2932c28f447ed20",
              "IPY_MODEL_7209a277341e4028afcfaa9430fc7ac3"
            ],
            "layout": "IPY_MODEL_1e5d30f411fd47f6b65b38ec6dcc0ba9"
          }
        },
        "d25ae56be4144ba2addfde36a0ce4cdf": {
          "model_module": "@jupyter-widgets/controls",
          "model_module_version": "1.5.0",
          "model_name": "HTMLModel",
          "state": {
            "_dom_classes": [],
            "_model_module": "@jupyter-widgets/controls",
            "_model_module_version": "1.5.0",
            "_model_name": "HTMLModel",
            "_view_count": null,
            "_view_module": "@jupyter-widgets/controls",
            "_view_module_version": "1.5.0",
            "_view_name": "HTMLView",
            "description": "",
            "description_tooltip": null,
            "layout": "IPY_MODEL_e94a1285c6594dbeacd9d6eb1881e0ee",
            "placeholder": "​",
            "style": "IPY_MODEL_84856b4958164a3c8153bfe8ebdb9d96",
            "value": "Map: 100%"
          }
        },
        "d31de216f90747968e99b9f6f7196a73": {
          "model_module": "@jupyter-widgets/base",
          "model_module_version": "1.2.0",
          "model_name": "LayoutModel",
          "state": {
            "_model_module": "@jupyter-widgets/base",
            "_model_module_version": "1.2.0",
            "_model_name": "LayoutModel",
            "_view_count": null,
            "_view_module": "@jupyter-widgets/base",
            "_view_module_version": "1.2.0",
            "_view_name": "LayoutView",
            "align_content": null,
            "align_items": null,
            "align_self": null,
            "border": null,
            "bottom": null,
            "display": null,
            "flex": null,
            "flex_flow": null,
            "grid_area": null,
            "grid_auto_columns": null,
            "grid_auto_flow": null,
            "grid_auto_rows": null,
            "grid_column": null,
            "grid_gap": null,
            "grid_row": null,
            "grid_template_areas": null,
            "grid_template_columns": null,
            "grid_template_rows": null,
            "height": null,
            "justify_content": null,
            "justify_items": null,
            "left": null,
            "margin": null,
            "max_height": null,
            "max_width": null,
            "min_height": null,
            "min_width": null,
            "object_fit": null,
            "object_position": null,
            "order": null,
            "overflow": null,
            "overflow_x": null,
            "overflow_y": null,
            "padding": null,
            "right": null,
            "top": null,
            "visibility": null,
            "width": null
          }
        },
        "d4116a8e1e654895ab9b0ff4e69cddc9": {
          "model_module": "@jupyter-widgets/base",
          "model_module_version": "1.2.0",
          "model_name": "LayoutModel",
          "state": {
            "_model_module": "@jupyter-widgets/base",
            "_model_module_version": "1.2.0",
            "_model_name": "LayoutModel",
            "_view_count": null,
            "_view_module": "@jupyter-widgets/base",
            "_view_module_version": "1.2.0",
            "_view_name": "LayoutView",
            "align_content": null,
            "align_items": null,
            "align_self": null,
            "border": null,
            "bottom": null,
            "display": null,
            "flex": null,
            "flex_flow": null,
            "grid_area": null,
            "grid_auto_columns": null,
            "grid_auto_flow": null,
            "grid_auto_rows": null,
            "grid_column": null,
            "grid_gap": null,
            "grid_row": null,
            "grid_template_areas": null,
            "grid_template_columns": null,
            "grid_template_rows": null,
            "height": null,
            "justify_content": null,
            "justify_items": null,
            "left": null,
            "margin": null,
            "max_height": null,
            "max_width": null,
            "min_height": null,
            "min_width": null,
            "object_fit": null,
            "object_position": null,
            "order": null,
            "overflow": null,
            "overflow_x": null,
            "overflow_y": null,
            "padding": null,
            "right": null,
            "top": null,
            "visibility": null,
            "width": null
          }
        },
        "d5523c8aefa44aa9bd30f257c769b3b0": {
          "model_module": "@jupyter-widgets/controls",
          "model_module_version": "1.5.0",
          "model_name": "DescriptionStyleModel",
          "state": {
            "_model_module": "@jupyter-widgets/controls",
            "_model_module_version": "1.5.0",
            "_model_name": "DescriptionStyleModel",
            "_view_count": null,
            "_view_module": "@jupyter-widgets/base",
            "_view_module_version": "1.2.0",
            "_view_name": "StyleView",
            "description_width": ""
          }
        },
        "d55d0d51a94846eb8bfdb5051f66380c": {
          "model_module": "@jupyter-widgets/base",
          "model_module_version": "1.2.0",
          "model_name": "LayoutModel",
          "state": {
            "_model_module": "@jupyter-widgets/base",
            "_model_module_version": "1.2.0",
            "_model_name": "LayoutModel",
            "_view_count": null,
            "_view_module": "@jupyter-widgets/base",
            "_view_module_version": "1.2.0",
            "_view_name": "LayoutView",
            "align_content": null,
            "align_items": null,
            "align_self": null,
            "border": null,
            "bottom": null,
            "display": null,
            "flex": null,
            "flex_flow": null,
            "grid_area": null,
            "grid_auto_columns": null,
            "grid_auto_flow": null,
            "grid_auto_rows": null,
            "grid_column": null,
            "grid_gap": null,
            "grid_row": null,
            "grid_template_areas": null,
            "grid_template_columns": null,
            "grid_template_rows": null,
            "height": null,
            "justify_content": null,
            "justify_items": null,
            "left": null,
            "margin": null,
            "max_height": null,
            "max_width": null,
            "min_height": null,
            "min_width": null,
            "object_fit": null,
            "object_position": null,
            "order": null,
            "overflow": null,
            "overflow_x": null,
            "overflow_y": null,
            "padding": null,
            "right": null,
            "top": null,
            "visibility": null,
            "width": null
          }
        },
        "d5eb0110f78d4a88968b8be580d367d7": {
          "model_module": "@jupyter-widgets/controls",
          "model_module_version": "1.5.0",
          "model_name": "ProgressStyleModel",
          "state": {
            "_model_module": "@jupyter-widgets/controls",
            "_model_module_version": "1.5.0",
            "_model_name": "ProgressStyleModel",
            "_view_count": null,
            "_view_module": "@jupyter-widgets/base",
            "_view_module_version": "1.2.0",
            "_view_name": "StyleView",
            "bar_color": null,
            "description_width": ""
          }
        },
        "d800f3f332234a40aea19822a8ae635e": {
          "model_module": "@jupyter-widgets/controls",
          "model_module_version": "1.5.0",
          "model_name": "HTMLModel",
          "state": {
            "_dom_classes": [],
            "_model_module": "@jupyter-widgets/controls",
            "_model_module_version": "1.5.0",
            "_model_name": "HTMLModel",
            "_view_count": null,
            "_view_module": "@jupyter-widgets/controls",
            "_view_module_version": "1.5.0",
            "_view_name": "HTMLView",
            "description": "",
            "description_tooltip": null,
            "layout": "IPY_MODEL_d55d0d51a94846eb8bfdb5051f66380c",
            "placeholder": "​",
            "style": "IPY_MODEL_3eb5ed2fcaaf4d789e29338b809e8c89",
            "value": "Map: 100%"
          }
        },
        "da0bf094e10f49fe874c1184ca872163": {
          "model_module": "@jupyter-widgets/base",
          "model_module_version": "1.2.0",
          "model_name": "LayoutModel",
          "state": {
            "_model_module": "@jupyter-widgets/base",
            "_model_module_version": "1.2.0",
            "_model_name": "LayoutModel",
            "_view_count": null,
            "_view_module": "@jupyter-widgets/base",
            "_view_module_version": "1.2.0",
            "_view_name": "LayoutView",
            "align_content": null,
            "align_items": null,
            "align_self": null,
            "border": null,
            "bottom": null,
            "display": null,
            "flex": null,
            "flex_flow": null,
            "grid_area": null,
            "grid_auto_columns": null,
            "grid_auto_flow": null,
            "grid_auto_rows": null,
            "grid_column": null,
            "grid_gap": null,
            "grid_row": null,
            "grid_template_areas": null,
            "grid_template_columns": null,
            "grid_template_rows": null,
            "height": null,
            "justify_content": null,
            "justify_items": null,
            "left": null,
            "margin": null,
            "max_height": null,
            "max_width": null,
            "min_height": null,
            "min_width": null,
            "object_fit": null,
            "object_position": null,
            "order": null,
            "overflow": null,
            "overflow_x": null,
            "overflow_y": null,
            "padding": null,
            "right": null,
            "top": null,
            "visibility": null,
            "width": null
          }
        },
        "dac04b8524f54556b4379427c1c1f441": {
          "model_module": "@jupyter-widgets/base",
          "model_module_version": "1.2.0",
          "model_name": "LayoutModel",
          "state": {
            "_model_module": "@jupyter-widgets/base",
            "_model_module_version": "1.2.0",
            "_model_name": "LayoutModel",
            "_view_count": null,
            "_view_module": "@jupyter-widgets/base",
            "_view_module_version": "1.2.0",
            "_view_name": "LayoutView",
            "align_content": null,
            "align_items": null,
            "align_self": null,
            "border": null,
            "bottom": null,
            "display": null,
            "flex": null,
            "flex_flow": null,
            "grid_area": null,
            "grid_auto_columns": null,
            "grid_auto_flow": null,
            "grid_auto_rows": null,
            "grid_column": null,
            "grid_gap": null,
            "grid_row": null,
            "grid_template_areas": null,
            "grid_template_columns": null,
            "grid_template_rows": null,
            "height": null,
            "justify_content": null,
            "justify_items": null,
            "left": null,
            "margin": null,
            "max_height": null,
            "max_width": null,
            "min_height": null,
            "min_width": null,
            "object_fit": null,
            "object_position": null,
            "order": null,
            "overflow": null,
            "overflow_x": null,
            "overflow_y": null,
            "padding": null,
            "right": null,
            "top": null,
            "visibility": null,
            "width": null
          }
        },
        "dbfec208f0b2489ab69c9f43adffb642": {
          "model_module": "@jupyter-widgets/base",
          "model_module_version": "1.2.0",
          "model_name": "LayoutModel",
          "state": {
            "_model_module": "@jupyter-widgets/base",
            "_model_module_version": "1.2.0",
            "_model_name": "LayoutModel",
            "_view_count": null,
            "_view_module": "@jupyter-widgets/base",
            "_view_module_version": "1.2.0",
            "_view_name": "LayoutView",
            "align_content": null,
            "align_items": null,
            "align_self": null,
            "border": null,
            "bottom": null,
            "display": null,
            "flex": null,
            "flex_flow": null,
            "grid_area": null,
            "grid_auto_columns": null,
            "grid_auto_flow": null,
            "grid_auto_rows": null,
            "grid_column": null,
            "grid_gap": null,
            "grid_row": null,
            "grid_template_areas": null,
            "grid_template_columns": null,
            "grid_template_rows": null,
            "height": null,
            "justify_content": null,
            "justify_items": null,
            "left": null,
            "margin": null,
            "max_height": null,
            "max_width": null,
            "min_height": null,
            "min_width": null,
            "object_fit": null,
            "object_position": null,
            "order": null,
            "overflow": null,
            "overflow_x": null,
            "overflow_y": null,
            "padding": null,
            "right": null,
            "top": null,
            "visibility": null,
            "width": null
          }
        },
        "dc003e5519324d76b1f4e41e28431467": {
          "model_module": "@jupyter-widgets/base",
          "model_module_version": "1.2.0",
          "model_name": "LayoutModel",
          "state": {
            "_model_module": "@jupyter-widgets/base",
            "_model_module_version": "1.2.0",
            "_model_name": "LayoutModel",
            "_view_count": null,
            "_view_module": "@jupyter-widgets/base",
            "_view_module_version": "1.2.0",
            "_view_name": "LayoutView",
            "align_content": null,
            "align_items": null,
            "align_self": null,
            "border": null,
            "bottom": null,
            "display": null,
            "flex": null,
            "flex_flow": null,
            "grid_area": null,
            "grid_auto_columns": null,
            "grid_auto_flow": null,
            "grid_auto_rows": null,
            "grid_column": null,
            "grid_gap": null,
            "grid_row": null,
            "grid_template_areas": null,
            "grid_template_columns": null,
            "grid_template_rows": null,
            "height": null,
            "justify_content": null,
            "justify_items": null,
            "left": null,
            "margin": null,
            "max_height": null,
            "max_width": null,
            "min_height": null,
            "min_width": null,
            "object_fit": null,
            "object_position": null,
            "order": null,
            "overflow": null,
            "overflow_x": null,
            "overflow_y": null,
            "padding": null,
            "right": null,
            "top": null,
            "visibility": null,
            "width": null
          }
        },
        "dca3f926ae004d34b5106e0de7a7e6bf": {
          "model_module": "@jupyter-widgets/controls",
          "model_module_version": "1.5.0",
          "model_name": "HBoxModel",
          "state": {
            "_dom_classes": [],
            "_model_module": "@jupyter-widgets/controls",
            "_model_module_version": "1.5.0",
            "_model_name": "HBoxModel",
            "_view_count": null,
            "_view_module": "@jupyter-widgets/controls",
            "_view_module_version": "1.5.0",
            "_view_name": "HBoxView",
            "box_style": "",
            "children": [
              "IPY_MODEL_3f6a867f750a4d1e8f273f8be753ef39",
              "IPY_MODEL_243c057413764bbfba5ae2b333d6c5d2",
              "IPY_MODEL_0f8f6a6d3879445096c6a630c4a2c35f"
            ],
            "layout": "IPY_MODEL_4f125ef14dc34c5abe5ba53a9aa5ac02"
          }
        },
        "dd7cb96078b84f9da51bd94b8265b95d": {
          "model_module": "@jupyter-widgets/controls",
          "model_module_version": "1.5.0",
          "model_name": "DescriptionStyleModel",
          "state": {
            "_model_module": "@jupyter-widgets/controls",
            "_model_module_version": "1.5.0",
            "_model_name": "DescriptionStyleModel",
            "_view_count": null,
            "_view_module": "@jupyter-widgets/base",
            "_view_module_version": "1.2.0",
            "_view_name": "StyleView",
            "description_width": ""
          }
        },
        "dd941a7da526429e9528f8755c66f39e": {
          "model_module": "@jupyter-widgets/controls",
          "model_module_version": "1.5.0",
          "model_name": "ProgressStyleModel",
          "state": {
            "_model_module": "@jupyter-widgets/controls",
            "_model_module_version": "1.5.0",
            "_model_name": "ProgressStyleModel",
            "_view_count": null,
            "_view_module": "@jupyter-widgets/base",
            "_view_module_version": "1.2.0",
            "_view_name": "StyleView",
            "bar_color": null,
            "description_width": ""
          }
        },
        "ddb191138f434697afae66dbedd18ecf": {
          "model_module": "@jupyter-widgets/controls",
          "model_module_version": "1.5.0",
          "model_name": "FloatProgressModel",
          "state": {
            "_dom_classes": [],
            "_model_module": "@jupyter-widgets/controls",
            "_model_module_version": "1.5.0",
            "_model_name": "FloatProgressModel",
            "_view_count": null,
            "_view_module": "@jupyter-widgets/controls",
            "_view_module_version": "1.5.0",
            "_view_name": "ProgressView",
            "bar_style": "success",
            "description": "",
            "description_tooltip": null,
            "layout": "IPY_MODEL_2cb7b89788d84a0b961b0d25036b8dcb",
            "max": 625,
            "min": 0,
            "orientation": "horizontal",
            "style": "IPY_MODEL_be57ead55b114c0f86121fefb687e92a",
            "value": 625
          }
        },
        "de06d097e7df4c2883874837d4e5cbf5": {
          "model_module": "@jupyter-widgets/controls",
          "model_module_version": "1.5.0",
          "model_name": "HTMLModel",
          "state": {
            "_dom_classes": [],
            "_model_module": "@jupyter-widgets/controls",
            "_model_module_version": "1.5.0",
            "_model_name": "HTMLModel",
            "_view_count": null,
            "_view_module": "@jupyter-widgets/controls",
            "_view_module_version": "1.5.0",
            "_view_name": "HTMLView",
            "description": "",
            "description_tooltip": null,
            "layout": "IPY_MODEL_658aadcb32564e22aaaa6c938e4b6798",
            "placeholder": "​",
            "style": "IPY_MODEL_62000ae009224c13a83b521ece49ef39",
            "value": " 672M/672M [00:04&lt;00:00, 278MB/s]"
          }
        },
        "df3315f3a40a459b8da08ccc62088c14": {
          "model_module": "@jupyter-widgets/base",
          "model_module_version": "1.2.0",
          "model_name": "LayoutModel",
          "state": {
            "_model_module": "@jupyter-widgets/base",
            "_model_module_version": "1.2.0",
            "_model_name": "LayoutModel",
            "_view_count": null,
            "_view_module": "@jupyter-widgets/base",
            "_view_module_version": "1.2.0",
            "_view_name": "LayoutView",
            "align_content": null,
            "align_items": null,
            "align_self": null,
            "border": null,
            "bottom": null,
            "display": null,
            "flex": null,
            "flex_flow": null,
            "grid_area": null,
            "grid_auto_columns": null,
            "grid_auto_flow": null,
            "grid_auto_rows": null,
            "grid_column": null,
            "grid_gap": null,
            "grid_row": null,
            "grid_template_areas": null,
            "grid_template_columns": null,
            "grid_template_rows": null,
            "height": null,
            "justify_content": null,
            "justify_items": null,
            "left": null,
            "margin": null,
            "max_height": null,
            "max_width": null,
            "min_height": null,
            "min_width": null,
            "object_fit": null,
            "object_position": null,
            "order": null,
            "overflow": null,
            "overflow_x": null,
            "overflow_y": null,
            "padding": null,
            "right": null,
            "top": null,
            "visibility": null,
            "width": null
          }
        },
        "e0cddf4396884530b5970ae2658ad10e": {
          "model_module": "@jupyter-widgets/base",
          "model_module_version": "1.2.0",
          "model_name": "LayoutModel",
          "state": {
            "_model_module": "@jupyter-widgets/base",
            "_model_module_version": "1.2.0",
            "_model_name": "LayoutModel",
            "_view_count": null,
            "_view_module": "@jupyter-widgets/base",
            "_view_module_version": "1.2.0",
            "_view_name": "LayoutView",
            "align_content": null,
            "align_items": null,
            "align_self": null,
            "border": null,
            "bottom": null,
            "display": null,
            "flex": null,
            "flex_flow": null,
            "grid_area": null,
            "grid_auto_columns": null,
            "grid_auto_flow": null,
            "grid_auto_rows": null,
            "grid_column": null,
            "grid_gap": null,
            "grid_row": null,
            "grid_template_areas": null,
            "grid_template_columns": null,
            "grid_template_rows": null,
            "height": null,
            "justify_content": null,
            "justify_items": null,
            "left": null,
            "margin": null,
            "max_height": null,
            "max_width": null,
            "min_height": null,
            "min_width": null,
            "object_fit": null,
            "object_position": null,
            "order": null,
            "overflow": null,
            "overflow_x": null,
            "overflow_y": null,
            "padding": null,
            "right": null,
            "top": null,
            "visibility": null,
            "width": null
          }
        },
        "e306b6949eff4b5d8a28cdd5b99185ea": {
          "model_module": "@jupyter-widgets/controls",
          "model_module_version": "1.5.0",
          "model_name": "ProgressStyleModel",
          "state": {
            "_model_module": "@jupyter-widgets/controls",
            "_model_module_version": "1.5.0",
            "_model_name": "ProgressStyleModel",
            "_view_count": null,
            "_view_module": "@jupyter-widgets/base",
            "_view_module_version": "1.2.0",
            "_view_name": "StyleView",
            "bar_color": null,
            "description_width": ""
          }
        },
        "e4ced55af59242aca563266ee2bd6920": {
          "model_module": "@jupyter-widgets/controls",
          "model_module_version": "1.5.0",
          "model_name": "ProgressStyleModel",
          "state": {
            "_model_module": "@jupyter-widgets/controls",
            "_model_module_version": "1.5.0",
            "_model_name": "ProgressStyleModel",
            "_view_count": null,
            "_view_module": "@jupyter-widgets/base",
            "_view_module_version": "1.2.0",
            "_view_name": "StyleView",
            "bar_color": null,
            "description_width": ""
          }
        },
        "e65a49628ffe4cab9ac9927d123918dc": {
          "model_module": "@jupyter-widgets/controls",
          "model_module_version": "1.5.0",
          "model_name": "ProgressStyleModel",
          "state": {
            "_model_module": "@jupyter-widgets/controls",
            "_model_module_version": "1.5.0",
            "_model_name": "ProgressStyleModel",
            "_view_count": null,
            "_view_module": "@jupyter-widgets/base",
            "_view_module_version": "1.2.0",
            "_view_name": "StyleView",
            "bar_color": null,
            "description_width": ""
          }
        },
        "e94a1285c6594dbeacd9d6eb1881e0ee": {
          "model_module": "@jupyter-widgets/base",
          "model_module_version": "1.2.0",
          "model_name": "LayoutModel",
          "state": {
            "_model_module": "@jupyter-widgets/base",
            "_model_module_version": "1.2.0",
            "_model_name": "LayoutModel",
            "_view_count": null,
            "_view_module": "@jupyter-widgets/base",
            "_view_module_version": "1.2.0",
            "_view_name": "LayoutView",
            "align_content": null,
            "align_items": null,
            "align_self": null,
            "border": null,
            "bottom": null,
            "display": null,
            "flex": null,
            "flex_flow": null,
            "grid_area": null,
            "grid_auto_columns": null,
            "grid_auto_flow": null,
            "grid_auto_rows": null,
            "grid_column": null,
            "grid_gap": null,
            "grid_row": null,
            "grid_template_areas": null,
            "grid_template_columns": null,
            "grid_template_rows": null,
            "height": null,
            "justify_content": null,
            "justify_items": null,
            "left": null,
            "margin": null,
            "max_height": null,
            "max_width": null,
            "min_height": null,
            "min_width": null,
            "object_fit": null,
            "object_position": null,
            "order": null,
            "overflow": null,
            "overflow_x": null,
            "overflow_y": null,
            "padding": null,
            "right": null,
            "top": null,
            "visibility": null,
            "width": null
          }
        },
        "ece80ada6e684750baa4d0c137ed4747": {
          "model_module": "@jupyter-widgets/controls",
          "model_module_version": "1.5.0",
          "model_name": "FloatProgressModel",
          "state": {
            "_dom_classes": [],
            "_model_module": "@jupyter-widgets/controls",
            "_model_module_version": "1.5.0",
            "_model_name": "FloatProgressModel",
            "_view_count": null,
            "_view_module": "@jupyter-widgets/controls",
            "_view_module_version": "1.5.0",
            "_view_name": "ProgressView",
            "bar_style": "success",
            "description": "",
            "description_tooltip": null,
            "layout": "IPY_MODEL_b4a5e5cdb34f4927afbe55111a35485c",
            "max": 1501,
            "min": 0,
            "orientation": "horizontal",
            "style": "IPY_MODEL_ce537680208c4ee2998c00ab8e6addc7",
            "value": 1501
          }
        },
        "ed41d3a9444949d4b1ec7ab3c25de468": {
          "model_module": "@jupyter-widgets/controls",
          "model_module_version": "1.5.0",
          "model_name": "DescriptionStyleModel",
          "state": {
            "_model_module": "@jupyter-widgets/controls",
            "_model_module_version": "1.5.0",
            "_model_name": "DescriptionStyleModel",
            "_view_count": null,
            "_view_module": "@jupyter-widgets/base",
            "_view_module_version": "1.2.0",
            "_view_name": "StyleView",
            "description_width": ""
          }
        },
        "edcaf7a87b5948659bedf83e42575010": {
          "model_module": "@jupyter-widgets/base",
          "model_module_version": "1.2.0",
          "model_name": "LayoutModel",
          "state": {
            "_model_module": "@jupyter-widgets/base",
            "_model_module_version": "1.2.0",
            "_model_name": "LayoutModel",
            "_view_count": null,
            "_view_module": "@jupyter-widgets/base",
            "_view_module_version": "1.2.0",
            "_view_name": "LayoutView",
            "align_content": null,
            "align_items": null,
            "align_self": null,
            "border": null,
            "bottom": null,
            "display": null,
            "flex": null,
            "flex_flow": null,
            "grid_area": null,
            "grid_auto_columns": null,
            "grid_auto_flow": null,
            "grid_auto_rows": null,
            "grid_column": null,
            "grid_gap": null,
            "grid_row": null,
            "grid_template_areas": null,
            "grid_template_columns": null,
            "grid_template_rows": null,
            "height": null,
            "justify_content": null,
            "justify_items": null,
            "left": null,
            "margin": null,
            "max_height": null,
            "max_width": null,
            "min_height": null,
            "min_width": null,
            "object_fit": null,
            "object_position": null,
            "order": null,
            "overflow": null,
            "overflow_x": null,
            "overflow_y": null,
            "padding": null,
            "right": null,
            "top": null,
            "visibility": null,
            "width": null
          }
        },
        "ee111b956d2240dea5f23c1f47aaadf3": {
          "model_module": "@jupyter-widgets/base",
          "model_module_version": "1.2.0",
          "model_name": "LayoutModel",
          "state": {
            "_model_module": "@jupyter-widgets/base",
            "_model_module_version": "1.2.0",
            "_model_name": "LayoutModel",
            "_view_count": null,
            "_view_module": "@jupyter-widgets/base",
            "_view_module_version": "1.2.0",
            "_view_name": "LayoutView",
            "align_content": null,
            "align_items": null,
            "align_self": null,
            "border": null,
            "bottom": null,
            "display": null,
            "flex": null,
            "flex_flow": null,
            "grid_area": null,
            "grid_auto_columns": null,
            "grid_auto_flow": null,
            "grid_auto_rows": null,
            "grid_column": null,
            "grid_gap": null,
            "grid_row": null,
            "grid_template_areas": null,
            "grid_template_columns": null,
            "grid_template_rows": null,
            "height": null,
            "justify_content": null,
            "justify_items": null,
            "left": null,
            "margin": null,
            "max_height": null,
            "max_width": null,
            "min_height": null,
            "min_width": null,
            "object_fit": null,
            "object_position": null,
            "order": null,
            "overflow": null,
            "overflow_x": null,
            "overflow_y": null,
            "padding": null,
            "right": null,
            "top": null,
            "visibility": null,
            "width": null
          }
        },
        "eed01f3896fc4ecfadc4b57ebcc74d60": {
          "model_module": "@jupyter-widgets/base",
          "model_module_version": "1.2.0",
          "model_name": "LayoutModel",
          "state": {
            "_model_module": "@jupyter-widgets/base",
            "_model_module_version": "1.2.0",
            "_model_name": "LayoutModel",
            "_view_count": null,
            "_view_module": "@jupyter-widgets/base",
            "_view_module_version": "1.2.0",
            "_view_name": "LayoutView",
            "align_content": null,
            "align_items": null,
            "align_self": null,
            "border": null,
            "bottom": null,
            "display": null,
            "flex": null,
            "flex_flow": null,
            "grid_area": null,
            "grid_auto_columns": null,
            "grid_auto_flow": null,
            "grid_auto_rows": null,
            "grid_column": null,
            "grid_gap": null,
            "grid_row": null,
            "grid_template_areas": null,
            "grid_template_columns": null,
            "grid_template_rows": null,
            "height": null,
            "justify_content": null,
            "justify_items": null,
            "left": null,
            "margin": null,
            "max_height": null,
            "max_width": null,
            "min_height": null,
            "min_width": null,
            "object_fit": null,
            "object_position": null,
            "order": null,
            "overflow": null,
            "overflow_x": null,
            "overflow_y": null,
            "padding": null,
            "right": null,
            "top": null,
            "visibility": null,
            "width": null
          }
        },
        "f0690cd2d1354d449a7126c8d503d7c1": {
          "model_module": "@jupyter-widgets/controls",
          "model_module_version": "1.5.0",
          "model_name": "HTMLModel",
          "state": {
            "_dom_classes": [],
            "_model_module": "@jupyter-widgets/controls",
            "_model_module_version": "1.5.0",
            "_model_name": "HTMLModel",
            "_view_count": null,
            "_view_module": "@jupyter-widgets/controls",
            "_view_module_version": "1.5.0",
            "_view_name": "HTMLView",
            "description": "",
            "description_tooltip": null,
            "layout": "IPY_MODEL_89c28cd61e134703bf744633f324d7d9",
            "placeholder": "​",
            "style": "IPY_MODEL_cc51526532c84e629df978c615733065",
            "value": " 48.0/48.0 [00:00&lt;00:00, 3.23kB/s]"
          }
        },
        "f1955a80fb3c4daf8c688e26a4b86aae": {
          "model_module": "@jupyter-widgets/base",
          "model_module_version": "1.2.0",
          "model_name": "LayoutModel",
          "state": {
            "_model_module": "@jupyter-widgets/base",
            "_model_module_version": "1.2.0",
            "_model_name": "LayoutModel",
            "_view_count": null,
            "_view_module": "@jupyter-widgets/base",
            "_view_module_version": "1.2.0",
            "_view_name": "LayoutView",
            "align_content": null,
            "align_items": null,
            "align_self": null,
            "border": null,
            "bottom": null,
            "display": null,
            "flex": null,
            "flex_flow": null,
            "grid_area": null,
            "grid_auto_columns": null,
            "grid_auto_flow": null,
            "grid_auto_rows": null,
            "grid_column": null,
            "grid_gap": null,
            "grid_row": null,
            "grid_template_areas": null,
            "grid_template_columns": null,
            "grid_template_rows": null,
            "height": null,
            "justify_content": null,
            "justify_items": null,
            "left": null,
            "margin": null,
            "max_height": null,
            "max_width": null,
            "min_height": null,
            "min_width": null,
            "object_fit": null,
            "object_position": null,
            "order": null,
            "overflow": null,
            "overflow_x": null,
            "overflow_y": null,
            "padding": null,
            "right": null,
            "top": null,
            "visibility": null,
            "width": null
          }
        },
        "f1c27f436dc5458e8f9fc61d8e3c43aa": {
          "model_module": "@jupyter-widgets/controls",
          "model_module_version": "1.5.0",
          "model_name": "HTMLModel",
          "state": {
            "_dom_classes": [],
            "_model_module": "@jupyter-widgets/controls",
            "_model_module_version": "1.5.0",
            "_model_name": "HTMLModel",
            "_view_count": null,
            "_view_module": "@jupyter-widgets/controls",
            "_view_module_version": "1.5.0",
            "_view_name": "HTMLView",
            "description": "",
            "description_tooltip": null,
            "layout": "IPY_MODEL_39ace5f07f91469d840e8edecfe2e5d3",
            "placeholder": "​",
            "style": "IPY_MODEL_336d85f2a9fd457d8dce747c976e872e",
            "value": "vocab.txt: 100%"
          }
        },
        "f95b7c756d7e4706a269c54e83b98321": {
          "model_module": "@jupyter-widgets/base",
          "model_module_version": "1.2.0",
          "model_name": "LayoutModel",
          "state": {
            "_model_module": "@jupyter-widgets/base",
            "_model_module_version": "1.2.0",
            "_model_name": "LayoutModel",
            "_view_count": null,
            "_view_module": "@jupyter-widgets/base",
            "_view_module_version": "1.2.0",
            "_view_name": "LayoutView",
            "align_content": null,
            "align_items": null,
            "align_self": null,
            "border": null,
            "bottom": null,
            "display": null,
            "flex": null,
            "flex_flow": null,
            "grid_area": null,
            "grid_auto_columns": null,
            "grid_auto_flow": null,
            "grid_auto_rows": null,
            "grid_column": null,
            "grid_gap": null,
            "grid_row": null,
            "grid_template_areas": null,
            "grid_template_columns": null,
            "grid_template_rows": null,
            "height": null,
            "justify_content": null,
            "justify_items": null,
            "left": null,
            "margin": null,
            "max_height": null,
            "max_width": null,
            "min_height": null,
            "min_width": null,
            "object_fit": null,
            "object_position": null,
            "order": null,
            "overflow": null,
            "overflow_x": null,
            "overflow_y": null,
            "padding": null,
            "right": null,
            "top": null,
            "visibility": null,
            "width": null
          }
        },
        "f9ecd9d43a60438ea59770ae15f2d3e9": {
          "model_module": "@jupyter-widgets/controls",
          "model_module_version": "1.5.0",
          "model_name": "DescriptionStyleModel",
          "state": {
            "_model_module": "@jupyter-widgets/controls",
            "_model_module_version": "1.5.0",
            "_model_name": "DescriptionStyleModel",
            "_view_count": null,
            "_view_module": "@jupyter-widgets/base",
            "_view_module_version": "1.2.0",
            "_view_name": "StyleView",
            "description_width": ""
          }
        },
        "fa183ae9f66246169dd34265db7740d0": {
          "model_module": "@jupyter-widgets/base",
          "model_module_version": "1.2.0",
          "model_name": "LayoutModel",
          "state": {
            "_model_module": "@jupyter-widgets/base",
            "_model_module_version": "1.2.0",
            "_model_name": "LayoutModel",
            "_view_count": null,
            "_view_module": "@jupyter-widgets/base",
            "_view_module_version": "1.2.0",
            "_view_name": "LayoutView",
            "align_content": null,
            "align_items": null,
            "align_self": null,
            "border": null,
            "bottom": null,
            "display": null,
            "flex": null,
            "flex_flow": null,
            "grid_area": null,
            "grid_auto_columns": null,
            "grid_auto_flow": null,
            "grid_auto_rows": null,
            "grid_column": null,
            "grid_gap": null,
            "grid_row": null,
            "grid_template_areas": null,
            "grid_template_columns": null,
            "grid_template_rows": null,
            "height": null,
            "justify_content": null,
            "justify_items": null,
            "left": null,
            "margin": null,
            "max_height": null,
            "max_width": null,
            "min_height": null,
            "min_width": null,
            "object_fit": null,
            "object_position": null,
            "order": null,
            "overflow": null,
            "overflow_x": null,
            "overflow_y": null,
            "padding": null,
            "right": null,
            "top": null,
            "visibility": null,
            "width": null
          }
        },
        "fa513303d6b243c09f31f46415f6975a": {
          "model_module": "@jupyter-widgets/controls",
          "model_module_version": "1.5.0",
          "model_name": "HTMLModel",
          "state": {
            "_dom_classes": [],
            "_model_module": "@jupyter-widgets/controls",
            "_model_module_version": "1.5.0",
            "_model_name": "HTMLModel",
            "_view_count": null,
            "_view_module": "@jupyter-widgets/controls",
            "_view_module_version": "1.5.0",
            "_view_name": "HTMLView",
            "description": "",
            "description_tooltip": null,
            "layout": "IPY_MODEL_f1955a80fb3c4daf8c688e26a4b86aae",
            "placeholder": "​",
            "style": "IPY_MODEL_49f97c3dce774ec5ab55ad1e60c461db",
            "value": "Map: 100%"
          }
        },
        "fa78c2f098c94b65958d45643d45cd06": {
          "model_module": "@jupyter-widgets/base",
          "model_module_version": "1.2.0",
          "model_name": "LayoutModel",
          "state": {
            "_model_module": "@jupyter-widgets/base",
            "_model_module_version": "1.2.0",
            "_model_name": "LayoutModel",
            "_view_count": null,
            "_view_module": "@jupyter-widgets/base",
            "_view_module_version": "1.2.0",
            "_view_name": "LayoutView",
            "align_content": null,
            "align_items": null,
            "align_self": null,
            "border": null,
            "bottom": null,
            "display": null,
            "flex": null,
            "flex_flow": null,
            "grid_area": null,
            "grid_auto_columns": null,
            "grid_auto_flow": null,
            "grid_auto_rows": null,
            "grid_column": null,
            "grid_gap": null,
            "grid_row": null,
            "grid_template_areas": null,
            "grid_template_columns": null,
            "grid_template_rows": null,
            "height": null,
            "justify_content": null,
            "justify_items": null,
            "left": null,
            "margin": null,
            "max_height": null,
            "max_width": null,
            "min_height": null,
            "min_width": null,
            "object_fit": null,
            "object_position": null,
            "order": null,
            "overflow": null,
            "overflow_x": null,
            "overflow_y": null,
            "padding": null,
            "right": null,
            "top": null,
            "visibility": null,
            "width": null
          }
        },
        "fabf27647e6640f3b6706b0ca4f5e089": {
          "model_module": "@jupyter-widgets/controls",
          "model_module_version": "1.5.0",
          "model_name": "HBoxModel",
          "state": {
            "_dom_classes": [],
            "_model_module": "@jupyter-widgets/controls",
            "_model_module_version": "1.5.0",
            "_model_name": "HBoxModel",
            "_view_count": null,
            "_view_module": "@jupyter-widgets/controls",
            "_view_module_version": "1.5.0",
            "_view_name": "HBoxView",
            "box_style": "",
            "children": [
              "IPY_MODEL_b540339a33d4470faf476439230658c1",
              "IPY_MODEL_77b697b8cc7c405bbfb85562a18e9bd6",
              "IPY_MODEL_487ac77dc90d455abedd261b6b92e07e"
            ],
            "layout": "IPY_MODEL_901e27f14b124dc7af4dd2b6f4b5b4a6"
          }
        },
        "fcee83cde5a94a748ff616af5c5d39b2": {
          "model_module": "@jupyter-widgets/controls",
          "model_module_version": "1.5.0",
          "model_name": "HTMLModel",
          "state": {
            "_dom_classes": [],
            "_model_module": "@jupyter-widgets/controls",
            "_model_module_version": "1.5.0",
            "_model_name": "HTMLModel",
            "_view_count": null,
            "_view_module": "@jupyter-widgets/controls",
            "_view_module_version": "1.5.0",
            "_view_name": "HTMLView",
            "description": "",
            "description_tooltip": null,
            "layout": "IPY_MODEL_5fc8775264e24451b76d0e9123f95489",
            "placeholder": "​",
            "style": "IPY_MODEL_9ebfc41088424c9597bcd10ff8e8901a",
            "value": " 1.72M/1.72M [00:00&lt;00:00, 41.6MB/s]"
          }
        },
        "fdd67676be074d2abb51edd242120400": {
          "model_module": "@jupyter-widgets/controls",
          "model_module_version": "1.5.0",
          "model_name": "DescriptionStyleModel",
          "state": {
            "_model_module": "@jupyter-widgets/controls",
            "_model_module_version": "1.5.0",
            "_model_name": "DescriptionStyleModel",
            "_view_count": null,
            "_view_module": "@jupyter-widgets/base",
            "_view_module_version": "1.2.0",
            "_view_name": "StyleView",
            "description_width": ""
          }
        },
        "fed9612232e74420b4e816ee172241c8": {
          "model_module": "@jupyter-widgets/base",
          "model_module_version": "1.2.0",
          "model_name": "LayoutModel",
          "state": {
            "_model_module": "@jupyter-widgets/base",
            "_model_module_version": "1.2.0",
            "_model_name": "LayoutModel",
            "_view_count": null,
            "_view_module": "@jupyter-widgets/base",
            "_view_module_version": "1.2.0",
            "_view_name": "LayoutView",
            "align_content": null,
            "align_items": null,
            "align_self": null,
            "border": null,
            "bottom": null,
            "display": null,
            "flex": null,
            "flex_flow": null,
            "grid_area": null,
            "grid_auto_columns": null,
            "grid_auto_flow": null,
            "grid_auto_rows": null,
            "grid_column": null,
            "grid_gap": null,
            "grid_row": null,
            "grid_template_areas": null,
            "grid_template_columns": null,
            "grid_template_rows": null,
            "height": null,
            "justify_content": null,
            "justify_items": null,
            "left": null,
            "margin": null,
            "max_height": null,
            "max_width": null,
            "min_height": null,
            "min_width": null,
            "object_fit": null,
            "object_position": null,
            "order": null,
            "overflow": null,
            "overflow_x": null,
            "overflow_y": null,
            "padding": null,
            "right": null,
            "top": null,
            "visibility": null,
            "width": null
          }
        }
      }
    }
  },
  "nbformat": 4,
  "nbformat_minor": 0
}
