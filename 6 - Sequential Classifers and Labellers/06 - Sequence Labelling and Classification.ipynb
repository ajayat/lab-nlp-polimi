{
 "cells": [
  {
   "cell_type": "markdown",
   "metadata": {
    "id": "giKsby3Lpdlp"
   },
   "source": [
    "# Sequence Labelling and Classification\n",
    "\n",
    "In this session we will train a Text classifier that makes use of a Bidirectional LSTM (Long Short-term Memory) model.\n",
    "\n",
    "In the second part of the tutorial we will first investigate Part-of-Speech (POS) tagging and Named-entity recognition (NER).\n",
    "- For this we will make use of the spaCy natural langauge processing API: https://spacy.io/\n",
    "- spaCy is an opensource API that provides state-of-the-art performance on sequence labeling tasks such as POS tagging and NER.\n",
    "- Parts of this tutorial are based on code from: https://towardsdatascience.com/named-entity-recognition-with-nltk-and-spacy-8c4a7d88e7da\n"
   ]
  },
  {
   "cell_type": "markdown",
   "metadata": {
    "id": "TMS2GYrKXkPO"
   },
   "source": [
    "## Sequence labelling with embeddings and a Recurrent Neural Network\n",
    "\n",
    "In this section of the notebook I will run through an example of using LSTM (Long Short-term Memory) network for text sequence labelling.\n",
    "We can train our own model for POS-tagging or NER.\n",
    "Moreover, we can use pre-trained embedding models to encode the input text.\n",
    "\n",
    "- We are going to use PyTorch (https://pytorch.org) to build and train our model. Pytorch is a state-of-the-art framework for deep leaning."
   ]
  },
  {
   "cell_type": "markdown",
   "metadata": {
    "id": "F6xs4SfcXkPP"
   },
   "source": [
    "### Data preparation\n",
    "\n",
    "As usual we start from data preparation.\n",
    "We can use the [CoNLL 2003](https://www.clips.uantwerpen.be/conll2003/ner/) corpus, which provides corpora for POS-tagging, Chunking and NER in English and German.\n",
    "Today we are going to focus on NER in English.\n",
    "\n",
    "You can find a copy the English split in the `docs/` directory.\n",
    "Usually the corpus should require preprocessing the data, here I am providing you with a version from Kaggle where documents have already been tagged (source: https://www.kaggle.com/datasets/alaakhaled/conll003-englishversion?resource=download)\n",
    "\n",
    "Let's start by loading the three files (train/validation/test) in memory and reading all of them."
   ]
  },
  {
   "cell_type": "code",
   "execution_count": null,
   "metadata": {
    "colab": {
     "base_uri": "https://localhost:8080/"
    },
    "executionInfo": {
     "elapsed": 57,
     "status": "ok",
     "timestamp": 1742332557662,
     "user": {
      "displayName": "Nicolò Brunello",
      "userId": "03655516846124206133"
     },
     "user_tz": -60
    },
    "id": "BONoKuGNXkPP",
    "outputId": "b06521f9-44cf-4b41-94b5-e6b137e4cc4a"
   },
   "outputs": [],
   "source": [
    "raw_data = dict()\n",
    "\n",
    "for split in ['train', 'valid', 'test']:\n",
    "    with open(f'docs/CoNLL - 2003/{split}.txt') as f:\n",
    "        raw_data[split] = f.read().strip()\n",
    "\n",
    "print(raw_data['train'][:500])"
   ]
  },
  {
   "cell_type": "markdown",
   "metadata": {
    "id": "Vw6GFYkCXkPP"
   },
   "source": [
    "Now we can parse the data.\n",
    "Documents inside each split are separated by the sequence `-DOCSTART- -X- -X- O`.\n",
    "Sentences inside each document are separated by the sequence`\\n\\n` (two new-line characters).\n",
    "Each line inside a sentence represnets a token followed by the POS tag, the CHUNK tag and the NER tag, all separated by spaces.\n",
    "\n",
    "Here NER tags are written using a system called BIO-tagging.\n",
    "The 'B' stands for \"begin\" and introduces (starts) a new named entity, the tags are written as \"B-PER\" to indicate a person or \"B-LOC\" to indicate a location and so on.\n",
    "The 'I' stands for \"inside\" and continues a started named entity, the tags are written as \"I-PER\" to indicate a person or \"I-LOC\" to indicate a location and so on.\n",
    "The 'O' stands for outside, it means that the token is outside any named entity.\n",
    "There are other tagging systems.  "
   ]
  },
  {
   "cell_type": "code",
   "execution_count": null,
   "metadata": {
    "id": "xagcI6jWXkPP"
   },
   "outputs": [],
   "source": [
    "keys = ['text', 'pos_tag', 'chunk_tag', 'ner_tag']\n",
    "\n",
    "data = dict()\n",
    "\n",
    "for split in raw_data:\n",
    "    data[split] = list()\n",
    "    for doc in raw_data[split].split('-DOCSTART- -X- -X- O')[1:]:\n",
    "        for sentence in doc.strip().split('\\n\\n'):\n",
    "            data[split].append(list())\n",
    "            for elem in sentence.split('\\n'):\n",
    "                data[split][-1].append(dict(zip(keys, elem.split())))"
   ]
  },
  {
   "cell_type": "code",
   "execution_count": null,
   "metadata": {
    "colab": {
     "base_uri": "https://localhost:8080/"
    },
    "executionInfo": {
     "elapsed": 17,
     "status": "ok",
     "timestamp": 1742332559710,
     "user": {
      "displayName": "Nicolò Brunello",
      "userId": "03655516846124206133"
     },
     "user_tz": -60
    },
    "id": "UXZPjL6RXkPP",
    "outputId": "cc1e7ae0-dc0c-4d87-dce7-5f8a7d8e4d9a"
   },
   "outputs": [],
   "source": [
    "data['train'][0]"
   ]
  },
  {
   "cell_type": "markdown",
   "metadata": {
    "id": "DGQgUUNIXkPQ"
   },
   "source": [
    "Now all the labels are properly organised"
   ]
  },
  {
   "cell_type": "markdown",
   "metadata": {
    "id": "WtmKiY5eXkPQ"
   },
   "source": [
    "At this point we need a system to encode and decode the labels into categorical entities.\n",
    "We can use the label encoder from Scikit-Learn for that (https://scikit-learn.org/stable/modules/generated/sklearn.preprocessing.LabelEncoder.html)."
   ]
  },
  {
   "cell_type": "code",
   "execution_count": null,
   "metadata": {
    "id": "LjLyqAhgXkPQ"
   },
   "outputs": [],
   "source": [
    "from sklearn.preprocessing import LabelEncoder\n",
    "\n",
    "pos_le = LabelEncoder().fit([token['pos_tag'] for split in data.values() for sentence in split for token in sentence])\n",
    "chunk_le = LabelEncoder().fit([token['pos_tag'] for split in data.values() for sentence in split for token in sentence])\n",
    "ner_le = LabelEncoder().fit([token['ner_tag'] for split in data.values() for sentence in split for token in sentence])"
   ]
  },
  {
   "cell_type": "markdown",
   "metadata": {
    "id": "kVFW52o8XkPQ"
   },
   "source": [
    "Now we have a module mapping from tags to IDs and vice-versa"
   ]
  },
  {
   "cell_type": "code",
   "execution_count": null,
   "metadata": {
    "colab": {
     "base_uri": "https://localhost:8080/"
    },
    "executionInfo": {
     "elapsed": 17,
     "status": "ok",
     "timestamp": 1742332563909,
     "user": {
      "displayName": "Nicolò Brunello",
      "userId": "03655516846124206133"
     },
     "user_tz": -60
    },
    "id": "93KtbCVBXkPQ",
    "outputId": "e1d5d1fa-497e-42cb-9b48-1274e8a0374d"
   },
   "outputs": [],
   "source": [
    "ner_tag = ['I-PER']\n",
    "ner_tag = ['I-LOC']\n",
    "ner_tag = ['B-PER']\n",
    "# ner_tag = ['O']\n",
    "\n",
    "ner_le.transform(ner_tag)"
   ]
  },
  {
   "cell_type": "code",
   "execution_count": null,
   "metadata": {
    "colab": {
     "base_uri": "https://localhost:8080/"
    },
    "executionInfo": {
     "elapsed": 7,
     "status": "ok",
     "timestamp": 1742332563917,
     "user": {
      "displayName": "Nicolò Brunello",
      "userId": "03655516846124206133"
     },
     "user_tz": -60
    },
    "id": "mFDxhaMnXkPQ",
    "outputId": "adb4aeec-8748-4ff4-8c2f-08cb62bca3f5"
   },
   "outputs": [],
   "source": [
    "ner_tag_id = [0]\n",
    "\n",
    "ner_le.inverse_transform(ner_tag_id)"
   ]
  },
  {
   "cell_type": "markdown",
   "metadata": {
    "id": "gOVxouSbXkPQ"
   },
   "source": [
    "How many NER tags do we have?"
   ]
  },
  {
   "cell_type": "code",
   "execution_count": null,
   "metadata": {
    "colab": {
     "base_uri": "https://localhost:8080/"
    },
    "executionInfo": {
     "elapsed": 3,
     "status": "ok",
     "timestamp": 1742332564008,
     "user": {
      "displayName": "Nicolò Brunello",
      "userId": "03655516846124206133"
     },
     "user_tz": -60
    },
    "id": "XP7h6lsQXkPQ",
    "outputId": "55adec31-b6aa-4449-be73-20d7f917451e"
   },
   "outputs": [],
   "source": [
    "len(ner_le.classes_)"
   ]
  },
  {
   "cell_type": "markdown",
   "metadata": {
    "id": "ObAM_0yLXkPQ"
   },
   "source": [
    "Which are those tags?"
   ]
  },
  {
   "cell_type": "code",
   "execution_count": null,
   "metadata": {
    "colab": {
     "base_uri": "https://localhost:8080/"
    },
    "executionInfo": {
     "elapsed": 2,
     "status": "ok",
     "timestamp": 1742332564010,
     "user": {
      "displayName": "Nicolò Brunello",
      "userId": "03655516846124206133"
     },
     "user_tz": -60
    },
    "id": "5cNrY9QmXkPQ",
    "outputId": "04bc1711-bb7c-44b6-9930-035c5561fd1b"
   },
   "outputs": [],
   "source": [
    "ner_le.classes_"
   ]
  },
  {
   "cell_type": "markdown",
   "metadata": {
    "id": "pKcRUmgnXkPQ"
   },
   "source": [
    "Collect the same info for POS tags"
   ]
  },
  {
   "cell_type": "code",
   "execution_count": null,
   "metadata": {
    "id": "6ywrLqj2XkPQ"
   },
   "outputs": [],
   "source": [
    "# TODO"
   ]
  },
  {
   "cell_type": "markdown",
   "metadata": {
    "id": "MuOZxaJVXkPQ"
   },
   "source": [
    "Finally we separate our train-validation-test splits"
   ]
  },
  {
   "cell_type": "code",
   "execution_count": null,
   "metadata": {
    "id": "ghCasG1MXkPQ"
   },
   "outputs": [],
   "source": [
    "train_data, valid_data, test_data = data.values()"
   ]
  },
  {
   "cell_type": "markdown",
   "metadata": {
    "id": "4NwBTbAlXkPQ"
   },
   "source": [
    "### Defining and training the RNN model for NER"
   ]
  },
  {
   "cell_type": "markdown",
   "metadata": {
    "id": "lKmcrDFTXkPQ"
   },
   "source": [
    "We start by installing PyTorch and importing the required modules"
   ]
  },
  {
   "cell_type": "code",
   "execution_count": null,
   "metadata": {
    "colab": {
     "base_uri": "https://localhost:8080/"
    },
    "executionInfo": {
     "elapsed": 2216,
     "status": "ok",
     "timestamp": 1742332746432,
     "user": {
      "displayName": "Nicolò Brunello",
      "userId": "03655516846124206133"
     },
     "user_tz": -60
    },
    "id": "JOz8WMvJHrXs",
    "outputId": "bb54774e-0fe3-41ed-801b-71f292b3fd28"
   },
   "outputs": [],
   "source": [
    "%pip install -q gensim torch"
   ]
  },
  {
   "cell_type": "code",
   "execution_count": null,
   "metadata": {
    "id": "iyMkbwDLXkPR"
   },
   "outputs": [],
   "source": [
    "import torch\n",
    "import torch.nn as nn\n",
    "import torch.nn.functional as F"
   ]
  },
  {
   "cell_type": "markdown",
   "metadata": {
    "id": "pfmmttGYXkPR"
   },
   "source": [
    "Then we load the Word Embedding model we want to use. We can re-use the 50 dimensional GloVe emebddings from last time"
   ]
  },
  {
   "cell_type": "code",
   "execution_count": null,
   "metadata": {
    "id": "wTTztembXkPR"
   },
   "outputs": [],
   "source": [
    "import gensim.downloader as api\n",
    "\n",
    "we_model = api.load(\"glove-wiki-gigaword-300\")"
   ]
  },
  {
   "cell_type": "markdown",
   "metadata": {
    "id": "uExHPXquXkPR"
   },
   "source": [
    "Before creating the LSTM we decide where to train our model, either cpu or gpu, depending on which is avaialble."
   ]
  },
  {
   "cell_type": "code",
   "execution_count": null,
   "metadata": {
    "colab": {
     "base_uri": "https://localhost:8080/"
    },
    "executionInfo": {
     "elapsed": 5,
     "status": "ok",
     "timestamp": 1742332865910,
     "user": {
      "displayName": "Nicolò Brunello",
      "userId": "03655516846124206133"
     },
     "user_tz": -60
    },
    "id": "BtlzrvG5XkPR",
    "outputId": "7fc76e22-b7cc-4843-e92c-df367a5db90d"
   },
   "outputs": [],
   "source": [
    "device = torch.device('cuda' if torch.cuda.is_available() else 'cpu')\n",
    "print(device)"
   ]
  },
  {
   "cell_type": "markdown",
   "metadata": {
    "id": "JQ3aDdLKXkPR"
   },
   "source": [
    "Now we can create our RNN module.\n",
    "Here are the available modules for PyTorch: https://pytorch.org/docs/stable/nn.html#recurrent-layers\n",
    "\n",
    "We define a custom LSTM using PyTorch API.\n",
    "In our model we stack one or more LSTM layers (we can make it variable) and we put a linear layer (a.k.a. dense layer or fully connected layer on top of it).\n",
    "\n",
    "When you define a neural network in PyTorch you need it to extend the `torch.nn.Module` class and implement the forward method (the one that computes the output)."
   ]
  },
  {
   "cell_type": "code",
   "execution_count": null,
   "metadata": {
    "id": "UQkVBi_bXkPR"
   },
   "outputs": [],
   "source": [
    "class CustomLSTM(nn.Module):\n",
    "    def __init__(self, input_size, hidden_size, output_size, n_lstm=1):\n",
    "        super().__init__()\n",
    "        # List of LSTM layers\n",
    "        self.lstm = nn.ModuleList([\n",
    "            nn.LSTM(\n",
    "                input_size=input_size if i == 0 else hidden_size,\n",
    "                hidden_size=hidden_size,\n",
    "                batch_first=True,\n",
    "                bidirectional=True,\n",
    "                dropout=0.2\n",
    "            )\n",
    "            for i in range(n_lstm)\n",
    "        ])\n",
    "        # Lat linear projection\n",
    "        self.cls_head = nn.Linear(hidden_size, output_size)\n",
    "\n",
    "    def forward(self, x):\n",
    "        # Run though all the LSTM layers\n",
    "        for lstm_layer in self.lstm:\n",
    "            # Compute new hidden representation\n",
    "            x, _ = lstm_layer(x)\n",
    "            # Average the hidden output from the two directions of the LSTM\n",
    "            x = (x[..., :x.size(-1) // 2] + x[..., x.size(-1) // 2:]) / 2\n",
    "        # Apply last lineat projection\n",
    "        y = self.cls_head(x)\n",
    "\n",
    "        return y"
   ]
  },
  {
   "cell_type": "markdown",
   "metadata": {
    "id": "uw6Vx9LOXkPR"
   },
   "source": [
    "Let's create an instance of our LSTM"
   ]
  },
  {
   "cell_type": "code",
   "execution_count": null,
   "metadata": {
    "colab": {
     "base_uri": "https://localhost:8080/"
    },
    "executionInfo": {
     "elapsed": 131,
     "status": "ok",
     "timestamp": 1742332868674,
     "user": {
      "displayName": "Nicolò Brunello",
      "userId": "03655516846124206133"
     },
     "user_tz": -60
    },
    "id": "tPTLsJBLXkPR",
    "outputId": "cd2aa3e6-93ec-4404-aff6-b04baf81c27e"
   },
   "outputs": [],
   "source": [
    "lstm = CustomLSTM(300, 300, len(ner_le.classes_), n_lstm=3)\n",
    "lstm"
   ]
  },
  {
   "cell_type": "markdown",
   "metadata": {
    "id": "xOnljCiCXkPR"
   },
   "source": [
    "Now we can move the LSTM to the target device"
   ]
  },
  {
   "cell_type": "code",
   "execution_count": null,
   "metadata": {
    "id": "MPqved6HXkPR"
   },
   "outputs": [],
   "source": [
    "lstm = lstm.to(device)"
   ]
  },
  {
   "cell_type": "markdown",
   "metadata": {
    "id": "EFpAIMl6XkPa"
   },
   "source": [
    "Once we have the model we need to create an optimizer that will take care of updating the weights. Here are the available optimizers: https://pytorch.org/docs/stable/optim.html.\n",
    "I'm going to use RMSProp.\n",
    "\n",
    "The optimizer needs to receive the parameters of the neural network and the selected learning rate"
   ]
  },
  {
   "cell_type": "code",
   "execution_count": null,
   "metadata": {
    "id": "vFekRmmIXkPa"
   },
   "outputs": [],
   "source": [
    "lr = 0.0005\n",
    "optimizer = torch.optim.RMSprop(params=lstm.parameters(), lr=lr)"
   ]
  },
  {
   "cell_type": "markdown",
   "metadata": {
    "id": "r3ASQNmFXkPa"
   },
   "source": [
    "Now we need to prepare our data.\n",
    "Before doing so we prepare a function that maps a mini-batch of samples (i.e., a subset of the lists of dictionaries we prepared) to input tensors to use with our model. The function willl take care of:\n",
    "- Mapping all words to their embeddings with size $d$\n",
    "- Collect the emebddings of the same sentence into a matrix with shape $(n_\\textit{words in sentence}, d)$\n",
    "- Collect the different matrices of the same batch into a single tensor with shape $(n_\\textit{batch elements}, n_\\textit{words in longest sentence}, d)$ (this will be input).\n",
    "- Mapping all the labels to their IDs\n",
    "- Collecting all the IDs of the same sentence into a vector with size $n_\\textit{words in sentence}$\n",
    "- Collecting all the different vectors into a matrix with shape $(n_\\textit{batch elements}, n_\\textit{words in longest sentence})$ (this will be target output).\n",
    "\n",
    "Note that different sentences have different lengths, to cope with this issue we apply a process called padding: we are going to add to the input tensor and the target output matrix  dummy values to have all the same \"sentence length\"."
   ]
  },
  {
   "cell_type": "code",
   "execution_count": null,
   "metadata": {
    "id": "IaGkRWFlXkPb"
   },
   "outputs": [],
   "source": [
    "import numpy as np\n",
    "\n",
    "def collate(mini_batch):\n",
    "    # Get the length of the longest sentence\n",
    "    longest_len = max(len(sample) for sample in mini_batch)\n",
    "    # Create an input tensor with all zero values\n",
    "    input_embeds = np.zeros((len(mini_batch), longest_len, 300))\n",
    "    # Create a target output matrix with all -100 (PyTorch ignores this value by default)\n",
    "    output_lbl = np.full((len(mini_batch), longest_len), -100)\n",
    "    # Fill the tensor and the matrix\n",
    "    for i, sample in enumerate(mini_batch):\n",
    "        for j, token in enumerate(sample):\n",
    "            # Manage missing tokens in vocabulary\n",
    "            if token['text'].lower() in we_model:\n",
    "                input_embeds[i,j] = we_model[token['text'].lower()]\n",
    "            output_lbl[i,j] = ner_le.transform([token['ner_tag']])[0]\n",
    "    # Convert to PyTorch tensor\n",
    "    input_embeds = torch.tensor(input_embeds, dtype=torch.float)\n",
    "    output_lbl = torch.tensor(output_lbl)\n",
    "\n",
    "    return input_embeds, output_lbl"
   ]
  },
  {
   "cell_type": "markdown",
   "metadata": {
    "id": "KtUbxPYkXkPb"
   },
   "source": [
    "How does an encoded batch looks like? Let's enode the first three sentences"
   ]
  },
  {
   "cell_type": "code",
   "execution_count": null,
   "metadata": {
    "colab": {
     "base_uri": "https://localhost:8080/"
    },
    "executionInfo": {
     "elapsed": 6,
     "status": "ok",
     "timestamp": 1742332897388,
     "user": {
      "displayName": "Nicolò Brunello",
      "userId": "03655516846124206133"
     },
     "user_tz": -60
    },
    "id": "2T-85SA1XkPb",
    "outputId": "c4b800fd-a4c8-4162-dd12-26ac38e53fca"
   },
   "outputs": [],
   "source": [
    "train_data[:3]"
   ]
  },
  {
   "cell_type": "code",
   "execution_count": null,
   "metadata": {
    "colab": {
     "base_uri": "https://localhost:8080/"
    },
    "executionInfo": {
     "elapsed": 9,
     "status": "ok",
     "timestamp": 1742332898530,
     "user": {
      "displayName": "Nicolò Brunello",
      "userId": "03655516846124206133"
     },
     "user_tz": -60
    },
    "id": "1wuZ5_q4XkPb",
    "outputId": "5c31fa1c-60db-4313-bad8-c326c84c471d"
   },
   "outputs": [],
   "source": [
    "embeds, lbl = collate(train_data[:3])\n",
    "\n",
    "print(f\"The shape of the input is: {embeds.size()}\")\n",
    "print(f\"The shape of the output is: {lbl.size()}\")"
   ]
  },
  {
   "cell_type": "code",
   "execution_count": null,
   "metadata": {
    "colab": {
     "base_uri": "https://localhost:8080/"
    },
    "executionInfo": {
     "elapsed": 34,
     "status": "ok",
     "timestamp": 1742332899861,
     "user": {
      "displayName": "Nicolò Brunello",
      "userId": "03655516846124206133"
     },
     "user_tz": -60
    },
    "id": "PGKJiKjMXkPb",
    "outputId": "4d20e393-a5aa-4b34-82c2-0b3a9bc97063"
   },
   "outputs": [],
   "source": [
    "embeds"
   ]
  },
  {
   "cell_type": "code",
   "execution_count": null,
   "metadata": {
    "colab": {
     "base_uri": "https://localhost:8080/"
    },
    "executionInfo": {
     "elapsed": 6,
     "status": "ok",
     "timestamp": 1742332900909,
     "user": {
      "displayName": "Nicolò Brunello",
      "userId": "03655516846124206133"
     },
     "user_tz": -60
    },
    "id": "EhGEiUIJXkPb",
    "outputId": "31cc868d-c1ff-43b4-8b22-cd250c0fde5f"
   },
   "outputs": [],
   "source": [
    "lbl"
   ]
  },
  {
   "cell_type": "markdown",
   "metadata": {
    "id": "8OVQpLMlXkPb"
   },
   "source": [
    "Now we can finally wrap a DataLoader around our samples. PyTorch data loaders take care of generating batches on a given data set. We just need to set the batch size."
   ]
  },
  {
   "cell_type": "code",
   "execution_count": null,
   "metadata": {
    "id": "po78xTDaXkPb"
   },
   "outputs": [],
   "source": [
    "batch_size = 128\n",
    "\n",
    "train_loader = torch.utils.data.DataLoader(train_data, batch_size=batch_size, collate_fn=collate, shuffle=True)\n",
    "valid_loader = torch.utils.data.DataLoader(valid_data, batch_size=batch_size, collate_fn=collate)\n",
    "test_loader = torch.utils.data.DataLoader(test_data, batch_size=batch_size, collate_fn=collate)"
   ]
  },
  {
   "cell_type": "markdown",
   "metadata": {
    "id": "wxzgtIjZXkPb"
   },
   "source": [
    "We can train the lst iterating over the data set for a given number of epochs"
   ]
  },
  {
   "cell_type": "code",
   "execution_count": null,
   "metadata": {
    "colab": {
     "base_uri": "https://localhost:8080/"
    },
    "executionInfo": {
     "elapsed": 309130,
     "status": "ok",
     "timestamp": 1742333217654,
     "user": {
      "displayName": "Nicolò Brunello",
      "userId": "03655516846124206133"
     },
     "user_tz": -60
    },
    "id": "iySokQbJXkPb",
    "outputId": "dc5023f8-7e35-466d-c384-867064ea30f2"
   },
   "outputs": [],
   "source": [
    "# Import nice loading bar using tqdm\n",
    "from tqdm import tqdm\n",
    "\n",
    "# Set model in training mode\n",
    "lstm.train()\n",
    "\n",
    "# Accumulator of loss\n",
    "history = []\n",
    "\n",
    "n_epochs = 10\n",
    "\n",
    "# Iterate over epochs\n",
    "for i in range(n_epochs):\n",
    "    print(f\"Starting epoch {i + 1}/{n_epochs}\")\n",
    "    # Iterate over training batches\n",
    "    for embeds, lbl in tqdm(train_loader):\n",
    "        # Zero your gradients for every batch!\n",
    "        optimizer.zero_grad()\n",
    "        # Move input and output to target device\n",
    "        embeds = embeds.to(device)\n",
    "        lbl = lbl.to(device)\n",
    "        # Compute logits (i.e., softmax values before exponential normalisation)\n",
    "        logits = lstm(embeds)\n",
    "        # Flatten logits to a shape (batch_size * max_sentence_len, n_classes)\n",
    "        logits = logits.reshape(-1, len(ner_le.classes_))\n",
    "        # Flatten targets to a shape (batch_size * max_sentence_len)\n",
    "        lbl = lbl.reshape(-1)\n",
    "        # Compute loss\n",
    "        loss = F.cross_entropy(logits, lbl)\n",
    "        # Compute gradients\n",
    "        loss.backward()\n",
    "        # Update weights\n",
    "        optimizer.step()\n",
    "        # Save loss\n",
    "        history.append(loss.detach())\n",
    "\n",
    "history = [loss.cpu().item() for loss in history]"
   ]
  },
  {
   "cell_type": "markdown",
   "metadata": {
    "id": "kVeUY6ONXkPb"
   },
   "source": [
    "Now we can plot the evolution of the loss at each update"
   ]
  },
  {
   "cell_type": "code",
   "execution_count": null,
   "metadata": {
    "colab": {
     "base_uri": "https://localhost:8080/",
     "height": 466
    },
    "executionInfo": {
     "elapsed": 268,
     "status": "ok",
     "timestamp": 1742333295455,
     "user": {
      "displayName": "Nicolò Brunello",
      "userId": "03655516846124206133"
     },
     "user_tz": -60
    },
    "id": "hlB3uqseXkPb",
    "outputId": "ea94a4e4-f24f-45ae-a0dc-452b7ce48219"
   },
   "outputs": [],
   "source": [
    "from matplotlib import pyplot as plt\n",
    "\n",
    "plt.figure()\n",
    "plt.plot(range(len(history)), history)\n",
    "plt.xlabel('Update step')\n",
    "plt.ylabel('Loss')"
   ]
  },
  {
   "cell_type": "markdown",
   "metadata": {
    "id": "CD3oP7LMXkPb"
   },
   "source": [
    "We can also test out model using the dedicated split. We iterate over the mini batches, collect the prediction as the value with the highest logit value and we store these values until we go through the entire data set. Then we compute the classification report"
   ]
  },
  {
   "cell_type": "code",
   "execution_count": null,
   "metadata": {
    "colab": {
     "base_uri": "https://localhost:8080/"
    },
    "executionInfo": {
     "elapsed": 8386,
     "status": "ok",
     "timestamp": 1742333335880,
     "user": {
      "displayName": "Nicolò Brunello",
      "userId": "03655516846124206133"
     },
     "user_tz": -60
    },
    "id": "RHLkLpTcXkPb",
    "outputId": "0425cfcf-5851-4b16-a03f-bce874ce32c9"
   },
   "outputs": [],
   "source": [
    "from sklearn.metrics import classification_report\n",
    "\n",
    "# Set model in evaluation mode\n",
    "lstm.eval()\n",
    "\n",
    "# Accumulators for target labels and predictions\n",
    "y_true = []\n",
    "y_pred = []\n",
    "\n",
    "# Disable gradients\n",
    "with torch.no_grad():\n",
    "    # Iterate over validation batches\n",
    "    for embeds, lbl in tqdm(valid_loader):\n",
    "        # Move input and output to target device\n",
    "        embeds = embeds.to(device)\n",
    "        # Compute logits (i.e., softmax values before exponential normalisation)\n",
    "        logits = lstm(embeds)\n",
    "        # Get predictions as the index corresponding to the highest logit score\n",
    "        pred_lbl = torch.argmax(logits, dim=-1)\n",
    "        # Append predicted labels\n",
    "        y_pred.append(pred_lbl.reshape(-1).cpu().numpy())\n",
    "        # Append target labels\n",
    "        y_true.append(lbl.reshape(-1).numpy())\n",
    "\n",
    "# Concatenate all the vectors of target labels and predicted labels\n",
    "y_true = np.concatenate(y_true)\n",
    "y_pred = np.concatenate(y_pred)\n",
    "# Remove elements to ignore (the -100 labels)\n",
    "mask = y_true == -100\n",
    "y_true = y_true[~mask]\n",
    "y_pred = y_pred[~mask]\n",
    "\n",
    "# Finally compute classification report\n",
    "print()\n",
    "print(classification_report(y_true, y_pred, target_names=ner_le.classes_))"
   ]
  },
  {
   "cell_type": "markdown",
   "metadata": {
    "id": "Ym-G2h-xXkPb"
   },
   "source": [
    "What do we see from these results?"
   ]
  },
  {
   "cell_type": "markdown",
   "metadata": {
    "id": "ovToorHEXkPb"
   },
   "source": [
    "We can play a bit with the model directly.\n",
    "\n",
    "Let's define a function to compute the predictions given a sentence. We will use the NLTK tokenizer to split the sentence into word tokens"
   ]
  },
  {
   "cell_type": "code",
   "execution_count": null,
   "metadata": {
    "colab": {
     "base_uri": "https://localhost:8080/"
    },
    "executionInfo": {
     "elapsed": 6,
     "status": "ok",
     "timestamp": 1742333523317,
     "user": {
      "displayName": "Nicolò Brunello",
      "userId": "03655516846124206133"
     },
     "user_tz": -60
    },
    "id": "NYWr8JyhXkPb",
    "outputId": "3077870f-7908-4920-96a1-d6015341b45f"
   },
   "outputs": [],
   "source": [
    "import nltk\n",
    "nltk.download('punkt')\n",
    "nltk.download('punkt_tab')\n",
    "\n",
    "\n",
    "from nltk.tokenize import word_tokenize\n",
    "\n",
    "def predict(sample):\n",
    "    # Tokenize sample\n",
    "    tokenized_sample = word_tokenize(sample)\n",
    "    # Create an input tensor with all zero values\n",
    "    input_embeds = np.zeros((1, len(tokenized_sample), 300))\n",
    "    # Fill the tensor and the matrix\n",
    "    for i, token in enumerate(tokenized_sample):\n",
    "        # Manage missing tokens in vocabulary\n",
    "        if token.lower() in we_model:\n",
    "            input_embeds[0, i] = we_model[token.lower()]\n",
    "    # Convert to PyTorch tensor\n",
    "    input_embeds = torch.tensor(input_embeds, dtype=torch.float, device=device)\n",
    "    # Run model over input\n",
    "    logits = lstm(input_embeds)\n",
    "    # Get predictions as the index corresponding to the highest logit score\n",
    "    pred_lbl = torch.argmax(logits, dim=-1)\n",
    "    # Decode labels\n",
    "    pred_labels = ner_le.inverse_transform(pred_lbl.reshape(-1).cpu().numpy())\n",
    "    # Group together tokens and predicted NER labels\n",
    "    labelled_sample = [{'text': token, 'ner_tag': str(lbl)} for token, lbl in zip(tokenized_sample, pred_labels)]\n",
    "\n",
    "    return labelled_sample"
   ]
  },
  {
   "cell_type": "markdown",
   "metadata": {
    "id": "vEC_9swOXkPc"
   },
   "source": [
    "And now call it on a custom sample"
   ]
  },
  {
   "cell_type": "code",
   "execution_count": null,
   "metadata": {
    "colab": {
     "base_uri": "https://localhost:8080/"
    },
    "executionInfo": {
     "elapsed": 65,
     "status": "ok",
     "timestamp": 1742333524017,
     "user": {
      "displayName": "Nicolò Brunello",
      "userId": "03655516846124206133"
     },
     "user_tz": -60
    },
    "id": "Bb0EkaTfXkPc",
    "outputId": "700b7635-b8f3-4c04-a150-19945a7cc95a"
   },
   "outputs": [],
   "source": [
    "sample = \"Hello, my name is Nicolò Brunello, I am from Italy and I like pizza.\"\n",
    "\n",
    "predict(sample)"
   ]
  },
  {
   "cell_type": "markdown",
   "metadata": {
    "id": "Ff5-0SUKXkPc"
   },
   "source": [
    "Look how our custom model fails flawlessly"
   ]
  },
  {
   "cell_type": "markdown",
   "metadata": {
    "id": "M6G3EZtdXkPc"
   },
   "source": [
    "### Defining and training the RNN model for POS-tagging or Chunking\n",
    "\n",
    "You can do this at home to start getting familiar with PyTorch and RNNs"
   ]
  },
  {
   "cell_type": "code",
   "execution_count": null,
   "metadata": {
    "id": "QitvSR1gXkPc"
   },
   "outputs": [],
   "source": [
    "# TODO"
   ]
  },
  {
   "cell_type": "markdown",
   "metadata": {
    "id": "sMb8j2-2XkPc"
   },
   "source": [
    "## Text Classification with a Recurrent Neural Network\n",
    "\n",
    "In this last section of the notebook I will run through a quick example of using a Bidirectional LSTM (Long Short-term Memory) network for text classification.\n",
    "- RNNs extend embedding-based classification of text by taking word-order into account. They were, until relatively recently, the state-of-the-art when it came to training text classifiers.\n",
    "- Tensorflow is sophisticated toolkit for building Deep Neural Network models. We will use it to build the model. The tutorial follows mostly this Tensorflow tutorial: https://www.tensorflow.org/tutorials/text/text_classification_rnn\n",
    "    - Tensorflow is to deep learning learning what Java is to programming (joking...?)\n"
   ]
  },
  {
   "cell_type": "markdown",
   "metadata": {
    "id": "ysjOGZrnXkPc"
   },
   "source": [
    "### Data preparation"
   ]
  },
  {
   "cell_type": "markdown",
   "metadata": {
    "id": "zdiXno9jXkPc"
   },
   "source": [
    "First let's load the Twitter dataset we used in the second session:"
   ]
  },
  {
   "cell_type": "code",
   "execution_count": null,
   "metadata": {
    "colab": {
     "base_uri": "https://localhost:8080/"
    },
    "executionInfo": {
     "elapsed": 11889,
     "status": "ok",
     "timestamp": 1742334384694,
     "user": {
      "displayName": "Nicolò Brunello",
      "userId": "03655516846124206133"
     },
     "user_tz": -60
    },
    "id": "WX-qsv-IXkPc",
    "outputId": "a6cb0918-5a42-4f40-f8c9-7c365cba0ca8"
   },
   "outputs": [],
   "source": [
    "import nltk\n",
    "nltk.download('twitter_samples')\n",
    "\n",
    "from nltk.corpus import twitter_samples\n",
    "positive_tweets = twitter_samples.strings('positive_tweets.json')\n",
    "negative_tweets = twitter_samples.strings('negative_tweets.json')"
   ]
  },
  {
   "cell_type": "markdown",
   "metadata": {
    "id": "mdKS2HdEXkPc"
   },
   "source": [
    "Remove emoticons from the positive and negative examples:"
   ]
  },
  {
   "cell_type": "code",
   "execution_count": null,
   "metadata": {
    "id": "MQqqGPlYXkPc"
   },
   "outputs": [],
   "source": [
    "import re\n",
    "emoticon_regex = '(\\:\\w+\\:|\\<[\\/\\\\]?3|[\\(\\)\\\\\\D|\\*\\$][\\-\\^]?[\\:\\;\\=]|[\\:\\;\\=B8][\\-\\^]?[3DOPp\\@\\$\\*\\\\\\)\\(\\/\\|])(?=\\s|[\\!\\.\\?]|$)'\n",
    "positive_tweets_noemoticons = [re.sub(emoticon_regex,'',tweet) for tweet in positive_tweets]\n",
    "negative_tweets_noemoticons = [re.sub(emoticon_regex,'',tweet) for tweet in negative_tweets]"
   ]
  },
  {
   "cell_type": "markdown",
   "metadata": {
    "id": "xMo6g9mcXkPc"
   },
   "source": [
    "And create the examples and labels as we did before. This time we will use numeric labels (0,1) instead of text labels ('negative','positive'), since the deep learning library we will use requires numeric class labels."
   ]
  },
  {
   "cell_type": "code",
   "execution_count": null,
   "metadata": {
    "id": "sVAlgu-IXkPc"
   },
   "outputs": [],
   "source": [
    "tweets_x = positive_tweets_noemoticons + negative_tweets_noemoticons\n",
    "tweets_y = [1]*len(positive_tweets) + [0]*len(negative_tweets)"
   ]
  },
  {
   "cell_type": "markdown",
   "metadata": {
    "id": "HpMJO18SXkPc"
   },
   "source": [
    "And again, split the data into training, validation and test:"
   ]
  },
  {
   "cell_type": "code",
   "execution_count": null,
   "metadata": {
    "id": "y2eXMPFuXkPc"
   },
   "outputs": [],
   "source": [
    "from sklearn.model_selection import train_test_split\n",
    "temp_x, test_x, temp_y, test_y = train_test_split(tweets_x, tweets_y, test_size=0.2)\n",
    "train_x, valid_x, train_y, valid_y = train_test_split(temp_x, temp_y, test_size=0.2)"
   ]
  },
  {
   "cell_type": "markdown",
   "metadata": {
    "id": "KFRtKN0gXkPc"
   },
   "source": [
    "Now that we have the training and validation data prepared, we can import the Tensorflow library, and use it to load the training and validaton datasets into the tensorflow format. Note that:\n",
    "- Tensorflow comes installed on Google Colab.\n",
    "- If you run this notebook on your own machine you will need to first install tensorflow using '!pip install'"
   ]
  },
  {
   "cell_type": "code",
   "execution_count": null,
   "metadata": {
    "id": "wmwzZwBVMpbM"
   },
   "outputs": [],
   "source": [
    "import os\n",
    "\n",
    "os.environ['CUDA_VISIBLE_DEVICES'] = '-1'"
   ]
  },
  {
   "cell_type": "code",
   "execution_count": null,
   "metadata": {
    "colab": {
     "base_uri": "https://localhost:8080/"
    },
    "executionInfo": {
     "elapsed": 13108,
     "status": "ok",
     "timestamp": 1742334402993,
     "user": {
      "displayName": "Nicolò Brunello",
      "userId": "03655516846124206133"
     },
     "user_tz": -60
    },
    "id": "XxX5PQ1-XkPc",
    "outputId": "0f31abf8-9500-446a-c14e-eada10f6046d",
    "scrolled": true
   },
   "outputs": [],
   "source": [
    "%pip install -q tensorflow"
   ]
  },
  {
   "cell_type": "code",
   "execution_count": null,
   "metadata": {
    "id": "gykDCG4YXkPc"
   },
   "outputs": [],
   "source": [
    "import tensorflow as tf\n",
    "\n",
    "train_tf = tf.data.Dataset.from_tensor_slices((train_x, train_y))\n",
    "valid_tf = tf.data.Dataset.from_tensor_slices((valid_x, valid_y))"
   ]
  },
  {
   "cell_type": "markdown",
   "metadata": {
    "id": "VeZgqPQYXkPc"
   },
   "source": [
    "Training will run on *batches* of the data at a time, so we need to create them.\n",
    "- We first use the shuffle command to randomise the order of the training data. (The buffer-size limits the number of instances loaded into memory when shuffling and is only for efficiency -- you could remove it.)\n",
    "- We then create the batches. Each batch will contain 64 examples.\n",
    "- The validation data needs to have the same format as the training data, so we batch it too."
   ]
  },
  {
   "cell_type": "code",
   "execution_count": null,
   "metadata": {
    "id": "I3k_AJMVXkPc"
   },
   "outputs": [],
   "source": [
    "train_dataset = train_tf.shuffle(buffer_size=10000).batch(batch_size=64).prefetch(tf.data.AUTOTUNE)\n",
    "valid_dataset = valid_tf.batch(batch_size=64).prefetch(tf.data.AUTOTUNE)"
   ]
  },
  {
   "cell_type": "markdown",
   "metadata": {
    "id": "RCIJun8hXkPc"
   },
   "source": [
    "Let's have a look at the first batch in the training data. It consists of:\n",
    "- an array of strings (tweets)\n",
    "- an array of binary values (class labels)"
   ]
  },
  {
   "cell_type": "code",
   "execution_count": null,
   "metadata": {
    "colab": {
     "base_uri": "https://localhost:8080/"
    },
    "executionInfo": {
     "elapsed": 275,
     "status": "ok",
     "timestamp": 1742334426274,
     "user": {
      "displayName": "Nicolò Brunello",
      "userId": "03655516846124206133"
     },
     "user_tz": -60
    },
    "id": "4sqXOO8JXkPd",
    "outputId": "37f18cbd-f417-4dbb-9290-e7d49f8e327f"
   },
   "outputs": [],
   "source": [
    "for batch in train_dataset.take(1):\n",
    "  print(batch)"
   ]
  },
  {
   "cell_type": "markdown",
   "metadata": {
    "id": "XTwmMzIoXkPd"
   },
   "source": [
    "Now that we have the text data in the format required, we can vectorize it. We will need to make use a specific text vectorization module from tensorflow to do this.\n",
    "- We first limit the vocabulary of the vectorizer to 5000,\n",
    "- then extract only the text portion of the training dataset,\n",
    "- and finally fit the vectorizer to the text using the 'adapt' method:"
   ]
  },
  {
   "cell_type": "code",
   "execution_count": null,
   "metadata": {
    "id": "v6BrcfEoXkPd"
   },
   "outputs": [],
   "source": [
    "from tensorflow.keras.layers import TextVectorization\n",
    "vectorizer = TextVectorization(max_tokens=5000)\n",
    "train_text = train_dataset.map(lambda text, label: text)\n",
    "vectorizer.adapt(train_text)"
   ]
  },
  {
   "cell_type": "markdown",
   "metadata": {
    "id": "6lVOC3srXkPd"
   },
   "source": [
    "Let's print out the first tokens form the vocabulary:"
   ]
  },
  {
   "cell_type": "code",
   "execution_count": null,
   "metadata": {
    "colab": {
     "base_uri": "https://localhost:8080/"
    },
    "executionInfo": {
     "elapsed": 50,
     "status": "ok",
     "timestamp": 1742334431965,
     "user": {
      "displayName": "Nicolò Brunello",
      "userId": "03655516846124206133"
     },
     "user_tz": -60
    },
    "id": "hDErP-eLXkPd",
    "outputId": "0162586b-4b12-4600-8bbc-4e06973b689a"
   },
   "outputs": [],
   "source": [
    "vocab = vectorizer.get_vocabulary()\n",
    "vocab[:100]"
   ]
  },
  {
   "cell_type": "markdown",
   "metadata": {
    "id": "P2AnCbfIXkPd"
   },
   "source": [
    "Note that the first two tokens in the vocabulary are the empty token '', and the unknown token '[UNK]'. The latter is used to mask out-of-vocabulary tokens in the text\n",
    "\n",
    "We can now use the vectorizer to encode a tweet:"
   ]
  },
  {
   "cell_type": "code",
   "execution_count": null,
   "metadata": {
    "colab": {
     "base_uri": "https://localhost:8080/"
    },
    "executionInfo": {
     "elapsed": 72,
     "status": "ok",
     "timestamp": 1742334432038,
     "user": {
      "displayName": "Nicolò Brunello",
      "userId": "03655516846124206133"
     },
     "user_tz": -60
    },
    "id": "reL7OIXpXkPd",
    "outputId": "658aea25-acd5-4ef9-c0e7-d0c526503ede"
   },
   "outputs": [],
   "source": [
    "text = 'This is my first tweet! It contains one out-of-vocabulary term. Any suggestions for extending this tweet?'\n",
    "encoding = vectorizer([text]).numpy()[0]\n",
    "print('Tweet:     ', text)\n",
    "print('Encoded:   ', encoding)\n",
    "print('Recovered: ',' '.join([vocab[i] for i in encoding]))"
   ]
  },
  {
   "cell_type": "markdown",
   "metadata": {
    "id": "P0wCv-cPXkPd"
   },
   "source": [
    "Note that the vectorizer is not turning the text into a single vector, but is simply replacing the vocabulary words by their indices. If a word is not present in the dictionary it is replaced by the unknown token."
   ]
  },
  {
   "cell_type": "markdown",
   "metadata": {
    "id": "cAeaJ6WvXkPd"
   },
   "source": [
    "Let's have a look at some actual examples from the dataset, printing out the first 6 tweets:"
   ]
  },
  {
   "cell_type": "code",
   "execution_count": null,
   "metadata": {
    "colab": {
     "base_uri": "https://localhost:8080/"
    },
    "executionInfo": {
     "elapsed": 443,
     "status": "ok",
     "timestamp": 1742334432489,
     "user": {
      "displayName": "Nicolò Brunello",
      "userId": "03655516846124206133"
     },
     "user_tz": -60
    },
    "id": "4aghpfMAXkPd",
    "outputId": "103c9bf1-22c1-4055-bc4f-b31a66db029a"
   },
   "outputs": [],
   "source": [
    "for text in batch[0][:6].numpy():\n",
    "    encoding = vectorizer([text]).numpy()[0]\n",
    "    print('Tweet:     ', text.decode(\"utf-8\"))\n",
    "    print('Encoded:   ', encoding)\n",
    "    print('Recovered: ',' '.join([vocab[i] for i in encoding]))\n",
    "    print()"
   ]
  },
  {
   "cell_type": "markdown",
   "metadata": {
    "id": "JeDyajurXkPd"
   },
   "source": [
    "### Defining the RNN model\n",
    "\n",
    "Now we can define the model, which contains four layers:\n",
    "- an input embedding layer which produces word embeddings of size 64\n",
    "- a bidirectional LSTM layer\n",
    "- 2 dense (aka fully connected) layers that maps the 2 embedding vectors (of size 64) produced by the bidirectional LSTM down to a single neuron   \n",
    "\n",
    "This constitutes a relatively standard basic RNN architecture. (The details of why these specific components are chosen is beyond the scope of this tutorial.)  \n",
    "\n",
    "Once the model has been defined it is compiled in the following step:"
   ]
  },
  {
   "cell_type": "code",
   "execution_count": null,
   "metadata": {
    "id": "O7Db-xGTXkPd"
   },
   "outputs": [],
   "source": [
    "model = tf.keras.Sequential([\n",
    "    vectorizer,\n",
    "    tf.keras.layers.Embedding(input_dim=len(vectorizer.get_vocabulary()), output_dim=64, mask_zero=True),\n",
    "    tf.keras.layers.Bidirectional(tf.keras.layers.LSTM(64)),\n",
    "    tf.keras.layers.Dense(64, activation='relu'),\n",
    "    tf.keras.layers.Dense(1)\n",
    "])\n",
    "model.compile(loss=tf.keras.losses.BinaryCrossentropy(from_logits=True), metrics=['accuracy'], optimizer=tf.keras.optimizers.Adam(1e-4))"
   ]
  },
  {
   "cell_type": "markdown",
   "metadata": {
    "id": "sDcdvj3fXkPd"
   },
   "source": [
    "Fit the model by running it for 10 epochs (iterations over the training data).\n",
    "- Note that we provide it with both the training dataset and the validation dataset:"
   ]
  },
  {
   "cell_type": "code",
   "execution_count": null,
   "metadata": {
    "colab": {
     "base_uri": "https://localhost:8080/"
    },
    "executionInfo": {
     "elapsed": 75615,
     "status": "ok",
     "timestamp": 1742334508672,
     "user": {
      "displayName": "Nicolò Brunello",
      "userId": "03655516846124206133"
     },
     "user_tz": -60
    },
    "id": "QNij_XUrXkPd",
    "outputId": "77ec584b-68d2-405e-9504-6f72e4483d83"
   },
   "outputs": [],
   "source": [
    "model.fit(train_dataset, epochs=10, validation_data=valid_dataset, validation_steps=20)"
   ]
  },
  {
   "cell_type": "markdown",
   "metadata": {
    "id": "chkFHzAjXkPd"
   },
   "source": [
    "Once we've trained the model we can check the final accuracy on the validation data:"
   ]
  },
  {
   "cell_type": "code",
   "execution_count": null,
   "metadata": {
    "colab": {
     "base_uri": "https://localhost:8080/"
    },
    "executionInfo": {
     "elapsed": 629,
     "status": "ok",
     "timestamp": 1742334514147,
     "user": {
      "displayName": "Nicolò Brunello",
      "userId": "03655516846124206133"
     },
     "user_tz": -60
    },
    "id": "6VGjzmPPXkPd",
    "outputId": "dc1ddd8c-6fcd-45f4-bd26-125c822bf4b2"
   },
   "outputs": [],
   "source": [
    "valid_loss, valid_acc = model.evaluate(valid_dataset)\n",
    "\n",
    "print('Validation Loss: {}'.format(valid_loss))\n",
    "print('Validation Accuracy: ',valid_acc)"
   ]
  },
  {
   "cell_type": "markdown",
   "metadata": {
    "id": "yUFlKyZwXkPd"
   },
   "source": [
    "We can have a look at the predictions from the model:"
   ]
  },
  {
   "cell_type": "code",
   "execution_count": null,
   "metadata": {
    "colab": {
     "base_uri": "https://localhost:8080/"
    },
    "executionInfo": {
     "elapsed": 709,
     "status": "ok",
     "timestamp": 1742334516906,
     "user": {
      "displayName": "Nicolò Brunello",
      "userId": "03655516846124206133"
     },
     "user_tz": -60
    },
    "id": "n44pazsNXkPd",
    "outputId": "e453a8a2-acc1-4d23-ca55-22170664d690"
   },
   "outputs": [],
   "source": [
    "tweets = []\n",
    "tweets.append('I can\\'t believe how much fun I\\'m having learning to train a text classifier with a bidirectional LSTM!')\n",
    "tweets.append('I am really confused. I want my mommy.')\n",
    "tweets.append('The internet connection has been pretty annoying today!')\n",
    "tweets.append('They just played my favourite song on the radio.')\n",
    "tweets.append(\"I don't like going to the dentist.\")\n",
    "tweets.append('I am so happy today!')\n",
    "tweets.append('I am so unhappy today!')\n",
    "\n",
    "predictions = model.predict(tf.convert_to_tensor(tweets))\n",
    "\n",
    "for i in range(len(tweets)):\n",
    "  print('tweet: ',tweets[i])\n",
    "  encoding = vectorizer([tweets[i]]).numpy()[0]\n",
    "  print('encoded as: ',' '.join([vocab[j] for j in encoding]))\n",
    "  print('predicted value: ', predictions[i][0])\n",
    "  print('predicted label: ', 'negative' if (predictions[i]<0) else 'positive')\n",
    "  print()"
   ]
  },
  {
   "cell_type": "markdown",
   "metadata": {
    "id": "aV-2gZZtXkPd"
   },
   "source": [
    "And calculate the usual evaluation metrics:"
   ]
  },
  {
   "cell_type": "code",
   "execution_count": null,
   "metadata": {
    "colab": {
     "base_uri": "https://localhost:8080/",
     "height": 501
    },
    "collapsed": true,
    "executionInfo": {
     "elapsed": 7667,
     "status": "ok",
     "timestamp": 1742334782112,
     "user": {
      "displayName": "Nicolò Brunello",
      "userId": "03655516846124206133"
     },
     "user_tz": -60
    },
    "id": "-dBXIPMEXkPd",
    "jupyter": {
     "outputs_hidden": true
    },
    "outputId": "00d791cf-9436-429b-ff4d-b9bbaf598049"
   },
   "outputs": [],
   "source": [
    "pred_y = [0 if (pred < 0) else 1 for pred in model.predict(tf.convert_to_tensor(valid_x))]\n",
    "\n",
    "from sklearn.metrics import accuracy_score\n",
    "print('accuracy: '+ str(accuracy_score(pred_y, valid_y)))\n",
    "\n",
    "from sklearn.metrics import confusion_matrix, ConfusionMatrixDisplay\n",
    "cmd = ConfusionMatrixDisplay(confusion_matrix(valid_y, pred_y,normalize='true'), display_labels=['negative', 'positive'])\n",
    "cmd.plot()"
   ]
  },
  {
   "cell_type": "markdown",
   "metadata": {
    "id": "c-BKhc-eXkPd"
   },
   "source": [
    "Finally, let's print out the model summary to get an understanding of the number of parameters in the model:"
   ]
  },
  {
   "cell_type": "code",
   "execution_count": null,
   "metadata": {
    "colab": {
     "base_uri": "https://localhost:8080/",
     "height": 338
    },
    "executionInfo": {
     "elapsed": 16,
     "status": "ok",
     "timestamp": 1742334793622,
     "user": {
      "displayName": "Nicolò Brunello",
      "userId": "03655516846124206133"
     },
     "user_tz": -60
    },
    "id": "v3Flbj4zXkPd",
    "outputId": "57b8e84b-fb25-4377-f075-3fc0dec86f56"
   },
   "outputs": [],
   "source": [
    "print(model.summary())"
   ]
  },
  {
   "cell_type": "markdown",
   "metadata": {
    "id": "MdT7hq_rXkPe"
   },
   "source": [
    "Most of the parameters are used to define the embedding, then the LSTMs."
   ]
  },
  {
   "cell_type": "markdown",
   "metadata": {
    "id": "lRDCLcREXkPe"
   },
   "source": [
    "### Encoder-Decoder models\n",
    "\n",
    "The next step after using sequential models for labelling and classification is to move to encoder-decoder models.\n",
    "Even better, encoder-decoder models with attention, to align the sequence processed by the encoder and the sequence processed by the decoder.\n",
    "\n",
    "We warmly recommend to take a look at this tutorial: https://pytorch.org/tutorials/intermediate/seq2seq_translation_tutorial.html (you can tun it in Google Colab).\n",
    "The tutorial shows how to build a translation model using recurrent neural networks and the attention mechanism.\n",
    "This was the last step before moving to the Transformer architectures (the current state-of-the-art).\n",
    "The tutorial is useful to get a better understanding of the attention mechanism and how it is used to learn the alignment between two sequences."
   ]
  },
  {
   "cell_type": "markdown",
   "metadata": {
    "id": "0OgRPEb6pdlv"
   },
   "source": [
    "## Installing spaCy and downloading models\n",
    "\n",
    "First we need to check whether the spaCy library is installed:"
   ]
  },
  {
   "cell_type": "code",
   "execution_count": null,
   "metadata": {
    "colab": {
     "base_uri": "https://localhost:8080/"
    },
    "executionInfo": {
     "elapsed": 4468,
     "status": "ok",
     "timestamp": 1742335852823,
     "user": {
      "displayName": "Nicolò Brunello",
      "userId": "03655516846124206133"
     },
     "user_tz": -60
    },
    "id": "3083U81cpdlv",
    "outputId": "6a7e6daa-df88-4795-f0f5-1cc3e04e713b"
   },
   "outputs": [],
   "source": [
    "%pip install -qU spacy"
   ]
  },
  {
   "cell_type": "markdown",
   "metadata": {
    "id": "CJ1xLIcHpdlw"
   },
   "source": [
    "Then we need to download pretrained models for use with spaCy. We will load models for both English and Italian:\n",
    "- The models are called 'en_core_web_sm' and 'it_core_news_sm', where the 'web'/'news' indicates what type of collection the model was trained on and the 'sm' at the end indicates that we are using the 'small' version of the models\n",
    "- Other models are available here: https://spacy.io/models\n",
    "- The following code calls the python executable instructing it to run the module 'spacy', which in turn download the models. See discussion here: https://stackoverflow.com/questions/46148033/unable-to-load-en-from-spacy-in-jupyter-notebook"
   ]
  },
  {
   "cell_type": "code",
   "execution_count": null,
   "metadata": {
    "colab": {
     "base_uri": "https://localhost:8080/"
    },
    "executionInfo": {
     "elapsed": 28318,
     "status": "ok",
     "timestamp": 1742335881140,
     "user": {
      "displayName": "Nicolò Brunello",
      "userId": "03655516846124206133"
     },
     "user_tz": -60
    },
    "id": "dyv-NpFbpdlw",
    "outputId": "da163398-7b66-4309-c545-c2a9c69dfd38"
   },
   "outputs": [],
   "source": [
    "!python -m spacy download en_core_web_sm\n",
    "!python -m spacy download it_core_news_sm"
   ]
  },
  {
   "cell_type": "markdown",
   "metadata": {
    "id": "yYRlbtvspdlx"
   },
   "source": [
    "We are now ready to import spacy and load a model. Let's start with the English model:"
   ]
  },
  {
   "cell_type": "code",
   "execution_count": null,
   "metadata": {
    "id": "4KHrsza0pdlx"
   },
   "outputs": [],
   "source": [
    "import spacy\n",
    "\n",
    "nlp_model = spacy.load(\"en_core_web_sm\")"
   ]
  },
  {
   "cell_type": "markdown",
   "metadata": {
    "id": "jy4K8dRApdlx"
   },
   "source": [
    "Consider the following piece of text:"
   ]
  },
  {
   "cell_type": "code",
   "execution_count": null,
   "metadata": {
    "colab": {
     "base_uri": "https://localhost:8080/"
    },
    "executionInfo": {
     "elapsed": 30,
     "status": "ok",
     "timestamp": 1742335888334,
     "user": {
      "displayName": "Nicolò Brunello",
      "userId": "03655516846124206133"
     },
     "user_tz": -60
    },
    "id": "3MGjLJU0pdlx",
    "outputId": "fb6db651-678c-4cd6-cc9b-976c003ac196"
   },
   "outputs": [],
   "source": [
    "text = 'Melbourne is to re-enter Stage 3 lockdown after a record increase in cases. Victorian state premier Daniel Andrews said there was “simply no alternative” to reimposing stay at home restrictions in Australia’s second-biggest city.'\n",
    "# text = \"Good evening, London. Allow me first to apologize for this interruption. I do, like many of you, appreciate the comforts of everyday routine, the security of the familiar, the tranquillity of repetition. I enjoy them as much as any bloke. But in the spirit of commemoration, whereby those important events of the past, usually associated with someone's death or the end of some awful bloody struggle, are celebrated with a nice holiday, I thought we could mark this November the fifth, a day that is sadly no longer remembered, by taking some time out of our daily lives to sit down and have a little chat.\"\n",
    "print(text)"
   ]
  },
  {
   "cell_type": "markdown",
   "metadata": {
    "id": "h_rCI0Hbpdly"
   },
   "source": [
    "Parse the text using the NLP engine:"
   ]
  },
  {
   "cell_type": "code",
   "execution_count": null,
   "metadata": {
    "colab": {
     "base_uri": "https://localhost:8080/"
    },
    "executionInfo": {
     "elapsed": 55,
     "status": "ok",
     "timestamp": 1742335888390,
     "user": {
      "displayName": "Nicolò Brunello",
      "userId": "03655516846124206133"
     },
     "user_tz": -60
    },
    "id": "xmpvXvjapdly",
    "outputId": "4460a448-b323-4cd8-cd82-84c5e84704b6"
   },
   "outputs": [],
   "source": [
    "parsed_text = nlp_model(text)\n",
    "print(parsed_text)"
   ]
  },
  {
   "cell_type": "markdown",
   "metadata": {
    "id": "nnXyGOx0pdlz"
   },
   "source": [
    "Did it do something? It looks like it has just output the same text.\n",
    "- Actually, yes. It has parsed the input and built its internal datastructure from it.\n",
    "- Note that the length of the parsed object is in words, not characters:"
   ]
  },
  {
   "cell_type": "code",
   "execution_count": null,
   "metadata": {
    "colab": {
     "base_uri": "https://localhost:8080/"
    },
    "executionInfo": {
     "elapsed": 16,
     "status": "ok",
     "timestamp": 1742335888408,
     "user": {
      "displayName": "Nicolò Brunello",
      "userId": "03655516846124206133"
     },
     "user_tz": -60
    },
    "id": "fbAOI2Mnpdlz",
    "outputId": "ed11c137-3490-4dbb-a445-a5ef6ca51b24"
   },
   "outputs": [],
   "source": [
    "print(f'The length of the original text is {len(text)} chacacters')\n",
    "print(f'The length of the parsed text is {len(parsed_text)} words')"
   ]
  },
  {
   "cell_type": "markdown",
   "metadata": {
    "id": "xImJ-i_Lpdlz"
   },
   "source": [
    "## Part-of-Speech Tagging\n",
    "\n",
    "While parsing the text, spaCy performs part-of-speech (POS) tagging.\n",
    "- We can see the POS tag for each token as follows:"
   ]
  },
  {
   "cell_type": "code",
   "execution_count": null,
   "metadata": {
    "colab": {
     "base_uri": "https://localhost:8080/"
    },
    "executionInfo": {
     "elapsed": 42,
     "status": "ok",
     "timestamp": 1742335888453,
     "user": {
      "displayName": "Nicolò Brunello",
      "userId": "03655516846124206133"
     },
     "user_tz": -60
    },
    "id": "Ho4HEJTLpdlz",
    "outputId": "56e6d8dc-26ab-4b04-f2ac-4bce2e2eb6b2"
   },
   "outputs": [],
   "source": [
    "[(w,w.pos_) for w in parsed_text]"
   ]
  },
  {
   "cell_type": "markdown",
   "metadata": {
    "id": "YFEzvleepdlz"
   },
   "source": [
    "Who remembers their grammar from high school? What do all those POS symbols mean?\n",
    "- You can find an explanation of the POS tags on this website https://spacy.io/api/annotation in the section \"Universal Part-of-speech Tags\"\n",
    "\n",
    "What can we do with POS tags?\n",
    "- Well, we could select all terms that have a certain tag, such as all adjectives:"
   ]
  },
  {
   "cell_type": "code",
   "execution_count": null,
   "metadata": {
    "colab": {
     "base_uri": "https://localhost:8080/"
    },
    "executionInfo": {
     "elapsed": 2,
     "status": "ok",
     "timestamp": 1742335888454,
     "user": {
      "displayName": "Nicolò Brunello",
      "userId": "03655516846124206133"
     },
     "user_tz": -60
    },
    "id": "6Kcjc28lpdl0",
    "outputId": "5fd7f8ac-4d4a-494e-9088-f53c3f10909c"
   },
   "outputs": [],
   "source": [
    "set(w for w in parsed_text if w.pos_=='ADJ')"
   ]
  },
  {
   "cell_type": "markdown",
   "metadata": {
    "id": "ftw5HEYEpdl0"
   },
   "source": [
    "That was a little underwhelming.\n",
    "- Let's try it on Alice in Wonderland chapter 1 text. (You'll need to upload it again to Google Colab)"
   ]
  },
  {
   "cell_type": "code",
   "execution_count": null,
   "metadata": {
    "colab": {
     "base_uri": "https://localhost:8080/"
    },
    "executionInfo": {
     "elapsed": 602,
     "status": "ok",
     "timestamp": 1742335889055,
     "user": {
      "displayName": "Nicolò Brunello",
      "userId": "03655516846124206133"
     },
     "user_tz": -60
    },
    "id": "tGRt3HF8pdl0",
    "outputId": "dc8e1e34-6fd4-4525-da7e-7c71e86beb8a"
   },
   "outputs": [],
   "source": [
    "adjectives = sorted(set(w.text for w in nlp_model(open(\"docs/Alice_Chapter1.txt\", \"r\").read()) if w.pos_=='ADJ'))\n",
    "print(adjectives)"
   ]
  },
  {
   "cell_type": "markdown",
   "metadata": {
    "id": "Pct1jNdEpdl0"
   },
   "source": [
    "You can see how descriptive a writer Lewis Carroll was!\n",
    "\n",
    "This leads us to one explanation as to why we might want to extract POS tags from text:\n",
    "- They can sometimes be useful for **extracting features** (often handcrafted ones) for certain text classification tasks (such as authorship identification).\n",
    "- This is particularly the case if only a small amount of training data is available.  \n",
    "- For example, in this article (https://towardsdatascience.com/automatically-detect-covid-19-misinformation-f7ceca1dc1c7) hand-crafted features are extracted for classifying covid misinformation.\n",
    "\n",
    "Another reason why we might consider POS tagging is to **reduce ambiguity** in our bag-of-words representation by appending POS tags to word occurrences.\n",
    "- Consider the following two sentences:"
   ]
  },
  {
   "cell_type": "code",
   "execution_count": null,
   "metadata": {
    "colab": {
     "base_uri": "https://localhost:8080/"
    },
    "executionInfo": {
     "elapsed": 6,
     "status": "ok",
     "timestamp": 1742335889055,
     "user": {
      "displayName": "Nicolò Brunello",
      "userId": "03655516846124206133"
     },
     "user_tz": -60
    },
    "id": "2iO992Q-pdl0",
    "outputId": "7186fbd8-389a-415a-9c46-76e938d3f438"
   },
   "outputs": [],
   "source": [
    "ex1 = 'I catch the train to and from work.'       # This is Prof. Mark Carman speaking\n",
    "ex2 = 'I like to train at least 6 times a week.'  # This is Prof. Jacked Carman speaking\n",
    "\n",
    "print(ex1, '     <-- \\'train\\' is a', nlp_model(ex1)[3].pos_)\n",
    "print(ex2, '<-- \\'train\\' is a', nlp_model(ex2)[3].pos_)"
   ]
  },
  {
   "cell_type": "markdown",
   "metadata": {
    "id": "dHlqof06pdl1"
   },
   "source": [
    "The second sentence has nothing to do with trains, despite containing the word 'train'!\n",
    "- We could deal with this issue by appending the POS tag to the observed literal to form vocabulary elements: train_NOUN, train_VERB\n",
    "\n",
    "A final reason why we might think about running POS tagging would be to extract proper nouns from the text, since they refer to real entities that are being discussed in it:"
   ]
  },
  {
   "cell_type": "code",
   "execution_count": null,
   "metadata": {
    "colab": {
     "base_uri": "https://localhost:8080/"
    },
    "executionInfo": {
     "elapsed": 2,
     "status": "ok",
     "timestamp": 1742335889055,
     "user": {
      "displayName": "Nicolò Brunello",
      "userId": "03655516846124206133"
     },
     "user_tz": -60
    },
    "id": "kW4TbHffpdl1",
    "outputId": "c865f77c-c137-4007-b1ef-31779504e96a"
   },
   "outputs": [],
   "source": [
    "[w.text for w in parsed_text if w.pos_=='PROPN']"
   ]
  },
  {
   "cell_type": "markdown",
   "metadata": {
    "id": "cDl1pPoSpdl1"
   },
   "source": [
    "Shortly though, we will talk about Entity-extraction, which is the task of identifying and categorising the entities discussed in the text."
   ]
  },
  {
   "cell_type": "markdown",
   "metadata": {
    "id": "NDh0iS65pdl1"
   },
   "source": [
    "## Lemmatization\n",
    "\n",
    "While parsing, spaCy also performs lemmatization.\n",
    "- Lemmatization is the process of extracting the 'lemma' for each token, which is the canonical form of the word that would be found in the dictionary, (see https://en.wikipedia.org/wiki/Lemma_(morphology))\n",
    "- Basically, verbs converted to their root form, e.g.: **went, going, goes, gone => go**\n",
    "- And nouns are retuned to singular form: **kittens => kitten**\n",
    "- Lemmatization is a more complicated POS-aware process than stemming (https://en.wikipedia.org/wiki/Stemming). Stemmers simply apply a set of language-specific syntax rules to recover the stem of the word"
   ]
  },
  {
   "cell_type": "code",
   "execution_count": null,
   "metadata": {
    "colab": {
     "base_uri": "https://localhost:8080/"
    },
    "executionInfo": {
     "elapsed": 2,
     "status": "ok",
     "timestamp": 1742335889055,
     "user": {
      "displayName": "Nicolò Brunello",
      "userId": "03655516846124206133"
     },
     "user_tz": -60
    },
    "id": "EevBrQRbpdl1",
    "outputId": "2080eb28-8fc2-441d-b480-9431ddc82bb2"
   },
   "outputs": [],
   "source": [
    "[(x, x.lemma_) for x in parsed_text]"
   ]
  },
  {
   "cell_type": "markdown",
   "metadata": {
    "id": "IEIoq1RFpdl1"
   },
   "source": [
    "Why would one want to perfom lemmatization? -- Or stemming for that matter?\n",
    "- to **reduce the vocabulary size** and thereby generalise the representation. -- This used to be very important for improving performance of search engine performance (better similarity measures between documents) and also classifiers on small datasets, (before word embeddings came along).\n",
    "- to **look-up information** about the word in a dictionary/ontology, such as WordNet (https://en.wikipedia.org/wiki/WordNet). This used to be an important way to compute semantic similarity between words, but again, word embeddngs probably do a better job."
   ]
  },
  {
   "cell_type": "markdown",
   "metadata": {
    "id": "4vBQ7f0tpdl2"
   },
   "source": [
    "## Dependency Parsing\n",
    "\n",
    "Tradititonally in Natural Language Processing, text is processed in a pipeline that first tokenizes, then POS tags, lemmatizes and finaly dependency parses a piece of text.\n",
    "- The idea with dependency parsing is to determine what function each of the word instances is fulfilling in the sentence.\n",
    "- What is the subject and object of the sentence?\n",
    "- Which noun is each adjective referring to?\n",
    "\n",
    "So while parsing the text, the spaCy model also generates a **dependency parse tree**, which can be displayed using 'displacy':"
   ]
  },
  {
   "cell_type": "code",
   "execution_count": null,
   "metadata": {
    "colab": {
     "base_uri": "https://localhost:8080/",
     "height": 528
    },
    "executionInfo": {
     "elapsed": 14,
     "status": "ok",
     "timestamp": 1742335889068,
     "user": {
      "displayName": "Nicolò Brunello",
      "userId": "03655516846124206133"
     },
     "user_tz": -60
    },
    "id": "Dbz57hc5pdl2",
    "outputId": "4ed55b42-b135-4281-aeab-1b7d22506ae4"
   },
   "outputs": [],
   "source": [
    "from spacy import displacy\n",
    "# displacy.render(parsed_text, jupyter=True, style='dep')"
   ]
  },
  {
   "cell_type": "markdown",
   "metadata": {
    "id": "quwWOjbOpdl3"
   },
   "source": [
    "Such dependency trees are interesting for understanding and visualising language (particularly for linguists) and could possibly be used for some downstream tasks (say checking ambiguity in legal documents).  \n",
    "\n",
    "Consider the sentences:\n",
    "- *The girl saw a man carrying a telescope.*\n",
    "- *The girl saw a man with a telescope.*\n",
    "\n",
    "Who had the telescope?"
   ]
  },
  {
   "cell_type": "code",
   "execution_count": null,
   "metadata": {
    "colab": {
     "base_uri": "https://localhost:8080/",
     "height": 353
    },
    "executionInfo": {
     "elapsed": 25,
     "status": "ok",
     "timestamp": 1742335889094,
     "user": {
      "displayName": "Nicolò Brunello",
      "userId": "03655516846124206133"
     },
     "user_tz": -60
    },
    "id": "_AxJLNswpdl3",
    "outputId": "b115785e-262f-420b-8725-bcb73d2d3bc3"
   },
   "outputs": [],
   "source": [
    "# displacy.render(nlp_model('The girl saw a man carrying a telescope.'),jupyter=True,style='dep')"
   ]
  },
  {
   "cell_type": "code",
   "execution_count": null,
   "metadata": {
    "colab": {
     "base_uri": "https://localhost:8080/",
     "height": 441
    },
    "executionInfo": {
     "elapsed": 16,
     "status": "ok",
     "timestamp": 1742335889110,
     "user": {
      "displayName": "Nicolò Brunello",
      "userId": "03655516846124206133"
     },
     "user_tz": -60
    },
    "id": "7abgGOdwpdl3",
    "outputId": "1e7bcd76-41e0-49ed-a87c-6c95fa9aedea"
   },
   "outputs": [],
   "source": [
    "# displacy.render(nlp_model('The girl saw a man with a telescope.'),jupyter=True,style='dep')"
   ]
  },
  {
   "cell_type": "markdown",
   "metadata": {
    "id": "_fIZq6zIhPbk"
   },
   "source": [
    "The second sentence is ambiguous: The girl may have made use of her telescope or the man may have been using the girl's telescope...\n",
    "- Language is full of such ambiguities which we as humans naturally deal with using our prior knowledge and abilty to construct mental models of the situations described.\n",
    "- This process is not without its biases:\n",
    "  - *The doctor went over to talk to the nurse. She told him that she had just given the patient 5mg of Vicodin and the child had started convulsing. He listened attentively as she explained what had happened. The doctor was worried that the patient should not be given any more painkillers. The nurse told the doctor not to worry, that the patient was in good hands, and that he would let her know immediately if the child's condition changed.*\n",
    "  - What gender are the doctor and the nurse?"
   ]
  },
  {
   "cell_type": "markdown",
   "metadata": {
    "id": "4uE1efbqpdl3"
   },
   "source": [
    "## Extracting Entities\n",
    "\n",
    "A more important output than the depency parse, from a text mining perspective, is the list of named-entities present in the text\n",
    "- **named entities** are objects in the real world, e.g. persons, products, organizations, locations, etc.\n",
    "  - see https://en.wikipedia.org/wiki/Named_entity\n",
    "- if spacy has found any named entities while parsing the text, we can access them as follows:"
   ]
  },
  {
   "cell_type": "code",
   "execution_count": null,
   "metadata": {
    "colab": {
     "base_uri": "https://localhost:8080/"
    },
    "executionInfo": {
     "elapsed": 6,
     "status": "ok",
     "timestamp": 1742335889116,
     "user": {
      "displayName": "Nicolò Brunello",
      "userId": "03655516846124206133"
     },
     "user_tz": -60
    },
    "id": "irYwH5WVpdl3",
    "outputId": "c6e1b673-71a0-4dbb-d26e-560d5a9da6f9"
   },
   "outputs": [],
   "source": [
    "parsed_text.ents"
   ]
  },
  {
   "cell_type": "markdown",
   "metadata": {
    "id": "rv6krbXmpdl3"
   },
   "source": [
    "Note that the entities are not single word tokens but short sequences of words: 'Stage 3' and 'Daniel Andrews'.\n",
    "\n",
    "Not only does spacy extract the entities, but also categorises them based on their type:"
   ]
  },
  {
   "cell_type": "code",
   "execution_count": null,
   "metadata": {
    "colab": {
     "base_uri": "https://localhost:8080/"
    },
    "executionInfo": {
     "elapsed": 11,
     "status": "ok",
     "timestamp": 1742335889125,
     "user": {
      "displayName": "Nicolò Brunello",
      "userId": "03655516846124206133"
     },
     "user_tz": -60
    },
    "id": "EXA2FRzXpdl4",
    "outputId": "a74825f8-e712-4fbd-8e9c-88101b064b43"
   },
   "outputs": [],
   "source": [
    "print([(ent.text, ent.label_) for ent in parsed_text.ents])"
   ]
  },
  {
   "cell_type": "markdown",
   "metadata": {
    "id": "fyp09Uelpdl4"
   },
   "source": [
    "The city and country locations have been labeled 'GPE' for 'geopolitical entity', while the Premier of Victoria has been correctly identified as a person.\n",
    "- Here is the list of all entity types that spaCy looks for: https://spacy.io/api/annotation#section-named-entities\n",
    "\n",
    "Internally, the output of the Named Entity Recogniser is a sequence annotated with entities using inside-outside-beginning encoding:\n",
    "- see https://en.wikipedia.org/wiki/Inside%E2%80%93outside%E2%80%93beginning_(tagging)\n",
    "- We can print out this labeling as follows:"
   ]
  },
  {
   "cell_type": "code",
   "execution_count": null,
   "metadata": {
    "colab": {
     "base_uri": "https://localhost:8080/"
    },
    "executionInfo": {
     "elapsed": 4,
     "status": "ok",
     "timestamp": 1742335889128,
     "user": {
      "displayName": "Nicolò Brunello",
      "userId": "03655516846124206133"
     },
     "user_tz": -60
    },
    "id": "-E1H-RM6pdl4",
    "outputId": "5b9ac0c8-5f80-47ab-d356-994907984e63"
   },
   "outputs": [],
   "source": [
    "[(X, X.ent_iob_, X.ent_type_) for X in parsed_text]"
   ]
  },
  {
   "cell_type": "markdown",
   "metadata": {
    "id": "10tU8n44pdl4"
   },
   "source": [
    "The above format is a bit hard to read though, so spaCy also provides a far more natural visualisation of the tags:"
   ]
  },
  {
   "cell_type": "code",
   "execution_count": null,
   "metadata": {
    "colab": {
     "base_uri": "https://localhost:8080/",
     "height": 87
    },
    "executionInfo": {
     "elapsed": 13,
     "status": "ok",
     "timestamp": 1742335889141,
     "user": {
      "displayName": "Nicolò Brunello",
      "userId": "03655516846124206133"
     },
     "user_tz": -60
    },
    "id": "9PmUl2y5pdl4",
    "outputId": "7cbb6baa-3d64-4035-cca4-00e8564c390e"
   },
   "outputs": [],
   "source": [
    "# displacy.render(parsed_text, jupyter=True, style='ent')"
   ]
  },
  {
   "cell_type": "markdown",
   "metadata": {
    "id": "VS1PK7ifpdl5"
   },
   "source": [
    "## Extracting entities from a web document\n",
    "\n",
    "Now that we know how to perform entity recognition on text, let's apply it to a full document"
   ]
  },
  {
   "cell_type": "code",
   "execution_count": null,
   "metadata": {
    "id": "8pY-nN0Zpdl5"
   },
   "outputs": [],
   "source": [
    "url = 'https://www.bbc.com/news/world-latin-america-53319517'\n",
    "#url = 'https://en.wikipedia.org/wiki/Apple_(disambiguation)'\n",
    "\n",
    "import requests\n",
    "html_doc = requests.get(url).text\n",
    "\n",
    "from bs4 import BeautifulSoup\n",
    "parsed_doc = BeautifulSoup(html_doc, 'lxml')"
   ]
  },
  {
   "cell_type": "markdown",
   "metadata": {
    "id": "LRe5AUvCpdl5"
   },
   "source": [
    "Now lets extract the title and paragraph text:"
   ]
  },
  {
   "cell_type": "code",
   "execution_count": null,
   "metadata": {
    "colab": {
     "base_uri": "https://localhost:8080/"
    },
    "executionInfo": {
     "elapsed": 6,
     "status": "ok",
     "timestamp": 1742335889431,
     "user": {
      "displayName": "Nicolò Brunello",
      "userId": "03655516846124206133"
     },
     "user_tz": -60
    },
    "id": "e5YGoQISpdl5",
    "outputId": "efe1e337-54dd-49b3-9d67-5187e3f29c32"
   },
   "outputs": [],
   "source": [
    "title = parsed_doc.find('title').text\n",
    "paragraphs = [p.text for p in parsed_doc.find_all('p')]\n",
    "\n",
    "# Combine the title and paragraphs into a single text:\n",
    "article_text = title + '\\n\\n' + '\\n'.join(paragraphs)\n",
    "print(article_text)\n",
    "\n",
    "#article_text = parsed_doc.get_text()\n",
    "#print(article_text)"
   ]
  },
  {
   "cell_type": "markdown",
   "metadata": {
    "id": "y_dqist0pdl5"
   },
   "source": [
    "Parse the article to identify the entities and display them:"
   ]
  },
  {
   "cell_type": "code",
   "execution_count": null,
   "metadata": {
    "colab": {
     "base_uri": "https://localhost:8080/",
     "height": 1000
    },
    "executionInfo": {
     "elapsed": 173,
     "status": "ok",
     "timestamp": 1742335889605,
     "user": {
      "displayName": "Nicolò Brunello",
      "userId": "03655516846124206133"
     },
     "user_tz": -60
    },
    "id": "RMTsfAhYpdl6",
    "outputId": "54830406-13fc-47b1-e405-4810f30cd4ba"
   },
   "outputs": [],
   "source": [
    "parsed_article = nlp_model(article_text)\n",
    "# displacy.render(parsed_article,jupyter=True,style='ent')"
   ]
  },
  {
   "cell_type": "markdown",
   "metadata": {
    "id": "6I8_zJQrpdl6"
   },
   "source": [
    "What do you think? Did it work?\n",
    "\n",
    "Let's have a bit of a better look at the entities found\n",
    "- List all the distinct entities found in the article, sorted alphabetically:"
   ]
  },
  {
   "cell_type": "code",
   "execution_count": null,
   "metadata": {
    "colab": {
     "base_uri": "https://localhost:8080/"
    },
    "executionInfo": {
     "elapsed": 11,
     "status": "ok",
     "timestamp": 1742335889617,
     "user": {
      "displayName": "Nicolò Brunello",
      "userId": "03655516846124206133"
     },
     "user_tz": -60
    },
    "id": "SakcaXuypdl6",
    "outputId": "ede1a33d-f574-437d-a31f-b46ef6849287"
   },
   "outputs": [],
   "source": [
    "sorted(set(x.text for x in parsed_article.ents))"
   ]
  },
  {
   "cell_type": "markdown",
   "metadata": {
    "id": "jyGeLXs8pdl6"
   },
   "source": [
    "We can count the number of times each **entity type** occurs:"
   ]
  },
  {
   "cell_type": "code",
   "execution_count": null,
   "metadata": {
    "colab": {
     "base_uri": "https://localhost:8080/"
    },
    "executionInfo": {
     "elapsed": 4,
     "status": "ok",
     "timestamp": 1742335889681,
     "user": {
      "displayName": "Nicolò Brunello",
      "userId": "03655516846124206133"
     },
     "user_tz": -60
    },
    "id": "mcmsbiUkpdl6",
    "outputId": "f6657154-1ac6-488c-e7b7-2df359e0e29f"
   },
   "outputs": [],
   "source": [
    "from collections import Counter\n",
    "\n",
    "labels = [x.label_ for x in parsed_article.ents]\n",
    "Counter(labels)"
   ]
  },
  {
   "cell_type": "markdown",
   "metadata": {
    "id": "Tb3g9y5Kpdl6"
   },
   "source": [
    "We can also count the number of times each **entity name** occurs"
   ]
  },
  {
   "cell_type": "code",
   "execution_count": null,
   "metadata": {
    "colab": {
     "base_uri": "https://localhost:8080/"
    },
    "executionInfo": {
     "elapsed": 2,
     "status": "ok",
     "timestamp": 1742335889682,
     "user": {
      "displayName": "Nicolò Brunello",
      "userId": "03655516846124206133"
     },
     "user_tz": -60
    },
    "id": "JPdOsoiApdl6",
    "outputId": "dd24e6a6-7064-4811-c997-2fbe2adc34c1"
   },
   "outputs": [],
   "source": [
    "items = [x.text for x in parsed_article.ents]\n",
    "Counter(items).most_common()"
   ]
  },
  {
   "cell_type": "markdown",
   "metadata": {
    "id": "vEV2BJCTpdl7"
   },
   "source": [
    "Note that some of the phrases refer to the same entity, e.g. 'Mr Bolsonaro' and just 'Bolsonaro'.\n",
    "- Entity Linking and Reference Resolution are the NLP problems that deal with resolving the different references to the same entity in the text.\n",
    "\n",
    "If we were only interested in what was being said about Bolsonaro,\n",
    "- we could select only sentences refering to him:"
   ]
  },
  {
   "cell_type": "code",
   "execution_count": null,
   "metadata": {
    "colab": {
     "base_uri": "https://localhost:8080/",
     "height": 787
    },
    "executionInfo": {
     "elapsed": 47,
     "status": "ok",
     "timestamp": 1742335889728,
     "user": {
      "displayName": "Nicolò Brunello",
      "userId": "03655516846124206133"
     },
     "user_tz": -60
    },
    "id": "oNXjt46Jpdl7",
    "outputId": "bf975511-1182-4103-d5d4-d815caf3e87c"
   },
   "outputs": [],
   "source": [
    "sentences_containing_Bolsonaro = [x for x in parsed_article.sents if 'Bolsonaro' in x.text]\n",
    "# displacy.render(sentences_containing_Bolsonaro,jupyter=True,style='ent')"
   ]
  },
  {
   "cell_type": "markdown",
   "metadata": {
    "id": "XkJvASO9pdl7"
   },
   "source": [
    "## Named Entity Extraction in Italian\n",
    "\n",
    "But wait, SpaCy can speak Italian too!\n",
    "- Let's make use of the pretrained italian model that we downloaded earlier: https://spacy.io/models/it\n",
    "- to recognise entities in an article from 'Il Corriere'\n",
    "\n",
    "First download the article:"
   ]
  },
  {
   "cell_type": "code",
   "execution_count": null,
   "metadata": {
    "id": "BCTkJTsopdl7"
   },
   "outputs": [],
   "source": [
    "url = 'https://www.ansa.it/sito/notizie/mondo/2020/07/07/bolsonaro-ha-i-sintomi-del-coronavirus_40d26967-e377-4455-9b42-83c2756cf5f1.html'\n",
    "html_doc = requests.get(url).text\n",
    "parsed_doc = BeautifulSoup(html_doc, 'lxml')"
   ]
  },
  {
   "cell_type": "markdown",
   "metadata": {
    "id": "rrnqQcMOpdl7"
   },
   "source": [
    "Now let's extract the title and paragraph text:"
   ]
  },
  {
   "cell_type": "code",
   "execution_count": null,
   "metadata": {
    "colab": {
     "base_uri": "https://localhost:8080/"
    },
    "executionInfo": {
     "elapsed": 6,
     "status": "ok",
     "timestamp": 1742335890811,
     "user": {
      "displayName": "Nicolò Brunello",
      "userId": "03655516846124206133"
     },
     "user_tz": -60
    },
    "id": "OIyIysghpdl7",
    "outputId": "3149ff1c-c7d4-402c-c8e8-8628e3351214"
   },
   "outputs": [],
   "source": [
    "title = parsed_doc.find('title').text\n",
    "paragraphs = [p.text for p in parsed_doc.find_all('p')]\n",
    "\n",
    "# Combine the title and paragraphs into a single text:\n",
    "article_text = title + '\\n\\n' + '\\n'.join(paragraphs)\n",
    "print(article_text)"
   ]
  },
  {
   "cell_type": "markdown",
   "metadata": {
    "id": "eluDQCqxpdl7"
   },
   "source": [
    "Now we'll parse the text of the article with an Italian NLP engine to extract Named Entities.\n",
    "- First load the italian model 'it_core_news_sm' that we downloaded earlier"
   ]
  },
  {
   "cell_type": "code",
   "execution_count": null,
   "metadata": {
    "id": "Qj0IIHlVpdl7"
   },
   "outputs": [],
   "source": [
    "nlp_it = spacy.load(\"it_core_news_sm\")"
   ]
  },
  {
   "cell_type": "markdown",
   "metadata": {
    "id": "BcWwDGlypdl8"
   },
   "source": [
    "Parse article and extract the entities:"
   ]
  },
  {
   "cell_type": "code",
   "execution_count": null,
   "metadata": {
    "colab": {
     "base_uri": "https://localhost:8080/",
     "height": 1000
    },
    "executionInfo": {
     "elapsed": 149,
     "status": "ok",
     "timestamp": 1742335893577,
     "user": {
      "displayName": "Nicolò Brunello",
      "userId": "03655516846124206133"
     },
     "user_tz": -60
    },
    "id": "1X-Kuw6lpdl8",
    "outputId": "daab419f-a9d0-494f-cffa-18090677e3fc"
   },
   "outputs": [],
   "source": [
    "parsed_article = nlp_it(article_text)\n",
    "# displacy.render(parsed_article, jupyter=True, style='ent')"
   ]
  },
  {
   "cell_type": "markdown",
   "metadata": {
    "id": "08h69wcxpdl8"
   },
   "source": [
    "That looks not great.\n",
    "- Here are the entities found in the news article:"
   ]
  },
  {
   "cell_type": "code",
   "execution_count": null,
   "metadata": {
    "colab": {
     "base_uri": "https://localhost:8080/"
    },
    "executionInfo": {
     "elapsed": 3,
     "status": "ok",
     "timestamp": 1742335893580,
     "user": {
      "displayName": "Nicolò Brunello",
      "userId": "03655516846124206133"
     },
     "user_tz": -60
    },
    "id": "UKefi_fspdl8",
    "outputId": "a1676ded-8278-4804-96a0-4fe07a3cd089"
   },
   "outputs": [],
   "source": [
    "sorted(set(x.text for x in parsed_article.ents))"
   ]
  },
  {
   "cell_type": "markdown",
   "metadata": {
    "id": "8GNZaLqN4Dx-"
   },
   "source": [
    "Alterantively you can use Stanza (https://stanfordnlp.github.io/stanza/). It's very similar to spaCy:\n",
    "- Python package\n",
    "- Supports multiple languages\n",
    "- Uses deep neural network modules\n",
    "\n",
    "Let's start installing the library"
   ]
  },
  {
   "cell_type": "code",
   "execution_count": null,
   "metadata": {
    "colab": {
     "base_uri": "https://localhost:8080/"
    },
    "executionInfo": {
     "elapsed": 4968,
     "status": "ok",
     "timestamp": 1742335898549,
     "user": {
      "displayName": "Nicolò Brunello",
      "userId": "03655516846124206133"
     },
     "user_tz": -60
    },
    "id": "a6JmKZ3xLPwI",
    "outputId": "fd6b18e5-5452-426c-a699-1f4d88a2519a"
   },
   "outputs": [],
   "source": [
    "import locale\n",
    "\n",
    "def get_pref_encoding(*args, **kwargs):\n",
    "    return \"UTF-8\"\n",
    "\n",
    "locale.getpreferredencoding = get_pref_encoding\n",
    "%pip install -q stanza"
   ]
  },
  {
   "cell_type": "markdown",
   "metadata": {
    "id": "NazOsrqKLgtW"
   },
   "source": [
    "Now we can import Stanza and create a pipeline for Italian"
   ]
  },
  {
   "cell_type": "code",
   "execution_count": null,
   "metadata": {
    "colab": {
     "base_uri": "https://localhost:8080/",
     "height": 364,
     "referenced_widgets": [
      "73b14e84e45e4cfc9c251c1b07385a33",
      "c91068862a6742b6955f99801598a785",
      "5ea397e611e74f42bd078bdac7c4bbd1",
      "dc5e6bdaaa804d09873ae781c00a69da",
      "c8f7a7d87fee479cbbafc7d03ec44aba",
      "9bc354e617a8453daf0a3ba3782a8498",
      "26677e9072a64d16a6f4059e769cae5e",
      "49ea17ee73084fbbb8db7c6bc8e4da97",
      "c2a51ebcde1b46b38e36f6ac6b52422f",
      "3ec31dad4b344b2590aff92734f5a720",
      "f15a6508f63e43079bacafb2cf90855c"
     ]
    },
    "executionInfo": {
     "elapsed": 18464,
     "status": "ok",
     "timestamp": 1742335917014,
     "user": {
      "displayName": "Nicolò Brunello",
      "userId": "03655516846124206133"
     },
     "user_tz": -60
    },
    "id": "X2vbIhiQLfhH",
    "outputId": "5d10ce16-8099-4824-b63c-fa24854dcffe"
   },
   "outputs": [],
   "source": [
    "import stanza\n",
    "\n",
    "stanza_nlp_model = stanza.Pipeline(lang='it', processors='tokenize,ner')"
   ]
  },
  {
   "cell_type": "markdown",
   "metadata": {
    "id": "aN8vExE_MWGK"
   },
   "source": [
    "As before we need to parse the document"
   ]
  },
  {
   "cell_type": "code",
   "execution_count": null,
   "metadata": {
    "id": "OHqxZTBALfm7"
   },
   "outputs": [],
   "source": [
    "stanza_parsed_article = stanza_nlp_model(article_text)"
   ]
  },
  {
   "cell_type": "markdown",
   "metadata": {
    "id": "XHx67HKdMtNi"
   },
   "source": [
    "Given a document, Stanza breaks it into sentences and then tokens.\n",
    "For each token adds the tags using the sleected processors (here we are using only the NER processors).\n",
    "\n",
    "Let's give a look at the identified entities:"
   ]
  },
  {
   "cell_type": "code",
   "execution_count": null,
   "metadata": {
    "colab": {
     "base_uri": "https://localhost:8080/"
    },
    "executionInfo": {
     "elapsed": 42,
     "status": "ok",
     "timestamp": 1742335931034,
     "user": {
      "displayName": "Nicolò Brunello",
      "userId": "03655516846124206133"
     },
     "user_tz": -60
    },
    "id": "Cw98dV1yLfsu",
    "outputId": "9802051e-2315-4518-f1e1-9fe8f997a06e"
   },
   "outputs": [],
   "source": [
    "for sentence in stanza_parsed_article.sentences:\n",
    "    for entity in sentence.ents:  # Hello, Treebeard!\n",
    "        print(f\"{entity.text}: {entity.type}\")"
   ]
  },
  {
   "cell_type": "markdown",
   "metadata": {
    "id": "9LDtG1YcN__S"
   },
   "source": [
    "That's a bit better than before, don't you think?"
   ]
  },
  {
   "cell_type": "markdown",
   "metadata": {
    "id": "pzFM8cAUpdl8"
   },
   "source": [
    "## Fine-tuning your own NER Model\n",
    "\n",
    "What if you want to update the Named Entity Extraction model yourself in order to customize it to your set of entities? We'll have a look at that now based on:\n",
    "- this instructions page: https://spacy.io/usage/training#ner\n",
    "- and this blog post: https://towardsdatascience.com/custom-named-entity-recognition-using-spacy-7140ebbb3718\n",
    "\n",
    "In order to fine-tune the model, we need to prepare data in the following format:\n",
    "- a piece of text,\n",
    "- plus a list of entity types that occur it along with their positions."
   ]
  },
  {
   "cell_type": "code",
   "execution_count": null,
   "metadata": {
    "colab": {
     "base_uri": "https://localhost:8080/"
    },
    "executionInfo": {
     "elapsed": 19,
     "status": "ok",
     "timestamp": 1742335934944,
     "user": {
      "displayName": "Nicolò Brunello",
      "userId": "03655516846124206133"
     },
     "user_tz": -60
    },
    "id": "d8aaj2uepdl8",
    "outputId": "69394691-8034-4a69-cc40-9a811b20b13b"
   },
   "outputs": [],
   "source": [
    "my_data = [\n",
    "    (\"Have you heard of an associate professor from the Politecnico di Milano called Mark Carman?\", {\"entities\": [(50, 71, \"ORG\"),(79, 90, \"PERSON\")]}),\n",
    "    (\"No, I haven't, but I don't know many people at the Politecnico. What does he work on?\", {\"entities\": [(51, 62, \"ORG\")]}),\n",
    "    (\"Mainly machine learning and text mining. I met him a couple of years ago at SIGIR in Tokyo.\", {\"entities\": [(76, 81, \"EVENT\"),(85, 90, \"GPE\")]}),\n",
    "]\n",
    "my_data"
   ]
  },
  {
   "cell_type": "markdown",
   "metadata": {
    "id": "bnVIriSEpdl9"
   },
   "source": [
    "Where would this data come from?\n",
    "- either created manually, perhaps by searching for known individuals in a text collection,\n",
    "- or by using an annotation tool such as https://doccano.herokuapp.com/, see for example: https://medium.com/@justindavies/training-spacy-ner-models-with-doccano-8d8203e29bfa\n"
   ]
  },
  {
   "cell_type": "markdown",
   "metadata": {
    "id": "1s9T3Whe5lZJ"
   },
   "source": [
    "The following code comes from here: https://github.com/explosion/spaCy/blob/master/examples/training/train_ner.py\n",
    "- The only change made was to remove the training data\n",
    "\n",
    "Before starting we need to install the plac package"
   ]
  },
  {
   "cell_type": "code",
   "execution_count": null,
   "metadata": {
    "colab": {
     "base_uri": "https://localhost:8080/"
    },
    "executionInfo": {
     "elapsed": 3828,
     "status": "ok",
     "timestamp": 1742335941139,
     "user": {
      "displayName": "Nicolò Brunello",
      "userId": "03655516846124206133"
     },
     "user_tz": -60
    },
    "id": "P057B5jUQjqM",
    "outputId": "391a679a-ad0a-4dcc-aa1f-fd0d5bd4adfb"
   },
   "outputs": [],
   "source": [
    "%pip install plac"
   ]
  },
  {
   "cell_type": "markdown",
   "metadata": {
    "id": "2-oMt4jRQj2k"
   },
   "source": [
    "Now we define function with the training loop:"
   ]
  },
  {
   "cell_type": "code",
   "execution_count": null,
   "metadata": {
    "id": "jVjhWJ1Zpdl9"
   },
   "outputs": [],
   "source": [
    "from __future__ import unicode_literals, print_function\n",
    "\n",
    "import plac\n",
    "import random\n",
    "import warnings\n",
    "from pathlib import Path\n",
    "import spacy\n",
    "from spacy.util import minibatch, compounding\n",
    "from spacy.training.example import Example\n",
    "\n",
    "TRAIN_DATA = []\n",
    "\n",
    "@plac.annotations(\n",
    "    model=(\"Model name. Defaults to blank 'en' model.\", \"option\", \"m\", str),\n",
    "    output_dir=(\"Optional output directory\", \"option\", \"o\", Path),\n",
    "    n_iter=(\"Number of training iterations\", \"option\", \"n\", int),\n",
    ")\n",
    "def main(model=None, output_dir=None, n_iter=100):\n",
    "    \"\"\"Load the model, set up the pipeline and train the entity recognizer.\"\"\"\n",
    "    if model is not None:\n",
    "        nlp = spacy.load(model)  # load existing spaCy model\n",
    "        print(\"Loaded model '%s'\" % model)\n",
    "    else:\n",
    "        nlp = spacy.blank(\"en\")  # create blank Language class\n",
    "        print(\"Created blank 'en' model\")\n",
    "\n",
    "    # create the built-in pipeline components and add them to the pipeline\n",
    "    # nlp.create_pipe works for built-ins that are registered with spaCy\n",
    "    if \"ner\" not in nlp.pipe_names:\n",
    "        ner = nlp.create_pipe(\"ner\")\n",
    "        nlp.add_pipe(ner, last=True)\n",
    "    # otherwise, get it so we can add labels\n",
    "    else:\n",
    "        ner = nlp.get_pipe(\"ner\")\n",
    "\n",
    "    # add labels\n",
    "    for _, annotations in TRAIN_DATA:\n",
    "        for ent in annotations.get(\"entities\"):\n",
    "            ner.add_label(ent[2])\n",
    "\n",
    "    # get names of other pipes to disable them during training\n",
    "    pipe_exceptions = [\"ner\", \"trf_wordpiecer\", \"trf_tok2vec\"]\n",
    "    other_pipes = [pipe for pipe in nlp.pipe_names if pipe not in pipe_exceptions]\n",
    "    # only train NER\n",
    "    with nlp.disable_pipes(*other_pipes), warnings.catch_warnings():\n",
    "        # show warnings for misaligned entity spans once\n",
    "        warnings.filterwarnings(\"once\", category=UserWarning, module='spacy')\n",
    "\n",
    "        # reset and initialize the weights randomly – but only if we're\n",
    "        # training a new model\n",
    "        if model is None:\n",
    "            nlp.begin_training()\n",
    "        for itn in range(n_iter):\n",
    "            random.shuffle(TRAIN_DATA)\n",
    "            losses = {}\n",
    "            # batch up the examples using spaCy's minibatch\n",
    "            batches = minibatch(TRAIN_DATA, size=compounding(4.0, 32.0, 1.001))\n",
    "            for batch in batches:\n",
    "                # Create example\n",
    "                examples = [\n",
    "                    Example.from_dict(nlp.make_doc(text), annotation)\n",
    "                    for text, annotation in batch\n",
    "                ]\n",
    "                # Update the model\n",
    "                nlp.update(\n",
    "                    examples,   # batch of texts and annotations\n",
    "                    drop=0.5,  # dropout - make it harder to memorise data\n",
    "                    losses=losses,\n",
    "                )\n",
    "            print(\"Losses\", losses)\n",
    "\n",
    "    # test the trained model\n",
    "    for text, _ in TRAIN_DATA:\n",
    "        doc = nlp(text)\n",
    "        print(\"Entities\", [(ent.text, ent.label_) for ent in doc.ents])\n",
    "        print(\"Tokens\", [(t.text, t.ent_type_, t.ent_iob) for t in doc])\n",
    "\n",
    "    # save model to output directory\n",
    "    if output_dir is not None:\n",
    "        output_dir = Path(output_dir)\n",
    "        if not output_dir.exists():\n",
    "            output_dir.mkdir()\n",
    "        nlp.to_disk(output_dir)\n",
    "        print(\"Saved model to\", output_dir)\n",
    "\n",
    "        # test the saved model\n",
    "        print(\"Loading from\", output_dir)\n",
    "        nlp2 = spacy.load(output_dir)\n",
    "        for text, _ in TRAIN_DATA:\n",
    "            doc = nlp2(text)\n",
    "            print(\"Entities\", [(ent.text, ent.label_) for ent in doc.ents])\n",
    "            print(\"Tokens\", [(t.text, t.ent_type_, t.ent_iob) for t in doc])"
   ]
  },
  {
   "cell_type": "markdown",
   "metadata": {
    "id": "O1pM_VOIpdl9"
   },
   "source": [
    "Once the above model has been defined, we can update and save the model\n",
    "- Note that this code doesn't currently run in Google colab."
   ]
  },
  {
   "cell_type": "code",
   "execution_count": null,
   "metadata": {
    "colab": {
     "base_uri": "https://localhost:8080/"
    },
    "executionInfo": {
     "elapsed": 4350,
     "status": "ok",
     "timestamp": 1742335954553,
     "user": {
      "displayName": "Nicolò Brunello",
      "userId": "03655516846124206133"
     },
     "user_tz": -60
    },
    "id": "o1cpkZGWpdl9",
    "outputId": "679aced6-7076-4b77-baa6-b18e92cdbee1"
   },
   "outputs": [],
   "source": [
    "TRAIN_DATA=my_data  # The method expects the training data to have this name\n",
    "main(model='en_core_web_sm',output_dir='spacy_model',n_iter=5)"
   ]
  },
  {
   "cell_type": "markdown",
   "metadata": {
    "id": "MlicBTgepdl-"
   },
   "source": [
    "## Entity Linking in spaCy\n",
    "\n",
    "We don't want to just find entity mentions in a document but link them to a known entity in a knowledge base.\n",
    "- The task of linking the entity mentions to the corresponding entity in the knowledge base is called 'Entity Linking'.\n",
    "- Watch this video to learn more:\n",
    "https://spacy.io/universe/project/video-spacy-irl-entity-linking"
   ]
  },
  {
   "cell_type": "code",
   "execution_count": null,
   "metadata": {
    "id": "_BKB-yMKpdl-"
   },
   "outputs": [],
   "source": [
    "# TODO"
   ]
  }
 ],
 "metadata": {
  "accelerator": "GPU",
  "colab": {
   "provenance": []
  },
  "gpuClass": "standard",
  "kernelspec": {
   "display_name": ".venv",
   "language": "python",
   "name": "python3"
  },
  "language_info": {
   "codemirror_mode": {
    "name": "ipython",
    "version": 3
   },
   "file_extension": ".py",
   "mimetype": "text/x-python",
   "name": "python",
   "nbconvert_exporter": "python",
   "pygments_lexer": "ipython3",
   "version": "3.13.2"
  },
  "widgets": {
   "application/vnd.jupyter.widget-state+json": {
    "26677e9072a64d16a6f4059e769cae5e": {
     "model_module": "@jupyter-widgets/controls",
     "model_module_version": "1.5.0",
     "model_name": "DescriptionStyleModel",
     "state": {
      "_model_module": "@jupyter-widgets/controls",
      "_model_module_version": "1.5.0",
      "_model_name": "DescriptionStyleModel",
      "_view_count": null,
      "_view_module": "@jupyter-widgets/base",
      "_view_module_version": "1.2.0",
      "_view_name": "StyleView",
      "description_width": ""
     }
    },
    "3ec31dad4b344b2590aff92734f5a720": {
     "model_module": "@jupyter-widgets/base",
     "model_module_version": "1.2.0",
     "model_name": "LayoutModel",
     "state": {
      "_model_module": "@jupyter-widgets/base",
      "_model_module_version": "1.2.0",
      "_model_name": "LayoutModel",
      "_view_count": null,
      "_view_module": "@jupyter-widgets/base",
      "_view_module_version": "1.2.0",
      "_view_name": "LayoutView",
      "align_content": null,
      "align_items": null,
      "align_self": null,
      "border": null,
      "bottom": null,
      "display": null,
      "flex": null,
      "flex_flow": null,
      "grid_area": null,
      "grid_auto_columns": null,
      "grid_auto_flow": null,
      "grid_auto_rows": null,
      "grid_column": null,
      "grid_gap": null,
      "grid_row": null,
      "grid_template_areas": null,
      "grid_template_columns": null,
      "grid_template_rows": null,
      "height": null,
      "justify_content": null,
      "justify_items": null,
      "left": null,
      "margin": null,
      "max_height": null,
      "max_width": null,
      "min_height": null,
      "min_width": null,
      "object_fit": null,
      "object_position": null,
      "order": null,
      "overflow": null,
      "overflow_x": null,
      "overflow_y": null,
      "padding": null,
      "right": null,
      "top": null,
      "visibility": null,
      "width": null
     }
    },
    "49ea17ee73084fbbb8db7c6bc8e4da97": {
     "model_module": "@jupyter-widgets/base",
     "model_module_version": "1.2.0",
     "model_name": "LayoutModel",
     "state": {
      "_model_module": "@jupyter-widgets/base",
      "_model_module_version": "1.2.0",
      "_model_name": "LayoutModel",
      "_view_count": null,
      "_view_module": "@jupyter-widgets/base",
      "_view_module_version": "1.2.0",
      "_view_name": "LayoutView",
      "align_content": null,
      "align_items": null,
      "align_self": null,
      "border": null,
      "bottom": null,
      "display": null,
      "flex": null,
      "flex_flow": null,
      "grid_area": null,
      "grid_auto_columns": null,
      "grid_auto_flow": null,
      "grid_auto_rows": null,
      "grid_column": null,
      "grid_gap": null,
      "grid_row": null,
      "grid_template_areas": null,
      "grid_template_columns": null,
      "grid_template_rows": null,
      "height": null,
      "justify_content": null,
      "justify_items": null,
      "left": null,
      "margin": null,
      "max_height": null,
      "max_width": null,
      "min_height": null,
      "min_width": null,
      "object_fit": null,
      "object_position": null,
      "order": null,
      "overflow": null,
      "overflow_x": null,
      "overflow_y": null,
      "padding": null,
      "right": null,
      "top": null,
      "visibility": null,
      "width": null
     }
    },
    "5ea397e611e74f42bd078bdac7c4bbd1": {
     "model_module": "@jupyter-widgets/controls",
     "model_module_version": "1.5.0",
     "model_name": "FloatProgressModel",
     "state": {
      "_dom_classes": [],
      "_model_module": "@jupyter-widgets/controls",
      "_model_module_version": "1.5.0",
      "_model_name": "FloatProgressModel",
      "_view_count": null,
      "_view_module": "@jupyter-widgets/controls",
      "_view_module_version": "1.5.0",
      "_view_name": "ProgressView",
      "bar_style": "success",
      "description": "",
      "description_tooltip": null,
      "layout": "IPY_MODEL_49ea17ee73084fbbb8db7c6bc8e4da97",
      "max": 52557,
      "min": 0,
      "orientation": "horizontal",
      "style": "IPY_MODEL_c2a51ebcde1b46b38e36f6ac6b52422f",
      "value": 52557
     }
    },
    "73b14e84e45e4cfc9c251c1b07385a33": {
     "model_module": "@jupyter-widgets/controls",
     "model_module_version": "1.5.0",
     "model_name": "HBoxModel",
     "state": {
      "_dom_classes": [],
      "_model_module": "@jupyter-widgets/controls",
      "_model_module_version": "1.5.0",
      "_model_name": "HBoxModel",
      "_view_count": null,
      "_view_module": "@jupyter-widgets/controls",
      "_view_module_version": "1.5.0",
      "_view_name": "HBoxView",
      "box_style": "",
      "children": [
       "IPY_MODEL_c91068862a6742b6955f99801598a785",
       "IPY_MODEL_5ea397e611e74f42bd078bdac7c4bbd1",
       "IPY_MODEL_dc5e6bdaaa804d09873ae781c00a69da"
      ],
      "layout": "IPY_MODEL_c8f7a7d87fee479cbbafc7d03ec44aba"
     }
    },
    "9bc354e617a8453daf0a3ba3782a8498": {
     "model_module": "@jupyter-widgets/base",
     "model_module_version": "1.2.0",
     "model_name": "LayoutModel",
     "state": {
      "_model_module": "@jupyter-widgets/base",
      "_model_module_version": "1.2.0",
      "_model_name": "LayoutModel",
      "_view_count": null,
      "_view_module": "@jupyter-widgets/base",
      "_view_module_version": "1.2.0",
      "_view_name": "LayoutView",
      "align_content": null,
      "align_items": null,
      "align_self": null,
      "border": null,
      "bottom": null,
      "display": null,
      "flex": null,
      "flex_flow": null,
      "grid_area": null,
      "grid_auto_columns": null,
      "grid_auto_flow": null,
      "grid_auto_rows": null,
      "grid_column": null,
      "grid_gap": null,
      "grid_row": null,
      "grid_template_areas": null,
      "grid_template_columns": null,
      "grid_template_rows": null,
      "height": null,
      "justify_content": null,
      "justify_items": null,
      "left": null,
      "margin": null,
      "max_height": null,
      "max_width": null,
      "min_height": null,
      "min_width": null,
      "object_fit": null,
      "object_position": null,
      "order": null,
      "overflow": null,
      "overflow_x": null,
      "overflow_y": null,
      "padding": null,
      "right": null,
      "top": null,
      "visibility": null,
      "width": null
     }
    },
    "c2a51ebcde1b46b38e36f6ac6b52422f": {
     "model_module": "@jupyter-widgets/controls",
     "model_module_version": "1.5.0",
     "model_name": "ProgressStyleModel",
     "state": {
      "_model_module": "@jupyter-widgets/controls",
      "_model_module_version": "1.5.0",
      "_model_name": "ProgressStyleModel",
      "_view_count": null,
      "_view_module": "@jupyter-widgets/base",
      "_view_module_version": "1.2.0",
      "_view_name": "StyleView",
      "bar_color": null,
      "description_width": ""
     }
    },
    "c8f7a7d87fee479cbbafc7d03ec44aba": {
     "model_module": "@jupyter-widgets/base",
     "model_module_version": "1.2.0",
     "model_name": "LayoutModel",
     "state": {
      "_model_module": "@jupyter-widgets/base",
      "_model_module_version": "1.2.0",
      "_model_name": "LayoutModel",
      "_view_count": null,
      "_view_module": "@jupyter-widgets/base",
      "_view_module_version": "1.2.0",
      "_view_name": "LayoutView",
      "align_content": null,
      "align_items": null,
      "align_self": null,
      "border": null,
      "bottom": null,
      "display": null,
      "flex": null,
      "flex_flow": null,
      "grid_area": null,
      "grid_auto_columns": null,
      "grid_auto_flow": null,
      "grid_auto_rows": null,
      "grid_column": null,
      "grid_gap": null,
      "grid_row": null,
      "grid_template_areas": null,
      "grid_template_columns": null,
      "grid_template_rows": null,
      "height": null,
      "justify_content": null,
      "justify_items": null,
      "left": null,
      "margin": null,
      "max_height": null,
      "max_width": null,
      "min_height": null,
      "min_width": null,
      "object_fit": null,
      "object_position": null,
      "order": null,
      "overflow": null,
      "overflow_x": null,
      "overflow_y": null,
      "padding": null,
      "right": null,
      "top": null,
      "visibility": null,
      "width": null
     }
    },
    "c91068862a6742b6955f99801598a785": {
     "model_module": "@jupyter-widgets/controls",
     "model_module_version": "1.5.0",
     "model_name": "HTMLModel",
     "state": {
      "_dom_classes": [],
      "_model_module": "@jupyter-widgets/controls",
      "_model_module_version": "1.5.0",
      "_model_name": "HTMLModel",
      "_view_count": null,
      "_view_module": "@jupyter-widgets/controls",
      "_view_module_version": "1.5.0",
      "_view_name": "HTMLView",
      "description": "",
      "description_tooltip": null,
      "layout": "IPY_MODEL_9bc354e617a8453daf0a3ba3782a8498",
      "placeholder": "​",
      "style": "IPY_MODEL_26677e9072a64d16a6f4059e769cae5e",
      "value": "Downloading https://raw.githubusercontent.com/stanfordnlp/stanza-resources/main/resources_1.10.0.json: "
     }
    },
    "dc5e6bdaaa804d09873ae781c00a69da": {
     "model_module": "@jupyter-widgets/controls",
     "model_module_version": "1.5.0",
     "model_name": "HTMLModel",
     "state": {
      "_dom_classes": [],
      "_model_module": "@jupyter-widgets/controls",
      "_model_module_version": "1.5.0",
      "_model_name": "HTMLModel",
      "_view_count": null,
      "_view_module": "@jupyter-widgets/controls",
      "_view_module_version": "1.5.0",
      "_view_name": "HTMLView",
      "description": "",
      "description_tooltip": null,
      "layout": "IPY_MODEL_3ec31dad4b344b2590aff92734f5a720",
      "placeholder": "​",
      "style": "IPY_MODEL_f15a6508f63e43079bacafb2cf90855c",
      "value": " 424k/? [00:00&lt;00:00, 29.3MB/s]"
     }
    },
    "f15a6508f63e43079bacafb2cf90855c": {
     "model_module": "@jupyter-widgets/controls",
     "model_module_version": "1.5.0",
     "model_name": "DescriptionStyleModel",
     "state": {
      "_model_module": "@jupyter-widgets/controls",
      "_model_module_version": "1.5.0",
      "_model_name": "DescriptionStyleModel",
      "_view_count": null,
      "_view_module": "@jupyter-widgets/base",
      "_view_module_version": "1.2.0",
      "_view_name": "StyleView",
      "description_width": ""
     }
    }
   }
  }
 },
 "nbformat": 4,
 "nbformat_minor": 0
}
