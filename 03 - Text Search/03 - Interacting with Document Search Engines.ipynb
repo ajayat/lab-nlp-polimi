{
 "cells": [
  {
   "cell_type": "markdown",
   "id": "a4be7314-a04d-4a6b-8a11-64da4499be5e",
   "metadata": {
    "id": "a4be7314-a04d-4a6b-8a11-64da4499be5e"
   },
   "source": [
    "# Search engines\n",
    "\n",
    "This notebook shows how to use [PyTerrier](https://github.com/terrier-org/pyterrier) on the [CORD19 corpus](https://www.ncbi.nlm.nih.gov/pmc/articles/PMC7251955/).\n",
    "Hereafter we are going to see how to:\n",
    "- index a collection\n",
    "- access an index\n",
    "- search an index\n",
    "- compare the performances of indexing approaches\n",
    "- learn ranking\n",
    "- evaluate ranking\n",
    "\n",
    "The notebook in mainly based on the tutorials at this [link](https://github.com/terrier-org/cikm2021tutorial/tree/main/notebooks), which are part of the tutorial series \"[IR From Bag-of-words to BERT and Beyond through Practical Experiments](https://github.com/terrier-org/cikm2021tutorial/)\" created for the [CIKM 2021](https://www.cikm2021.org/)."
   ]
  },
  {
   "cell_type": "markdown",
   "id": "40359018-8d88-448a-a57c-bb5ab0e2ffbf",
   "metadata": {
    "id": "40359018-8d88-448a-a57c-bb5ab0e2ffbf"
   },
   "source": [
    "## Tools installation and configuration\n",
    "\n",
    "PyTerrier is a Python framework, but uses the underlying [Terrier information retrieval toolkit](http://terrier.org) for many indexing and retrieval operations. While PyTerrier was new in 2020, Terrier is written in Java and has a long history dating back to 2001. PyTerrier makes it easy to perform IR experiments in Python, but using the mature Terrier platform for the expensive indexing and retrieval operations.\n",
    "\n",
    "PyTerrier is installed as follows. This might take a few minutes, in the meanwhile you can take a look at [PyTerrier documentation](https://pyterrier.readthedocs.io/en/latest/)."
   ]
  },
  {
   "cell_type": "code",
   "execution_count": 1,
   "id": "ee08f366-961c-4403-b4db-d5ffe0ab791e",
   "metadata": {
    "id": "ee08f366-961c-4403-b4db-d5ffe0ab791e"
   },
   "outputs": [
    {
     "name": "stdout",
     "output_type": "stream",
     "text": [
      "Note: you may need to restart the kernel to use updated packages.\n"
     ]
    }
   ],
   "source": [
    "%pip install -q python-terrier==0.11.0"
   ]
  },
  {
   "cell_type": "markdown",
   "id": "dbc6cec0-3ea7-4be9-8ca8-ec4054be5c6b",
   "metadata": {
    "id": "dbc6cec0-3ea7-4be9-8ca8-ec4054be5c6b"
   },
   "source": [
    "The next step is to initialise PyTerrier. This is performed using PyTerrier's `init()` method. The `init()` method is needed as PyTerrier must download Terrier's jar file and start the Java virtual machine. We prevent `init()` from being called more than once by checking `started()`."
   ]
  },
  {
   "cell_type": "code",
   "execution_count": 2,
   "id": "04f6a4f9-7ebb-4d2d-9ab0-0b4c37074a51",
   "metadata": {
    "id": "04f6a4f9-7ebb-4d2d-9ab0-0b4c37074a51"
   },
   "outputs": [
    {
     "name": "stderr",
     "output_type": "stream",
     "text": [
      "Java started and loaded: pyterrier.java, pyterrier.terrier.java [version=5.11 (build: craig.macdonald 2025-01-13 21:29), helper_version=0.0.8]\n",
      "/tmp/ipykernel_99071/328824884.py:4: DeprecationWarning: Call to deprecated function (or staticmethod) started. (use pt.java.started() instead) -- Deprecated since version 0.11.0.\n",
      "  if not pt.started():\n"
     ]
    }
   ],
   "source": [
    "import pyterrier as pt\n",
    "\n",
    "pt.java.init()\n",
    "if not pt.started():\n",
    "  pt.init()"
   ]
  },
  {
   "cell_type": "markdown",
   "id": "04e95091-47d6-48fa-a756-2f11a337135f",
   "metadata": {
    "id": "04e95091-47d6-48fa-a756-2f11a337135f"
   },
   "source": [
    "## Introduction to document indexing and searching"
   ]
  },
  {
   "cell_type": "markdown",
   "id": "402410d9-eba8-4abb-aee5-c9612f8b9ed2",
   "metadata": {
    "id": "402410d9-eba8-4abb-aee5-c9612f8b9ed2"
   },
   "source": [
    "Much of PyTerrier's view of the world is wrapped up in Pandas dataframes. Let's consider some textual documents in a dataframe.\n",
    "\n",
    "We can start importing Pandas, a well known Python library to manage tabular data.\n",
    "You can find Pandas' documentation at the following [link](https://pandas.pydata.org).\n"
   ]
  },
  {
   "cell_type": "code",
   "execution_count": 3,
   "id": "503a65d2-3950-4459-84c8-bc0f2acd614e",
   "metadata": {
    "id": "503a65d2-3950-4459-84c8-bc0f2acd614e"
   },
   "outputs": [],
   "source": [
    "import pandas as pd"
   ]
  },
  {
   "cell_type": "markdown",
   "id": "HQaVcXchuEDP",
   "metadata": {
    "id": "HQaVcXchuEDP"
   },
   "source": [
    "We can set the length of the displayed output to avoid truncating too much text"
   ]
  },
  {
   "cell_type": "code",
   "execution_count": 4,
   "id": "PDR9QyDZuDnq",
   "metadata": {
    "id": "PDR9QyDZuDnq"
   },
   "outputs": [],
   "source": [
    "pd.set_option('display.max_colwidth', 150)"
   ]
  },
  {
   "cell_type": "markdown",
   "id": "sDZd6boSuQFZ",
   "metadata": {
    "id": "sDZd6boSuQFZ"
   },
   "source": [
    "### Documents\n",
    "\n",
    "Finally we can create some sample documents to store in a `DataFrame"
   ]
  },
  {
   "cell_type": "code",
   "execution_count": 5,
   "id": "takh-p7DuDjs",
   "metadata": {
    "id": "takh-p7DuDjs"
   },
   "outputs": [
    {
     "data": {
      "text/html": [
       "<div>\n",
       "<style scoped>\n",
       "    .dataframe tbody tr th:only-of-type {\n",
       "        vertical-align: middle;\n",
       "    }\n",
       "\n",
       "    .dataframe tbody tr th {\n",
       "        vertical-align: top;\n",
       "    }\n",
       "\n",
       "    .dataframe thead th {\n",
       "        text-align: right;\n",
       "    }\n",
       "</style>\n",
       "<table border=\"1\" class=\"dataframe\">\n",
       "  <thead>\n",
       "    <tr style=\"text-align: right;\">\n",
       "      <th></th>\n",
       "      <th>docno</th>\n",
       "      <th>text</th>\n",
       "    </tr>\n",
       "  </thead>\n",
       "  <tbody>\n",
       "    <tr>\n",
       "      <th>0</th>\n",
       "      <td>d1</td>\n",
       "      <td>This is the first article in my collection of articles.</td>\n",
       "    </tr>\n",
       "    <tr>\n",
       "      <th>1</th>\n",
       "      <td>d2</td>\n",
       "      <td>This is another article in my collection.</td>\n",
       "    </tr>\n",
       "    <tr>\n",
       "      <th>2</th>\n",
       "      <td>d3</td>\n",
       "      <td>The topic of this third article is unknown.</td>\n",
       "    </tr>\n",
       "  </tbody>\n",
       "</table>\n",
       "</div>"
      ],
      "text/plain": [
       "  docno                                                     text\n",
       "0    d1  This is the first article in my collection of articles.\n",
       "1    d2                This is another article in my collection.\n",
       "2    d3              The topic of this third article is unknown."
      ]
     },
     "execution_count": 5,
     "metadata": {},
     "output_type": "execute_result"
    }
   ],
   "source": [
    "docs_df = pd.DataFrame(\n",
    "    [\n",
    "        [\"d1\", \"This is the first article in my collection of articles.\"],\n",
    "        [\"d2\", \"This is another article in my collection.\"],\n",
    "        [\"d3\", \"The topic of this third article is unknown.\"]\n",
    "    ],\n",
    "    columns=[\"docno\", \"text\"]\n",
    ")\n",
    "docs_df"
   ]
  },
  {
   "cell_type": "markdown",
   "id": "d1e0ebcb-59d9-4277-931c-76cc14700033",
   "metadata": {
    "id": "d1e0ebcb-59d9-4277-931c-76cc14700033"
   },
   "source": [
    "### Indexing\n",
    "\n",
    "Before any search engine can estimate which documents are most likely to be relevant for a given query, it must index the documents.\n",
    "\n",
    "In the following cell, we index the dataframe's documents. The index, with all its data structures, is written into a directory that we will call `index_3docs`. You can see it in the Google colab files folder on the left."
   ]
  },
  {
   "cell_type": "code",
   "execution_count": 6,
   "id": "0ab5ea93-51d0-48c8-8d1b-14801fb89890",
   "metadata": {
    "id": "0ab5ea93-51d0-48c8-8d1b-14801fb89890"
   },
   "outputs": [
    {
     "name": "stderr",
     "output_type": "stream",
     "text": [
      "/tmp/ipykernel_99071/1583266151.py:1: DeprecationWarning: Call to deprecated class DFIndexer. (use pt.terrier.IterDictIndexer().index(dataframe.to_dict(orient='records')) instead) -- Deprecated since version 0.11.0.\n",
      "  indexer = pt.DFIndexer(\"./index_3docs\", overwrite=True)\n",
      "WARNING: A restricted method in java.lang.System has been called\n",
      "WARNING: java.lang.System::load has been called by com.github.luben.zstd.util.Native in an unnamed module (file:/home/adrien/.pyterrier/terrier-assemblies-5.11-jar-with-dependencies.jar)\n",
      "WARNING: Use --enable-native-access=ALL-UNNAMED to avoid a warning for callers in this module\n",
      "WARNING: Restricted methods will be blocked in a future release unless native access is enabled\n",
      "\n",
      "WARNING: A terminally deprecated method in sun.misc.Unsafe has been called\n",
      "WARNING: sun.misc.Unsafe::arrayBaseOffset has been called by org.apache.hadoop.io.FastByteComparisons$LexicographicalComparerHolder$UnsafeComparer (file:/home/adrien/.pyterrier/terrier-assemblies-5.11-jar-with-dependencies.jar)\n",
      "WARNING: Please consider reporting this to the maintainers of class org.apache.hadoop.io.FastByteComparisons$LexicographicalComparerHolder$UnsafeComparer\n",
      "WARNING: sun.misc.Unsafe::arrayBaseOffset will be removed in a future release\n"
     ]
    },
    {
     "data": {
      "text/plain": [
       "'./index_3docs/data.properties'"
      ]
     },
     "execution_count": 6,
     "metadata": {},
     "output_type": "execute_result"
    }
   ],
   "source": [
    "indexer = pt.DFIndexer(\"./index_3docs\", overwrite=True)\n",
    "index_ref = indexer.index(docs_df[\"text\"], docs_df[\"docno\"])\n",
    "index_ref.toString()"
   ]
  },
  {
   "cell_type": "markdown",
   "id": "3fc9f92c-0ded-4ad4-bed2-6f91316be1cf",
   "metadata": {
    "id": "3fc9f92c-0ded-4ad4-bed2-6f91316be1cf"
   },
   "source": [
    "`IndexRef` provides the location where the index is stored. Indeed, we can look in the `index_3docs` directory and see that it has created various files:"
   ]
  },
  {
   "cell_type": "code",
   "execution_count": 7,
   "id": "08475457-19a9-4718-8395-f3b45dbefcdb",
   "metadata": {
    "id": "08475457-19a9-4718-8395-f3b45dbefcdb"
   },
   "outputs": [
    {
     "name": "stdout",
     "output_type": "stream",
     "text": [
      "total 44K\n",
      "-rw-r--r-- 1 adrien adrien    4  1 avril 14:57 data.direct.bf\n",
      "-rw-r--r-- 1 adrien adrien   51  1 avril 14:57 data.document.fsarrayfile\n",
      "-rw-r--r-- 1 adrien adrien    5  1 avril 14:57 data.inverted.bf\n",
      "-rw-r--r-- 1 adrien adrien  516  1 avril 14:57 data.lexicon.fsomapfile\n",
      "-rw-r--r-- 1 adrien adrien  273  1 avril 14:57 data.lexicon.fsomaphash\n",
      "-rw-r--r-- 1 adrien adrien   24  1 avril 14:57 data.lexicon.fsomapid\n",
      "-rw-r--r-- 1 adrien adrien   33  1 avril 14:57 data.meta-0.fsomapfile\n",
      "-rw-r--r-- 1 adrien adrien   24  1 avril 14:57 data.meta.idx\n",
      "-rw-r--r-- 1 adrien adrien   48  1 avril 14:57 data.meta.zdata\n",
      "-rw-r--r-- 1 adrien adrien 4,2K  1 avril 14:57 data.properties\n"
     ]
    }
   ],
   "source": [
    "!ls -lh index_3docs/"
   ]
  },
  {
   "cell_type": "markdown",
   "id": "e78ca805-a0fe-4765-8c84-44f3f47948e6",
   "metadata": {
    "id": "e78ca805-a0fe-4765-8c84-44f3f47948e6"
   },
   "source": [
    "We can now load the index:"
   ]
  },
  {
   "cell_type": "code",
   "execution_count": 8,
   "id": "662c4845-2ffe-4045-bd35-e4c7ac7c7127",
   "metadata": {
    "id": "662c4845-2ffe-4045-bd35-e4c7ac7c7127"
   },
   "outputs": [],
   "source": [
    "index = pt.IndexFactory.of(index_ref)"
   ]
  },
  {
   "cell_type": "markdown",
   "id": "f1e4331c-ed8c-439a-8579-c5b6cb7b920a",
   "metadata": {
    "id": "f1e4331c-ed8c-439a-8579-c5b6cb7b920a"
   },
   "source": [
    "This is a Terrier index structure, which provides methods such as:\n",
    " - `getCollectionStatistics()`\n",
    " - `getInvertedIndex()`\n",
    " - `getLexicon()`\n",
    "\n",
    "Note Terrier is written in Java. (Yes, yes... I know... Java... 🤢)\n",
    "The Javadoc documentation is here:\n",
    "http://terrier.org/docs/current/javadoc/org/terrier/structures/Index.html\n",
    "\n",
    "Let's see what is returned by the `CollectionStatistics()` method:"
   ]
  },
  {
   "cell_type": "code",
   "execution_count": 9,
   "id": "ea0b17a5-6cca-4c36-8b1a-b98b3a3026cc",
   "metadata": {
    "id": "ea0b17a5-6cca-4c36-8b1a-b98b3a3026cc"
   },
   "outputs": [
    {
     "name": "stdout",
     "output_type": "stream",
     "text": [
      "Number of documents: 3\n",
      "Number of terms: 6\n",
      "Number of postings: 9\n",
      "Number of fields: 0\n",
      "Number of tokens: 10\n",
      "Field names: []\n",
      "Positions:   false\n",
      "\n"
     ]
    }
   ],
   "source": [
    "print(index.getCollectionStatistics().toString())"
   ]
  },
  {
   "cell_type": "markdown",
   "id": "4a62177b-0e9c-4227-8198-a493410e144c",
   "metadata": {
    "id": "4a62177b-0e9c-4227-8198-a493410e144c"
   },
   "source": [
    "Ok, that seems fair – we have 3 documents. But why only 6 terms?\n",
    "Let's check the [`Lexicon`](http://terrier.org/docs/current/javadoc/org/terrier/structures/Lexicon.html), which is our vocabulary. The `Lexicon` contains a set of terms, so we need to iterate over it:"
   ]
  },
  {
   "cell_type": "code",
   "execution_count": 10,
   "id": "bbea7b73-f1f3-4dd5-b329-0b27574b73a2",
   "metadata": {
    "id": "bbea7b73-f1f3-4dd5-b329-0b27574b73a2"
   },
   "outputs": [
    {
     "name": "stdout",
     "output_type": "stream",
     "text": [
      "articl :  term1 Nt=3 TF=4 maxTF=2 @{0 0 0}\n",
      "collect :  term0 Nt=2 TF=2 maxTF=1 @{0 0 7}\n",
      "first :  term2 Nt=1 TF=1 maxTF=1 @{0 1 3}\n",
      "third :  term4 Nt=1 TF=1 maxTF=1 @{0 1 5}\n",
      "topic :  term3 Nt=1 TF=1 maxTF=1 @{0 2 1}\n",
      "unknown :  term5 Nt=1 TF=1 maxTF=1 @{0 2 5}\n"
     ]
    }
   ],
   "source": [
    "for kv in index.getLexicon():\n",
    "    print(kv.getKey(),\": \", kv.getValue().toString())"
   ]
  },
  {
   "cell_type": "markdown",
   "id": "b76ef441-763d-4170-86d5-101b88fd1334",
   "metadata": {
    "id": "b76ef441-763d-4170-86d5-101b88fd1334"
   },
   "source": [
    "We see the terms and the statistics collected about each.\n",
    "Note that stopwords were removed and Porter's stemmer has been applied.\n",
    "Here:\n",
    " - `Nt` is the number of unique documents that each term occurs in – this is useful for calculating IDF.\n",
    " - `TF` is the total number of occurrences of term in corpus.\n",
    "\n",
    "Finally, we can use the square bracket notation to lookup terms in the lexicon:\n"
   ]
  },
  {
   "cell_type": "code",
   "execution_count": 11,
   "id": "e5bf49e4-d291-44c0-a219-5da36d971d4f",
   "metadata": {
    "id": "e5bf49e4-d291-44c0-a219-5da36d971d4f"
   },
   "outputs": [
    {
     "data": {
      "text/plain": [
       "'term1 Nt=3 TF=4 maxTF=2 @{0 0 0}'"
      ]
     },
     "execution_count": 11,
     "metadata": {},
     "output_type": "execute_result"
    }
   ],
   "source": [
    "index.getLexicon()[\"articl\"].toString()"
   ]
  },
  {
   "cell_type": "markdown",
   "id": "14c7b305-9ace-40dd-b0a7-7c75ff481c8f",
   "metadata": {
    "id": "14c7b305-9ace-40dd-b0a7-7c75ff481c8f"
   },
   "source": [
    "And we can see how many times this term is used in each document that it occurs in (by iterating over the posting lists):"
   ]
  },
  {
   "cell_type": "code",
   "execution_count": 12,
   "id": "918b5ad1-0946-43bd-af0d-4739d2efb3a4",
   "metadata": {
    "id": "918b5ad1-0946-43bd-af0d-4739d2efb3a4"
   },
   "outputs": [
    {
     "name": "stdout",
     "output_type": "stream",
     "text": [
      "ID(0) TF(2) doclen = 4\n",
      "ID(1) TF(1) doclen = 2\n",
      "ID(2) TF(1) doclen = 4\n"
     ]
    }
   ],
   "source": [
    "pointer = index.getLexicon()[\"articl\"]\n",
    "for posting in index.getInvertedIndex().getPostings(pointer):\n",
    "    print(f'{posting.toString()} doclen = {posting.getDocumentLength()}')"
   ]
  },
  {
   "cell_type": "markdown",
   "id": "c52d23dd-0c01-4259-8889-cbad18beb782",
   "metadata": {
    "id": "c52d23dd-0c01-4259-8889-cbad18beb782"
   },
   "source": [
    "We can see that `\"article\"` occurs in each of the three documents."
   ]
  },
  {
   "cell_type": "markdown",
   "id": "e49e1406-1b4f-435d-8cfe-8af48e7072e4",
   "metadata": {
    "id": "e49e1406-1b4f-435d-8cfe-8af48e7072e4"
   },
   "source": [
    "### Searching an Index\n",
    "\n",
    "Now that we have indexed our documents, we can run a search over the document collection:"
   ]
  },
  {
   "cell_type": "code",
   "execution_count": 13,
   "id": "6qxpZKldzShR",
   "metadata": {
    "id": "6qxpZKldzShR"
   },
   "outputs": [
    {
     "name": "stderr",
     "output_type": "stream",
     "text": [
      "/tmp/ipykernel_99071/2702649480.py:3: DeprecationWarning: Call to deprecated class BatchRetrieve. (use pt.terrier.Retriever() instead) -- Deprecated since version 0.11.0.\n",
      "  br = pt.BatchRetrieve(index, wmodel=\"TF_IDF\")\n"
     ]
    },
    {
     "data": {
      "text/html": [
       "<div>\n",
       "<style scoped>\n",
       "    .dataframe tbody tr th:only-of-type {\n",
       "        vertical-align: middle;\n",
       "    }\n",
       "\n",
       "    .dataframe tbody tr th {\n",
       "        vertical-align: top;\n",
       "    }\n",
       "\n",
       "    .dataframe thead th {\n",
       "        text-align: right;\n",
       "    }\n",
       "</style>\n",
       "<table border=\"1\" class=\"dataframe\">\n",
       "  <thead>\n",
       "    <tr style=\"text-align: right;\">\n",
       "      <th></th>\n",
       "      <th>qid</th>\n",
       "      <th>docid</th>\n",
       "      <th>docno</th>\n",
       "      <th>rank</th>\n",
       "      <th>score</th>\n",
       "      <th>query</th>\n",
       "    </tr>\n",
       "  </thead>\n",
       "  <tbody>\n",
       "    <tr>\n",
       "      <th>0</th>\n",
       "      <td>1</td>\n",
       "      <td>0</td>\n",
       "      <td>d1</td>\n",
       "      <td>0</td>\n",
       "      <td>0.710059</td>\n",
       "      <td>articles</td>\n",
       "    </tr>\n",
       "    <tr>\n",
       "      <th>1</th>\n",
       "      <td>1</td>\n",
       "      <td>1</td>\n",
       "      <td>d2</td>\n",
       "      <td>1</td>\n",
       "      <td>0.652174</td>\n",
       "      <td>articles</td>\n",
       "    </tr>\n",
       "    <tr>\n",
       "      <th>2</th>\n",
       "      <td>1</td>\n",
       "      <td>2</td>\n",
       "      <td>d3</td>\n",
       "      <td>2</td>\n",
       "      <td>0.504202</td>\n",
       "      <td>articles</td>\n",
       "    </tr>\n",
       "  </tbody>\n",
       "</table>\n",
       "</div>"
      ],
      "text/plain": [
       "  qid  docid docno  rank     score     query\n",
       "0   1      0    d1     0  0.710059  articles\n",
       "1   1      1    d2     1  0.652174  articles\n",
       "2   1      2    d3     2  0.504202  articles"
      ]
     },
     "execution_count": 13,
     "metadata": {},
     "output_type": "execute_result"
    }
   ],
   "source": [
    "query = \"articles\"\n",
    "\n",
    "br = pt.BatchRetrieve(index, wmodel=\"TF_IDF\")\n",
    "br.search(query)"
   ]
  },
  {
   "cell_type": "markdown",
   "id": "f6037a43-b38f-4c26-9940-a73086a6327a",
   "metadata": {
    "id": "f6037a43-b38f-4c26-9940-a73086a6327a"
   },
   "source": [
    "Here we used the TF-IDF weighting formula to rank the results.\n",
    "\n",
    "The `search()` method returns a dataframe with columns:\n",
    " - `qid`: the query identifier\n",
    " - `docid`: integer identifier for document\n",
    " - `docno`: string identifier for document\n",
    " - `rank`: rank position\n",
    " - `score`: tf-idf score\n",
    " - `query`: the input query"
   ]
  },
  {
   "cell_type": "markdown",
   "id": "mC-K7o3M1WSf",
   "metadata": {
    "id": "mC-K7o3M1WSf"
   },
   "source": [
    "### Multiple searches"
   ]
  },
  {
   "cell_type": "markdown",
   "id": "e00cffe9-5aff-4f75-b22d-b08dae32337b",
   "metadata": {
    "id": "e00cffe9-5aff-4f75-b22d-b08dae32337b"
   },
   "source": [
    "We can also run multiple queries at once:"
   ]
  },
  {
   "cell_type": "code",
   "execution_count": 14,
   "id": "0f4cd440-a836-4ad6-84f6-6691beab2a8e",
   "metadata": {
    "id": "0f4cd440-a836-4ad6-84f6-6691beab2a8e"
   },
   "outputs": [
    {
     "data": {
      "text/html": [
       "<div>\n",
       "<style scoped>\n",
       "    .dataframe tbody tr th:only-of-type {\n",
       "        vertical-align: middle;\n",
       "    }\n",
       "\n",
       "    .dataframe tbody tr th {\n",
       "        vertical-align: top;\n",
       "    }\n",
       "\n",
       "    .dataframe thead th {\n",
       "        text-align: right;\n",
       "    }\n",
       "</style>\n",
       "<table border=\"1\" class=\"dataframe\">\n",
       "  <thead>\n",
       "    <tr style=\"text-align: right;\">\n",
       "      <th></th>\n",
       "      <th>qid</th>\n",
       "      <th>docid</th>\n",
       "      <th>docno</th>\n",
       "      <th>rank</th>\n",
       "      <th>score</th>\n",
       "      <th>query</th>\n",
       "    </tr>\n",
       "  </thead>\n",
       "  <tbody>\n",
       "    <tr>\n",
       "      <th>0</th>\n",
       "      <td>query1</td>\n",
       "      <td>0</td>\n",
       "      <td>d1</td>\n",
       "      <td>0</td>\n",
       "      <td>0.710059</td>\n",
       "      <td>articles</td>\n",
       "    </tr>\n",
       "    <tr>\n",
       "      <th>1</th>\n",
       "      <td>query1</td>\n",
       "      <td>1</td>\n",
       "      <td>d2</td>\n",
       "      <td>1</td>\n",
       "      <td>0.652174</td>\n",
       "      <td>articles</td>\n",
       "    </tr>\n",
       "    <tr>\n",
       "      <th>2</th>\n",
       "      <td>query1</td>\n",
       "      <td>2</td>\n",
       "      <td>d3</td>\n",
       "      <td>2</td>\n",
       "      <td>0.504202</td>\n",
       "      <td>articles</td>\n",
       "    </tr>\n",
       "    <tr>\n",
       "      <th>3</th>\n",
       "      <td>query2</td>\n",
       "      <td>0</td>\n",
       "      <td>d1</td>\n",
       "      <td>0</td>\n",
       "      <td>1.718463</td>\n",
       "      <td>first article</td>\n",
       "    </tr>\n",
       "    <tr>\n",
       "      <th>4</th>\n",
       "      <td>query2</td>\n",
       "      <td>1</td>\n",
       "      <td>d2</td>\n",
       "      <td>1</td>\n",
       "      <td>0.652174</td>\n",
       "      <td>first article</td>\n",
       "    </tr>\n",
       "    <tr>\n",
       "      <th>5</th>\n",
       "      <td>query2</td>\n",
       "      <td>2</td>\n",
       "      <td>d3</td>\n",
       "      <td>2</td>\n",
       "      <td>0.504202</td>\n",
       "      <td>first article</td>\n",
       "    </tr>\n",
       "    <tr>\n",
       "      <th>6</th>\n",
       "      <td>query3</td>\n",
       "      <td>2</td>\n",
       "      <td>d3</td>\n",
       "      <td>0</td>\n",
       "      <td>1.008403</td>\n",
       "      <td>unknown</td>\n",
       "    </tr>\n",
       "  </tbody>\n",
       "</table>\n",
       "</div>"
      ],
      "text/plain": [
       "      qid  docid docno  rank     score          query\n",
       "0  query1      0    d1     0  0.710059       articles\n",
       "1  query1      1    d2     1  0.652174       articles\n",
       "2  query1      2    d3     2  0.504202       articles\n",
       "3  query2      0    d1     0  1.718463  first article\n",
       "4  query2      1    d2     1  0.652174  first article\n",
       "5  query2      2    d3     2  0.504202  first article\n",
       "6  query3      2    d3     0  1.008403        unknown"
      ]
     },
     "execution_count": 14,
     "metadata": {},
     "output_type": "execute_result"
    }
   ],
   "source": [
    "queries = pd.DataFrame([[\"query1\", \"articles\"], [\"query2\", \"first article\"], [\"query3\", \"unknown\"]], columns=[\"qid\", \"query\"])\n",
    "br(queries)"
   ]
  },
  {
   "cell_type": "markdown",
   "id": "MboNLbOo27WC",
   "metadata": {
    "id": "MboNLbOo27WC"
   },
   "source": [
    "## Working with a real dataset\n",
    "\n",
    "We'll now load a real dataset of COVID-19 related scientific articles (called CORD19) that is available as an example in PyTerrier"
   ]
  },
  {
   "cell_type": "code",
   "execution_count": 15,
   "id": "u-7Vg8zw7B2Q",
   "metadata": {
    "id": "u-7Vg8zw7B2Q"
   },
   "outputs": [],
   "source": [
    "cord19 = pt.datasets.get_dataset('irds:cord19/trec-covid')"
   ]
  },
  {
   "cell_type": "markdown",
   "id": "t5xjK0xq7CHG",
   "metadata": {
    "id": "t5xjK0xq7CHG"
   },
   "source": [
    "We just downloaded the data. Now we index and save the dataset.\n",
    "\n",
    "The CORD19 corpus contains articles about the COVID-19, we are going to retrieve only the abstract of these articles to compose our documents. The indexing will take a while to run since there are almost 200,000 articles."
   ]
  },
  {
   "cell_type": "code",
   "execution_count": 16,
   "id": "x7b0vM0D7Cr5",
   "metadata": {
    "id": "x7b0vM0D7Cr5"
   },
   "outputs": [
    {
     "name": "stderr",
     "output_type": "stream",
     "text": [
      "cord19/trec-covid documents:   0%|          | 0/192509 [00:00<?, ?it/s]"
     ]
    },
    {
     "name": "stderr",
     "output_type": "stream",
     "text": [
      "cord19/trec-covid documents:   0%|          | 59/192509 [00:00<19:53, 161.26it/s]"
     ]
    },
    {
     "name": "stdout",
     "output_type": "stream",
     "text": [
      "14:57:16.025 [ForkJoinPool-1-worker-1] WARN org.terrier.structures.indexing.Indexer -- Adding an empty document to the index (6iu1dtyl) - further warnings are suppressed\n"
     ]
    },
    {
     "name": "stderr",
     "output_type": "stream",
     "text": [
      "cord19/trec-covid documents: 100%|██████████| 192509/192509 [00:37<00:00, 5076.55it/s]\n"
     ]
    },
    {
     "name": "stdout",
     "output_type": "stream",
     "text": [
      "14:57:58.098 [ForkJoinPool-1-worker-1] WARN org.terrier.structures.indexing.Indexer -- Indexed 54937 empty documents\n"
     ]
    }
   ],
   "source": [
    "pt_index_path = './terrier_cord19'\n",
    "indexer = pt.index.IterDictIndexer(pt_index_path, overwrite=True, meta_reverse=[])\n",
    "index_ref = indexer.index(cord19.get_corpus_iter(), fields=('abstract',), meta=('docno',))"
   ]
  },
  {
   "cell_type": "markdown",
   "id": "fED8Z2iSscGz",
   "metadata": {
    "id": "fED8Z2iSscGz"
   },
   "source": [
    "### Querying the index"
   ]
  },
  {
   "cell_type": "markdown",
   "id": "fQVi-8qS7C6e",
   "metadata": {
    "id": "fQVi-8qS7C6e"
   },
   "source": [
    "Now load the index and print the statistics:"
   ]
  },
  {
   "cell_type": "code",
   "execution_count": 17,
   "id": "2d04aa3d-3e2e-44e4-a59a-7e0a6f5dfa4b",
   "metadata": {
    "id": "2d04aa3d-3e2e-44e4-a59a-7e0a6f5dfa4b"
   },
   "outputs": [
    {
     "name": "stdout",
     "output_type": "stream",
     "text": [
      "Number of documents: 192509\n",
      "Number of terms: 151235\n",
      "Number of postings: 11554033\n",
      "Number of fields: 1\n",
      "Number of tokens: 17728468\n",
      "Field names: [abstract]\n",
      "Positions:   false\n",
      "\n"
     ]
    }
   ],
   "source": [
    "index = pt.IndexFactory.of(index_ref)\n",
    "print(index.getCollectionStatistics().toString())"
   ]
  },
  {
   "cell_type": "markdown",
   "id": "84f85be8-e40b-4b2e-a31c-50ce45da17d2",
   "metadata": {
    "id": "84f85be8-e40b-4b2e-a31c-50ce45da17d2"
   },
   "source": [
    "Let's run a query:"
   ]
  },
  {
   "cell_type": "code",
   "execution_count": 18,
   "id": "742f697a-024f-438e-bab8-e6d988566f8c",
   "metadata": {
    "id": "742f697a-024f-438e-bab8-e6d988566f8c"
   },
   "outputs": [
    {
     "name": "stderr",
     "output_type": "stream",
     "text": [
      "/tmp/ipykernel_99071/850763684.py:3: DeprecationWarning: Call to deprecated class BatchRetrieve. (use pt.terrier.Retriever() instead) -- Deprecated since version 0.11.0.\n",
      "  tfidf = pt.BatchRetrieve(index, wmodel=\"TF_IDF\")\n"
     ]
    },
    {
     "data": {
      "text/html": [
       "<div>\n",
       "<style scoped>\n",
       "    .dataframe tbody tr th:only-of-type {\n",
       "        vertical-align: middle;\n",
       "    }\n",
       "\n",
       "    .dataframe tbody tr th {\n",
       "        vertical-align: top;\n",
       "    }\n",
       "\n",
       "    .dataframe thead th {\n",
       "        text-align: right;\n",
       "    }\n",
       "</style>\n",
       "<table border=\"1\" class=\"dataframe\">\n",
       "  <thead>\n",
       "    <tr style=\"text-align: right;\">\n",
       "      <th></th>\n",
       "      <th>qid</th>\n",
       "      <th>docid</th>\n",
       "      <th>docno</th>\n",
       "      <th>rank</th>\n",
       "      <th>score</th>\n",
       "      <th>query</th>\n",
       "    </tr>\n",
       "  </thead>\n",
       "  <tbody>\n",
       "    <tr>\n",
       "      <th>0</th>\n",
       "      <td>1</td>\n",
       "      <td>18717</td>\n",
       "      <td>iavwkdpr</td>\n",
       "      <td>0</td>\n",
       "      <td>11.035982</td>\n",
       "      <td>chemical reactions</td>\n",
       "    </tr>\n",
       "    <tr>\n",
       "      <th>1</th>\n",
       "      <td>1</td>\n",
       "      <td>171636</td>\n",
       "      <td>v3blnh02</td>\n",
       "      <td>1</td>\n",
       "      <td>10.329726</td>\n",
       "      <td>chemical reactions</td>\n",
       "    </tr>\n",
       "    <tr>\n",
       "      <th>2</th>\n",
       "      <td>1</td>\n",
       "      <td>147193</td>\n",
       "      <td>ei4rb8fr</td>\n",
       "      <td>2</td>\n",
       "      <td>10.317138</td>\n",
       "      <td>chemical reactions</td>\n",
       "    </tr>\n",
       "    <tr>\n",
       "      <th>3</th>\n",
       "      <td>1</td>\n",
       "      <td>121217</td>\n",
       "      <td>msdycum2</td>\n",
       "      <td>3</td>\n",
       "      <td>9.653734</td>\n",
       "      <td>chemical reactions</td>\n",
       "    </tr>\n",
       "    <tr>\n",
       "      <th>4</th>\n",
       "      <td>1</td>\n",
       "      <td>170863</td>\n",
       "      <td>sj8i9ss2</td>\n",
       "      <td>4</td>\n",
       "      <td>9.500211</td>\n",
       "      <td>chemical reactions</td>\n",
       "    </tr>\n",
       "    <tr>\n",
       "      <th>...</th>\n",
       "      <td>...</td>\n",
       "      <td>...</td>\n",
       "      <td>...</td>\n",
       "      <td>...</td>\n",
       "      <td>...</td>\n",
       "      <td>...</td>\n",
       "    </tr>\n",
       "    <tr>\n",
       "      <th>995</th>\n",
       "      <td>1</td>\n",
       "      <td>2428</td>\n",
       "      <td>38aabxh1</td>\n",
       "      <td>995</td>\n",
       "      <td>3.790183</td>\n",
       "      <td>chemical reactions</td>\n",
       "    </tr>\n",
       "    <tr>\n",
       "      <th>996</th>\n",
       "      <td>1</td>\n",
       "      <td>14752</td>\n",
       "      <td>u709r8ss</td>\n",
       "      <td>996</td>\n",
       "      <td>3.790183</td>\n",
       "      <td>chemical reactions</td>\n",
       "    </tr>\n",
       "    <tr>\n",
       "      <th>997</th>\n",
       "      <td>1</td>\n",
       "      <td>20074</td>\n",
       "      <td>wxi1xsbo</td>\n",
       "      <td>997</td>\n",
       "      <td>3.790183</td>\n",
       "      <td>chemical reactions</td>\n",
       "    </tr>\n",
       "    <tr>\n",
       "      <th>998</th>\n",
       "      <td>1</td>\n",
       "      <td>117156</td>\n",
       "      <td>ts3obwts</td>\n",
       "      <td>998</td>\n",
       "      <td>3.790183</td>\n",
       "      <td>chemical reactions</td>\n",
       "    </tr>\n",
       "    <tr>\n",
       "      <th>999</th>\n",
       "      <td>1</td>\n",
       "      <td>149517</td>\n",
       "      <td>6i3x49p8</td>\n",
       "      <td>999</td>\n",
       "      <td>3.790183</td>\n",
       "      <td>chemical reactions</td>\n",
       "    </tr>\n",
       "  </tbody>\n",
       "</table>\n",
       "<p>1000 rows × 6 columns</p>\n",
       "</div>"
      ],
      "text/plain": [
       "    qid   docid     docno  rank      score               query\n",
       "0     1   18717  iavwkdpr     0  11.035982  chemical reactions\n",
       "1     1  171636  v3blnh02     1  10.329726  chemical reactions\n",
       "2     1  147193  ei4rb8fr     2  10.317138  chemical reactions\n",
       "3     1  121217  msdycum2     3   9.653734  chemical reactions\n",
       "4     1  170863  sj8i9ss2     4   9.500211  chemical reactions\n",
       "..   ..     ...       ...   ...        ...                 ...\n",
       "995   1    2428  38aabxh1   995   3.790183  chemical reactions\n",
       "996   1   14752  u709r8ss   996   3.790183  chemical reactions\n",
       "997   1   20074  wxi1xsbo   997   3.790183  chemical reactions\n",
       "998   1  117156  ts3obwts   998   3.790183  chemical reactions\n",
       "999   1  149517  6i3x49p8   999   3.790183  chemical reactions\n",
       "\n",
       "[1000 rows x 6 columns]"
      ]
     },
     "execution_count": 18,
     "metadata": {},
     "output_type": "execute_result"
    }
   ],
   "source": [
    "query = \"chemical reactions\"\n",
    "\n",
    "tfidf = pt.BatchRetrieve(index, wmodel=\"TF_IDF\")\n",
    "tfidf.search(query)"
   ]
  },
  {
   "cell_type": "markdown",
   "id": "w6z7x4NjCpat",
   "metadata": {
    "id": "w6z7x4NjCpat"
   },
   "source": [
    "Instead of ranking documents by their TF-IDF score, we could also use the BM25 score which is known to produce high quality search results."
   ]
  },
  {
   "cell_type": "code",
   "execution_count": 19,
   "id": "RNuhtol_DAI8",
   "metadata": {
    "id": "RNuhtol_DAI8"
   },
   "outputs": [
    {
     "name": "stderr",
     "output_type": "stream",
     "text": [
      "/tmp/ipykernel_99071/3707681672.py:3: DeprecationWarning: Call to deprecated class BatchRetrieve. (use pt.terrier.Retriever() instead) -- Deprecated since version 0.11.0.\n",
      "  bm25 = pt.BatchRetrieve(index, wmodel=\"BM25\")\n"
     ]
    },
    {
     "data": {
      "text/html": [
       "<div>\n",
       "<style scoped>\n",
       "    .dataframe tbody tr th:only-of-type {\n",
       "        vertical-align: middle;\n",
       "    }\n",
       "\n",
       "    .dataframe tbody tr th {\n",
       "        vertical-align: top;\n",
       "    }\n",
       "\n",
       "    .dataframe thead th {\n",
       "        text-align: right;\n",
       "    }\n",
       "</style>\n",
       "<table border=\"1\" class=\"dataframe\">\n",
       "  <thead>\n",
       "    <tr style=\"text-align: right;\">\n",
       "      <th></th>\n",
       "      <th>qid</th>\n",
       "      <th>docid</th>\n",
       "      <th>docno</th>\n",
       "      <th>rank</th>\n",
       "      <th>score</th>\n",
       "      <th>query</th>\n",
       "    </tr>\n",
       "  </thead>\n",
       "  <tbody>\n",
       "    <tr>\n",
       "      <th>0</th>\n",
       "      <td>1</td>\n",
       "      <td>18717</td>\n",
       "      <td>iavwkdpr</td>\n",
       "      <td>0</td>\n",
       "      <td>20.011607</td>\n",
       "      <td>chemical reactions</td>\n",
       "    </tr>\n",
       "    <tr>\n",
       "      <th>1</th>\n",
       "      <td>1</td>\n",
       "      <td>171636</td>\n",
       "      <td>v3blnh02</td>\n",
       "      <td>1</td>\n",
       "      <td>18.723538</td>\n",
       "      <td>chemical reactions</td>\n",
       "    </tr>\n",
       "    <tr>\n",
       "      <th>2</th>\n",
       "      <td>1</td>\n",
       "      <td>147193</td>\n",
       "      <td>ei4rb8fr</td>\n",
       "      <td>2</td>\n",
       "      <td>18.700723</td>\n",
       "      <td>chemical reactions</td>\n",
       "    </tr>\n",
       "    <tr>\n",
       "      <th>3</th>\n",
       "      <td>1</td>\n",
       "      <td>121217</td>\n",
       "      <td>msdycum2</td>\n",
       "      <td>3</td>\n",
       "      <td>17.498245</td>\n",
       "      <td>chemical reactions</td>\n",
       "    </tr>\n",
       "    <tr>\n",
       "      <th>4</th>\n",
       "      <td>1</td>\n",
       "      <td>170863</td>\n",
       "      <td>sj8i9ss2</td>\n",
       "      <td>4</td>\n",
       "      <td>17.228355</td>\n",
       "      <td>chemical reactions</td>\n",
       "    </tr>\n",
       "    <tr>\n",
       "      <th>...</th>\n",
       "      <td>...</td>\n",
       "      <td>...</td>\n",
       "      <td>...</td>\n",
       "      <td>...</td>\n",
       "      <td>...</td>\n",
       "      <td>...</td>\n",
       "    </tr>\n",
       "    <tr>\n",
       "      <th>995</th>\n",
       "      <td>1</td>\n",
       "      <td>88455</td>\n",
       "      <td>cuvqym6y</td>\n",
       "      <td>995</td>\n",
       "      <td>6.855393</td>\n",
       "      <td>chemical reactions</td>\n",
       "    </tr>\n",
       "    <tr>\n",
       "      <th>996</th>\n",
       "      <td>1</td>\n",
       "      <td>137287</td>\n",
       "      <td>8kfjw8ai</td>\n",
       "      <td>996</td>\n",
       "      <td>6.855393</td>\n",
       "      <td>chemical reactions</td>\n",
       "    </tr>\n",
       "    <tr>\n",
       "      <th>997</th>\n",
       "      <td>1</td>\n",
       "      <td>140078</td>\n",
       "      <td>kebvzeg4</td>\n",
       "      <td>997</td>\n",
       "      <td>6.855393</td>\n",
       "      <td>chemical reactions</td>\n",
       "    </tr>\n",
       "    <tr>\n",
       "      <th>998</th>\n",
       "      <td>1</td>\n",
       "      <td>148411</td>\n",
       "      <td>hhcfrjrn</td>\n",
       "      <td>998</td>\n",
       "      <td>6.855393</td>\n",
       "      <td>chemical reactions</td>\n",
       "    </tr>\n",
       "    <tr>\n",
       "      <th>999</th>\n",
       "      <td>1</td>\n",
       "      <td>162351</td>\n",
       "      <td>4szi4vyd</td>\n",
       "      <td>999</td>\n",
       "      <td>6.855393</td>\n",
       "      <td>chemical reactions</td>\n",
       "    </tr>\n",
       "  </tbody>\n",
       "</table>\n",
       "<p>1000 rows × 6 columns</p>\n",
       "</div>"
      ],
      "text/plain": [
       "    qid   docid     docno  rank      score               query\n",
       "0     1   18717  iavwkdpr     0  20.011607  chemical reactions\n",
       "1     1  171636  v3blnh02     1  18.723538  chemical reactions\n",
       "2     1  147193  ei4rb8fr     2  18.700723  chemical reactions\n",
       "3     1  121217  msdycum2     3  17.498245  chemical reactions\n",
       "4     1  170863  sj8i9ss2     4  17.228355  chemical reactions\n",
       "..   ..     ...       ...   ...        ...                 ...\n",
       "995   1   88455  cuvqym6y   995   6.855393  chemical reactions\n",
       "996   1  137287  8kfjw8ai   996   6.855393  chemical reactions\n",
       "997   1  140078  kebvzeg4   997   6.855393  chemical reactions\n",
       "998   1  148411  hhcfrjrn   998   6.855393  chemical reactions\n",
       "999   1  162351  4szi4vyd   999   6.855393  chemical reactions\n",
       "\n",
       "[1000 rows x 6 columns]"
      ]
     },
     "execution_count": 19,
     "metadata": {},
     "output_type": "execute_result"
    }
   ],
   "source": [
    "query = \"chemical reactions\"\n",
    "\n",
    "bm25 = pt.BatchRetrieve(index, wmodel=\"BM25\")\n",
    "bm25.search(query)"
   ]
  },
  {
   "cell_type": "markdown",
   "id": "Ea6siv1-DNMN",
   "metadata": {
    "id": "Ea6siv1-DNMN"
   },
   "source": [
    "Note that the first 5 documents in the ranking are the same as they were for TF-IDF."
   ]
  },
  {
   "cell_type": "markdown",
   "id": "0275cc8d-054e-40a5-b7ec-144221278d27",
   "metadata": {
    "id": "0275cc8d-054e-40a5-b7ec-144221278d27"
   },
   "source": [
    "### Evaluating retrieval\n",
    "\n",
    "So far, we have been creating search engine models, but we haven't decided if any of them are actually any good. In order to determine how good a ranking is, we need annotations telling us which documents are actually relevant for a particular query.\n",
    "\n",
    "The CORD19 dataset contains set of queries and relevance assessments (aka qrels)for this purpose.\n",
    "\n",
    "For historical reasons, the queries are called \"topics\". Let's have a look at the first 10 queries:"
   ]
  },
  {
   "cell_type": "code",
   "execution_count": 20,
   "id": "db23212b-0aae-496b-81e5-0b7ed7d83fcc",
   "metadata": {
    "id": "db23212b-0aae-496b-81e5-0b7ed7d83fcc"
   },
   "outputs": [
    {
     "data": {
      "text/html": [
       "<div>\n",
       "<style scoped>\n",
       "    .dataframe tbody tr th:only-of-type {\n",
       "        vertical-align: middle;\n",
       "    }\n",
       "\n",
       "    .dataframe tbody tr th {\n",
       "        vertical-align: top;\n",
       "    }\n",
       "\n",
       "    .dataframe thead th {\n",
       "        text-align: right;\n",
       "    }\n",
       "</style>\n",
       "<table border=\"1\" class=\"dataframe\">\n",
       "  <thead>\n",
       "    <tr style=\"text-align: right;\">\n",
       "      <th></th>\n",
       "      <th>qid</th>\n",
       "      <th>query</th>\n",
       "    </tr>\n",
       "  </thead>\n",
       "  <tbody>\n",
       "    <tr>\n",
       "      <th>0</th>\n",
       "      <td>1</td>\n",
       "      <td>coronavirus origin</td>\n",
       "    </tr>\n",
       "    <tr>\n",
       "      <th>1</th>\n",
       "      <td>2</td>\n",
       "      <td>coronavirus response to weather changes</td>\n",
       "    </tr>\n",
       "    <tr>\n",
       "      <th>2</th>\n",
       "      <td>3</td>\n",
       "      <td>coronavirus immunity</td>\n",
       "    </tr>\n",
       "    <tr>\n",
       "      <th>3</th>\n",
       "      <td>4</td>\n",
       "      <td>how do people die from the coronavirus</td>\n",
       "    </tr>\n",
       "    <tr>\n",
       "      <th>4</th>\n",
       "      <td>5</td>\n",
       "      <td>animal models of covid 19</td>\n",
       "    </tr>\n",
       "    <tr>\n",
       "      <th>5</th>\n",
       "      <td>6</td>\n",
       "      <td>coronavirus test rapid testing</td>\n",
       "    </tr>\n",
       "    <tr>\n",
       "      <th>6</th>\n",
       "      <td>7</td>\n",
       "      <td>serological tests for coronavirus</td>\n",
       "    </tr>\n",
       "    <tr>\n",
       "      <th>7</th>\n",
       "      <td>8</td>\n",
       "      <td>coronavirus under reporting</td>\n",
       "    </tr>\n",
       "    <tr>\n",
       "      <th>8</th>\n",
       "      <td>9</td>\n",
       "      <td>coronavirus in canada</td>\n",
       "    </tr>\n",
       "    <tr>\n",
       "      <th>9</th>\n",
       "      <td>10</td>\n",
       "      <td>coronavirus social distancing impact</td>\n",
       "    </tr>\n",
       "  </tbody>\n",
       "</table>\n",
       "</div>"
      ],
      "text/plain": [
       "  qid                                    query\n",
       "0   1                       coronavirus origin\n",
       "1   2  coronavirus response to weather changes\n",
       "2   3                     coronavirus immunity\n",
       "3   4   how do people die from the coronavirus\n",
       "4   5                animal models of covid 19\n",
       "5   6           coronavirus test rapid testing\n",
       "6   7        serological tests for coronavirus\n",
       "7   8              coronavirus under reporting\n",
       "8   9                    coronavirus in canada\n",
       "9  10     coronavirus social distancing impact"
      ]
     },
     "execution_count": 20,
     "metadata": {},
     "output_type": "execute_result"
    }
   ],
   "source": [
    "queries = cord19.get_topics(variant='title')\n",
    "queries.head(10)"
   ]
  },
  {
   "cell_type": "markdown",
   "id": "i93myyCB7y8r",
   "metadata": {
    "id": "i93myyCB7y8r"
   },
   "source": [
    "And the first 10 relevance judgements (called qrels):"
   ]
  },
  {
   "cell_type": "code",
   "execution_count": 21,
   "id": "20696564-02f3-4a7c-a98f-8823e8ad9cf6",
   "metadata": {
    "id": "20696564-02f3-4a7c-a98f-8823e8ad9cf6"
   },
   "outputs": [
    {
     "data": {
      "text/html": [
       "<div>\n",
       "<style scoped>\n",
       "    .dataframe tbody tr th:only-of-type {\n",
       "        vertical-align: middle;\n",
       "    }\n",
       "\n",
       "    .dataframe tbody tr th {\n",
       "        vertical-align: top;\n",
       "    }\n",
       "\n",
       "    .dataframe thead th {\n",
       "        text-align: right;\n",
       "    }\n",
       "</style>\n",
       "<table border=\"1\" class=\"dataframe\">\n",
       "  <thead>\n",
       "    <tr style=\"text-align: right;\">\n",
       "      <th></th>\n",
       "      <th>qid</th>\n",
       "      <th>docno</th>\n",
       "      <th>label</th>\n",
       "      <th>iteration</th>\n",
       "    </tr>\n",
       "  </thead>\n",
       "  <tbody>\n",
       "    <tr>\n",
       "      <th>0</th>\n",
       "      <td>1</td>\n",
       "      <td>005b2j4b</td>\n",
       "      <td>2</td>\n",
       "      <td>4.5</td>\n",
       "    </tr>\n",
       "    <tr>\n",
       "      <th>1</th>\n",
       "      <td>1</td>\n",
       "      <td>00fmeepz</td>\n",
       "      <td>1</td>\n",
       "      <td>4</td>\n",
       "    </tr>\n",
       "    <tr>\n",
       "      <th>2</th>\n",
       "      <td>1</td>\n",
       "      <td>010vptx3</td>\n",
       "      <td>2</td>\n",
       "      <td>0.5</td>\n",
       "    </tr>\n",
       "    <tr>\n",
       "      <th>3</th>\n",
       "      <td>1</td>\n",
       "      <td>0194oljo</td>\n",
       "      <td>1</td>\n",
       "      <td>2.5</td>\n",
       "    </tr>\n",
       "    <tr>\n",
       "      <th>4</th>\n",
       "      <td>1</td>\n",
       "      <td>021q9884</td>\n",
       "      <td>1</td>\n",
       "      <td>4</td>\n",
       "    </tr>\n",
       "    <tr>\n",
       "      <th>5</th>\n",
       "      <td>1</td>\n",
       "      <td>02f0opkr</td>\n",
       "      <td>1</td>\n",
       "      <td>1</td>\n",
       "    </tr>\n",
       "    <tr>\n",
       "      <th>6</th>\n",
       "      <td>1</td>\n",
       "      <td>047xpt2c</td>\n",
       "      <td>0</td>\n",
       "      <td>3.5</td>\n",
       "    </tr>\n",
       "    <tr>\n",
       "      <th>7</th>\n",
       "      <td>1</td>\n",
       "      <td>04ftw7k9</td>\n",
       "      <td>0</td>\n",
       "      <td>1</td>\n",
       "    </tr>\n",
       "    <tr>\n",
       "      <th>8</th>\n",
       "      <td>1</td>\n",
       "      <td>05qglt1f</td>\n",
       "      <td>0</td>\n",
       "      <td>1</td>\n",
       "    </tr>\n",
       "    <tr>\n",
       "      <th>9</th>\n",
       "      <td>1</td>\n",
       "      <td>05vx82oo</td>\n",
       "      <td>0</td>\n",
       "      <td>3</td>\n",
       "    </tr>\n",
       "  </tbody>\n",
       "</table>\n",
       "</div>"
      ],
      "text/plain": [
       "  qid     docno  label iteration\n",
       "0   1  005b2j4b      2       4.5\n",
       "1   1  00fmeepz      1         4\n",
       "2   1  010vptx3      2       0.5\n",
       "3   1  0194oljo      1       2.5\n",
       "4   1  021q9884      1         4\n",
       "5   1  02f0opkr      1         1\n",
       "6   1  047xpt2c      0       3.5\n",
       "7   1  04ftw7k9      0         1\n",
       "8   1  05qglt1f      0         1\n",
       "9   1  05vx82oo      0         3"
      ]
     },
     "execution_count": 21,
     "metadata": {},
     "output_type": "execute_result"
    }
   ],
   "source": [
    "qrels = cord19.get_qrels()\n",
    "qrels.head(10)"
   ]
  },
  {
   "cell_type": "markdown",
   "id": "5oTfWKk1EO0V",
   "metadata": {
    "id": "5oTfWKk1EO0V"
   },
   "source": [
    "We can give a look at the distribution of the relevance scores in the data set. To do so we train the count of occurrences of each label, sort the values by label and plot these values in a bat plot (note the log-scale on the y-axis):"
   ]
  },
  {
   "cell_type": "code",
   "execution_count": 22,
   "id": "8X4lQsxLEN6Z",
   "metadata": {
    "id": "8X4lQsxLEN6Z"
   },
   "outputs": [
    {
     "data": {
      "text/plain": [
       "<Axes: xlabel='label'>"
      ]
     },
     "execution_count": 22,
     "metadata": {},
     "output_type": "execute_result"
    },
    {
     "data": {
      "image/png": "[encoded data removed]",
      "text/plain": [
       "<Figure size 640x480 with 1 Axes>"
      ]
     },
     "metadata": {},
     "output_type": "display_data"
    }
   ],
   "source": [
    "qrels['label'].value_counts().plot(kind='bar', log=True)"
   ]
  },
  {
   "cell_type": "markdown",
   "id": "qHEz0AoqBKCJ",
   "metadata": {
    "id": "qHEz0AoqBKCJ"
   },
   "source": [
    "Note that there are some relevance judgements taking the value of -1. In the original documentation of the data set (https://ir-datasets.com/cord19.html) only the values 0, 1, and 2 are accepted, so the -1 must be errors in the annotation, since they are only 2 we can drop the corresponding qrels.\n",
    "\n",
    "To drop the undesired we simply have to retain all the qrels with a label different from -1"
   ]
  },
  {
   "cell_type": "code",
   "execution_count": 23,
   "id": "fhukm7CnBDvt",
   "metadata": {
    "id": "fhukm7CnBDvt"
   },
   "outputs": [],
   "source": [
    "qrels = qrels[qrels['label'] != -1]"
   ]
  },
  {
   "cell_type": "markdown",
   "id": "p8jkGZrzJDBl",
   "metadata": {
    "id": "p8jkGZrzJDBl"
   },
   "source": [
    "The qrels contain information on the relevance labels for the query-document pairs. To do our evaluation we need to load also the queries we are going to use to test our retrieval system. For historical reasons, queries are called \"topics\" in this context.\n",
    "\n",
    "Let's collect the topics in the CORD-19 corpus:"
   ]
  },
  {
   "cell_type": "code",
   "execution_count": 24,
   "id": "NbzStci3JDPM",
   "metadata": {
    "id": "NbzStci3JDPM"
   },
   "outputs": [
    {
     "data": {
      "text/html": [
       "<div>\n",
       "<style scoped>\n",
       "    .dataframe tbody tr th:only-of-type {\n",
       "        vertical-align: middle;\n",
       "    }\n",
       "\n",
       "    .dataframe tbody tr th {\n",
       "        vertical-align: top;\n",
       "    }\n",
       "\n",
       "    .dataframe thead th {\n",
       "        text-align: right;\n",
       "    }\n",
       "</style>\n",
       "<table border=\"1\" class=\"dataframe\">\n",
       "  <thead>\n",
       "    <tr style=\"text-align: right;\">\n",
       "      <th></th>\n",
       "      <th>qid</th>\n",
       "      <th>query</th>\n",
       "    </tr>\n",
       "  </thead>\n",
       "  <tbody>\n",
       "    <tr>\n",
       "      <th>0</th>\n",
       "      <td>1</td>\n",
       "      <td>coronavirus origin</td>\n",
       "    </tr>\n",
       "    <tr>\n",
       "      <th>1</th>\n",
       "      <td>2</td>\n",
       "      <td>coronavirus response to weather changes</td>\n",
       "    </tr>\n",
       "    <tr>\n",
       "      <th>2</th>\n",
       "      <td>3</td>\n",
       "      <td>coronavirus immunity</td>\n",
       "    </tr>\n",
       "    <tr>\n",
       "      <th>3</th>\n",
       "      <td>4</td>\n",
       "      <td>how do people die from the coronavirus</td>\n",
       "    </tr>\n",
       "    <tr>\n",
       "      <th>4</th>\n",
       "      <td>5</td>\n",
       "      <td>animal models of covid 19</td>\n",
       "    </tr>\n",
       "    <tr>\n",
       "      <th>5</th>\n",
       "      <td>6</td>\n",
       "      <td>coronavirus test rapid testing</td>\n",
       "    </tr>\n",
       "    <tr>\n",
       "      <th>6</th>\n",
       "      <td>7</td>\n",
       "      <td>serological tests for coronavirus</td>\n",
       "    </tr>\n",
       "    <tr>\n",
       "      <th>7</th>\n",
       "      <td>8</td>\n",
       "      <td>coronavirus under reporting</td>\n",
       "    </tr>\n",
       "    <tr>\n",
       "      <th>8</th>\n",
       "      <td>9</td>\n",
       "      <td>coronavirus in canada</td>\n",
       "    </tr>\n",
       "    <tr>\n",
       "      <th>9</th>\n",
       "      <td>10</td>\n",
       "      <td>coronavirus social distancing impact</td>\n",
       "    </tr>\n",
       "    <tr>\n",
       "      <th>10</th>\n",
       "      <td>11</td>\n",
       "      <td>coronavirus hospital rationing</td>\n",
       "    </tr>\n",
       "    <tr>\n",
       "      <th>11</th>\n",
       "      <td>12</td>\n",
       "      <td>coronavirus quarantine</td>\n",
       "    </tr>\n",
       "    <tr>\n",
       "      <th>12</th>\n",
       "      <td>13</td>\n",
       "      <td>how does coronavirus spread</td>\n",
       "    </tr>\n",
       "    <tr>\n",
       "      <th>13</th>\n",
       "      <td>14</td>\n",
       "      <td>coronavirus super spreaders</td>\n",
       "    </tr>\n",
       "    <tr>\n",
       "      <th>14</th>\n",
       "      <td>15</td>\n",
       "      <td>coronavirus outside body</td>\n",
       "    </tr>\n",
       "    <tr>\n",
       "      <th>15</th>\n",
       "      <td>16</td>\n",
       "      <td>how long does coronavirus survive on surfaces</td>\n",
       "    </tr>\n",
       "    <tr>\n",
       "      <th>16</th>\n",
       "      <td>17</td>\n",
       "      <td>coronavirus clinical trials</td>\n",
       "    </tr>\n",
       "    <tr>\n",
       "      <th>17</th>\n",
       "      <td>18</td>\n",
       "      <td>masks prevent coronavirus</td>\n",
       "    </tr>\n",
       "    <tr>\n",
       "      <th>18</th>\n",
       "      <td>19</td>\n",
       "      <td>what alcohol sanitizer kills coronavirus</td>\n",
       "    </tr>\n",
       "    <tr>\n",
       "      <th>19</th>\n",
       "      <td>20</td>\n",
       "      <td>coronavirus and ace inhibitors</td>\n",
       "    </tr>\n",
       "    <tr>\n",
       "      <th>20</th>\n",
       "      <td>21</td>\n",
       "      <td>coronavirus mortality</td>\n",
       "    </tr>\n",
       "    <tr>\n",
       "      <th>21</th>\n",
       "      <td>22</td>\n",
       "      <td>coronavirus heart impacts</td>\n",
       "    </tr>\n",
       "    <tr>\n",
       "      <th>22</th>\n",
       "      <td>23</td>\n",
       "      <td>coronavirus hypertension</td>\n",
       "    </tr>\n",
       "    <tr>\n",
       "      <th>23</th>\n",
       "      <td>24</td>\n",
       "      <td>coronavirus diabetes</td>\n",
       "    </tr>\n",
       "    <tr>\n",
       "      <th>24</th>\n",
       "      <td>25</td>\n",
       "      <td>coronavirus biomarkers</td>\n",
       "    </tr>\n",
       "    <tr>\n",
       "      <th>25</th>\n",
       "      <td>26</td>\n",
       "      <td>coronavirus early symptoms</td>\n",
       "    </tr>\n",
       "    <tr>\n",
       "      <th>26</th>\n",
       "      <td>27</td>\n",
       "      <td>coronavirus asymptomatic</td>\n",
       "    </tr>\n",
       "    <tr>\n",
       "      <th>27</th>\n",
       "      <td>28</td>\n",
       "      <td>coronavirus hydroxychloroquine</td>\n",
       "    </tr>\n",
       "    <tr>\n",
       "      <th>28</th>\n",
       "      <td>29</td>\n",
       "      <td>coronavirus drug repurposing</td>\n",
       "    </tr>\n",
       "    <tr>\n",
       "      <th>29</th>\n",
       "      <td>30</td>\n",
       "      <td>coronavirus remdesivir</td>\n",
       "    </tr>\n",
       "    <tr>\n",
       "      <th>30</th>\n",
       "      <td>31</td>\n",
       "      <td>difference between coronavirus and flu</td>\n",
       "    </tr>\n",
       "    <tr>\n",
       "      <th>31</th>\n",
       "      <td>32</td>\n",
       "      <td>coronavirus subtypes</td>\n",
       "    </tr>\n",
       "    <tr>\n",
       "      <th>32</th>\n",
       "      <td>33</td>\n",
       "      <td>coronavirus vaccine candidates</td>\n",
       "    </tr>\n",
       "    <tr>\n",
       "      <th>33</th>\n",
       "      <td>34</td>\n",
       "      <td>coronavirus recovery</td>\n",
       "    </tr>\n",
       "    <tr>\n",
       "      <th>34</th>\n",
       "      <td>35</td>\n",
       "      <td>coronavirus public datasets</td>\n",
       "    </tr>\n",
       "    <tr>\n",
       "      <th>35</th>\n",
       "      <td>36</td>\n",
       "      <td>sars cov 2 spike structure</td>\n",
       "    </tr>\n",
       "    <tr>\n",
       "      <th>36</th>\n",
       "      <td>37</td>\n",
       "      <td>sars cov 2 phylogenetic analysis</td>\n",
       "    </tr>\n",
       "    <tr>\n",
       "      <th>37</th>\n",
       "      <td>38</td>\n",
       "      <td>covid inflammatory response</td>\n",
       "    </tr>\n",
       "    <tr>\n",
       "      <th>38</th>\n",
       "      <td>39</td>\n",
       "      <td>covid 19 cytokine storm</td>\n",
       "    </tr>\n",
       "    <tr>\n",
       "      <th>39</th>\n",
       "      <td>40</td>\n",
       "      <td>coronavirus mutations</td>\n",
       "    </tr>\n",
       "    <tr>\n",
       "      <th>40</th>\n",
       "      <td>41</td>\n",
       "      <td>covid 19 in african americans</td>\n",
       "    </tr>\n",
       "    <tr>\n",
       "      <th>41</th>\n",
       "      <td>42</td>\n",
       "      <td>vitamin d and covid 19</td>\n",
       "    </tr>\n",
       "    <tr>\n",
       "      <th>42</th>\n",
       "      <td>43</td>\n",
       "      <td>violence during pandemic</td>\n",
       "    </tr>\n",
       "    <tr>\n",
       "      <th>43</th>\n",
       "      <td>44</td>\n",
       "      <td>impact of masks on coronavirus transmission</td>\n",
       "    </tr>\n",
       "    <tr>\n",
       "      <th>44</th>\n",
       "      <td>45</td>\n",
       "      <td>coronavirus mental health impact</td>\n",
       "    </tr>\n",
       "    <tr>\n",
       "      <th>45</th>\n",
       "      <td>46</td>\n",
       "      <td>dexamethasone coronavirus</td>\n",
       "    </tr>\n",
       "    <tr>\n",
       "      <th>46</th>\n",
       "      <td>47</td>\n",
       "      <td>covid 19 outcomes in children</td>\n",
       "    </tr>\n",
       "    <tr>\n",
       "      <th>47</th>\n",
       "      <td>48</td>\n",
       "      <td>school reopening coronavirus</td>\n",
       "    </tr>\n",
       "    <tr>\n",
       "      <th>48</th>\n",
       "      <td>49</td>\n",
       "      <td>post infection covid 19 immunity</td>\n",
       "    </tr>\n",
       "    <tr>\n",
       "      <th>49</th>\n",
       "      <td>50</td>\n",
       "      <td>mrna vaccine coronavirus</td>\n",
       "    </tr>\n",
       "  </tbody>\n",
       "</table>\n",
       "</div>"
      ],
      "text/plain": [
       "   qid                                          query\n",
       "0    1                             coronavirus origin\n",
       "1    2        coronavirus response to weather changes\n",
       "2    3                           coronavirus immunity\n",
       "3    4         how do people die from the coronavirus\n",
       "4    5                      animal models of covid 19\n",
       "5    6                 coronavirus test rapid testing\n",
       "6    7              serological tests for coronavirus\n",
       "7    8                    coronavirus under reporting\n",
       "8    9                          coronavirus in canada\n",
       "9   10           coronavirus social distancing impact\n",
       "10  11                 coronavirus hospital rationing\n",
       "11  12                         coronavirus quarantine\n",
       "12  13                    how does coronavirus spread\n",
       "13  14                    coronavirus super spreaders\n",
       "14  15                       coronavirus outside body\n",
       "15  16  how long does coronavirus survive on surfaces\n",
       "16  17                    coronavirus clinical trials\n",
       "17  18                      masks prevent coronavirus\n",
       "18  19       what alcohol sanitizer kills coronavirus\n",
       "19  20                 coronavirus and ace inhibitors\n",
       "20  21                          coronavirus mortality\n",
       "21  22                      coronavirus heart impacts\n",
       "22  23                       coronavirus hypertension\n",
       "23  24                           coronavirus diabetes\n",
       "24  25                         coronavirus biomarkers\n",
       "25  26                     coronavirus early symptoms\n",
       "26  27                       coronavirus asymptomatic\n",
       "27  28                 coronavirus hydroxychloroquine\n",
       "28  29                   coronavirus drug repurposing\n",
       "29  30                         coronavirus remdesivir\n",
       "30  31         difference between coronavirus and flu\n",
       "31  32                           coronavirus subtypes\n",
       "32  33                 coronavirus vaccine candidates\n",
       "33  34                           coronavirus recovery\n",
       "34  35                    coronavirus public datasets\n",
       "35  36                     sars cov 2 spike structure\n",
       "36  37               sars cov 2 phylogenetic analysis\n",
       "37  38                    covid inflammatory response\n",
       "38  39                        covid 19 cytokine storm\n",
       "39  40                          coronavirus mutations\n",
       "40  41                  covid 19 in african americans\n",
       "41  42                         vitamin d and covid 19\n",
       "42  43                       violence during pandemic\n",
       "43  44    impact of masks on coronavirus transmission\n",
       "44  45               coronavirus mental health impact\n",
       "45  46                      dexamethasone coronavirus\n",
       "46  47                  covid 19 outcomes in children\n",
       "47  48                   school reopening coronavirus\n",
       "48  49               post infection covid 19 immunity\n",
       "49  50                       mrna vaccine coronavirus"
      ]
     },
     "execution_count": 24,
     "metadata": {},
     "output_type": "execute_result"
    }
   ],
   "source": [
    "topics = cord19.get_topics(variant='title')\n",
    "topics"
   ]
  },
  {
   "cell_type": "markdown",
   "id": "a5W37VWD_r5K",
   "metadata": {
    "id": "a5W37VWD_r5K"
   },
   "source": [
    "Now let us use these queries and relevance judgements to compare different retrieval functions to see how well they perform at ranking documents in the collection. We compare BM25 and TF-IDF in terms of two common ranking evaluation measures (MAP and NDCG), where higher values indicate a better ranking:  "
   ]
  },
  {
   "cell_type": "code",
   "execution_count": 25,
   "id": "4ca22e3f-664e-44f8-93f1-f5012067b1c6",
   "metadata": {
    "id": "4ca22e3f-664e-44f8-93f1-f5012067b1c6"
   },
   "outputs": [
    {
     "data": {
      "text/html": [
       "<div>\n",
       "<style scoped>\n",
       "    .dataframe tbody tr th:only-of-type {\n",
       "        vertical-align: middle;\n",
       "    }\n",
       "\n",
       "    .dataframe tbody tr th {\n",
       "        vertical-align: top;\n",
       "    }\n",
       "\n",
       "    .dataframe thead th {\n",
       "        text-align: right;\n",
       "    }\n",
       "</style>\n",
       "<table border=\"1\" class=\"dataframe\">\n",
       "  <thead>\n",
       "    <tr style=\"text-align: right;\">\n",
       "      <th></th>\n",
       "      <th>name</th>\n",
       "      <th>map</th>\n",
       "      <th>ndcg</th>\n",
       "    </tr>\n",
       "  </thead>\n",
       "  <tbody>\n",
       "    <tr>\n",
       "      <th>0</th>\n",
       "      <td>TerrierRetr(TF_IDF)</td>\n",
       "      <td>0.180002</td>\n",
       "      <td>0.370767</td>\n",
       "    </tr>\n",
       "    <tr>\n",
       "      <th>1</th>\n",
       "      <td>TerrierRetr(BM25)</td>\n",
       "      <td>0.181478</td>\n",
       "      <td>0.373328</td>\n",
       "    </tr>\n",
       "  </tbody>\n",
       "</table>\n",
       "</div>"
      ],
      "text/plain": [
       "                  name       map      ndcg\n",
       "0  TerrierRetr(TF_IDF)  0.180002  0.370767\n",
       "1    TerrierRetr(BM25)  0.181478  0.373328"
      ]
     },
     "execution_count": 25,
     "metadata": {},
     "output_type": "execute_result"
    }
   ],
   "source": [
    "pt.Experiment(\n",
    "    [tfidf, bm25],\n",
    "    topics,\n",
    "    qrels,\n",
    "    eval_metrics=[\"map\", \"ndcg\"]\n",
    ")"
   ]
  },
  {
   "cell_type": "markdown",
   "id": "zcHQ_67tMpJj",
   "metadata": {
    "id": "zcHQ_67tMpJj"
   },
   "source": [
    "More on map and NDCG: https://www.shaped.ai/blog/evaluating-recommendation-systems-map-mmr-ndcg"
   ]
  },
  {
   "cell_type": "markdown",
   "id": "56a0e072-f4de-4d5e-8833-2ff9853e538e",
   "metadata": {
    "id": "56a0e072-f4de-4d5e-8833-2ff9853e538e"
   },
   "source": [
    "How were those scores calculated? We can have a look at the score and corresponding relevance labels for individual query document pairs as follows:"
   ]
  },
  {
   "cell_type": "code",
   "execution_count": 26,
   "id": "UixfKFkGBalK",
   "metadata": {
    "id": "UixfKFkGBalK"
   },
   "outputs": [
    {
     "data": {
      "text/html": [
       "<div>\n",
       "<style scoped>\n",
       "    .dataframe tbody tr th:only-of-type {\n",
       "        vertical-align: middle;\n",
       "    }\n",
       "\n",
       "    .dataframe tbody tr th {\n",
       "        vertical-align: top;\n",
       "    }\n",
       "\n",
       "    .dataframe thead th {\n",
       "        text-align: right;\n",
       "    }\n",
       "</style>\n",
       "<table border=\"1\" class=\"dataframe\">\n",
       "  <thead>\n",
       "    <tr style=\"text-align: right;\">\n",
       "      <th></th>\n",
       "      <th>qid</th>\n",
       "      <th>docid</th>\n",
       "      <th>docno</th>\n",
       "      <th>rank</th>\n",
       "      <th>score</th>\n",
       "      <th>query</th>\n",
       "      <th>label</th>\n",
       "      <th>iteration</th>\n",
       "    </tr>\n",
       "  </thead>\n",
       "  <tbody>\n",
       "    <tr>\n",
       "      <th>0</th>\n",
       "      <td>1</td>\n",
       "      <td>175892</td>\n",
       "      <td>zy8qjaai</td>\n",
       "      <td>0</td>\n",
       "      <td>7.080599</td>\n",
       "      <td>coronavirus origin</td>\n",
       "      <td>1.0</td>\n",
       "      <td>1</td>\n",
       "    </tr>\n",
       "    <tr>\n",
       "      <th>1</th>\n",
       "      <td>1</td>\n",
       "      <td>82224</td>\n",
       "      <td>8ccl9aui</td>\n",
       "      <td>1</td>\n",
       "      <td>6.775667</td>\n",
       "      <td>coronavirus origin</td>\n",
       "      <td>2.0</td>\n",
       "      <td>1</td>\n",
       "    </tr>\n",
       "    <tr>\n",
       "      <th>2</th>\n",
       "      <td>1</td>\n",
       "      <td>135326</td>\n",
       "      <td>ne5r4d4b</td>\n",
       "      <td>2</td>\n",
       "      <td>6.683114</td>\n",
       "      <td>coronavirus origin</td>\n",
       "      <td>0.0</td>\n",
       "      <td>1.5</td>\n",
       "    </tr>\n",
       "    <tr>\n",
       "      <th>3</th>\n",
       "      <td>1</td>\n",
       "      <td>122804</td>\n",
       "      <td>75773gwg</td>\n",
       "      <td>3</td>\n",
       "      <td>6.590340</td>\n",
       "      <td>coronavirus origin</td>\n",
       "      <td>2.0</td>\n",
       "      <td>5</td>\n",
       "    </tr>\n",
       "    <tr>\n",
       "      <th>4</th>\n",
       "      <td>1</td>\n",
       "      <td>122805</td>\n",
       "      <td>kn2z7lho</td>\n",
       "      <td>4</td>\n",
       "      <td>6.590340</td>\n",
       "      <td>coronavirus origin</td>\n",
       "      <td>2.0</td>\n",
       "      <td>3</td>\n",
       "    </tr>\n",
       "    <tr>\n",
       "      <th>...</th>\n",
       "      <td>...</td>\n",
       "      <td>...</td>\n",
       "      <td>...</td>\n",
       "      <td>...</td>\n",
       "      <td>...</td>\n",
       "      <td>...</td>\n",
       "      <td>...</td>\n",
       "      <td>...</td>\n",
       "    </tr>\n",
       "    <tr>\n",
       "      <th>49995</th>\n",
       "      <td>50</td>\n",
       "      <td>133596</td>\n",
       "      <td>hf4hxf9u</td>\n",
       "      <td>995</td>\n",
       "      <td>5.271597</td>\n",
       "      <td>mrna vaccine coronavirus</td>\n",
       "      <td>0.0</td>\n",
       "      <td>0</td>\n",
       "    </tr>\n",
       "    <tr>\n",
       "      <th>49996</th>\n",
       "      <td>50</td>\n",
       "      <td>158429</td>\n",
       "      <td>0xf48prl</td>\n",
       "      <td>996</td>\n",
       "      <td>5.271451</td>\n",
       "      <td>mrna vaccine coronavirus</td>\n",
       "      <td>0.0</td>\n",
       "      <td>0</td>\n",
       "    </tr>\n",
       "    <tr>\n",
       "      <th>49997</th>\n",
       "      <td>50</td>\n",
       "      <td>277</td>\n",
       "      <td>3gwm1c2f</td>\n",
       "      <td>997</td>\n",
       "      <td>5.270141</td>\n",
       "      <td>mrna vaccine coronavirus</td>\n",
       "      <td>0.0</td>\n",
       "      <td>0</td>\n",
       "    </tr>\n",
       "    <tr>\n",
       "      <th>49998</th>\n",
       "      <td>50</td>\n",
       "      <td>10212</td>\n",
       "      <td>o7fv8ww0</td>\n",
       "      <td>998</td>\n",
       "      <td>5.270141</td>\n",
       "      <td>mrna vaccine coronavirus</td>\n",
       "      <td>0.0</td>\n",
       "      <td>0</td>\n",
       "    </tr>\n",
       "    <tr>\n",
       "      <th>49999</th>\n",
       "      <td>50</td>\n",
       "      <td>79362</td>\n",
       "      <td>8fkgnwm6</td>\n",
       "      <td>999</td>\n",
       "      <td>5.270141</td>\n",
       "      <td>mrna vaccine coronavirus</td>\n",
       "      <td>0.0</td>\n",
       "      <td>0</td>\n",
       "    </tr>\n",
       "  </tbody>\n",
       "</table>\n",
       "<p>50000 rows × 8 columns</p>\n",
       "</div>"
      ],
      "text/plain": [
       "      qid   docid     docno  rank     score                     query  label  \\\n",
       "0       1  175892  zy8qjaai     0  7.080599        coronavirus origin    1.0   \n",
       "1       1   82224  8ccl9aui     1  6.775667        coronavirus origin    2.0   \n",
       "2       1  135326  ne5r4d4b     2  6.683114        coronavirus origin    0.0   \n",
       "3       1  122804  75773gwg     3  6.590340        coronavirus origin    2.0   \n",
       "4       1  122805  kn2z7lho     4  6.590340        coronavirus origin    2.0   \n",
       "...    ..     ...       ...   ...       ...                       ...    ...   \n",
       "49995  50  133596  hf4hxf9u   995  5.271597  mrna vaccine coronavirus    0.0   \n",
       "49996  50  158429  0xf48prl   996  5.271451  mrna vaccine coronavirus    0.0   \n",
       "49997  50     277  3gwm1c2f   997  5.270141  mrna vaccine coronavirus    0.0   \n",
       "49998  50   10212  o7fv8ww0   998  5.270141  mrna vaccine coronavirus    0.0   \n",
       "49999  50   79362  8fkgnwm6   999  5.270141  mrna vaccine coronavirus    0.0   \n",
       "\n",
       "      iteration  \n",
       "0             1  \n",
       "1             1  \n",
       "2           1.5  \n",
       "3             5  \n",
       "4             3  \n",
       "...         ...  \n",
       "49995         0  \n",
       "49996         0  \n",
       "49997         0  \n",
       "49998         0  \n",
       "49999         0  \n",
       "\n",
       "[50000 rows x 8 columns]"
      ]
     },
     "execution_count": 26,
     "metadata": {},
     "output_type": "execute_result"
    }
   ],
   "source": [
    "# Rank the documents for each query using the TF-IDF scoring function:\n",
    "results = tfidf(cord19.get_topics(variant='title'))\n",
    "# Add the relevance labels (qrels) to the table:\n",
    "results = results.merge(qrels, on=[\"qid\", \"docno\"], how=\"left\").fillna(0)\n",
    "# Display the output\n",
    "results"
   ]
  },
  {
   "cell_type": "markdown",
   "id": "807b6596",
   "metadata": {
    "id": "807b6596"
   },
   "source": [
    "## Pipelines\n",
    "\n",
    "For this part of the notebook, we'll be using the same CORD19.\n",
    "Differently from before, we are gonna add some columns to our data."
   ]
  },
  {
   "cell_type": "code",
   "execution_count": 27,
   "id": "cea788e4",
   "metadata": {
    "id": "cea788e4"
   },
   "outputs": [
    {
     "name": "stderr",
     "output_type": "stream",
     "text": [
      "cord19/trec-covid documents:   0%|          | 0/192509 [00:00<?, ?it/s]"
     ]
    },
    {
     "name": "stdout",
     "output_type": "stream",
     "text": [
      "14:58:05.874 [ForkJoinPool-2-worker-1] WARN org.terrier.structures.indexing.Indexer -- Adding an empty document to the index (6iu1dtyl) - further warnings are suppressed\n"
     ]
    },
    {
     "name": "stderr",
     "output_type": "stream",
     "text": [
      "/home/adrien/Documents/PoliMi/TP/Natural Language Processing/.venv/lib/python3.11/site-packages/pyterrier/terrier/index.py:619: UserWarning: Indexing meta key abstract length requested 512 but exceeded in first document (actual length 1847). Increase the length in the meta dict for the indexer, e.g., pt.IterDictIndexer(..., meta={'abstract': 1847}).\n",
      "  warn(msg)\n",
      "cord19/trec-covid documents: 100%|██████████| 192509/192509 [00:38<00:00, 5022.86it/s]\n"
     ]
    },
    {
     "name": "stdout",
     "output_type": "stream",
     "text": [
      "14:58:47.988 [ForkJoinPool-2-worker-1] WARN org.terrier.structures.indexing.Indexer -- Indexed 54937 empty documents\n"
     ]
    }
   ],
   "source": [
    "index_ref = indexer.index(cord19.get_corpus_iter(), fields=('abstract',), meta=('docno', 'abstract', 'title')) ## OLD\n",
    "index = pt.IndexFactory.of(index_ref)"
   ]
  },
  {
   "cell_type": "markdown",
   "id": "de289158",
   "metadata": {
    "id": "de289158"
   },
   "source": [
    "Note: besides the docno, I am specify to output also the text of the abstract and the title of the document in the metadata field. This will be helpful later."
   ]
  },
  {
   "cell_type": "markdown",
   "id": "f8aca53a-7400-4e16-9376-3021aa2fa6f4",
   "metadata": {
    "id": "f8aca53a-7400-4e16-9376-3021aa2fa6f4"
   },
   "source": [
    "#### Operators\n",
    "\n",
    "`BatchRetrieve` objects can be combined using some special operators. These combinations are called pipelines.\n",
    "\n",
    "Hereafter we are going to see three operators:\n",
    "- Composition\n",
    "- Rank cut-off\n",
    "- Union\n",
    "\n",
    "Before moving to the actual operators we define three retrievers using the index we have just created. We are going to define retrievers using\n",
    "- TF\n",
    "- TF-IDF\n",
    "- BM25"
   ]
  },
  {
   "cell_type": "code",
   "execution_count": 28,
   "id": "ksj0ZbhfM0dN",
   "metadata": {
    "id": "ksj0ZbhfM0dN"
   },
   "outputs": [
    {
     "name": "stderr",
     "output_type": "stream",
     "text": [
      "/tmp/ipykernel_99071/465268656.py:1: DeprecationWarning: Call to deprecated class BatchRetrieve. (use pt.terrier.Retriever() instead) -- Deprecated since version 0.11.0.\n",
      "  tf = pt.BatchRetrieve(index, wmodel=\"Tf\")\n",
      "/tmp/ipykernel_99071/465268656.py:2: DeprecationWarning: Call to deprecated class BatchRetrieve. (use pt.terrier.Retriever() instead) -- Deprecated since version 0.11.0.\n",
      "  tf_idf = pt.BatchRetrieve(index, wmodel=\"TF_IDF\")\n",
      "/tmp/ipykernel_99071/465268656.py:3: DeprecationWarning: Call to deprecated class BatchRetrieve. (use pt.terrier.Retriever() instead) -- Deprecated since version 0.11.0.\n",
      "  bm25 = pt.BatchRetrieve(index, wmodel=\"BM25\")\n"
     ]
    }
   ],
   "source": [
    "tf = pt.BatchRetrieve(index, wmodel=\"Tf\")\n",
    "tf_idf = pt.BatchRetrieve(index, wmodel=\"TF_IDF\")\n",
    "bm25 = pt.BatchRetrieve(index, wmodel=\"BM25\")"
   ]
  },
  {
   "cell_type": "markdown",
   "id": "GM-0tm5IKope",
   "metadata": {
    "id": "GM-0tm5IKope"
   },
   "source": [
    "##### Composition\n",
    "\n",
    "The first operator we are going to see is the composition. This operator allow to re-rank the output of one retriever using a second retriever.\n",
    "\n",
    "To use it, we simply need to compose two retrievers using the  `>>` operator.\n",
    "\n",
    "Given the first query in the topics we loaded before"
   ]
  },
  {
   "cell_type": "code",
   "execution_count": 29,
   "id": "SWyPXyNnMjvN",
   "metadata": {
    "id": "SWyPXyNnMjvN"
   },
   "outputs": [],
   "source": [
    "query = 'chemical'"
   ]
  },
  {
   "cell_type": "markdown",
   "id": "Cco7fHUjRzD_",
   "metadata": {
    "id": "Cco7fHUjRzD_"
   },
   "source": [
    "Let's see first what TF alone would retrieve"
   ]
  },
  {
   "cell_type": "code",
   "execution_count": 30,
   "id": "idCuPT4LR7ZR",
   "metadata": {
    "id": "idCuPT4LR7ZR"
   },
   "outputs": [
    {
     "data": {
      "text/html": [
       "<div>\n",
       "<style scoped>\n",
       "    .dataframe tbody tr th:only-of-type {\n",
       "        vertical-align: middle;\n",
       "    }\n",
       "\n",
       "    .dataframe tbody tr th {\n",
       "        vertical-align: top;\n",
       "    }\n",
       "\n",
       "    .dataframe thead th {\n",
       "        text-align: right;\n",
       "    }\n",
       "</style>\n",
       "<table border=\"1\" class=\"dataframe\">\n",
       "  <thead>\n",
       "    <tr style=\"text-align: right;\">\n",
       "      <th></th>\n",
       "      <th>qid</th>\n",
       "      <th>docid</th>\n",
       "      <th>docno</th>\n",
       "      <th>rank</th>\n",
       "      <th>score</th>\n",
       "      <th>query</th>\n",
       "    </tr>\n",
       "  </thead>\n",
       "  <tbody>\n",
       "    <tr>\n",
       "      <th>0</th>\n",
       "      <td>1</td>\n",
       "      <td>37771</td>\n",
       "      <td>jn5qi1jb</td>\n",
       "      <td>0</td>\n",
       "      <td>9.0</td>\n",
       "      <td>chemical</td>\n",
       "    </tr>\n",
       "    <tr>\n",
       "      <th>1</th>\n",
       "      <td>1</td>\n",
       "      <td>134305</td>\n",
       "      <td>0smev8vt</td>\n",
       "      <td>1</td>\n",
       "      <td>8.0</td>\n",
       "      <td>chemical</td>\n",
       "    </tr>\n",
       "    <tr>\n",
       "      <th>2</th>\n",
       "      <td>1</td>\n",
       "      <td>2524</td>\n",
       "      <td>ifebw24e</td>\n",
       "      <td>2</td>\n",
       "      <td>7.0</td>\n",
       "      <td>chemical</td>\n",
       "    </tr>\n",
       "    <tr>\n",
       "      <th>3</th>\n",
       "      <td>1</td>\n",
       "      <td>142053</td>\n",
       "      <td>km3bvc8h</td>\n",
       "      <td>3</td>\n",
       "      <td>7.0</td>\n",
       "      <td>chemical</td>\n",
       "    </tr>\n",
       "    <tr>\n",
       "      <th>4</th>\n",
       "      <td>1</td>\n",
       "      <td>142104</td>\n",
       "      <td>77c9ohxj</td>\n",
       "      <td>4</td>\n",
       "      <td>7.0</td>\n",
       "      <td>chemical</td>\n",
       "    </tr>\n",
       "    <tr>\n",
       "      <th>...</th>\n",
       "      <td>...</td>\n",
       "      <td>...</td>\n",
       "      <td>...</td>\n",
       "      <td>...</td>\n",
       "      <td>...</td>\n",
       "      <td>...</td>\n",
       "    </tr>\n",
       "    <tr>\n",
       "      <th>995</th>\n",
       "      <td>1</td>\n",
       "      <td>62533</td>\n",
       "      <td>5kroa3lw</td>\n",
       "      <td>995</td>\n",
       "      <td>1.0</td>\n",
       "      <td>chemical</td>\n",
       "    </tr>\n",
       "    <tr>\n",
       "      <th>996</th>\n",
       "      <td>1</td>\n",
       "      <td>62548</td>\n",
       "      <td>cw4gxbn5</td>\n",
       "      <td>996</td>\n",
       "      <td>1.0</td>\n",
       "      <td>chemical</td>\n",
       "    </tr>\n",
       "    <tr>\n",
       "      <th>997</th>\n",
       "      <td>1</td>\n",
       "      <td>62658</td>\n",
       "      <td>bhf3w4qp</td>\n",
       "      <td>997</td>\n",
       "      <td>1.0</td>\n",
       "      <td>chemical</td>\n",
       "    </tr>\n",
       "    <tr>\n",
       "      <th>998</th>\n",
       "      <td>1</td>\n",
       "      <td>62708</td>\n",
       "      <td>6kakhjmy</td>\n",
       "      <td>998</td>\n",
       "      <td>1.0</td>\n",
       "      <td>chemical</td>\n",
       "    </tr>\n",
       "    <tr>\n",
       "      <th>999</th>\n",
       "      <td>1</td>\n",
       "      <td>63257</td>\n",
       "      <td>pwm65lcs</td>\n",
       "      <td>999</td>\n",
       "      <td>1.0</td>\n",
       "      <td>chemical</td>\n",
       "    </tr>\n",
       "  </tbody>\n",
       "</table>\n",
       "<p>1000 rows × 6 columns</p>\n",
       "</div>"
      ],
      "text/plain": [
       "    qid   docid     docno  rank  score     query\n",
       "0     1   37771  jn5qi1jb     0    9.0  chemical\n",
       "1     1  134305  0smev8vt     1    8.0  chemical\n",
       "2     1    2524  ifebw24e     2    7.0  chemical\n",
       "3     1  142053  km3bvc8h     3    7.0  chemical\n",
       "4     1  142104  77c9ohxj     4    7.0  chemical\n",
       "..   ..     ...       ...   ...    ...       ...\n",
       "995   1   62533  5kroa3lw   995    1.0  chemical\n",
       "996   1   62548  cw4gxbn5   996    1.0  chemical\n",
       "997   1   62658  bhf3w4qp   997    1.0  chemical\n",
       "998   1   62708  6kakhjmy   998    1.0  chemical\n",
       "999   1   63257  pwm65lcs   999    1.0  chemical\n",
       "\n",
       "[1000 rows x 6 columns]"
      ]
     },
     "execution_count": 30,
     "metadata": {},
     "output_type": "execute_result"
    }
   ],
   "source": [
    "tf.search(query)"
   ]
  },
  {
   "cell_type": "markdown",
   "id": "zrCD4nAUSFei",
   "metadata": {
    "id": "zrCD4nAUSFei"
   },
   "source": [
    "Now let's compose the TF with the BM25, in this way we will re-rank the TF results using BM25.\n",
    "\n",
    "First we create a composition an then run the search using the composition pipeline."
   ]
  },
  {
   "cell_type": "code",
   "execution_count": 31,
   "id": "c0J7XcB2SZ0c",
   "metadata": {
    "id": "c0J7XcB2SZ0c"
   },
   "outputs": [
    {
     "data": {
      "text/html": [
       "<div>\n",
       "<style scoped>\n",
       "    .dataframe tbody tr th:only-of-type {\n",
       "        vertical-align: middle;\n",
       "    }\n",
       "\n",
       "    .dataframe tbody tr th {\n",
       "        vertical-align: top;\n",
       "    }\n",
       "\n",
       "    .dataframe thead th {\n",
       "        text-align: right;\n",
       "    }\n",
       "</style>\n",
       "<table border=\"1\" class=\"dataframe\">\n",
       "  <thead>\n",
       "    <tr style=\"text-align: right;\">\n",
       "      <th></th>\n",
       "      <th>qid</th>\n",
       "      <th>docid</th>\n",
       "      <th>docno</th>\n",
       "      <th>rank</th>\n",
       "      <th>score</th>\n",
       "      <th>query</th>\n",
       "    </tr>\n",
       "  </thead>\n",
       "  <tbody>\n",
       "    <tr>\n",
       "      <th>0</th>\n",
       "      <td>1</td>\n",
       "      <td>37771</td>\n",
       "      <td>jn5qi1jb</td>\n",
       "      <td>0</td>\n",
       "      <td>12.426309</td>\n",
       "      <td>chemical</td>\n",
       "    </tr>\n",
       "    <tr>\n",
       "      <th>1</th>\n",
       "      <td>1</td>\n",
       "      <td>15671</td>\n",
       "      <td>8hykq71k</td>\n",
       "      <td>1</td>\n",
       "      <td>12.413269</td>\n",
       "      <td>chemical</td>\n",
       "    </tr>\n",
       "    <tr>\n",
       "      <th>2</th>\n",
       "      <td>1</td>\n",
       "      <td>134305</td>\n",
       "      <td>0smev8vt</td>\n",
       "      <td>2</td>\n",
       "      <td>12.292890</td>\n",
       "      <td>chemical</td>\n",
       "    </tr>\n",
       "    <tr>\n",
       "      <th>3</th>\n",
       "      <td>1</td>\n",
       "      <td>142104</td>\n",
       "      <td>77c9ohxj</td>\n",
       "      <td>3</td>\n",
       "      <td>12.226076</td>\n",
       "      <td>chemical</td>\n",
       "    </tr>\n",
       "    <tr>\n",
       "      <th>4</th>\n",
       "      <td>1</td>\n",
       "      <td>87642</td>\n",
       "      <td>ck6clsty</td>\n",
       "      <td>4</td>\n",
       "      <td>12.155804</td>\n",
       "      <td>chemical</td>\n",
       "    </tr>\n",
       "    <tr>\n",
       "      <th>...</th>\n",
       "      <td>...</td>\n",
       "      <td>...</td>\n",
       "      <td>...</td>\n",
       "      <td>...</td>\n",
       "      <td>...</td>\n",
       "      <td>...</td>\n",
       "    </tr>\n",
       "    <tr>\n",
       "      <th>995</th>\n",
       "      <td>1</td>\n",
       "      <td>7551</td>\n",
       "      <td>itfnu5dz</td>\n",
       "      <td>995</td>\n",
       "      <td>3.261031</td>\n",
       "      <td>chemical</td>\n",
       "    </tr>\n",
       "    <tr>\n",
       "      <th>996</th>\n",
       "      <td>1</td>\n",
       "      <td>14973</td>\n",
       "      <td>ie7mc8ti</td>\n",
       "      <td>996</td>\n",
       "      <td>3.058071</td>\n",
       "      <td>chemical</td>\n",
       "    </tr>\n",
       "    <tr>\n",
       "      <th>997</th>\n",
       "      <td>1</td>\n",
       "      <td>31086</td>\n",
       "      <td>e170ymw3</td>\n",
       "      <td>997</td>\n",
       "      <td>2.563479</td>\n",
       "      <td>chemical</td>\n",
       "    </tr>\n",
       "    <tr>\n",
       "      <th>998</th>\n",
       "      <td>1</td>\n",
       "      <td>88200</td>\n",
       "      <td>t473tbm9</td>\n",
       "      <td>998</td>\n",
       "      <td>2.531990</td>\n",
       "      <td>chemical</td>\n",
       "    </tr>\n",
       "    <tr>\n",
       "      <th>999</th>\n",
       "      <td>1</td>\n",
       "      <td>19256</td>\n",
       "      <td>9kdw5cll</td>\n",
       "      <td>999</td>\n",
       "      <td>2.324930</td>\n",
       "      <td>chemical</td>\n",
       "    </tr>\n",
       "  </tbody>\n",
       "</table>\n",
       "<p>1000 rows × 6 columns</p>\n",
       "</div>"
      ],
      "text/plain": [
       "    qid   docid     docno  rank      score     query\n",
       "0     1   37771  jn5qi1jb     0  12.426309  chemical\n",
       "1     1   15671  8hykq71k     1  12.413269  chemical\n",
       "2     1  134305  0smev8vt     2  12.292890  chemical\n",
       "3     1  142104  77c9ohxj     3  12.226076  chemical\n",
       "4     1   87642  ck6clsty     4  12.155804  chemical\n",
       "..   ..     ...       ...   ...        ...       ...\n",
       "995   1    7551  itfnu5dz   995   3.261031  chemical\n",
       "996   1   14973  ie7mc8ti   996   3.058071  chemical\n",
       "997   1   31086  e170ymw3   997   2.563479  chemical\n",
       "998   1   88200  t473tbm9   998   2.531990  chemical\n",
       "999   1   19256  9kdw5cll   999   2.324930  chemical\n",
       "\n",
       "[1000 rows x 6 columns]"
      ]
     },
     "execution_count": 31,
     "metadata": {},
     "output_type": "execute_result"
    }
   ],
   "source": [
    "composition = tf >> bm25\n",
    "\n",
    "composition.search(query)"
   ]
  },
  {
   "cell_type": "markdown",
   "id": "4q4WNwteTu3Z",
   "metadata": {
    "id": "4q4WNwteTu3Z"
   },
   "source": [
    "As you can see some documents have been further re-ordered by the BM25"
   ]
  },
  {
   "cell_type": "markdown",
   "id": "mtgVU3MBKotE",
   "metadata": {
    "id": "mtgVU3MBKotE"
   },
   "source": [
    "##### Rank cut-off\n",
    "\n",
    "The second operator we are going to see is the rank cut-off. This operator allow to retain only the top *n* results.\n",
    "\n",
    "To use it, we simply need to compose a new retriever applying the `% n` operator to an existing retriever (with *n* being the number of results we want to retain. This is useful to do an early pruning of the the retreived results."
   ]
  },
  {
   "cell_type": "markdown",
   "id": "vcLzf9upMkOt",
   "metadata": {
    "id": "vcLzf9upMkOt"
   },
   "source": [
    "Let's retain the top 10 results using the TF-IDF score.\n",
    "\n",
    "First we define the rank cut-off pipeline using the TF retriever, then we use it to answer the query."
   ]
  },
  {
   "cell_type": "code",
   "execution_count": 32,
   "id": "GhQoxlhYMl2m",
   "metadata": {
    "id": "GhQoxlhYMl2m"
   },
   "outputs": [
    {
     "data": {
      "text/html": [
       "<div>\n",
       "<style scoped>\n",
       "    .dataframe tbody tr th:only-of-type {\n",
       "        vertical-align: middle;\n",
       "    }\n",
       "\n",
       "    .dataframe tbody tr th {\n",
       "        vertical-align: top;\n",
       "    }\n",
       "\n",
       "    .dataframe thead th {\n",
       "        text-align: right;\n",
       "    }\n",
       "</style>\n",
       "<table border=\"1\" class=\"dataframe\">\n",
       "  <thead>\n",
       "    <tr style=\"text-align: right;\">\n",
       "      <th></th>\n",
       "      <th>qid</th>\n",
       "      <th>docid</th>\n",
       "      <th>docno</th>\n",
       "      <th>rank</th>\n",
       "      <th>score</th>\n",
       "      <th>query</th>\n",
       "    </tr>\n",
       "  </thead>\n",
       "  <tbody>\n",
       "    <tr>\n",
       "      <th>0</th>\n",
       "      <td>1</td>\n",
       "      <td>37771</td>\n",
       "      <td>jn5qi1jb</td>\n",
       "      <td>0</td>\n",
       "      <td>6.809923</td>\n",
       "      <td>chemical</td>\n",
       "    </tr>\n",
       "    <tr>\n",
       "      <th>1</th>\n",
       "      <td>1</td>\n",
       "      <td>15671</td>\n",
       "      <td>8hykq71k</td>\n",
       "      <td>1</td>\n",
       "      <td>6.802777</td>\n",
       "      <td>chemical</td>\n",
       "    </tr>\n",
       "    <tr>\n",
       "      <th>2</th>\n",
       "      <td>1</td>\n",
       "      <td>134305</td>\n",
       "      <td>0smev8vt</td>\n",
       "      <td>2</td>\n",
       "      <td>6.736806</td>\n",
       "      <td>chemical</td>\n",
       "    </tr>\n",
       "    <tr>\n",
       "      <th>3</th>\n",
       "      <td>1</td>\n",
       "      <td>142104</td>\n",
       "      <td>77c9ohxj</td>\n",
       "      <td>3</td>\n",
       "      <td>6.700190</td>\n",
       "      <td>chemical</td>\n",
       "    </tr>\n",
       "    <tr>\n",
       "      <th>4</th>\n",
       "      <td>1</td>\n",
       "      <td>87642</td>\n",
       "      <td>ck6clsty</td>\n",
       "      <td>4</td>\n",
       "      <td>6.661680</td>\n",
       "      <td>chemical</td>\n",
       "    </tr>\n",
       "    <tr>\n",
       "      <th>5</th>\n",
       "      <td>1</td>\n",
       "      <td>18717</td>\n",
       "      <td>iavwkdpr</td>\n",
       "      <td>5</td>\n",
       "      <td>6.596403</td>\n",
       "      <td>chemical</td>\n",
       "    </tr>\n",
       "    <tr>\n",
       "      <th>6</th>\n",
       "      <td>1</td>\n",
       "      <td>56631</td>\n",
       "      <td>sps45fj5</td>\n",
       "      <td>6</td>\n",
       "      <td>6.380524</td>\n",
       "      <td>chemical</td>\n",
       "    </tr>\n",
       "    <tr>\n",
       "      <th>7</th>\n",
       "      <td>1</td>\n",
       "      <td>11310</td>\n",
       "      <td>3ehh7wme</td>\n",
       "      <td>7</td>\n",
       "      <td>6.337646</td>\n",
       "      <td>chemical</td>\n",
       "    </tr>\n",
       "    <tr>\n",
       "      <th>8</th>\n",
       "      <td>1</td>\n",
       "      <td>183314</td>\n",
       "      <td>65e8ol64</td>\n",
       "      <td>8</td>\n",
       "      <td>6.316521</td>\n",
       "      <td>chemical</td>\n",
       "    </tr>\n",
       "    <tr>\n",
       "      <th>9</th>\n",
       "      <td>1</td>\n",
       "      <td>2524</td>\n",
       "      <td>ifebw24e</td>\n",
       "      <td>9</td>\n",
       "      <td>6.269341</td>\n",
       "      <td>chemical</td>\n",
       "    </tr>\n",
       "  </tbody>\n",
       "</table>\n",
       "</div>"
      ],
      "text/plain": [
       "  qid   docid     docno  rank     score     query\n",
       "0   1   37771  jn5qi1jb     0  6.809923  chemical\n",
       "1   1   15671  8hykq71k     1  6.802777  chemical\n",
       "2   1  134305  0smev8vt     2  6.736806  chemical\n",
       "3   1  142104  77c9ohxj     3  6.700190  chemical\n",
       "4   1   87642  ck6clsty     4  6.661680  chemical\n",
       "5   1   18717  iavwkdpr     5  6.596403  chemical\n",
       "6   1   56631  sps45fj5     6  6.380524  chemical\n",
       "7   1   11310  3ehh7wme     7  6.337646  chemical\n",
       "8   1  183314  65e8ol64     8  6.316521  chemical\n",
       "9   1    2524  ifebw24e     9  6.269341  chemical"
      ]
     },
     "execution_count": 32,
     "metadata": {},
     "output_type": "execute_result"
    }
   ],
   "source": [
    "tf_idf_cut = tf_idf % 10\n",
    "\n",
    "tf_idf_cut.search(query)"
   ]
  },
  {
   "cell_type": "markdown",
   "id": "nQmuujHwUB6z",
   "metadata": {
    "id": "nQmuujHwUB6z"
   },
   "source": [
    "Of course these pipeline operators can be combined. For example we can re-rank with BM25 only the first 20 results from TF.\n",
    "\n",
    "Again we define first our pipeline with the two operations and then we search the query."
   ]
  },
  {
   "cell_type": "code",
   "execution_count": 33,
   "id": "gKAk7mWeUCK0",
   "metadata": {
    "id": "gKAk7mWeUCK0"
   },
   "outputs": [
    {
     "data": {
      "text/html": [
       "<div>\n",
       "<style scoped>\n",
       "    .dataframe tbody tr th:only-of-type {\n",
       "        vertical-align: middle;\n",
       "    }\n",
       "\n",
       "    .dataframe tbody tr th {\n",
       "        vertical-align: top;\n",
       "    }\n",
       "\n",
       "    .dataframe thead th {\n",
       "        text-align: right;\n",
       "    }\n",
       "</style>\n",
       "<table border=\"1\" class=\"dataframe\">\n",
       "  <thead>\n",
       "    <tr style=\"text-align: right;\">\n",
       "      <th></th>\n",
       "      <th>qid</th>\n",
       "      <th>docid</th>\n",
       "      <th>docno</th>\n",
       "      <th>rank</th>\n",
       "      <th>score</th>\n",
       "      <th>query</th>\n",
       "    </tr>\n",
       "  </thead>\n",
       "  <tbody>\n",
       "    <tr>\n",
       "      <th>0</th>\n",
       "      <td>1</td>\n",
       "      <td>37771</td>\n",
       "      <td>jn5qi1jb</td>\n",
       "      <td>0</td>\n",
       "      <td>12.426309</td>\n",
       "      <td>chemical</td>\n",
       "    </tr>\n",
       "    <tr>\n",
       "      <th>1</th>\n",
       "      <td>1</td>\n",
       "      <td>134305</td>\n",
       "      <td>0smev8vt</td>\n",
       "      <td>1</td>\n",
       "      <td>12.292890</td>\n",
       "      <td>chemical</td>\n",
       "    </tr>\n",
       "    <tr>\n",
       "      <th>2</th>\n",
       "      <td>1</td>\n",
       "      <td>142104</td>\n",
       "      <td>77c9ohxj</td>\n",
       "      <td>2</td>\n",
       "      <td>12.226076</td>\n",
       "      <td>chemical</td>\n",
       "    </tr>\n",
       "    <tr>\n",
       "      <th>3</th>\n",
       "      <td>1</td>\n",
       "      <td>18717</td>\n",
       "      <td>iavwkdpr</td>\n",
       "      <td>3</td>\n",
       "      <td>12.036691</td>\n",
       "      <td>chemical</td>\n",
       "    </tr>\n",
       "    <tr>\n",
       "      <th>4</th>\n",
       "      <td>1</td>\n",
       "      <td>56631</td>\n",
       "      <td>sps45fj5</td>\n",
       "      <td>4</td>\n",
       "      <td>11.642770</td>\n",
       "      <td>chemical</td>\n",
       "    </tr>\n",
       "    <tr>\n",
       "      <th>5</th>\n",
       "      <td>1</td>\n",
       "      <td>11310</td>\n",
       "      <td>3ehh7wme</td>\n",
       "      <td>5</td>\n",
       "      <td>11.564529</td>\n",
       "      <td>chemical</td>\n",
       "    </tr>\n",
       "    <tr>\n",
       "      <th>6</th>\n",
       "      <td>1</td>\n",
       "      <td>2524</td>\n",
       "      <td>ifebw24e</td>\n",
       "      <td>6</td>\n",
       "      <td>11.439890</td>\n",
       "      <td>chemical</td>\n",
       "    </tr>\n",
       "    <tr>\n",
       "      <th>7</th>\n",
       "      <td>1</td>\n",
       "      <td>12778</td>\n",
       "      <td>i3xcjagk</td>\n",
       "      <td>7</td>\n",
       "      <td>11.358669</td>\n",
       "      <td>chemical</td>\n",
       "    </tr>\n",
       "    <tr>\n",
       "      <th>8</th>\n",
       "      <td>1</td>\n",
       "      <td>142053</td>\n",
       "      <td>km3bvc8h</td>\n",
       "      <td>8</td>\n",
       "      <td>11.302055</td>\n",
       "      <td>chemical</td>\n",
       "    </tr>\n",
       "    <tr>\n",
       "      <th>9</th>\n",
       "      <td>1</td>\n",
       "      <td>51709</td>\n",
       "      <td>m99r01go</td>\n",
       "      <td>9</td>\n",
       "      <td>11.158047</td>\n",
       "      <td>chemical</td>\n",
       "    </tr>\n",
       "    <tr>\n",
       "      <th>10</th>\n",
       "      <td>1</td>\n",
       "      <td>179838</td>\n",
       "      <td>1wtwlul3</td>\n",
       "      <td>10</td>\n",
       "      <td>11.129964</td>\n",
       "      <td>chemical</td>\n",
       "    </tr>\n",
       "    <tr>\n",
       "      <th>11</th>\n",
       "      <td>1</td>\n",
       "      <td>189064</td>\n",
       "      <td>qs5vyl6b</td>\n",
       "      <td>11</td>\n",
       "      <td>11.074220</td>\n",
       "      <td>chemical</td>\n",
       "    </tr>\n",
       "    <tr>\n",
       "      <th>12</th>\n",
       "      <td>1</td>\n",
       "      <td>43303</td>\n",
       "      <td>316o074z</td>\n",
       "      <td>12</td>\n",
       "      <td>10.964389</td>\n",
       "      <td>chemical</td>\n",
       "    </tr>\n",
       "    <tr>\n",
       "      <th>13</th>\n",
       "      <td>1</td>\n",
       "      <td>105813</td>\n",
       "      <td>09ly1epj</td>\n",
       "      <td>13</td>\n",
       "      <td>10.964389</td>\n",
       "      <td>chemical</td>\n",
       "    </tr>\n",
       "    <tr>\n",
       "      <th>14</th>\n",
       "      <td>1</td>\n",
       "      <td>84551</td>\n",
       "      <td>hweno9u1</td>\n",
       "      <td>14</td>\n",
       "      <td>10.950813</td>\n",
       "      <td>chemical</td>\n",
       "    </tr>\n",
       "    <tr>\n",
       "      <th>15</th>\n",
       "      <td>1</td>\n",
       "      <td>33738</td>\n",
       "      <td>5fg9c4ph</td>\n",
       "      <td>15</td>\n",
       "      <td>10.910287</td>\n",
       "      <td>chemical</td>\n",
       "    </tr>\n",
       "    <tr>\n",
       "      <th>16</th>\n",
       "      <td>1</td>\n",
       "      <td>171636</td>\n",
       "      <td>v3blnh02</td>\n",
       "      <td>16</td>\n",
       "      <td>10.790487</td>\n",
       "      <td>chemical</td>\n",
       "    </tr>\n",
       "    <tr>\n",
       "      <th>17</th>\n",
       "      <td>1</td>\n",
       "      <td>147193</td>\n",
       "      <td>ei4rb8fr</td>\n",
       "      <td>17</td>\n",
       "      <td>10.777339</td>\n",
       "      <td>chemical</td>\n",
       "    </tr>\n",
       "    <tr>\n",
       "      <th>18</th>\n",
       "      <td>1</td>\n",
       "      <td>20060</td>\n",
       "      <td>33ph0m11</td>\n",
       "      <td>18</td>\n",
       "      <td>10.615139</td>\n",
       "      <td>chemical</td>\n",
       "    </tr>\n",
       "    <tr>\n",
       "      <th>19</th>\n",
       "      <td>1</td>\n",
       "      <td>30701</td>\n",
       "      <td>cpjkm7nr</td>\n",
       "      <td>19</td>\n",
       "      <td>9.457348</td>\n",
       "      <td>chemical</td>\n",
       "    </tr>\n",
       "  </tbody>\n",
       "</table>\n",
       "</div>"
      ],
      "text/plain": [
       "   qid   docid     docno  rank      score     query\n",
       "0    1   37771  jn5qi1jb     0  12.426309  chemical\n",
       "1    1  134305  0smev8vt     1  12.292890  chemical\n",
       "2    1  142104  77c9ohxj     2  12.226076  chemical\n",
       "3    1   18717  iavwkdpr     3  12.036691  chemical\n",
       "4    1   56631  sps45fj5     4  11.642770  chemical\n",
       "5    1   11310  3ehh7wme     5  11.564529  chemical\n",
       "6    1    2524  ifebw24e     6  11.439890  chemical\n",
       "7    1   12778  i3xcjagk     7  11.358669  chemical\n",
       "8    1  142053  km3bvc8h     8  11.302055  chemical\n",
       "9    1   51709  m99r01go     9  11.158047  chemical\n",
       "10   1  179838  1wtwlul3    10  11.129964  chemical\n",
       "11   1  189064  qs5vyl6b    11  11.074220  chemical\n",
       "12   1   43303  316o074z    12  10.964389  chemical\n",
       "13   1  105813  09ly1epj    13  10.964389  chemical\n",
       "14   1   84551  hweno9u1    14  10.950813  chemical\n",
       "15   1   33738  5fg9c4ph    15  10.910287  chemical\n",
       "16   1  171636  v3blnh02    16  10.790487  chemical\n",
       "17   1  147193  ei4rb8fr    17  10.777339  chemical\n",
       "18   1   20060  33ph0m11    18  10.615139  chemical\n",
       "19   1   30701  cpjkm7nr    19   9.457348  chemical"
      ]
     },
     "execution_count": 33,
     "metadata": {},
     "output_type": "execute_result"
    }
   ],
   "source": [
    "combination_cut = (tf % 20) >> bm25\n",
    "\n",
    "combination_cut.search(query)"
   ]
  },
  {
   "cell_type": "markdown",
   "id": "MnU2jq-2Kofs",
   "metadata": {
    "id": "MnU2jq-2Kofs"
   },
   "source": [
    "##### Results union\n",
    "\n",
    "Finally we can also combine the results from different retreivers, merging them together. In this case we are going to define the pipeline using two retrievers interleaved by the `|` operator.\n",
    "\n",
    "For example we can combine the top 10 results from TF with the top 10 results from TF-IDF. As usual we define first our pipeline and then we run our query."
   ]
  },
  {
   "cell_type": "code",
   "execution_count": 34,
   "id": "1b728468-4838-4eb2-82e6-593f7c4c25f4",
   "metadata": {
    "id": "1b728468-4838-4eb2-82e6-593f7c4c25f4"
   },
   "outputs": [
    {
     "data": {
      "text/html": [
       "<div>\n",
       "<style scoped>\n",
       "    .dataframe tbody tr th:only-of-type {\n",
       "        vertical-align: middle;\n",
       "    }\n",
       "\n",
       "    .dataframe tbody tr th {\n",
       "        vertical-align: top;\n",
       "    }\n",
       "\n",
       "    .dataframe thead th {\n",
       "        text-align: right;\n",
       "    }\n",
       "</style>\n",
       "<table border=\"1\" class=\"dataframe\">\n",
       "  <thead>\n",
       "    <tr style=\"text-align: right;\">\n",
       "      <th></th>\n",
       "      <th>qid</th>\n",
       "      <th>docid</th>\n",
       "      <th>docno</th>\n",
       "      <th>query</th>\n",
       "    </tr>\n",
       "  </thead>\n",
       "  <tbody>\n",
       "    <tr>\n",
       "      <th>1</th>\n",
       "      <td>1</td>\n",
       "      <td>134305</td>\n",
       "      <td>0smev8vt</td>\n",
       "      <td>chemical</td>\n",
       "    </tr>\n",
       "    <tr>\n",
       "      <th>7</th>\n",
       "      <td>1</td>\n",
       "      <td>43303</td>\n",
       "      <td>316o074z</td>\n",
       "      <td>chemical</td>\n",
       "    </tr>\n",
       "    <tr>\n",
       "      <th>7</th>\n",
       "      <td>1</td>\n",
       "      <td>11310</td>\n",
       "      <td>3ehh7wme</td>\n",
       "      <td>chemical</td>\n",
       "    </tr>\n",
       "    <tr>\n",
       "      <th>6</th>\n",
       "      <td>1</td>\n",
       "      <td>33738</td>\n",
       "      <td>5fg9c4ph</td>\n",
       "      <td>chemical</td>\n",
       "    </tr>\n",
       "    <tr>\n",
       "      <th>8</th>\n",
       "      <td>1</td>\n",
       "      <td>183314</td>\n",
       "      <td>65e8ol64</td>\n",
       "      <td>chemical</td>\n",
       "    </tr>\n",
       "    <tr>\n",
       "      <th>4</th>\n",
       "      <td>1</td>\n",
       "      <td>142104</td>\n",
       "      <td>77c9ohxj</td>\n",
       "      <td>chemical</td>\n",
       "    </tr>\n",
       "    <tr>\n",
       "      <th>1</th>\n",
       "      <td>1</td>\n",
       "      <td>15671</td>\n",
       "      <td>8hykq71k</td>\n",
       "      <td>chemical</td>\n",
       "    </tr>\n",
       "    <tr>\n",
       "      <th>4</th>\n",
       "      <td>1</td>\n",
       "      <td>87642</td>\n",
       "      <td>ck6clsty</td>\n",
       "      <td>chemical</td>\n",
       "    </tr>\n",
       "    <tr>\n",
       "      <th>5</th>\n",
       "      <td>1</td>\n",
       "      <td>12778</td>\n",
       "      <td>i3xcjagk</td>\n",
       "      <td>chemical</td>\n",
       "    </tr>\n",
       "    <tr>\n",
       "      <th>5</th>\n",
       "      <td>1</td>\n",
       "      <td>18717</td>\n",
       "      <td>iavwkdpr</td>\n",
       "      <td>chemical</td>\n",
       "    </tr>\n",
       "    <tr>\n",
       "      <th>2</th>\n",
       "      <td>1</td>\n",
       "      <td>2524</td>\n",
       "      <td>ifebw24e</td>\n",
       "      <td>chemical</td>\n",
       "    </tr>\n",
       "    <tr>\n",
       "      <th>0</th>\n",
       "      <td>1</td>\n",
       "      <td>37771</td>\n",
       "      <td>jn5qi1jb</td>\n",
       "      <td>chemical</td>\n",
       "    </tr>\n",
       "    <tr>\n",
       "      <th>3</th>\n",
       "      <td>1</td>\n",
       "      <td>142053</td>\n",
       "      <td>km3bvc8h</td>\n",
       "      <td>chemical</td>\n",
       "    </tr>\n",
       "    <tr>\n",
       "      <th>8</th>\n",
       "      <td>1</td>\n",
       "      <td>51709</td>\n",
       "      <td>m99r01go</td>\n",
       "      <td>chemical</td>\n",
       "    </tr>\n",
       "    <tr>\n",
       "      <th>9</th>\n",
       "      <td>1</td>\n",
       "      <td>56631</td>\n",
       "      <td>sps45fj5</td>\n",
       "      <td>chemical</td>\n",
       "    </tr>\n",
       "  </tbody>\n",
       "</table>\n",
       "</div>"
      ],
      "text/plain": [
       "  qid   docid     docno     query\n",
       "1   1  134305  0smev8vt  chemical\n",
       "7   1   43303  316o074z  chemical\n",
       "7   1   11310  3ehh7wme  chemical\n",
       "6   1   33738  5fg9c4ph  chemical\n",
       "8   1  183314  65e8ol64  chemical\n",
       "4   1  142104  77c9ohxj  chemical\n",
       "1   1   15671  8hykq71k  chemical\n",
       "4   1   87642  ck6clsty  chemical\n",
       "5   1   12778  i3xcjagk  chemical\n",
       "5   1   18717  iavwkdpr  chemical\n",
       "2   1    2524  ifebw24e  chemical\n",
       "0   1   37771  jn5qi1jb  chemical\n",
       "3   1  142053  km3bvc8h  chemical\n",
       "8   1   51709  m99r01go  chemical\n",
       "9   1   56631  sps45fj5  chemical"
      ]
     },
     "execution_count": 34,
     "metadata": {},
     "output_type": "execute_result"
    }
   ],
   "source": [
    "union = (tf % 10) | (tf_idf % 10)\n",
    "\n",
    "union.search(query)"
   ]
  },
  {
   "cell_type": "markdown",
   "id": "BkTBiuUDWthN",
   "metadata": {
    "id": "BkTBiuUDWthN"
   },
   "source": [
    "There are some overlappings between the results of TF and TF-IDf, as a results the total number of retreived documents is lower than 20.\n",
    "Also nothe that we do not have scores here since TF and TF-IDF are not comparable.\n",
    "\n",
    "What we can do is add som re-ranking to our pipeline. We can re-score the output given by the union of TF (with cut-off at 10) and TF-IDF (with cut-off at 10) using BM25"
   ]
  },
  {
   "cell_type": "code",
   "execution_count": 35,
   "id": "k7XRhcEIXOaa",
   "metadata": {
    "id": "k7XRhcEIXOaa"
   },
   "outputs": [
    {
     "data": {
      "text/html": [
       "<div>\n",
       "<style scoped>\n",
       "    .dataframe tbody tr th:only-of-type {\n",
       "        vertical-align: middle;\n",
       "    }\n",
       "\n",
       "    .dataframe tbody tr th {\n",
       "        vertical-align: top;\n",
       "    }\n",
       "\n",
       "    .dataframe thead th {\n",
       "        text-align: right;\n",
       "    }\n",
       "</style>\n",
       "<table border=\"1\" class=\"dataframe\">\n",
       "  <thead>\n",
       "    <tr style=\"text-align: right;\">\n",
       "      <th></th>\n",
       "      <th>qid</th>\n",
       "      <th>docid</th>\n",
       "      <th>docno</th>\n",
       "      <th>rank</th>\n",
       "      <th>score</th>\n",
       "      <th>query</th>\n",
       "    </tr>\n",
       "  </thead>\n",
       "  <tbody>\n",
       "    <tr>\n",
       "      <th>0</th>\n",
       "      <td>1</td>\n",
       "      <td>37771</td>\n",
       "      <td>jn5qi1jb</td>\n",
       "      <td>0</td>\n",
       "      <td>12.426309</td>\n",
       "      <td>chemical</td>\n",
       "    </tr>\n",
       "    <tr>\n",
       "      <th>1</th>\n",
       "      <td>1</td>\n",
       "      <td>15671</td>\n",
       "      <td>8hykq71k</td>\n",
       "      <td>1</td>\n",
       "      <td>12.413269</td>\n",
       "      <td>chemical</td>\n",
       "    </tr>\n",
       "    <tr>\n",
       "      <th>2</th>\n",
       "      <td>1</td>\n",
       "      <td>134305</td>\n",
       "      <td>0smev8vt</td>\n",
       "      <td>2</td>\n",
       "      <td>12.292890</td>\n",
       "      <td>chemical</td>\n",
       "    </tr>\n",
       "    <tr>\n",
       "      <th>3</th>\n",
       "      <td>1</td>\n",
       "      <td>142104</td>\n",
       "      <td>77c9ohxj</td>\n",
       "      <td>3</td>\n",
       "      <td>12.226076</td>\n",
       "      <td>chemical</td>\n",
       "    </tr>\n",
       "    <tr>\n",
       "      <th>4</th>\n",
       "      <td>1</td>\n",
       "      <td>87642</td>\n",
       "      <td>ck6clsty</td>\n",
       "      <td>4</td>\n",
       "      <td>12.155804</td>\n",
       "      <td>chemical</td>\n",
       "    </tr>\n",
       "    <tr>\n",
       "      <th>5</th>\n",
       "      <td>1</td>\n",
       "      <td>18717</td>\n",
       "      <td>iavwkdpr</td>\n",
       "      <td>5</td>\n",
       "      <td>12.036691</td>\n",
       "      <td>chemical</td>\n",
       "    </tr>\n",
       "    <tr>\n",
       "      <th>6</th>\n",
       "      <td>1</td>\n",
       "      <td>56631</td>\n",
       "      <td>sps45fj5</td>\n",
       "      <td>6</td>\n",
       "      <td>11.642770</td>\n",
       "      <td>chemical</td>\n",
       "    </tr>\n",
       "    <tr>\n",
       "      <th>7</th>\n",
       "      <td>1</td>\n",
       "      <td>11310</td>\n",
       "      <td>3ehh7wme</td>\n",
       "      <td>7</td>\n",
       "      <td>11.564529</td>\n",
       "      <td>chemical</td>\n",
       "    </tr>\n",
       "    <tr>\n",
       "      <th>8</th>\n",
       "      <td>1</td>\n",
       "      <td>183314</td>\n",
       "      <td>65e8ol64</td>\n",
       "      <td>8</td>\n",
       "      <td>11.525981</td>\n",
       "      <td>chemical</td>\n",
       "    </tr>\n",
       "    <tr>\n",
       "      <th>9</th>\n",
       "      <td>1</td>\n",
       "      <td>2524</td>\n",
       "      <td>ifebw24e</td>\n",
       "      <td>9</td>\n",
       "      <td>11.439890</td>\n",
       "      <td>chemical</td>\n",
       "    </tr>\n",
       "    <tr>\n",
       "      <th>10</th>\n",
       "      <td>1</td>\n",
       "      <td>12778</td>\n",
       "      <td>i3xcjagk</td>\n",
       "      <td>10</td>\n",
       "      <td>11.358669</td>\n",
       "      <td>chemical</td>\n",
       "    </tr>\n",
       "    <tr>\n",
       "      <th>11</th>\n",
       "      <td>1</td>\n",
       "      <td>142053</td>\n",
       "      <td>km3bvc8h</td>\n",
       "      <td>11</td>\n",
       "      <td>11.302055</td>\n",
       "      <td>chemical</td>\n",
       "    </tr>\n",
       "    <tr>\n",
       "      <th>12</th>\n",
       "      <td>1</td>\n",
       "      <td>51709</td>\n",
       "      <td>m99r01go</td>\n",
       "      <td>12</td>\n",
       "      <td>11.158047</td>\n",
       "      <td>chemical</td>\n",
       "    </tr>\n",
       "    <tr>\n",
       "      <th>13</th>\n",
       "      <td>1</td>\n",
       "      <td>43303</td>\n",
       "      <td>316o074z</td>\n",
       "      <td>13</td>\n",
       "      <td>10.964389</td>\n",
       "      <td>chemical</td>\n",
       "    </tr>\n",
       "    <tr>\n",
       "      <th>14</th>\n",
       "      <td>1</td>\n",
       "      <td>33738</td>\n",
       "      <td>5fg9c4ph</td>\n",
       "      <td>14</td>\n",
       "      <td>10.910287</td>\n",
       "      <td>chemical</td>\n",
       "    </tr>\n",
       "  </tbody>\n",
       "</table>\n",
       "</div>"
      ],
      "text/plain": [
       "   qid   docid     docno  rank      score     query\n",
       "0    1   37771  jn5qi1jb     0  12.426309  chemical\n",
       "1    1   15671  8hykq71k     1  12.413269  chemical\n",
       "2    1  134305  0smev8vt     2  12.292890  chemical\n",
       "3    1  142104  77c9ohxj     3  12.226076  chemical\n",
       "4    1   87642  ck6clsty     4  12.155804  chemical\n",
       "5    1   18717  iavwkdpr     5  12.036691  chemical\n",
       "6    1   56631  sps45fj5     6  11.642770  chemical\n",
       "7    1   11310  3ehh7wme     7  11.564529  chemical\n",
       "8    1  183314  65e8ol64     8  11.525981  chemical\n",
       "9    1    2524  ifebw24e     9  11.439890  chemical\n",
       "10   1   12778  i3xcjagk    10  11.358669  chemical\n",
       "11   1  142053  km3bvc8h    11  11.302055  chemical\n",
       "12   1   51709  m99r01go    12  11.158047  chemical\n",
       "13   1   43303  316o074z    13  10.964389  chemical\n",
       "14   1   33738  5fg9c4ph    14  10.910287  chemical"
      ]
     },
     "execution_count": 35,
     "metadata": {},
     "output_type": "execute_result"
    }
   ],
   "source": [
    "pipeline = ((tf % 10) | (tf_idf % 10)) >> bm25\n",
    "\n",
    "pipeline.search(query)"
   ]
  },
  {
   "cell_type": "markdown",
   "id": "f27e3fed-52f5-433b-af2c-4a2feec26369",
   "metadata": {
    "id": "f27e3fed-52f5-433b-af2c-4a2feec26369"
   },
   "source": [
    "#### Evaluating retireval pipelines\n",
    "\n",
    "How do these complex retrieval pipelines perform?\n",
    "\n",
    "We can compare the MAP and NDCG scores on the topics avaialble on the CORD-19 data set using the qrels we loaded before.\n",
    "\n",
    "Let's compare\n",
    "- BM25 (used as baseline)\n",
    "- TF-IDF re-scored with BM25\n",
    "- the union of TF-IDF and TF top 1o results re-scored with BM25"
   ]
  },
  {
   "cell_type": "code",
   "execution_count": 36,
   "id": "c7fa3b49-e71f-482c-83ad-b2cd2c684810",
   "metadata": {
    "id": "c7fa3b49-e71f-482c-83ad-b2cd2c684810"
   },
   "outputs": [
    {
     "data": {
      "text/html": [
       "<div>\n",
       "<style scoped>\n",
       "    .dataframe tbody tr th:only-of-type {\n",
       "        vertical-align: middle;\n",
       "    }\n",
       "\n",
       "    .dataframe tbody tr th {\n",
       "        vertical-align: top;\n",
       "    }\n",
       "\n",
       "    .dataframe thead th {\n",
       "        text-align: right;\n",
       "    }\n",
       "</style>\n",
       "<table border=\"1\" class=\"dataframe\">\n",
       "  <thead>\n",
       "    <tr style=\"text-align: right;\">\n",
       "      <th></th>\n",
       "      <th>name</th>\n",
       "      <th>map</th>\n",
       "      <th>ndcg</th>\n",
       "    </tr>\n",
       "  </thead>\n",
       "  <tbody>\n",
       "    <tr>\n",
       "      <th>0</th>\n",
       "      <td>BM25</td>\n",
       "      <td>0.181478</td>\n",
       "      <td>0.373328</td>\n",
       "    </tr>\n",
       "    <tr>\n",
       "      <th>1</th>\n",
       "      <td>TF-IDF &gt;&gt; BM25</td>\n",
       "      <td>0.180716</td>\n",
       "      <td>0.370759</td>\n",
       "    </tr>\n",
       "    <tr>\n",
       "      <th>2</th>\n",
       "      <td>((TF % 10) | (TF-IDF % 10)) &gt;&gt; BM25</td>\n",
       "      <td>0.159787</td>\n",
       "      <td>0.323923</td>\n",
       "    </tr>\n",
       "  </tbody>\n",
       "</table>\n",
       "</div>"
      ],
      "text/plain": [
       "                                  name       map      ndcg\n",
       "0                                 BM25  0.181478  0.373328\n",
       "1                       TF-IDF >> BM25  0.180716  0.370759\n",
       "2  ((TF % 10) | (TF-IDF % 10)) >> BM25  0.159787  0.323923"
      ]
     },
     "execution_count": 36,
     "metadata": {},
     "output_type": "execute_result"
    }
   ],
   "source": [
    "pt.Experiment(\n",
    "  [bm25, tf_idf >> bm25, ((tf % 500) | (tf_idf % 500)) >> bm25],\n",
    "  topics,\n",
    "  qrels,\n",
    "  eval_metrics=[\"map\", \"ndcg\"],\n",
    "  names=[\"BM25\", \"TF-IDF >> BM25\", \"((TF % 10) | (TF-IDF % 10)) >> BM25\"]\n",
    ")"
   ]
  },
  {
   "cell_type": "markdown",
   "id": "27e69c19",
   "metadata": {
    "id": "27e69c19"
   },
   "source": [
    "#### Searching passages\n",
    "\n",
    "Sometimes, especially when dealing with long documents, it can be better to work with document passages, rather than entire documents.\n",
    "In fact, the relevant content may onlyt be found in a small portion of the document.\n",
    "\n",
    "PyTerrier supports the the creation of document passages starting from the document text.\n",
    "This proces is characteried by a widow of words forming the passage (lenght in tokens of the window) and a stride (number of tokens the window is shifter forward for the next passage)."
   ]
  },
  {
   "cell_type": "code",
   "execution_count": 37,
   "id": "3b2af8e4",
   "metadata": {
    "id": "3b2af8e4"
   },
   "outputs": [],
   "source": [
    "w_len = 32\n",
    "w_stride = 16"
   ]
  },
  {
   "cell_type": "markdown",
   "id": "900a1d66",
   "metadata": {
    "id": "900a1d66"
   },
   "source": [
    "Now, using the sliding function, we can create a search pipeline re-using the indexes and the scoring functions we already computed.\n",
    "\n",
    "Let's run a query over document passages."
   ]
  },
  {
   "cell_type": "markdown",
   "id": "221e7e4f",
   "metadata": {
    "id": "221e7e4f"
   },
   "source": [
    "Build the pipeline"
   ]
  },
  {
   "cell_type": "code",
   "execution_count": 38,
   "id": "8c2238e9",
   "metadata": {
    "id": "8c2238e9"
   },
   "outputs": [
    {
     "name": "stderr",
     "output_type": "stream",
     "text": [
      "/tmp/ipykernel_99071/893445006.py:2: DeprecationWarning: Call to deprecated class BatchRetrieve. (use pt.terrier.Retriever() instead) -- Deprecated since version 0.11.0.\n",
      "  pt.BatchRetrieve(index, wmodel=\"BM25\", metadata=['docno', 'abstract', 'title']) >>\n"
     ]
    }
   ],
   "source": [
    "sliding_pipeline = (\n",
    "    pt.BatchRetrieve(index, wmodel=\"BM25\", metadata=['docno', 'abstract', 'title']) >>\n",
    "    pt.text.sliding(length=w_len, stride=w_stride, text_attr='abstract') >>\n",
    "    pt.text.scorer(body_attr='abstract', wmodel=\"BM25\", background_index=index)\n",
    ")"
   ]
  },
  {
   "cell_type": "markdown",
   "id": "5938e749",
   "metadata": {
    "id": "5938e749"
   },
   "source": [
    "Note: here we first run a search using BM25 to isolate the best results and then we used the `sliding` function to chunk the abstract of the documents. Finally, after sliding through the text, we score the pasages again using BM25, in this case we use text scorer and not a retriver becasue we want to score the individual passages"
   ]
  },
  {
   "cell_type": "markdown",
   "id": "da7a476d",
   "metadata": {
    "id": "da7a476d"
   },
   "source": [
    "Run the query and look at the results"
   ]
  },
  {
   "cell_type": "code",
   "execution_count": 39,
   "id": "59436e44",
   "metadata": {
    "id": "59436e44"
   },
   "outputs": [
    {
     "name": "stdout",
     "output_type": "stream",
     "text": [
      "calling sliding on df of 1000 rows\n"
     ]
    },
    {
     "name": "stderr",
     "output_type": "stream",
     "text": [
      "                                                               \r"
     ]
    },
    {
     "name": "stdout",
     "output_type": "stream",
     "text": [
      "14:59:03.126 [main] WARN org.terrier.querying.ApplyTermPipeline -- The index has no termpipelines configuration, and no control configuration is found. Defaulting to global termpipelines configuration of 'Stopwords,PorterStemmer'. Set a termpipelines control to remove this warning.\n"
     ]
    },
    {
     "data": {
      "text/html": [
       "<div>\n",
       "<style scoped>\n",
       "    .dataframe tbody tr th:only-of-type {\n",
       "        vertical-align: middle;\n",
       "    }\n",
       "\n",
       "    .dataframe tbody tr th {\n",
       "        vertical-align: top;\n",
       "    }\n",
       "\n",
       "    .dataframe thead th {\n",
       "        text-align: right;\n",
       "    }\n",
       "</style>\n",
       "<table border=\"1\" class=\"dataframe\">\n",
       "  <thead>\n",
       "    <tr style=\"text-align: right;\">\n",
       "      <th></th>\n",
       "      <th>qid</th>\n",
       "      <th>docid</th>\n",
       "      <th>docno</th>\n",
       "      <th>abstract</th>\n",
       "      <th>rank</th>\n",
       "      <th>score</th>\n",
       "      <th>query</th>\n",
       "    </tr>\n",
       "  </thead>\n",
       "  <tbody>\n",
       "    <tr>\n",
       "      <th>32</th>\n",
       "      <td>1</td>\n",
       "      <td>15477</td>\n",
       "      <td>mahe91jb%p1</td>\n",
       "      <td>Application of Ionic Liquids in Multicomponent Reactions reactions. Easy work-up, relatively short reaction times, good to high yields of the desi...</td>\n",
       "      <td>0</td>\n",
       "      <td>9.282441</td>\n",
       "      <td>reaction</td>\n",
       "    </tr>\n",
       "    <tr>\n",
       "      <th>2</th>\n",
       "      <td>1</td>\n",
       "      <td>120041</td>\n",
       "      <td>pb00yr0r%p2</td>\n",
       "      <td>Hybridization Chain Reactions Targeting the Severe Acute Respiratory Syndrome Coronavirus 2 (SARS-CoV-2) The proposed chain reactions target the c...</td>\n",
       "      <td>1</td>\n",
       "      <td>9.273295</td>\n",
       "      <td>reaction</td>\n",
       "    </tr>\n",
       "    <tr>\n",
       "      <th>5</th>\n",
       "      <td>1</td>\n",
       "      <td>177724</td>\n",
       "      <td>44jyy79k%p2</td>\n",
       "      <td>Hybridization Chain Reactions Targeting the Severe Acute Respiratory Syndrome Coronavirus 2 (SARS-CoV-2) The proposed chain reactions target the c...</td>\n",
       "      <td>2</td>\n",
       "      <td>9.273295</td>\n",
       "      <td>reaction</td>\n",
       "    </tr>\n",
       "    <tr>\n",
       "      <th>95</th>\n",
       "      <td>1</td>\n",
       "      <td>4842</td>\n",
       "      <td>j759pbd2%p2</td>\n",
       "      <td>Infektionen bei Organtransplantationen inflammatory reaction is given by the agent involved, but often several reactions can be caused by the same...</td>\n",
       "      <td>3</td>\n",
       "      <td>9.192566</td>\n",
       "      <td>reaction</td>\n",
       "    </tr>\n",
       "    <tr>\n",
       "      <th>1411</th>\n",
       "      <td>1</td>\n",
       "      <td>81919</td>\n",
       "      <td>5wuv57cy%p0</td>\n",
       "      <td>[A study of pulmonary inflammatory reaction induced by N-protein of SARS-CoV in rat models and effects of glucocorticoids on it]. OBJECTIVE To stu...</td>\n",
       "      <td>4</td>\n",
       "      <td>9.164692</td>\n",
       "      <td>reaction</td>\n",
       "    </tr>\n",
       "    <tr>\n",
       "      <th>...</th>\n",
       "      <td>...</td>\n",
       "      <td>...</td>\n",
       "      <td>...</td>\n",
       "      <td>...</td>\n",
       "      <td>...</td>\n",
       "      <td>...</td>\n",
       "      <td>...</td>\n",
       "    </tr>\n",
       "    <tr>\n",
       "      <th>2967</th>\n",
       "      <td>1</td>\n",
       "      <td>117345</td>\n",
       "      <td>m5eple6p%p3</td>\n",
       "      <td>Clinical Characteristics of Patients With Coronavirus Disease 2019 in Japan: A Single-Center Case Series the patients exhibited bilateral ground g...</td>\n",
       "      <td>2936</td>\n",
       "      <td>0.000000</td>\n",
       "      <td>reaction</td>\n",
       "    </tr>\n",
       "    <tr>\n",
       "      <th>2970</th>\n",
       "      <td>1</td>\n",
       "      <td>124413</td>\n",
       "      <td>anflid7n%p2</td>\n",
       "      <td>Noncanonical Functions of Antibodies model systems, recent years have witnessed the discovery of a number of noncanonical functions of antibodies....</td>\n",
       "      <td>2937</td>\n",
       "      <td>0.000000</td>\n",
       "      <td>reaction</td>\n",
       "    </tr>\n",
       "    <tr>\n",
       "      <th>2973</th>\n",
       "      <td>1</td>\n",
       "      <td>137343</td>\n",
       "      <td>95kpbpj5%p2</td>\n",
       "      <td>Production of specific antibodies against SARS-coronavirus nucleocapsid protein without cross reactivity with human coronaviruses 229E and OC43 oc...</td>\n",
       "      <td>2938</td>\n",
       "      <td>0.000000</td>\n",
       "      <td>reaction</td>\n",
       "    </tr>\n",
       "    <tr>\n",
       "      <th>2974</th>\n",
       "      <td>1</td>\n",
       "      <td>139471</td>\n",
       "      <td>45gen3qw%p0</td>\n",
       "      <td>Les pneumopathies communautaires Community acquired pneumonia Acute infectious pneumonia is a serious public health problem because it is a major ...</td>\n",
       "      <td>2939</td>\n",
       "      <td>0.000000</td>\n",
       "      <td>reaction</td>\n",
       "    </tr>\n",
       "    <tr>\n",
       "      <th>2975</th>\n",
       "      <td>1</td>\n",
       "      <td>139471</td>\n",
       "      <td>45gen3qw%p1</td>\n",
       "      <td>Les pneumopathies communautaires major cause of morbidity and mortality in adults. The clinical and radiographic data are usually sufficient to di...</td>\n",
       "      <td>2940</td>\n",
       "      <td>0.000000</td>\n",
       "      <td>reaction</td>\n",
       "    </tr>\n",
       "  </tbody>\n",
       "</table>\n",
       "<p>2977 rows × 7 columns</p>\n",
       "</div>"
      ],
      "text/plain": [
       "     qid   docid        docno  \\\n",
       "32     1   15477  mahe91jb%p1   \n",
       "2      1  120041  pb00yr0r%p2   \n",
       "5      1  177724  44jyy79k%p2   \n",
       "95     1    4842  j759pbd2%p2   \n",
       "1411   1   81919  5wuv57cy%p0   \n",
       "...   ..     ...          ...   \n",
       "2967   1  117345  m5eple6p%p3   \n",
       "2970   1  124413  anflid7n%p2   \n",
       "2973   1  137343  95kpbpj5%p2   \n",
       "2974   1  139471  45gen3qw%p0   \n",
       "2975   1  139471  45gen3qw%p1   \n",
       "\n",
       "                                                                                                                                                   abstract  \\\n",
       "32    Application of Ionic Liquids in Multicomponent Reactions reactions. Easy work-up, relatively short reaction times, good to high yields of the desi...   \n",
       "2     Hybridization Chain Reactions Targeting the Severe Acute Respiratory Syndrome Coronavirus 2 (SARS-CoV-2) The proposed chain reactions target the c...   \n",
       "5     Hybridization Chain Reactions Targeting the Severe Acute Respiratory Syndrome Coronavirus 2 (SARS-CoV-2) The proposed chain reactions target the c...   \n",
       "95    Infektionen bei Organtransplantationen inflammatory reaction is given by the agent involved, but often several reactions can be caused by the same...   \n",
       "1411  [A study of pulmonary inflammatory reaction induced by N-protein of SARS-CoV in rat models and effects of glucocorticoids on it]. OBJECTIVE To stu...   \n",
       "...                                                                                                                                                     ...   \n",
       "2967  Clinical Characteristics of Patients With Coronavirus Disease 2019 in Japan: A Single-Center Case Series the patients exhibited bilateral ground g...   \n",
       "2970  Noncanonical Functions of Antibodies model systems, recent years have witnessed the discovery of a number of noncanonical functions of antibodies....   \n",
       "2973  Production of specific antibodies against SARS-coronavirus nucleocapsid protein without cross reactivity with human coronaviruses 229E and OC43 oc...   \n",
       "2974  Les pneumopathies communautaires Community acquired pneumonia Acute infectious pneumonia is a serious public health problem because it is a major ...   \n",
       "2975  Les pneumopathies communautaires major cause of morbidity and mortality in adults. The clinical and radiographic data are usually sufficient to di...   \n",
       "\n",
       "      rank     score     query  \n",
       "32       0  9.282441  reaction  \n",
       "2        1  9.273295  reaction  \n",
       "5        2  9.273295  reaction  \n",
       "95       3  9.192566  reaction  \n",
       "1411     4  9.164692  reaction  \n",
       "...    ...       ...       ...  \n",
       "2967  2936  0.000000  reaction  \n",
       "2970  2937  0.000000  reaction  \n",
       "2973  2938  0.000000  reaction  \n",
       "2974  2939  0.000000  reaction  \n",
       "2975  2940  0.000000  reaction  \n",
       "\n",
       "[2977 rows x 7 columns]"
      ]
     },
     "execution_count": 39,
     "metadata": {},
     "output_type": "execute_result"
    }
   ],
   "source": [
    "query = 'reaction'\n",
    "\n",
    "sliding_pipeline.search(query)"
   ]
  },
  {
   "cell_type": "markdown",
   "id": "7fd5fb3b",
   "metadata": {
    "id": "7fd5fb3b"
   },
   "source": [
    "Now the `docno` column contains a string with the `docno` of the original document and an annotation with the number of the passage `%p[idx]`.\n",
    "\n",
    "Now, as you can image, we can get multiple results from the same document.\n",
    "What can we do in these cases if we are interested in retrieving the entire document ?"
   ]
  },
  {
   "cell_type": "markdown",
   "id": "49a8192b",
   "metadata": {
    "id": "49a8192b"
   },
   "source": [
    "We need to aggregate the results of the passages coming from the same document.\n",
    "PyTerrier offers multiple ways to do it, here are some examples:\n",
    "- Average the passage scores\n",
    "- Take the maximum passage score\n",
    "- Take the score of the first passage\n",
    "\n",
    "Let's try use the maximum score:"
   ]
  },
  {
   "cell_type": "code",
   "execution_count": 40,
   "id": "34545c7c",
   "metadata": {
    "id": "34545c7c"
   },
   "outputs": [
    {
     "name": "stdout",
     "output_type": "stream",
     "text": [
      "calling sliding on df of 1000 rows\n"
     ]
    },
    {
     "name": "stderr",
     "output_type": "stream",
     "text": [
      "                                                               \r"
     ]
    },
    {
     "name": "stdout",
     "output_type": "stream",
     "text": [
      "14:59:05.409 [main] WARN org.terrier.querying.ApplyTermPipeline -- The index has no termpipelines configuration, and no control configuration is found. Defaulting to global termpipelines configuration of 'Stopwords,PorterStemmer'. Set a termpipelines control to remove this warning.\n"
     ]
    },
    {
     "data": {
      "text/html": [
       "<div>\n",
       "<style scoped>\n",
       "    .dataframe tbody tr th:only-of-type {\n",
       "        vertical-align: middle;\n",
       "    }\n",
       "\n",
       "    .dataframe tbody tr th {\n",
       "        vertical-align: top;\n",
       "    }\n",
       "\n",
       "    .dataframe thead th {\n",
       "        text-align: right;\n",
       "    }\n",
       "</style>\n",
       "<table border=\"1\" class=\"dataframe\">\n",
       "  <thead>\n",
       "    <tr style=\"text-align: right;\">\n",
       "      <th></th>\n",
       "      <th>qid</th>\n",
       "      <th>abstract</th>\n",
       "      <th>score</th>\n",
       "      <th>query</th>\n",
       "      <th>docno</th>\n",
       "      <th>rank</th>\n",
       "    </tr>\n",
       "  </thead>\n",
       "  <tbody>\n",
       "    <tr>\n",
       "      <th>32</th>\n",
       "      <td>1</td>\n",
       "      <td>Application of Ionic Liquids in Multicomponent Reactions reactions. Easy work-up, relatively short reaction times, good to high yields of the desi...</td>\n",
       "      <td>9.282441</td>\n",
       "      <td>reaction</td>\n",
       "      <td>mahe91jb</td>\n",
       "      <td>0</td>\n",
       "    </tr>\n",
       "    <tr>\n",
       "      <th>5</th>\n",
       "      <td>1</td>\n",
       "      <td>Hybridization Chain Reactions Targeting the Severe Acute Respiratory Syndrome Coronavirus 2 (SARS-CoV-2) The proposed chain reactions target the c...</td>\n",
       "      <td>9.273295</td>\n",
       "      <td>reaction</td>\n",
       "      <td>44jyy79k</td>\n",
       "      <td>1</td>\n",
       "    </tr>\n",
       "    <tr>\n",
       "      <th>2</th>\n",
       "      <td>1</td>\n",
       "      <td>Hybridization Chain Reactions Targeting the Severe Acute Respiratory Syndrome Coronavirus 2 (SARS-CoV-2) The proposed chain reactions target the c...</td>\n",
       "      <td>9.273295</td>\n",
       "      <td>reaction</td>\n",
       "      <td>pb00yr0r</td>\n",
       "      <td>2</td>\n",
       "    </tr>\n",
       "    <tr>\n",
       "      <th>95</th>\n",
       "      <td>1</td>\n",
       "      <td>Infektionen bei Organtransplantationen inflammatory reaction is given by the agent involved, but often several reactions can be caused by the same...</td>\n",
       "      <td>9.192566</td>\n",
       "      <td>reaction</td>\n",
       "      <td>j759pbd2</td>\n",
       "      <td>3</td>\n",
       "    </tr>\n",
       "    <tr>\n",
       "      <th>1411</th>\n",
       "      <td>1</td>\n",
       "      <td>[A study of pulmonary inflammatory reaction induced by N-protein of SARS-CoV in rat models and effects of glucocorticoids on it]. OBJECTIVE To stu...</td>\n",
       "      <td>9.164692</td>\n",
       "      <td>reaction</td>\n",
       "      <td>5wuv57cy</td>\n",
       "      <td>4</td>\n",
       "    </tr>\n",
       "    <tr>\n",
       "      <th>...</th>\n",
       "      <td>...</td>\n",
       "      <td>...</td>\n",
       "      <td>...</td>\n",
       "      <td>...</td>\n",
       "      <td>...</td>\n",
       "      <td>...</td>\n",
       "    </tr>\n",
       "    <tr>\n",
       "      <th>805</th>\n",
       "      <td>1</td>\n",
       "      <td>Development of loop-mediated isothermal amplification for rapid detection of Entamoeba histolytica OBJECTIVE: To develop a loop-mediated isotherma...</td>\n",
       "      <td>0.000000</td>\n",
       "      <td>reaction</td>\n",
       "      <td>ze5a2pte</td>\n",
       "      <td>989</td>\n",
       "    </tr>\n",
       "    <tr>\n",
       "      <th>459</th>\n",
       "      <td>1</td>\n",
       "      <td>Enhancement and Neutralization of Feline Infectious Peritonitis Virus Infection in Feline Macrophages by Neutralizing Monoclonal Antibodies Recogn...</td>\n",
       "      <td>0.000000</td>\n",
       "      <td>reaction</td>\n",
       "      <td>zeeekc2s</td>\n",
       "      <td>990</td>\n",
       "    </tr>\n",
       "    <tr>\n",
       "      <th>1817</th>\n",
       "      <td>1</td>\n",
       "      <td>Emergence of Enteric Viruses in Production Chickens Is a Concern for Avian Health Several viruses have been identified in recent years in the inte...</td>\n",
       "      <td>0.000000</td>\n",
       "      <td>reaction</td>\n",
       "      <td>zjooov81</td>\n",
       "      <td>991</td>\n",
       "    </tr>\n",
       "    <tr>\n",
       "      <th>1520</th>\n",
       "      <td>1</td>\n",
       "      <td>Conducting Exposure and Response Prevention Treatment for Contamination Fears During COVID-19: The Behavioral Immune System Impact on Clinician Ap...</td>\n",
       "      <td>0.000000</td>\n",
       "      <td>reaction</td>\n",
       "      <td>ztoxg354</td>\n",
       "      <td>992</td>\n",
       "    </tr>\n",
       "    <tr>\n",
       "      <th>2492</th>\n",
       "      <td>1</td>\n",
       "      <td>Crystal structure of an acetyl esterase complexed with acetate ion provides insights into the catalytic mechanism Abstract We previously reported ...</td>\n",
       "      <td>0.000000</td>\n",
       "      <td>reaction</td>\n",
       "      <td>zugtddop</td>\n",
       "      <td>993</td>\n",
       "    </tr>\n",
       "  </tbody>\n",
       "</table>\n",
       "<p>994 rows × 6 columns</p>\n",
       "</div>"
      ],
      "text/plain": [
       "     qid  \\\n",
       "32     1   \n",
       "5      1   \n",
       "2      1   \n",
       "95     1   \n",
       "1411   1   \n",
       "...   ..   \n",
       "805    1   \n",
       "459    1   \n",
       "1817   1   \n",
       "1520   1   \n",
       "2492   1   \n",
       "\n",
       "                                                                                                                                                   abstract  \\\n",
       "32    Application of Ionic Liquids in Multicomponent Reactions reactions. Easy work-up, relatively short reaction times, good to high yields of the desi...   \n",
       "5     Hybridization Chain Reactions Targeting the Severe Acute Respiratory Syndrome Coronavirus 2 (SARS-CoV-2) The proposed chain reactions target the c...   \n",
       "2     Hybridization Chain Reactions Targeting the Severe Acute Respiratory Syndrome Coronavirus 2 (SARS-CoV-2) The proposed chain reactions target the c...   \n",
       "95    Infektionen bei Organtransplantationen inflammatory reaction is given by the agent involved, but often several reactions can be caused by the same...   \n",
       "1411  [A study of pulmonary inflammatory reaction induced by N-protein of SARS-CoV in rat models and effects of glucocorticoids on it]. OBJECTIVE To stu...   \n",
       "...                                                                                                                                                     ...   \n",
       "805   Development of loop-mediated isothermal amplification for rapid detection of Entamoeba histolytica OBJECTIVE: To develop a loop-mediated isotherma...   \n",
       "459   Enhancement and Neutralization of Feline Infectious Peritonitis Virus Infection in Feline Macrophages by Neutralizing Monoclonal Antibodies Recogn...   \n",
       "1817  Emergence of Enteric Viruses in Production Chickens Is a Concern for Avian Health Several viruses have been identified in recent years in the inte...   \n",
       "1520  Conducting Exposure and Response Prevention Treatment for Contamination Fears During COVID-19: The Behavioral Immune System Impact on Clinician Ap...   \n",
       "2492  Crystal structure of an acetyl esterase complexed with acetate ion provides insights into the catalytic mechanism Abstract We previously reported ...   \n",
       "\n",
       "         score     query     docno  rank  \n",
       "32    9.282441  reaction  mahe91jb     0  \n",
       "5     9.273295  reaction  44jyy79k     1  \n",
       "2     9.273295  reaction  pb00yr0r     2  \n",
       "95    9.192566  reaction  j759pbd2     3  \n",
       "1411  9.164692  reaction  5wuv57cy     4  \n",
       "...        ...       ...       ...   ...  \n",
       "805   0.000000  reaction  ze5a2pte   989  \n",
       "459   0.000000  reaction  zeeekc2s   990  \n",
       "1817  0.000000  reaction  zjooov81   991  \n",
       "1520  0.000000  reaction  ztoxg354   992  \n",
       "2492  0.000000  reaction  zugtddop   993  \n",
       "\n",
       "[994 rows x 6 columns]"
      ]
     },
     "execution_count": 40,
     "metadata": {},
     "output_type": "execute_result"
    }
   ],
   "source": [
    "sliding_pipeline = sliding_pipeline >> pt.text.max_passage()\n",
    "\n",
    "sliding_pipeline.search(query)"
   ]
  },
  {
   "cell_type": "markdown",
   "id": "49c13cc1",
   "metadata": {
    "id": "49c13cc1"
   },
   "source": [
    "#### Snippets\n",
    "\n",
    "One useful step that many search engines add is generating a snippet preview of the results.\n",
    "In this way, it's easier for the users to identify the best result among the top ones and to discard less useful results at the same time."
   ]
  },
  {
   "cell_type": "markdown",
   "id": "08fb2a7c",
   "metadata": {
    "id": "08fb2a7c"
   },
   "source": [
    "How is this done?\n",
    "\n",
    "The simplest way is to take a document, break it into smaller (possibly overlapping) pieces and then compare the lexical similarity between each piece and the original query.\n",
    "Basically we look one or more windows of text inside the document that better match our query.\n",
    "\n",
    "The pipeline is similar to that of the passage search.\n",
    "We need to define separately a passage scoring pipeline.\n",
    "This time we can do it with a TF scoring approach."
   ]
  },
  {
   "cell_type": "code",
   "execution_count": 41,
   "id": "15a276b5",
   "metadata": {
    "id": "15a276b5"
   },
   "outputs": [],
   "source": [
    "psg_scorer = (\n",
    "    pt.text.sliding(length=8, stride=8, text_attr='abstract') >>\n",
    "    pt.text.scorer(body_attr='abstract', wmodel=\"Tf\", background_index=index)\n",
    ")"
   ]
  },
  {
   "cell_type": "markdown",
   "id": "8c89ad50",
   "metadata": {
    "id": "8c89ad50"
   },
   "source": [
    "Now we can create a snippet generator from our pipeline with the `snippet` function"
   ]
  },
  {
   "cell_type": "code",
   "execution_count": 42,
   "id": "c4c32b02",
   "metadata": {
    "id": "c4c32b02"
   },
   "outputs": [],
   "source": [
    "snippet_generator = pt.text.snippets(psg_scorer, text_attr='abstract')"
   ]
  },
  {
   "cell_type": "markdown",
   "id": "432aac02",
   "metadata": {
    "id": "432aac02"
   },
   "source": [
    "Finally, we can compose the snippet generator with the `BatchRetrieve` of our choice"
   ]
  },
  {
   "cell_type": "code",
   "execution_count": 43,
   "id": "1c421724",
   "metadata": {
    "id": "1c421724"
   },
   "outputs": [
    {
     "name": "stderr",
     "output_type": "stream",
     "text": [
      "/tmp/ipykernel_99071/3166949035.py:1: DeprecationWarning: Call to deprecated class BatchRetrieve. (use pt.terrier.Retriever() instead) -- Deprecated since version 0.11.0.\n",
      "  snippet_pipeline = pt.BatchRetrieve(index, wmodel=\"BM25\", metadata=['docno', 'abstract', 'title']) >> snippet_generator\n"
     ]
    }
   ],
   "source": [
    "snippet_pipeline = pt.BatchRetrieve(index, wmodel=\"BM25\", metadata=['docno', 'abstract', 'title']) >> snippet_generator"
   ]
  },
  {
   "cell_type": "markdown",
   "id": "01e9078d",
   "metadata": {
    "id": "01e9078d"
   },
   "source": [
    "Let's run a query and look at the snippets"
   ]
  },
  {
   "cell_type": "code",
   "execution_count": 44,
   "id": "8f22b2c4",
   "metadata": {
    "id": "8f22b2c4"
   },
   "outputs": [
    {
     "name": "stdout",
     "output_type": "stream",
     "text": [
      "calling sliding on df of 1000 rows\n"
     ]
    },
    {
     "name": "stderr",
     "output_type": "stream",
     "text": [
      "                                                              \r"
     ]
    },
    {
     "name": "stdout",
     "output_type": "stream",
     "text": [
      "14:59:10.862 [main] WARN org.terrier.querying.ApplyTermPipeline -- The index has no termpipelines configuration, and no control configuration is found. Defaulting to global termpipelines configuration of 'Stopwords,PorterStemmer'. Set a termpipelines control to remove this warning.\n"
     ]
    },
    {
     "data": {
      "text/html": [
       "<div>\n",
       "<style scoped>\n",
       "    .dataframe tbody tr th:only-of-type {\n",
       "        vertical-align: middle;\n",
       "    }\n",
       "\n",
       "    .dataframe tbody tr th {\n",
       "        vertical-align: top;\n",
       "    }\n",
       "\n",
       "    .dataframe thead th {\n",
       "        text-align: right;\n",
       "    }\n",
       "</style>\n",
       "<table border=\"1\" class=\"dataframe\">\n",
       "  <thead>\n",
       "    <tr style=\"text-align: right;\">\n",
       "      <th></th>\n",
       "      <th>qid</th>\n",
       "      <th>docid</th>\n",
       "      <th>docno</th>\n",
       "      <th>abstract</th>\n",
       "      <th>title</th>\n",
       "      <th>rank</th>\n",
       "      <th>score</th>\n",
       "      <th>query</th>\n",
       "      <th>summary</th>\n",
       "    </tr>\n",
       "  </thead>\n",
       "  <tbody>\n",
       "    <tr>\n",
       "      <th>0</th>\n",
       "      <td>1</td>\n",
       "      <td>120041</td>\n",
       "      <td>pb00yr0r</td>\n",
       "      <td>In this work, hybridization chain reactions (HCRs) toward Severe Acute Respiratory Syndrome Coronavirus 2 (SARS-CoV-2) nucleocapsid phosphoprotein...</td>\n",
       "      <td>Hybridization Chain Reactions Targeting the Severe Acute Respiratory Syndrome Coronavirus 2 (SARS-CoV-2)</td>\n",
       "      <td>0</td>\n",
       "      <td>9.291689</td>\n",
       "      <td>reaction</td>\n",
       "      <td>Hybridization Chain Reactions Targeting the Severe Acute Respiratory Syndrome Coronavirus 2 (SARS-CoV-2) In this work, hybridization chain reactio...</td>\n",
       "    </tr>\n",
       "    <tr>\n",
       "      <th>1</th>\n",
       "      <td>1</td>\n",
       "      <td>177724</td>\n",
       "      <td>44jyy79k</td>\n",
       "      <td>In this work, hybridization chain reactions (HCRs) toward Severe Acute Respiratory Syndrome Coronavirus 2 (SARS–CoV-2) nucleocapsid phosphoprotein...</td>\n",
       "      <td>Hybridization Chain Reactions Targeting the Severe Acute Respiratory Syndrome Coronavirus 2 (SARS-CoV-2)</td>\n",
       "      <td>1</td>\n",
       "      <td>9.291689</td>\n",
       "      <td>reaction</td>\n",
       "      <td>Hybridization Chain Reactions Targeting the Severe Acute Respiratory Syndrome Coronavirus 2 (SARS-CoV-2) In this work, hybridization chain reactio...</td>\n",
       "    </tr>\n",
       "    <tr>\n",
       "      <th>2</th>\n",
       "      <td>1</td>\n",
       "      <td>11268</td>\n",
       "      <td>qroxmo85</td>\n",
       "      <td>PURPOSE: Biotechnological substances (BSs) are strongly relied upon to prevent rejection of transplanted organs, and to treat oncological, allergo...</td>\n",
       "      <td>Hypersensitivity reactions to biologics (part I): allergy as an important differential diagnosis in complex immune-derived adverse events</td>\n",
       "      <td>2</td>\n",
       "      <td>9.173707</td>\n",
       "      <td>reaction</td>\n",
       "      <td>Hypersensitivity reactions to biologics (part I): allergy as an important differential diagnosis in complex immune-derived adverse events PURPOSE:...</td>\n",
       "    </tr>\n",
       "    <tr>\n",
       "      <th>3</th>\n",
       "      <td>1</td>\n",
       "      <td>52435</td>\n",
       "      <td>x3x9b7q0</td>\n",
       "      <td>Background: Dimethyl sulfoxide (DMSO) has been used for medical treatment and as a pharmacological agent in humans since the 1960s. Today, DMSO is...</td>\n",
       "      <td>Adverse reactions of dimethyl sulfoxide in humans: a systematic review.</td>\n",
       "      <td>3</td>\n",
       "      <td>9.093104</td>\n",
       "      <td>reaction</td>\n",
       "      <td>Adverse reactions of dimethyl sulfoxide in humans: a systematic review. Background: Dimethyl sulfoxide (DMSO) has been used for...Adverse reaction...</td>\n",
       "    </tr>\n",
       "    <tr>\n",
       "      <th>4</th>\n",
       "      <td>1</td>\n",
       "      <td>24432</td>\n",
       "      <td>094bk0t0</td>\n",
       "      <td>Purpose: Biotechnological substances (BSs) are strongly relied upon to prevent rejection of transplanted organs, and to treat oncological, allergo...</td>\n",
       "      <td>Hypersensitivity reactions to biologics (part I): allergy as an important differential diagnosis in complex immune-derived adverse events*</td>\n",
       "      <td>4</td>\n",
       "      <td>9.089707</td>\n",
       "      <td>reaction</td>\n",
       "      <td>Hypersensitivity reactions to biologics (part I): allergy as an important differential diagnosis in complex immune-derived adverse events* Purpose...</td>\n",
       "    </tr>\n",
       "    <tr>\n",
       "      <th>...</th>\n",
       "      <td>...</td>\n",
       "      <td>...</td>\n",
       "      <td>...</td>\n",
       "      <td>...</td>\n",
       "      <td>...</td>\n",
       "      <td>...</td>\n",
       "      <td>...</td>\n",
       "      <td>...</td>\n",
       "      <td>...</td>\n",
       "    </tr>\n",
       "    <tr>\n",
       "      <th>995</th>\n",
       "      <td>1</td>\n",
       "      <td>116751</td>\n",
       "      <td>sa6o2jtz</td>\n",
       "      <td>SARS-CoV-2, the novel coronavirus from China, is spreading around the world, causing a huge reaction despite its current low incidence outside Chi...</td>\n",
       "      <td>SARS-CoV-2: fear versus data</td>\n",
       "      <td>995</td>\n",
       "      <td>5.528531</td>\n",
       "      <td>reaction</td>\n",
       "      <td>SARS-CoV-2: fear versus data SARS-CoV-2, the novel coronavirus from China, is spreading...SARS-CoV-2: fear versus data around the world, causing a...</td>\n",
       "    </tr>\n",
       "    <tr>\n",
       "      <th>996</th>\n",
       "      <td>1</td>\n",
       "      <td>117345</td>\n",
       "      <td>m5eple6p</td>\n",
       "      <td>We report a case series of 6 patients with confirmed coronavirus disease 2019 (COVID-19) in Wakayama prefecture, Japan. All 6 of the patients test...</td>\n",
       "      <td>Clinical Characteristics of Patients With Coronavirus Disease 2019 in Japan: A Single-Center Case Series</td>\n",
       "      <td>996</td>\n",
       "      <td>5.528531</td>\n",
       "      <td>reaction</td>\n",
       "      <td>Clinical Characteristics of Patients With Coronavirus Disease 2019 in Japan: A Single-Center Case Series We report a case series of 6 patients...C...</td>\n",
       "    </tr>\n",
       "    <tr>\n",
       "      <th>997</th>\n",
       "      <td>1</td>\n",
       "      <td>124413</td>\n",
       "      <td>anflid7n</td>\n",
       "      <td>The typical functions of antibodies are based on linking the process of antigen recognition with initiation of innate immune reactions. With the i...</td>\n",
       "      <td>Noncanonical Functions of Antibodies</td>\n",
       "      <td>997</td>\n",
       "      <td>5.528531</td>\n",
       "      <td>reaction</td>\n",
       "      <td>Noncanonical Functions of Antibodies The typical functions of antibodies are based on...Noncanonical Functions of Antibodies linking the process o...</td>\n",
       "    </tr>\n",
       "    <tr>\n",
       "      <th>998</th>\n",
       "      <td>1</td>\n",
       "      <td>137343</td>\n",
       "      <td>95kpbpj5</td>\n",
       "      <td>Severe acute respiratory syndrome (SARS) is a life-threatening disease for which accurate diagnosis is essential. Although many tools have been de...</td>\n",
       "      <td>Production of specific antibodies against SARS-coronavirus nucleocapsid protein without cross reactivity with human coronaviruses 229E and OC43</td>\n",
       "      <td>998</td>\n",
       "      <td>5.528531</td>\n",
       "      <td>reaction</td>\n",
       "      <td>Production of specific antibodies against SARS-coronavirus nucleocapsid protein without cross reactivity with human coronaviruses 229E and OC43 Se...</td>\n",
       "    </tr>\n",
       "    <tr>\n",
       "      <th>999</th>\n",
       "      <td>1</td>\n",
       "      <td>139471</td>\n",
       "      <td>45gen3qw</td>\n",
       "      <td>Community acquired pneumonia Acute infectious pneumonia is a serious public health problem because it is a major cause of morbidity and mortality ...</td>\n",
       "      <td>Les pneumopathies communautaires</td>\n",
       "      <td>999</td>\n",
       "      <td>5.528531</td>\n",
       "      <td>reaction</td>\n",
       "      <td>Les pneumopathies communautaires Community acquired pneumonia Acute infectious pneumonia is a...Les pneumopathies communautaires serious public he...</td>\n",
       "    </tr>\n",
       "  </tbody>\n",
       "</table>\n",
       "<p>1000 rows × 9 columns</p>\n",
       "</div>"
      ],
      "text/plain": [
       "    qid   docid     docno  \\\n",
       "0     1  120041  pb00yr0r   \n",
       "1     1  177724  44jyy79k   \n",
       "2     1   11268  qroxmo85   \n",
       "3     1   52435  x3x9b7q0   \n",
       "4     1   24432  094bk0t0   \n",
       "..   ..     ...       ...   \n",
       "995   1  116751  sa6o2jtz   \n",
       "996   1  117345  m5eple6p   \n",
       "997   1  124413  anflid7n   \n",
       "998   1  137343  95kpbpj5   \n",
       "999   1  139471  45gen3qw   \n",
       "\n",
       "                                                                                                                                                  abstract  \\\n",
       "0    In this work, hybridization chain reactions (HCRs) toward Severe Acute Respiratory Syndrome Coronavirus 2 (SARS-CoV-2) nucleocapsid phosphoprotein...   \n",
       "1    In this work, hybridization chain reactions (HCRs) toward Severe Acute Respiratory Syndrome Coronavirus 2 (SARS–CoV-2) nucleocapsid phosphoprotein...   \n",
       "2    PURPOSE: Biotechnological substances (BSs) are strongly relied upon to prevent rejection of transplanted organs, and to treat oncological, allergo...   \n",
       "3    Background: Dimethyl sulfoxide (DMSO) has been used for medical treatment and as a pharmacological agent in humans since the 1960s. Today, DMSO is...   \n",
       "4    Purpose: Biotechnological substances (BSs) are strongly relied upon to prevent rejection of transplanted organs, and to treat oncological, allergo...   \n",
       "..                                                                                                                                                     ...   \n",
       "995  SARS-CoV-2, the novel coronavirus from China, is spreading around the world, causing a huge reaction despite its current low incidence outside Chi...   \n",
       "996  We report a case series of 6 patients with confirmed coronavirus disease 2019 (COVID-19) in Wakayama prefecture, Japan. All 6 of the patients test...   \n",
       "997  The typical functions of antibodies are based on linking the process of antigen recognition with initiation of innate immune reactions. With the i...   \n",
       "998  Severe acute respiratory syndrome (SARS) is a life-threatening disease for which accurate diagnosis is essential. Although many tools have been de...   \n",
       "999  Community acquired pneumonia Acute infectious pneumonia is a serious public health problem because it is a major cause of morbidity and mortality ...   \n",
       "\n",
       "                                                                                                                                               title  \\\n",
       "0                                           Hybridization Chain Reactions Targeting the Severe Acute Respiratory Syndrome Coronavirus 2 (SARS-CoV-2)   \n",
       "1                                           Hybridization Chain Reactions Targeting the Severe Acute Respiratory Syndrome Coronavirus 2 (SARS-CoV-2)   \n",
       "2          Hypersensitivity reactions to biologics (part I): allergy as an important differential diagnosis in complex immune-derived adverse events   \n",
       "3                                                                            Adverse reactions of dimethyl sulfoxide in humans: a systematic review.   \n",
       "4         Hypersensitivity reactions to biologics (part I): allergy as an important differential diagnosis in complex immune-derived adverse events*   \n",
       "..                                                                                                                                               ...   \n",
       "995                                                                                                                     SARS-CoV-2: fear versus data   \n",
       "996                                         Clinical Characteristics of Patients With Coronavirus Disease 2019 in Japan: A Single-Center Case Series   \n",
       "997                                                                                                             Noncanonical Functions of Antibodies   \n",
       "998  Production of specific antibodies against SARS-coronavirus nucleocapsid protein without cross reactivity with human coronaviruses 229E and OC43   \n",
       "999                                                                                                                 Les pneumopathies communautaires   \n",
       "\n",
       "     rank     score     query  \\\n",
       "0       0  9.291689  reaction   \n",
       "1       1  9.291689  reaction   \n",
       "2       2  9.173707  reaction   \n",
       "3       3  9.093104  reaction   \n",
       "4       4  9.089707  reaction   \n",
       "..    ...       ...       ...   \n",
       "995   995  5.528531  reaction   \n",
       "996   996  5.528531  reaction   \n",
       "997   997  5.528531  reaction   \n",
       "998   998  5.528531  reaction   \n",
       "999   999  5.528531  reaction   \n",
       "\n",
       "                                                                                                                                                   summary  \n",
       "0    Hybridization Chain Reactions Targeting the Severe Acute Respiratory Syndrome Coronavirus 2 (SARS-CoV-2) In this work, hybridization chain reactio...  \n",
       "1    Hybridization Chain Reactions Targeting the Severe Acute Respiratory Syndrome Coronavirus 2 (SARS-CoV-2) In this work, hybridization chain reactio...  \n",
       "2    Hypersensitivity reactions to biologics (part I): allergy as an important differential diagnosis in complex immune-derived adverse events PURPOSE:...  \n",
       "3    Adverse reactions of dimethyl sulfoxide in humans: a systematic review. Background: Dimethyl sulfoxide (DMSO) has been used for...Adverse reaction...  \n",
       "4    Hypersensitivity reactions to biologics (part I): allergy as an important differential diagnosis in complex immune-derived adverse events* Purpose...  \n",
       "..                                                                                                                                                     ...  \n",
       "995  SARS-CoV-2: fear versus data SARS-CoV-2, the novel coronavirus from China, is spreading...SARS-CoV-2: fear versus data around the world, causing a...  \n",
       "996  Clinical Characteristics of Patients With Coronavirus Disease 2019 in Japan: A Single-Center Case Series We report a case series of 6 patients...C...  \n",
       "997  Noncanonical Functions of Antibodies The typical functions of antibodies are based on...Noncanonical Functions of Antibodies linking the process o...  \n",
       "998  Production of specific antibodies against SARS-coronavirus nucleocapsid protein without cross reactivity with human coronaviruses 229E and OC43 Se...  \n",
       "999  Les pneumopathies communautaires Community acquired pneumonia Acute infectious pneumonia is a...Les pneumopathies communautaires serious public he...  \n",
       "\n",
       "[1000 rows x 9 columns]"
      ]
     },
     "execution_count": 44,
     "metadata": {},
     "output_type": "execute_result"
    }
   ],
   "source": [
    "query = 'reaction'\n",
    "\n",
    "snippet_pipeline.search(query)"
   ]
  },
  {
   "cell_type": "markdown",
   "id": "1284131b-b125-4322-adec-ffba6f6aa791",
   "metadata": {
    "id": "1284131b-b125-4322-adec-ffba6f6aa791"
   },
   "source": [
    "## Learning to Rank\n",
    "\n",
    "In this last part of the notebook, you will experience constructing, learning, evaluating and analysing learning to rank pipelines.\n"
   ]
  },
  {
   "cell_type": "markdown",
   "id": "373f9203-2f7a-4962-84ca-7c1103b6716f",
   "metadata": {
    "id": "373f9203-2f7a-4962-84ca-7c1103b6716f"
   },
   "source": [
    "Firstly, lets split out topics into train, validation and test sets. TREC Covid only has 50 topics, which isnt a lot for training. We'll split this 30 for training 5 for validation and 15 for test. We will also examine statistical significance, even if this is artificial for 15 topics.\n",
    "\n",
    "We're only going to-rank the top 10 documents for each query - hopefully learning to rank can help to re-rank the top 10 documents to be more effective."
   ]
  },
  {
   "cell_type": "markdown",
   "id": "qY1PV92rL4k8",
   "metadata": {
    "id": "qY1PV92rL4k8"
   },
   "source": [
    "We define some constants to controthe cutoff and make the experiments reproducible"
   ]
  },
  {
   "cell_type": "code",
   "execution_count": 45,
   "id": "-WiLHCGDMFGU",
   "metadata": {
    "id": "-WiLHCGDMFGU"
   },
   "outputs": [],
   "source": [
    "RANK_CUTOFF = 10\n",
    "SEED = 42"
   ]
  },
  {
   "cell_type": "markdown",
   "id": "6ATh25ITMFjx",
   "metadata": {
    "id": "6ATh25ITMFjx"
   },
   "source": [
    "Then we use the splitting utility from Scikit-Learn"
   ]
  },
  {
   "cell_type": "code",
   "execution_count": 46,
   "id": "a3ce455c-2244-40d5-b179-6343b02ddaf8",
   "metadata": {
    "id": "a3ce455c-2244-40d5-b179-6343b02ddaf8"
   },
   "outputs": [],
   "source": [
    "from sklearn.model_selection import train_test_split\n",
    "\n",
    "tr_va_topics, test_topics = train_test_split(topics, test_size=15, random_state=SEED)\n",
    "train_topics, valid_topics =  train_test_split(tr_va_topics, test_size=5, random_state=SEED)"
   ]
  },
  {
   "cell_type": "markdown",
   "id": "bbe513d6-ea0b-4c23-87c6-b3621e85ae32",
   "metadata": {
    "id": "bbe513d6-ea0b-4c23-87c6-b3621e85ae32"
   },
   "source": [
    "### Feature Set\n",
    "\n",
    "Lets define our feature set.  We're going to have a total of 5 features:\n",
    "\n",
    "1.   the BM25 abstract score;\n",
    "2.   the BM25 score on the title;\n",
    "3.   whether the abstract contain 'coronavirus covid', scored by BM25;\n",
    "4.   whether the paper was released/published in 2020 (Recent papers were more useful for this task);\n",
    "5.   whether the paper is a formal publication? (we can get this information checking whether the paper has a special identifier called DOI)\n",
    "\n",
    "Several of these feature require additional metadata `[\"title\", \"date\", \"doi\"]`. Fortunately, the TREC Covid dataset allows us to obtain more metadata after indexing. We use `pt.text.get_text(cord19, [\"title\", \"date\", \"doi\"])` to retrieve these extra metadata columns.\n",
    "\n",
    "Note the complete pipeline definition is a bit complex, just keep in mind we are interested in extracting the features we just listed"
   ]
  },
  {
   "cell_type": "code",
   "execution_count": 47,
   "id": "704e0590-3543-4062-8cc5-d7fcd935d7f9",
   "metadata": {
    "id": "704e0590-3543-4062-8cc5-d7fcd935d7f9"
   },
   "outputs": [],
   "source": [
    "ltr_feats = (bm25 % RANK_CUTOFF) >> pt.text.get_text(cord19, [\"title\", \"date\", \"doi\"]) >> (\n",
    "    pt.transformer.IdentityTransformer()\n",
    "    ** # score of title (not originally indexed)\n",
    "    (pt.text.scorer(body_attr=\"title\", takes='docs', wmodel='BM25') )\n",
    "    ** # score of text for query 'coronavirus covid'\n",
    "    (pt.apply.query(lambda row: 'coronavirus covid') >> bm25)\n",
    "    ** # date 2020\n",
    "    (pt.apply.doc_score(lambda row: int(\"2020\" in row[\"date\"])))\n",
    "    ** # has doi\n",
    "    (pt.apply.doc_score(lambda row: int( row[\"doi\"] is not None and len(row[\"doi\"]) > 0)))\n",
    ")"
   ]
  },
  {
   "cell_type": "markdown",
   "id": "GUXfNxVnMVc1",
   "metadata": {
    "id": "GUXfNxVnMVc1"
   },
   "source": [
    "For reference, we create a list with the names of the features"
   ]
  },
  {
   "cell_type": "code",
   "execution_count": 48,
   "id": "skRMV9zxMVu2",
   "metadata": {
    "id": "skRMV9zxMVu2"
   },
   "outputs": [],
   "source": [
    "fnames=[\"BM25 abstract\", \"BM25 title\", \"coronavirus covid\", \"2020\", \"DOI\"]"
   ]
  },
  {
   "cell_type": "markdown",
   "id": "79b222dd-b5c5-475b-85b6-b1046c95673e",
   "metadata": {
    "id": "79b222dd-b5c5-475b-85b6-b1046c95673e"
   },
   "source": [
    "Lets see the output for a given query."
   ]
  },
  {
   "cell_type": "code",
   "execution_count": 49,
   "id": "54da689a-87da-49de-9c29-3d9464d5dcd2",
   "metadata": {
    "id": "54da689a-87da-49de-9c29-3d9464d5dcd2"
   },
   "outputs": [
    {
     "name": "stdout",
     "output_type": "stream",
     "text": [
      "14:59:12.566 [main] WARN org.terrier.querying.ApplyTermPipeline -- The index has no termpipelines configuration, and no control configuration is found. Defaulting to global termpipelines configuration of 'Stopwords,PorterStemmer'. Set a termpipelines control to remove this warning.\n"
     ]
    },
    {
     "data": {
      "text/html": [
       "<div>\n",
       "<style scoped>\n",
       "    .dataframe tbody tr th:only-of-type {\n",
       "        vertical-align: middle;\n",
       "    }\n",
       "\n",
       "    .dataframe tbody tr th {\n",
       "        vertical-align: top;\n",
       "    }\n",
       "\n",
       "    .dataframe thead th {\n",
       "        text-align: right;\n",
       "    }\n",
       "</style>\n",
       "<table border=\"1\" class=\"dataframe\">\n",
       "  <thead>\n",
       "    <tr style=\"text-align: right;\">\n",
       "      <th></th>\n",
       "      <th>qid</th>\n",
       "      <th>docid</th>\n",
       "      <th>docno</th>\n",
       "      <th>rank</th>\n",
       "      <th>score</th>\n",
       "      <th>query</th>\n",
       "      <th>title</th>\n",
       "      <th>date</th>\n",
       "      <th>doi</th>\n",
       "      <th>features</th>\n",
       "    </tr>\n",
       "  </thead>\n",
       "  <tbody>\n",
       "    <tr>\n",
       "      <th>0</th>\n",
       "      <td>1</td>\n",
       "      <td>188321</td>\n",
       "      <td>8bn74f2z</td>\n",
       "      <td>0</td>\n",
       "      <td>20.541477</td>\n",
       "      <td>coronovirus origin</td>\n",
       "      <td>Reply to Comments on 'Co‐infection of SARS‐CoV‐2 and HIV in a patient in Wuhan city, China’</td>\n",
       "      <td>2020-04-08</td>\n",
       "      <td>10.1002/jmv.25838</td>\n",
       "      <td>[20.541476673741375, 0.0, 2.899767665915253, 1.0, 1.0]</td>\n",
       "    </tr>\n",
       "    <tr>\n",
       "      <th>1</th>\n",
       "      <td>1</td>\n",
       "      <td>93090</td>\n",
       "      <td>ciqs6l7e</td>\n",
       "      <td>1</td>\n",
       "      <td>19.859401</td>\n",
       "      <td>coronovirus origin</td>\n",
       "      <td>The spread of the COVID-19 coronavirus: Health agencies worldwide prepare for the seemingly inevitability of the COVID-19 coronavirus becoming end...</td>\n",
       "      <td>2020</td>\n",
       "      <td></td>\n",
       "      <td>[19.859401180444888, 0.0, 2.8034814790656633, 1.0, 0.0]</td>\n",
       "    </tr>\n",
       "    <tr>\n",
       "      <th>2</th>\n",
       "      <td>1</td>\n",
       "      <td>93091</td>\n",
       "      <td>qe9w4qbu</td>\n",
       "      <td>2</td>\n",
       "      <td>19.859401</td>\n",
       "      <td>coronovirus origin</td>\n",
       "      <td>The spread of the COVID-19 coronavirus: Health agencies worldwide prepare for the seemingly inevitability of the COVID-19 coronavirus becoming end...</td>\n",
       "      <td>2020</td>\n",
       "      <td></td>\n",
       "      <td>[19.859401180444888, 0.0, 2.8034814790656633, 1.0, 0.0]</td>\n",
       "    </tr>\n",
       "    <tr>\n",
       "      <th>3</th>\n",
       "      <td>1</td>\n",
       "      <td>152453</td>\n",
       "      <td>egzztatj</td>\n",
       "      <td>3</td>\n",
       "      <td>19.459604</td>\n",
       "      <td>coronovirus origin</td>\n",
       "      <td>The spread of the COVID‐19 coronavirus: Health agencies worldwide prepare for the seemingly inevitability of the COVID‐19 coronavirus becoming end...</td>\n",
       "      <td>2020-03-17</td>\n",
       "      <td>10.15252/embr.202050334</td>\n",
       "      <td>[19.459604473560834, 0.0, 2.7470435908858053, 1.0, 1.0]</td>\n",
       "    </tr>\n",
       "    <tr>\n",
       "      <th>4</th>\n",
       "      <td>1</td>\n",
       "      <td>105298</td>\n",
       "      <td>9ci1u50r</td>\n",
       "      <td>4</td>\n",
       "      <td>18.009391</td>\n",
       "      <td>coronovirus origin</td>\n",
       "      <td>Placental Pathology in Covid-19 Positive Mothers: Preliminary Findings</td>\n",
       "      <td>2020</td>\n",
       "      <td></td>\n",
       "      <td>[18.009390548413062, 0.0, 0.0, 1.0, 0.0]</td>\n",
       "    </tr>\n",
       "    <tr>\n",
       "      <th>5</th>\n",
       "      <td>1</td>\n",
       "      <td>175511</td>\n",
       "      <td>kdo2hir8</td>\n",
       "      <td>5</td>\n",
       "      <td>18.009391</td>\n",
       "      <td>coronovirus origin</td>\n",
       "      <td>Placental Pathology in Covid-19 Positive Mothers: Preliminary Findings</td>\n",
       "      <td>2020-05-12</td>\n",
       "      <td>10.1177/1093526620925569</td>\n",
       "      <td>[18.009390548413062, 0.0, 0.0, 1.0, 1.0]</td>\n",
       "    </tr>\n",
       "    <tr>\n",
       "      <th>6</th>\n",
       "      <td>1</td>\n",
       "      <td>97984</td>\n",
       "      <td>76laky91</td>\n",
       "      <td>6</td>\n",
       "      <td>16.673852</td>\n",
       "      <td>coronovirus origin</td>\n",
       "      <td>Cross-species transmission of the newly identified coronavirus 2019-nCoV</td>\n",
       "      <td>2020</td>\n",
       "      <td></td>\n",
       "      <td>[16.67385232414447, 0.0, 3.373008609821995, 1.0, 0.0]</td>\n",
       "    </tr>\n",
       "    <tr>\n",
       "      <th>7</th>\n",
       "      <td>1</td>\n",
       "      <td>97985</td>\n",
       "      <td>niytf3wo</td>\n",
       "      <td>7</td>\n",
       "      <td>16.673852</td>\n",
       "      <td>coronovirus origin</td>\n",
       "      <td>Cross-species transmission of the newly identified coronavirus 2019-nCoV</td>\n",
       "      <td>2020</td>\n",
       "      <td></td>\n",
       "      <td>[16.67385232414447, 0.0, 3.373008609821995, 1.0, 0.0]</td>\n",
       "    </tr>\n",
       "    <tr>\n",
       "      <th>8</th>\n",
       "      <td>1</td>\n",
       "      <td>97986</td>\n",
       "      <td>262bcl7h</td>\n",
       "      <td>8</td>\n",
       "      <td>16.673852</td>\n",
       "      <td>coronovirus origin</td>\n",
       "      <td>Cross-species transmission of the newly identified coronavirus 2019-nCoV</td>\n",
       "      <td>2020</td>\n",
       "      <td></td>\n",
       "      <td>[16.67385232414447, 0.0, 3.373008609821995, 1.0, 0.0]</td>\n",
       "    </tr>\n",
       "    <tr>\n",
       "      <th>9</th>\n",
       "      <td>1</td>\n",
       "      <td>97987</td>\n",
       "      <td>nip1ax1x</td>\n",
       "      <td>9</td>\n",
       "      <td>16.673852</td>\n",
       "      <td>coronovirus origin</td>\n",
       "      <td>Cross-species transmission of the newly identified coronavirus 2019-nCoV</td>\n",
       "      <td>2020</td>\n",
       "      <td></td>\n",
       "      <td>[16.67385232414447, 0.0, 3.373008609821995, 1.0, 0.0]</td>\n",
       "    </tr>\n",
       "  </tbody>\n",
       "</table>\n",
       "</div>"
      ],
      "text/plain": [
       "  qid   docid     docno  rank      score               query  \\\n",
       "0   1  188321  8bn74f2z     0  20.541477  coronovirus origin   \n",
       "1   1   93090  ciqs6l7e     1  19.859401  coronovirus origin   \n",
       "2   1   93091  qe9w4qbu     2  19.859401  coronovirus origin   \n",
       "3   1  152453  egzztatj     3  19.459604  coronovirus origin   \n",
       "4   1  105298  9ci1u50r     4  18.009391  coronovirus origin   \n",
       "5   1  175511  kdo2hir8     5  18.009391  coronovirus origin   \n",
       "6   1   97984  76laky91     6  16.673852  coronovirus origin   \n",
       "7   1   97985  niytf3wo     7  16.673852  coronovirus origin   \n",
       "8   1   97986  262bcl7h     8  16.673852  coronovirus origin   \n",
       "9   1   97987  nip1ax1x     9  16.673852  coronovirus origin   \n",
       "\n",
       "                                                                                                                                                   title  \\\n",
       "0                                                            Reply to Comments on 'Co‐infection of SARS‐CoV‐2 and HIV in a patient in Wuhan city, China’   \n",
       "1  The spread of the COVID-19 coronavirus: Health agencies worldwide prepare for the seemingly inevitability of the COVID-19 coronavirus becoming end...   \n",
       "2  The spread of the COVID-19 coronavirus: Health agencies worldwide prepare for the seemingly inevitability of the COVID-19 coronavirus becoming end...   \n",
       "3  The spread of the COVID‐19 coronavirus: Health agencies worldwide prepare for the seemingly inevitability of the COVID‐19 coronavirus becoming end...   \n",
       "4                                                                                 Placental Pathology in Covid-19 Positive Mothers: Preliminary Findings   \n",
       "5                                                                                 Placental Pathology in Covid-19 Positive Mothers: Preliminary Findings   \n",
       "6                                                                               Cross-species transmission of the newly identified coronavirus 2019-nCoV   \n",
       "7                                                                               Cross-species transmission of the newly identified coronavirus 2019-nCoV   \n",
       "8                                                                               Cross-species transmission of the newly identified coronavirus 2019-nCoV   \n",
       "9                                                                               Cross-species transmission of the newly identified coronavirus 2019-nCoV   \n",
       "\n",
       "         date                       doi  \\\n",
       "0  2020-04-08         10.1002/jmv.25838   \n",
       "1        2020                             \n",
       "2        2020                             \n",
       "3  2020-03-17   10.15252/embr.202050334   \n",
       "4        2020                             \n",
       "5  2020-05-12  10.1177/1093526620925569   \n",
       "6        2020                             \n",
       "7        2020                             \n",
       "8        2020                             \n",
       "9        2020                             \n",
       "\n",
       "                                                  features  \n",
       "0   [20.541476673741375, 0.0, 2.899767665915253, 1.0, 1.0]  \n",
       "1  [19.859401180444888, 0.0, 2.8034814790656633, 1.0, 0.0]  \n",
       "2  [19.859401180444888, 0.0, 2.8034814790656633, 1.0, 0.0]  \n",
       "3  [19.459604473560834, 0.0, 2.7470435908858053, 1.0, 1.0]  \n",
       "4                 [18.009390548413062, 0.0, 0.0, 1.0, 0.0]  \n",
       "5                 [18.009390548413062, 0.0, 0.0, 1.0, 1.0]  \n",
       "6    [16.67385232414447, 0.0, 3.373008609821995, 1.0, 0.0]  \n",
       "7    [16.67385232414447, 0.0, 3.373008609821995, 1.0, 0.0]  \n",
       "8    [16.67385232414447, 0.0, 3.373008609821995, 1.0, 0.0]  \n",
       "9    [16.67385232414447, 0.0, 3.373008609821995, 1.0, 0.0]  "
      ]
     },
     "execution_count": 49,
     "metadata": {},
     "output_type": "execute_result"
    }
   ],
   "source": [
    "ltr_feats.search(\"coronovirus origin\")"
   ]
  },
  {
   "cell_type": "markdown",
   "id": "LyXgL6Ppb3nV",
   "metadata": {
    "id": "LyXgL6Ppb3nV"
   },
   "source": [
    "We can see that we now have extra document metadata columns `[\"title\", \"date\", \"doi\"]`, as well as the `\"features\"` column. This last column contains the array of features we are going to use in the learning step"
   ]
  },
  {
   "cell_type": "markdown",
   "id": "c208a118-b0ab-48e0-8cd5-b5239d28f735",
   "metadata": {
    "id": "c208a118-b0ab-48e0-8cd5-b5239d28f735"
   },
   "source": [
    "We can also look at the raw features values (in this case for the first ranked document)"
   ]
  },
  {
   "cell_type": "code",
   "execution_count": 50,
   "id": "fd0719cd-b1f7-45bf-8562-5e4e59705369",
   "metadata": {
    "id": "fd0719cd-b1f7-45bf-8562-5e4e59705369"
   },
   "outputs": [
    {
     "name": "stdout",
     "output_type": "stream",
     "text": [
      "14:59:12.687 [main] WARN org.terrier.querying.ApplyTermPipeline -- The index has no termpipelines configuration, and no control configuration is found. Defaulting to global termpipelines configuration of 'Stopwords,PorterStemmer'. Set a termpipelines control to remove this warning.\n",
      "Features: [20.54147667  0.          2.89976767  1.          1.        ]\n"
     ]
    }
   ],
   "source": [
    "print('Features:', ltr_feats.search(\"coronovirus origin\").iloc[0][\"features\"])"
   ]
  },
  {
   "cell_type": "markdown",
   "id": "b3ca43cd-0117-4d4b-97e0-d709544e0dc8",
   "metadata": {
    "id": "b3ca43cd-0117-4d4b-97e0-d709544e0dc8"
   },
   "source": [
    "### Learning\n",
    "\n",
    "In this part of the notebook, we apply three different learning to rank techniques:\n",
    "\n",
    " - coordinate ascent from FastRank, a listwise linear technique\n",
    " - random forests from `scikit-learn`, a pointwise regression tree technique\n",
    " - LambdaMART from LightGBM, a listwise regression tree technique\n",
    "\n",
    "In each case, we take our feature pipeline, `ltr_feats1`, and we compose it (`>>`) with the learned model. We use `pt.ltr.apply_learned_model()` which knows how to deal with different learners.\n",
    "\n",
    "The full pipeline is then fitted (learned) using `.fit()`, specifying the training topics and qrels. Importantly, the preceeding stages of the pipeline (retrieval and feature calculation) are applied to the training topics in order to obtained the results, which are then passed to the learning to rank technique. LightGBM has early stopping enabled, which uses a validation topics set – similarly the validation topics are transformed into validation results.\n"
   ]
  },
  {
   "cell_type": "markdown",
   "id": "eyoFDFtmOWLs",
   "metadata": {
    "id": "eyoFDFtmOWLs"
   },
   "source": [
    "#### Linear regression model"
   ]
  },
  {
   "cell_type": "code",
   "execution_count": 51,
   "id": "1e5db2e6-75da-4996-9d9a-a1fadd9bd0ac",
   "metadata": {
    "id": "1e5db2e6-75da-4996-9d9a-a1fadd9bd0ac"
   },
   "outputs": [
    {
     "name": "stdout",
     "output_type": "stream",
     "text": [
      "14:59:14.012 [main] WARN org.terrier.querying.ApplyTermPipeline -- The index has no termpipelines configuration, and no control configuration is found. Defaulting to global termpipelines configuration of 'Stopwords,PorterStemmer'. Set a termpipelines control to remove this warning.\n"
     ]
    },
    {
     "name": "stderr",
     "output_type": "stream",
     "text": [
      "/home/adrien/Documents/PoliMi/TP/Natural Language Processing/.venv/lib/python3.11/site-packages/pyterrier/ops.py:242: UserWarning: Got number of results different expected from <pyterrier.terrier.retriever.TextScorer object at 0x7782bdd6e950>, expected 300 received 304, feature scores for any missing documents be 0, extraneous documents will be removed\n",
      "  warn(\"Got number of results different expected from %s, expected %d received %d, feature scores for any \"\n"
     ]
    }
   ],
   "source": [
    "from sklearn.linear_model import LinearRegression\n",
    "\n",
    "lr = LinearRegression()\n",
    "\n",
    "lr_pipe = ltr_feats >> pt.ltr.apply_learned_model(lr)\n",
    "\n",
    "lr_pipe.fit(train_topics, qrels)"
   ]
  },
  {
   "cell_type": "markdown",
   "id": "J2sRScAAOYVN",
   "metadata": {
    "id": "J2sRScAAOYVN"
   },
   "source": [
    "#### Non-linear regression model"
   ]
  },
  {
   "cell_type": "code",
   "execution_count": 52,
   "id": "ecdba77d-4ccb-4d8a-97c9-98ec613ca2c5",
   "metadata": {
    "id": "ecdba77d-4ccb-4d8a-97c9-98ec613ca2c5"
   },
   "outputs": [
    {
     "name": "stdout",
     "output_type": "stream",
     "text": [
      "14:59:15.765 [main] WARN org.terrier.querying.ApplyTermPipeline -- The index has no termpipelines configuration, and no control configuration is found. Defaulting to global termpipelines configuration of 'Stopwords,PorterStemmer'. Set a termpipelines control to remove this warning.\n"
     ]
    },
    {
     "name": "stderr",
     "output_type": "stream",
     "text": [
      "/home/adrien/Documents/PoliMi/TP/Natural Language Processing/.venv/lib/python3.11/site-packages/pyterrier/ops.py:242: UserWarning: Got number of results different expected from <pyterrier.terrier.retriever.TextScorer object at 0x7782bdd6e950>, expected 300 received 304, feature scores for any missing documents be 0, extraneous documents will be removed\n",
      "  warn(\"Got number of results different expected from %s, expected %d received %d, feature scores for any \"\n",
      "[Parallel(n_jobs=-1)]: Using backend ThreadingBackend with 16 concurrent workers.\n",
      "[Parallel(n_jobs=-1)]: Done  18 tasks      | elapsed:    0.0s\n",
      "[Parallel(n_jobs=-1)]: Done 168 tasks      | elapsed:    0.2s\n",
      "[Parallel(n_jobs=-1)]: Done 400 out of 400 | elapsed:    0.5s finished\n"
     ]
    }
   ],
   "source": [
    "from sklearn.ensemble import RandomForestRegressor\n",
    "\n",
    "rf = RandomForestRegressor(n_estimators=400, verbose=1, random_state=SEED, n_jobs=-1)\n",
    "\n",
    "rf_pipe = ltr_feats >> pt.ltr.apply_learned_model(rf)\n",
    "\n",
    "rf_pipe.fit(train_topics, qrels)"
   ]
  },
  {
   "cell_type": "markdown",
   "id": "-lhoSLadOwRl",
   "metadata": {
    "id": "-lhoSLadOwRl"
   },
   "source": [
    "#### LambdaMART\n",
    "\n",
    "LambdaMART is a listwise appraoch to learning to rank documents. It makes use of Gradient Boosted Regression trees to optimize an approximation to the NDCG evaluation function.\n",
    "\n",
    "To learn a LambdaMART model we first need to install [LightGBM](https://lightgbm.readthedocs.io/en/latest/)."
   ]
  },
  {
   "cell_type": "code",
   "execution_count": 53,
   "id": "ef77b500-d9d1-4e18-955b-91b7bd1b87a2",
   "metadata": {
    "id": "ef77b500-d9d1-4e18-955b-91b7bd1b87a2"
   },
   "outputs": [
    {
     "name": "stdout",
     "output_type": "stream",
     "text": [
      "Note: you may need to restart the kernel to use updated packages.\n"
     ]
    }
   ],
   "source": [
    "%pip install -q --upgrade lightgbm==3.1.1"
   ]
  },
  {
   "cell_type": "markdown",
   "id": "S1_2kLbo_Zwj",
   "metadata": {
    "id": "S1_2kLbo_Zwj"
   },
   "source": [
    "Now we can train the model:"
   ]
  },
  {
   "cell_type": "code",
   "execution_count": 54,
   "id": "4b163cd2-50a8-4c7a-8c46-538e6b12fc18",
   "metadata": {
    "id": "4b163cd2-50a8-4c7a-8c46-538e6b12fc18"
   },
   "outputs": [
    {
     "name": "stdout",
     "output_type": "stream",
     "text": [
      "14:59:20.186 [main] WARN org.terrier.querying.ApplyTermPipeline -- The index has no termpipelines configuration, and no control configuration is found. Defaulting to global termpipelines configuration of 'Stopwords,PorterStemmer'. Set a termpipelines control to remove this warning.\n"
     ]
    },
    {
     "name": "stderr",
     "output_type": "stream",
     "text": [
      "/home/adrien/Documents/PoliMi/TP/Natural Language Processing/.venv/lib/python3.11/site-packages/pyterrier/ops.py:242: UserWarning: Got number of results different expected from <pyterrier.terrier.retriever.TextScorer object at 0x7782bdd6e950>, expected 300 received 304, feature scores for any missing documents be 0, extraneous documents will be removed\n",
      "  warn(\"Got number of results different expected from %s, expected %d received %d, feature scores for any \"\n"
     ]
    },
    {
     "name": "stdout",
     "output_type": "stream",
     "text": [
      "14:59:20.653 [main] WARN org.terrier.querying.ApplyTermPipeline -- The index has no termpipelines configuration, and no control configuration is found. Defaulting to global termpipelines configuration of 'Stopwords,PorterStemmer'. Set a termpipelines control to remove this warning.\n",
      "[LightGBM] [Warning] early_stopping_round is set=5, early_stopping_rounds=5 will be ignored. Current value: early_stopping_round=5\n",
      "[LightGBM] [Warning] min_sum_hessian_in_leaf is set=1, min_child_weight=0.001 will be ignored. Current value: min_sum_hessian_in_leaf=1\n",
      "[LightGBM] [Warning] min_data_in_leaf is set=1, min_child_samples=20 will be ignored. Current value: min_data_in_leaf=1\n",
      "[LightGBM] [Warning] min_sum_hessian_in_leaf is set=1, min_child_weight=0.001 will be ignored. Current value: min_sum_hessian_in_leaf=1\n",
      "[LightGBM] [Warning] min_data_in_leaf is set=1, min_child_samples=20 will be ignored. Current value: min_data_in_leaf=1\n",
      "[LightGBM] [Warning] Auto-choosing row-wise multi-threading, the overhead of testing was 0,000430 seconds.\n",
      "You can set `force_row_wise=true` to remove the overhead.\n",
      "And if memory is not enough, you can set `force_col_wise=true`.\n",
      "[LightGBM] [Info] Total Bins 252\n",
      "[LightGBM] [Info] Number of data points in the train set: 4392, number of used features: 5\n",
      "[LightGBM] [Warning] early_stopping_round is set=5, early_stopping_rounds=5 will be ignored. Current value: early_stopping_round=5\n",
      "[LightGBM] [Warning] min_sum_hessian_in_leaf is set=1, min_child_weight=0.001 will be ignored. Current value: min_sum_hessian_in_leaf=1\n",
      "[LightGBM] [Warning] min_data_in_leaf is set=1, min_child_samples=20 will be ignored. Current value: min_data_in_leaf=1\n",
      "[LightGBM] [Warning] No further splits with positive gain, best gain: -inf\n",
      "[1]\tvalid_0's ndcg@10: 0.844726\n",
      "Training until validation scores don't improve for 5 rounds\n",
      "[2]\tvalid_0's ndcg@10: 0.85386\n",
      "[3]\tvalid_0's ndcg@10: 0.85386\n",
      "[LightGBM] [Warning] No further splits with positive gain, best gain: -inf\n",
      "[4]\tvalid_0's ndcg@10: 0.85386\n",
      "[LightGBM] [Warning] No further splits with positive gain, best gain: -inf\n",
      "[5]\tvalid_0's ndcg@10: 0.85386\n",
      "[LightGBM] [Warning] No further splits with positive gain, best gain: -inf\n",
      "[6]\tvalid_0's ndcg@10: 0.85386\n",
      "[LightGBM] [Warning] No further splits with positive gain, best gain: -inf\n",
      "[7]\tvalid_0's ndcg@10: 0.85386\n",
      "Early stopping, best iteration is:\n",
      "[2]\tvalid_0's ndcg@10: 0.85386\n"
     ]
    },
    {
     "name": "stderr",
     "output_type": "stream",
     "text": [
      "/home/adrien/Documents/PoliMi/TP/Natural Language Processing/.venv/lib/python3.11/site-packages/pyterrier/ops.py:242: UserWarning: Got number of results different expected from <pyterrier.terrier.retriever.TextScorer object at 0x7782bdd6e950>, expected 50 received 54, feature scores for any missing documents be 0, extraneous documents will be removed\n",
      "  warn(\"Got number of results different expected from %s, expected %d received %d, feature scores for any \"\n",
      "/home/adrien/Documents/PoliMi/TP/Natural Language Processing/.venv/lib/python3.11/site-packages/sklearn/utils/deprecation.py:151: FutureWarning: 'force_all_finite' was renamed to 'ensure_all_finite' in 1.6 and will be removed in 1.8.\n",
      "  warnings.warn(\n",
      "/home/adrien/Documents/PoliMi/TP/Natural Language Processing/.venv/lib/python3.11/site-packages/lightgbm/engine.py:151: UserWarning: Found `num_iterations` in params. Will use it instead of argument\n",
      "  warnings.warn(\"Found `{}` in params. Will use it instead of argument\".format(alias))\n",
      "/home/adrien/Documents/PoliMi/TP/Natural Language Processing/.venv/lib/python3.11/site-packages/lightgbm/engine.py:156: UserWarning: Found `early_stopping_rounds` in params. Will use it instead of argument\n",
      "  warnings.warn(\"Found `{}` in params. Will use it instead of argument\".format(alias))\n"
     ]
    }
   ],
   "source": [
    "import lightgbm as lgb\n",
    "\n",
    "# This configures LightGBM as LambdaMART\n",
    "lmart_l = lgb.LGBMRanker(\n",
    "    task=\"train\",\n",
    "    silent=False,\n",
    "    min_data_in_leaf=1,\n",
    "    min_sum_hessian_in_leaf=1,\n",
    "    max_bin=255,\n",
    "    num_leaves=31,\n",
    "    objective=\"lambdarank\",\n",
    "    metric=\"ndcg\",\n",
    "    ndcg_eval_at=[10],\n",
    "    ndcg_at=[10],\n",
    "    eval_at=[10],\n",
    "    learning_rate= .1,\n",
    "    importance_type=\"gain\",\n",
    "    num_iterations=100,\n",
    "    early_stopping_rounds=5\n",
    ")\n",
    "\n",
    "lmart_x_pipe = ltr_feats >> pt.ltr.apply_learned_model(lmart_l, form=\"ltr\", fit_kwargs={'eval_at':[10]})\n",
    "\n",
    "lmart_x_pipe.fit(train_topics, qrels, valid_topics, qrels)"
   ]
  },
  {
   "cell_type": "markdown",
   "id": "cd4e2ca1-b5dd-4efa-a5ba-b3d7ff96e41e",
   "metadata": {
    "id": "cd4e2ca1-b5dd-4efa-a5ba-b3d7ff96e41e"
   },
   "source": [
    "### Evaluation\n",
    "\n",
    "Lets now compare our ranking pipelines on our 15 topics with the BM25 baseline.\n",
    "\n",
    "We'll report MAP, NDCG measures."
   ]
  },
  {
   "cell_type": "code",
   "execution_count": 55,
   "id": "d679e187-5ee5-4317-a33e-3987be34fd01",
   "metadata": {
    "id": "d679e187-5ee5-4317-a33e-3987be34fd01"
   },
   "outputs": [
    {
     "name": "stdout",
     "output_type": "stream",
     "text": [
      "14:59:22.125 [main] WARN org.terrier.querying.ApplyTermPipeline -- The index has no termpipelines configuration, and no control configuration is found. Defaulting to global termpipelines configuration of 'Stopwords,PorterStemmer'. Set a termpipelines control to remove this warning.\n",
      "14:59:22.911 [main] WARN org.terrier.querying.ApplyTermPipeline -- The index has no termpipelines configuration, and no control configuration is found. Defaulting to global termpipelines configuration of 'Stopwords,PorterStemmer'. Set a termpipelines control to remove this warning.\n"
     ]
    },
    {
     "name": "stderr",
     "output_type": "stream",
     "text": [
      "[Parallel(n_jobs=16)]: Using backend ThreadingBackend with 16 concurrent workers.\n",
      "[Parallel(n_jobs=16)]: Done  18 tasks      | elapsed:    0.0s\n",
      "[Parallel(n_jobs=16)]: Done 168 tasks      | elapsed:    0.0s\n",
      "[Parallel(n_jobs=16)]: Done 400 out of 400 | elapsed:    0.1s finished\n"
     ]
    },
    {
     "name": "stdout",
     "output_type": "stream",
     "text": [
      "14:59:24.045 [main] WARN org.terrier.querying.ApplyTermPipeline -- The index has no termpipelines configuration, and no control configuration is found. Defaulting to global termpipelines configuration of 'Stopwords,PorterStemmer'. Set a termpipelines control to remove this warning.\n"
     ]
    },
    {
     "name": "stderr",
     "output_type": "stream",
     "text": [
      "/home/adrien/Documents/PoliMi/TP/Natural Language Processing/.venv/lib/python3.11/site-packages/sklearn/utils/deprecation.py:151: FutureWarning: 'force_all_finite' was renamed to 'ensure_all_finite' in 1.6 and will be removed in 1.8.\n",
      "  warnings.warn(\n"
     ]
    },
    {
     "data": {
      "text/html": [
       "<div>\n",
       "<style scoped>\n",
       "    .dataframe tbody tr th:only-of-type {\n",
       "        vertical-align: middle;\n",
       "    }\n",
       "\n",
       "    .dataframe tbody tr th {\n",
       "        vertical-align: top;\n",
       "    }\n",
       "\n",
       "    .dataframe thead th {\n",
       "        text-align: right;\n",
       "    }\n",
       "</style>\n",
       "<table border=\"1\" class=\"dataframe\">\n",
       "  <thead>\n",
       "    <tr style=\"text-align: right;\">\n",
       "      <th></th>\n",
       "      <th>name</th>\n",
       "      <th>map</th>\n",
       "      <th>ndcg</th>\n",
       "    </tr>\n",
       "  </thead>\n",
       "  <tbody>\n",
       "    <tr>\n",
       "      <th>0</th>\n",
       "      <td>BM25</td>\n",
       "      <td>0.010480</td>\n",
       "      <td>0.043844</td>\n",
       "    </tr>\n",
       "    <tr>\n",
       "      <th>1</th>\n",
       "      <td>BM25 + LinearRegression</td>\n",
       "      <td>0.010735</td>\n",
       "      <td>0.045175</td>\n",
       "    </tr>\n",
       "    <tr>\n",
       "      <th>2</th>\n",
       "      <td>BM25 + RandomForest</td>\n",
       "      <td>0.011052</td>\n",
       "      <td>0.046014</td>\n",
       "    </tr>\n",
       "    <tr>\n",
       "      <th>3</th>\n",
       "      <td>BM25 + LambdaMART</td>\n",
       "      <td>0.010876</td>\n",
       "      <td>0.045990</td>\n",
       "    </tr>\n",
       "  </tbody>\n",
       "</table>\n",
       "</div>"
      ],
      "text/plain": [
       "                      name       map      ndcg\n",
       "0                     BM25  0.010480  0.043844\n",
       "1  BM25 + LinearRegression  0.010735  0.045175\n",
       "2      BM25 + RandomForest  0.011052  0.046014\n",
       "3        BM25 + LambdaMART  0.010876  0.045990"
      ]
     },
     "execution_count": 55,
     "metadata": {},
     "output_type": "execute_result"
    }
   ],
   "source": [
    "pt.Experiment(\n",
    "    [bm25 % RANK_CUTOFF, lr_pipe, rf_pipe, lmart_x_pipe],\n",
    "    test_topics,\n",
    "    qrels,\n",
    "    names=[\"BM25\",  \"BM25 + LinearRegression\", \"BM25 + RandomForest\", \"BM25 + LambdaMART\"],\n",
    "    eval_metrics=[\"map\", \"ndcg\"]\n",
    ")"
   ]
  },
  {
   "cell_type": "markdown",
   "id": "eb37d682-775a-490c-9fc9-2d4dcc86b374",
   "metadata": {
    "id": "eb37d682-775a-490c-9fc9-2d4dcc86b374"
   },
   "source": [
    "The non-linear regression model produced the best results"
   ]
  },
  {
   "cell_type": "markdown",
   "id": "72d55188-67d2-4756-8266-801dd5ecd707",
   "metadata": {
    "id": "72d55188-67d2-4756-8266-801dd5ecd707"
   },
   "source": [
    "### Analysis\n",
    "\n",
    "We can also analyze our learned models to understand the role of the different features we are using.\n",
    "\n",
    "One way to do this analysis is to plot feature weights or importance from the different learned models. For the Linear Regression model, we plot the feature weights, while for the Random Forest and LambdaMART we report the feature importance."
   ]
  },
  {
   "cell_type": "code",
   "execution_count": 56,
   "id": "f82e7673-bd05-40ac-8520-4d995e2fc756",
   "metadata": {
    "id": "f82e7673-bd05-40ac-8520-4d995e2fc756"
   },
   "outputs": [
    {
     "data": {
      "image/png": "[encoded data removed]",
      "text/plain": [
       "<Figure size 1200x800 with 3 Axes>"
      ]
     },
     "metadata": {},
     "output_type": "display_data"
    }
   ],
   "source": [
    "import numpy as np\n",
    "from matplotlib import pyplot as plt\n",
    "\n",
    "# Create figure\n",
    "fig, (ax0, ax1, ax2) = plt.subplots(1, 3, figsize=(12, 8))\n",
    "\n",
    "# Plot Linear Regression model weights\n",
    "ax0.bar(np.arange(len(fnames)), lr.coef_)\n",
    "ax0.set_xticks(np.arange(len(fnames)))\n",
    "ax0.set_xticklabels(fnames, rotation=45, ha='right')\n",
    "ax0.set_title(\"Linear Regression\")\n",
    "ax0.set_ylabel(\"Feature Weights\")\n",
    "# Plot Random Forest feature importance\n",
    "ax1.bar(np.arange(len(fnames)), rf.feature_importances_)\n",
    "ax1.set_xticks(np.arange(len(fnames)))\n",
    "ax1.set_xticklabels(fnames, rotation=45, ha='right')\n",
    "ax1.set_title(\"Random Forest\")\n",
    "ax1.set_ylabel(\"Feature Importance\")\n",
    "# Plot LmbdaMART feature importance\n",
    "ax2.bar(np.arange(len(fnames)), lmart_l.feature_importances_)\n",
    "ax2.set_xticks(np.arange(len(fnames)))\n",
    "ax2.set_xticklabels(fnames, rotation=45, ha='right')\n",
    "ax2.set_title(\"$\\lambda$MART\")\n",
    "ax2.set_ylabel(\"Feature Importance\")\n",
    "\n",
    "# Display figure\n",
    "plt.tight_layout()\n",
    "plt.show()\n"
   ]
  }
 ],
 "metadata": {
  "colab": {
   "collapsed_sections": [
    "04e95091-47d6-48fa-a756-2f11a337135f",
    "MboNLbOo27WC",
    "807b6596",
    "1284131b-b125-4322-adec-ffba6f6aa791"
   ],
   "provenance": []
  },
  "kernelspec": {
   "display_name": ".venv",
   "language": "python",
   "name": "python3"
  },
  "language_info": {
   "codemirror_mode": {
    "name": "ipython",
    "version": 3
   },
   "file_extension": ".py",
   "mimetype": "text/x-python",
   "name": "python",
   "nbconvert_exporter": "python",
   "pygments_lexer": "ipython3",
   "version": "3.13.2"
  }
 },
 "nbformat": 4,
 "nbformat_minor": 5
}
